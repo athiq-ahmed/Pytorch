{
  "nbformat": 4,
  "nbformat_minor": 0,
  "metadata": {
    "colab": {
      "name": "gradientdescent_manually",
      "provenance": [],
      "collapsed_sections": [],
      "authorship_tag": "ABX9TyPu/TkLHpi5zW1n20L0YlI4"
    },
    "kernelspec": {
      "name": "python3",
      "display_name": "Python 3"
    }
  },
  "cells": [
    {
      "cell_type": "code",
      "metadata": {
        "id": "7EdpIVMjQd8z",
        "colab_type": "code",
        "colab": {}
      },
      "source": [
        "import numpy as np"
      ],
      "execution_count": 1,
      "outputs": []
    },
    {
      "cell_type": "code",
      "metadata": {
        "id": "94PtlCX64SmK",
        "colab_type": "code",
        "colab": {}
      },
      "source": [
        "# f = w * x\n",
        "# f = 2 * x"
      ],
      "execution_count": 2,
      "outputs": []
    },
    {
      "cell_type": "code",
      "metadata": {
        "id": "Ooz9m-mT4SfW",
        "colab_type": "code",
        "colab": {}
      },
      "source": [
        "X = np.array([1,2,3,4], dtype=np.float32)\n",
        "Y = np.array([2,4,6,8], dtype=np.float32)\n",
        "\n",
        "w = 0.0"
      ],
      "execution_count": 3,
      "outputs": []
    },
    {
      "cell_type": "code",
      "metadata": {
        "id": "zzQcBSav4SXx",
        "colab_type": "code",
        "colab": {}
      },
      "source": [
        "# model prediction\n",
        "def forward(x):\n",
        "  return w * x"
      ],
      "execution_count": 4,
      "outputs": []
    },
    {
      "cell_type": "code",
      "metadata": {
        "id": "sB86MRbr4SPI",
        "colab_type": "code",
        "colab": {}
      },
      "source": [
        "# loss = MSE\n",
        "def loss(y, y_predicted):\n",
        "  return ((y_predicted-y)**2).mean()"
      ],
      "execution_count": 6,
      "outputs": []
    },
    {
      "cell_type": "code",
      "metadata": {
        "id": "FO4EOrbv4SC5",
        "colab_type": "code",
        "colab": {
          "base_uri": "https://localhost:8080/",
          "height": 34
        },
        "outputId": "98330f17-a325-4e7f-f27e-b42b9b44c8e8"
      },
      "source": [
        "# gradient\n",
        "# MSE = 1/N * (w*x - y)**2\n",
        "# dJ/dw = 1/N 2x (w*x -y)\n",
        "\n",
        "def gradient(x, y, y_predicted):\n",
        "  return np.dot(2*x, y_predicted-y).mean()\n",
        "\n",
        "print(f'Prediction before training: f[5] = {forward(5):.3f}')"
      ],
      "execution_count": 7,
      "outputs": [
        {
          "output_type": "stream",
          "text": [
            "Prediction before training: f[5] = 0.000\n"
          ],
          "name": "stdout"
        }
      ]
    },
    {
      "cell_type": "code",
      "metadata": {
        "id": "XxCS34zr48C1",
        "colab_type": "code",
        "colab": {}
      },
      "source": [
        "# Training\n",
        "\n",
        "learning_rate = 0.01\n",
        "n_iters = 10"
      ],
      "execution_count": 8,
      "outputs": []
    },
    {
      "cell_type": "code",
      "metadata": {
        "id": "JCpZBtuf47t3",
        "colab_type": "code",
        "colab": {
          "base_uri": "https://localhost:8080/",
          "height": 204
        },
        "outputId": "111c9102-746c-474c-ef3a-00286a06fd30"
      },
      "source": [
        "for epoch in range(n_iters):\n",
        "  # prediciton\n",
        "  y_pred = forward(X)\n",
        "\n",
        "  # loss\n",
        "  l = loss(Y, y_pred)\n",
        "\n",
        "  # gradient\n",
        "  dw = gradient(X, Y, y_pred)\n",
        "\n",
        "  # update weights\n",
        "  w -= learning_rate * dw\n",
        "\n",
        "  if epoch % 1 == 0:\n",
        "    print(f'epoch={epoch}, w={w:.3f}, loss = {l:.8f}')\n",
        "\n",
        "print(f'Prediction after training: f[5] = {forward(5):.3f}')"
      ],
      "execution_count": 10,
      "outputs": [
        {
          "output_type": "stream",
          "text": [
            "epoch=0, w=2.000, loss = 0.00000033\n",
            "epoch=1, w=2.000, loss = 0.00000005\n",
            "epoch=2, w=2.000, loss = 0.00000001\n",
            "epoch=3, w=2.000, loss = 0.00000000\n",
            "epoch=4, w=2.000, loss = 0.00000000\n",
            "epoch=5, w=2.000, loss = 0.00000000\n",
            "epoch=6, w=2.000, loss = 0.00000000\n",
            "epoch=7, w=2.000, loss = 0.00000000\n",
            "epoch=8, w=2.000, loss = 0.00000000\n",
            "epoch=9, w=2.000, loss = 0.00000000\n",
            "Prediction after training: f[5] = 10.000\n"
          ],
          "name": "stdout"
        }
      ]
    }
  ]
}