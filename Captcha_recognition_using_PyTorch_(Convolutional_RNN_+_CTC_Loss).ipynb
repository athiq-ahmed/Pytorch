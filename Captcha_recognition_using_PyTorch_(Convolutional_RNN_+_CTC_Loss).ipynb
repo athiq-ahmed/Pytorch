{
  "nbformat": 4,
  "nbformat_minor": 0,
  "metadata": {
    "colab": {
      "name": "Captcha recognition using PyTorch (Convolutional-RNN + CTC Loss)",
      "provenance": [],
      "collapsed_sections": [],
      "authorship_tag": "ABX9TyMVd07UZ7XmezLUQyV5jIPV",
      "include_colab_link": true
    },
    "kernelspec": {
      "name": "python3",
      "display_name": "Python 3"
    },
    "accelerator": "GPU"
  },
  "cells": [
    {
      "cell_type": "markdown",
      "metadata": {
        "id": "view-in-github",
        "colab_type": "text"
      },
      "source": [
        "<a href=\"https://colab.research.google.com/github/athiq-ahmed/Pytorch/blob/master/Captcha_recognition_using_PyTorch_(Convolutional_RNN_%2B_CTC_Loss).ipynb\" target=\"_parent\"><img src=\"https://colab.research.google.com/assets/colab-badge.svg\" alt=\"Open In Colab\"/></a>"
      ]
    },
    {
      "cell_type": "code",
      "metadata": {
        "id": "a4l18NVL44Cb",
        "colab_type": "code",
        "colab": {
          "base_uri": "https://localhost:8080/",
          "height": 357
        },
        "outputId": "6af430e4-07dc-46e2-96b8-cddff4f92897"
      },
      "source": [
        "!nvidia-smi"
      ],
      "execution_count": 1,
      "outputs": [
        {
          "output_type": "stream",
          "text": [
            "Sat Sep 12 16:35:56 2020       \n",
            "+-----------------------------------------------------------------------------+\n",
            "| NVIDIA-SMI 450.66       Driver Version: 418.67       CUDA Version: 10.1     |\n",
            "|-------------------------------+----------------------+----------------------+\n",
            "| GPU  Name        Persistence-M| Bus-Id        Disp.A | Volatile Uncorr. ECC |\n",
            "| Fan  Temp  Perf  Pwr:Usage/Cap|         Memory-Usage | GPU-Util  Compute M. |\n",
            "|                               |                      |               MIG M. |\n",
            "|===============================+======================+======================|\n",
            "|   0  Tesla T4            Off  | 00000000:00:04.0 Off |                    0 |\n",
            "| N/A   61C    P8    10W /  70W |      0MiB / 15079MiB |      0%      Default |\n",
            "|                               |                      |                 ERR! |\n",
            "+-------------------------------+----------------------+----------------------+\n",
            "                                                                               \n",
            "+-----------------------------------------------------------------------------+\n",
            "| Processes:                                                                  |\n",
            "|  GPU   GI   CI        PID   Type   Process name                  GPU Memory |\n",
            "|        ID   ID                                                   Usage      |\n",
            "|=============================================================================|\n",
            "|  No running processes found                                                 |\n",
            "+-----------------------------------------------------------------------------+\n"
          ],
          "name": "stdout"
        }
      ]
    },
    {
      "cell_type": "code",
      "metadata": {
        "id": "dl2xh-wxvWon",
        "colab_type": "code",
        "colab": {
          "base_uri": "https://localhost:8080/",
          "height": 85
        },
        "outputId": "ea3bf20a-f4a2-43db-8ec1-304364c2fc86"
      },
      "source": [
        "!curl -LO https://github.com/AakashKumarNain/CaptchaCracker/raw/master/captcha_images_v2.zip"
      ],
      "execution_count": 2,
      "outputs": [
        {
          "output_type": "stream",
          "text": [
            "  % Total    % Received % Xferd  Average Speed   Time    Time     Time  Current\n",
            "                                 Dload  Upload   Total   Spent    Left  Speed\n",
            "100   159  100   159    0     0    225      0 --:--:-- --:--:-- --:--:--   225\n",
            "100 8863k  100 8863k    0     0  6659k      0  0:00:01  0:00:01 --:--:-- 50.1M\n"
          ],
          "name": "stdout"
        }
      ]
    },
    {
      "cell_type": "code",
      "metadata": {
        "id": "mN2ImllIvaMh",
        "colab_type": "code",
        "colab": {}
      },
      "source": [
        "!unzip -qq captcha_images_v2.zip"
      ],
      "execution_count": 3,
      "outputs": []
    },
    {
      "cell_type": "markdown",
      "metadata": {
        "id": "6rBIHK16wYCW",
        "colab_type": "text"
      },
      "source": [
        "### Config.py"
      ]
    },
    {
      "cell_type": "code",
      "metadata": {
        "id": "aLKxfWZtwXiC",
        "colab_type": "code",
        "colab": {}
      },
      "source": [
        "DATA_DIR = '/content/captcha_images_v2'\n",
        "BATCH_SIZE = 8\n",
        "IMAGE_WIDTH = 300\n",
        "IMAGE_HEIGHT = 75\n",
        "NUM_WORKERS = 4\n",
        "EPOCHS = 200\n",
        "DEVICE = \"cuda\""
      ],
      "execution_count": 4,
      "outputs": []
    },
    {
      "cell_type": "code",
      "metadata": {
        "id": "ZcsZCbdJveUZ",
        "colab_type": "code",
        "colab": {}
      },
      "source": [
        "import glob\n",
        "# glob.glob('/content/captcha_images_v2/*.png')"
      ],
      "execution_count": 5,
      "outputs": []
    },
    {
      "cell_type": "markdown",
      "metadata": {
        "id": "2VRFv3kfxqzl",
        "colab_type": "text"
      },
      "source": [
        "### Dataset.py"
      ]
    },
    {
      "cell_type": "code",
      "metadata": {
        "id": "P9Wt_BuvxsK6",
        "colab_type": "code",
        "colab": {}
      },
      "source": [
        "import albumentations # for augmentations\n",
        "import torch\n",
        "import numpy as np\n",
        "\n",
        "from PIL import Image\n",
        "from PIL import ImageFile\n",
        "\n",
        "ImageFile.LOAD_TRUNCATED_IMAGES = True"
      ],
      "execution_count": 6,
      "outputs": []
    },
    {
      "cell_type": "code",
      "metadata": {
        "id": "06TNTq6exSyg",
        "colab_type": "code",
        "colab": {}
      },
      "source": [
        "class ClassificationDataset:\n",
        "  def __init__(self, image_paths, targets, resize=None):\n",
        "    self.image_paths = image_paths\n",
        "    self.targets = targets\n",
        "    self.resize = resize\n",
        "    # self.aug = albumentations.Compose([albumentations.Normalize(always_apply=True)])\n",
        "\n",
        "    mean = (0.485, 0.456, 0.406)\n",
        "    std = (0.229, 0.224, 0.225)\n",
        "    self.aug = albumentations.Compose(\n",
        "        [\n",
        "            albumentations.Normalize(\n",
        "                mean, std, max_pixel_value=255.0, always_apply=True\n",
        "            )\n",
        "        ]\n",
        "    )\n",
        "    \n",
        "  def __len__(self):\n",
        "    return len(self.image_paths)\n",
        "\n",
        "  def __getitem__(self, item):\n",
        "    image = Image.open(self.image_paths[item]).convert(\"RGB\")\n",
        "    targets = self.targets[item]\n",
        "\n",
        "    if self.resize is not None:\n",
        "      image = image.resize((self.resize[1], self.resize[0]), resample=Image.BILINEAR)\n",
        "\n",
        "    image = np.array(image)\n",
        "    augmented = self.aug(image=image)\n",
        "    image = augmented[\"image\"]\n",
        "    image = np.transpose(image, (2,0,1)).astype(np.float32)\n",
        "\n",
        "    return {\n",
        "        \"images\": torch.tensor(image, dtype=torch.float),\n",
        "        \"targets\": torch.tensor(targets, dtype=torch.long)\n",
        "    }"
      ],
      "execution_count": 7,
      "outputs": []
    },
    {
      "cell_type": "markdown",
      "metadata": {
        "id": "bwbg5Ae6CCbP",
        "colab_type": "text"
      },
      "source": [
        "### engine.py"
      ]
    },
    {
      "cell_type": "code",
      "metadata": {
        "id": "s5lMDPPXBuIR",
        "colab_type": "code",
        "colab": {}
      },
      "source": [
        "from tqdm import tqdm\n",
        "import torch\n",
        "\n",
        "def train_fn(model, data_loader, optimizer):\n",
        "  model.train()\n",
        "  fin_loss = 0\n",
        "  tk = tqdm(data_loader, total=len(data_loader))\n",
        "  for data in tk:\n",
        "    for k, v in data.items():\n",
        "      data[k] = v.to(DEVICE)\n",
        "    optimizer.zero_grad()\n",
        "    _, loss = model(**data)\n",
        "    loss.backward()\n",
        "    optimizer.step()\n",
        "    fin_loss += loss\n",
        "  return fin_loss / len(data_loader)\n",
        "\n",
        "def eval_fn(model, data_loader):\n",
        "  model.eval()\n",
        "  fin_loss = 0\n",
        "  fin_preds = []\n",
        "  with torch.no_grad():\n",
        "    tk = tqdm(data_loader, total=len(data_loader))\n",
        "    for data in tk:\n",
        "      for k, v in data.items():\n",
        "        data[k] = v.to(DEVICE)\n",
        "\n",
        "      preds, loss = model(**data)\n",
        "      fin_loss += loss\n",
        "      fin_preds.append(preds)\n",
        "    return fin_preds, fin_loss / len(data_loader)"
      ],
      "execution_count": 8,
      "outputs": []
    },
    {
      "cell_type": "markdown",
      "metadata": {
        "id": "V-UzZU_eL-lM",
        "colab_type": "text"
      },
      "source": [
        "### model.py"
      ]
    },
    {
      "cell_type": "code",
      "metadata": {
        "id": "IV61l6XmL9TF",
        "colab_type": "code",
        "colab": {}
      },
      "source": [
        "import torch\n",
        "from torch import nn\n",
        "from torch.nn import functional as F\n",
        "\n",
        "class CaptchaModel(nn.Module):\n",
        "  def __init__(self, num_chars):\n",
        "    super(CaptchaModel, self).__init__()\n",
        "    self.conv_1 = nn.Conv2d(3, 128, kernel_size=(3,3), padding=(1,1))\n",
        "    self.max_pool_1 = nn.MaxPool2d(kernel_size=(2,2))\n",
        "    self.conv_2 = nn.Conv2d(128, 64, kernel_size=(3,3), padding=(1,1))\n",
        "    self.max_pool_2 = nn.MaxPool2d(kernel_size=(2,2))\n",
        "\n",
        "    self.linear_1 = nn.Linear(1152, 64)\n",
        "    self.drop_1= nn.Dropout(0.2)\n",
        "\n",
        "    self.gru = nn.GRU(64, 32, bidirectional=True, num_layers=2, dropout=0.25)\n",
        "    self.output = nn.Linear(64, num_chars+1)\n",
        "\n",
        "  def forward(self, images, targets=None):\n",
        "    bs, c, h, w = images.size()\n",
        "    # print(bs, c, h, w)\n",
        "    x = F.relu(self.conv_1(images))\n",
        "    # print(x.size())\n",
        "    x = self.max_pool_1(x)\n",
        "    # print(x.size())\n",
        "    x = F.relu(self.conv_2(x))\n",
        "    # print(x.size())\n",
        "    x = self.max_pool_2(x) # [1, 64, 18, 75]\n",
        "    # print(x.size())\n",
        "    x = x.permute(0,3,1,2) # [1, 75, 64, 18]\n",
        "    # print(x.size())\n",
        "    x = x.view(bs, x.size(1), -1)\n",
        "    # print(x.size()) #[1, 75, 1152]\n",
        "    x = self.linear_1(x)\n",
        "    x = self.drop_1(x)\n",
        "    # print(x.size())\n",
        "    x, _ = self.gru(x)\n",
        "    # print(x.size())\n",
        "    x = self.output(x)\n",
        "    # print(x.size())\n",
        "    x = x.permute(1,0,2)\n",
        "    # print(x.size())\n",
        "\n",
        "    if targets is not None:\n",
        "      log_softmax_values = F.log_softmax(x, 2)\n",
        "      input_lengths = torch.full(size=(bs,),fill_value=log_softmax_values.size(0),dtype=torch.int32)\n",
        "      # print(input_lengths)\n",
        "      target_lengths = torch.full(size=(bs,),fill_value=targets.size(1),dtype=torch.int32)\n",
        "      # print(target_lengths)\n",
        "      loss = nn.CTCLoss(blank=0)(log_softmax_values, targets, input_lengths, target_lengths)\n",
        "      return x, loss\n",
        "\n",
        "    return x, None\n",
        "\n",
        "if __name__ == \"__main__\":\n",
        "  cm = CaptchaModel(19)\n",
        "  img = torch.rand(1,3,75,300)\n",
        "  target = torch.randint(1,20,(1,5))\n",
        "  x, loss = cm(img, target)\n"
      ],
      "execution_count": 9,
      "outputs": []
    },
    {
      "cell_type": "markdown",
      "metadata": {
        "id": "pNrIRPcF88Aj",
        "colab_type": "text"
      },
      "source": [
        "### train.py"
      ]
    },
    {
      "cell_type": "code",
      "metadata": {
        "id": "tc-XYTZZ3yNT",
        "colab_type": "code",
        "colab": {
          "base_uri": "https://localhost:8080/",
          "height": 1000
        },
        "outputId": "5e847740-85da-4000-d5e1-39f4f202129e"
      },
      "source": [
        "import os\n",
        "import glob\n",
        "import torch\n",
        "import numpy as np\n",
        "\n",
        "from sklearn import preprocessing\n",
        "from sklearn import model_selection\n",
        "from sklearn import metrics\n",
        "\n",
        "from pprint import pprint\n",
        "\n",
        "def decode_predictions(preds, encoder):\n",
        "  preds = preds.permute(1, 0 ,2)\n",
        "  preds = torch.softmax(preds, 2)\n",
        "  preds = torch.argmax(preds, 2)\n",
        "  preds = preds.detach().cpu().numpy()\n",
        "  cap_preds = []\n",
        "  for j in range(preds.shape[0]):\n",
        "    temp = []\n",
        "    for k in preds[j, :]:\n",
        "      k = k-1\n",
        "      if k == -1:\n",
        "        temp.append(\"`\")\n",
        "      else:\n",
        "        temp.append(encoder.inverse_transform([k])[0])\n",
        "    tp = \"\".join(temp)\n",
        "    cap_preds.append(tp)\n",
        "    return cap_preds\n",
        "\n",
        "\n",
        "def run_traning():\n",
        "  image_files = glob.glob('/content/captcha_images_v2/*.png')\n",
        "  targets_orig = [x.split('/')[-1][:4] for x in image_files]  # \"'../../../abcd.png\"\n",
        "  targets = [[c for c in x] for x in targets_orig]  # abcd --> [a, b, c, d]\n",
        "  targets_flat = [c for clist in targets for c in clist]\n",
        "\n",
        "  lbl_enc = preprocessing.LabelEncoder()\n",
        "  lbl_enc.fit(targets_flat)\n",
        "  targets_enc = [lbl_enc.transform(x) for x in targets]\n",
        "  targets_enc = np.array(targets_enc) + 1\n",
        "\n",
        "\n",
        "  (train_imgs, test_imgs, train_targets, test_targets, train_orig_targets, test_orig_targets) = \\\n",
        "  model_selection.train_test_split(image_files, targets_enc, targets_orig, test_size=0.1, random_state=42)\n",
        "\n",
        "  train_dataset = ClassificationDataset(image_paths=train_imgs, targets=train_targets, resize=(IMAGE_HEIGHT, IMAGE_WIDTH))\n",
        "  test_dataset = ClassificationDataset(image_paths=test_imgs, targets=test_targets, resize=(IMAGE_HEIGHT, IMAGE_WIDTH))\n",
        "\n",
        "  train_loader = torch.utils.data.DataLoader(train_dataset, batch_size=BATCH_SIZE, num_workers=NUM_WORKERS, shuffle=True)\n",
        "  test_loader = torch.utils.data.DataLoader(test_dataset, batch_size=BATCH_SIZE, num_workers=NUM_WORKERS, shuffle=False)\n",
        "\n",
        "  model = CaptchaModel(num_chars=len(lbl_enc.classes_))\n",
        "  model.to(DEVICE)\n",
        "\n",
        "  optimizer = torch.optim.Adam(model.parameters(), lr=3e-4)\n",
        "  scheduler = torch.optim.lr_scheduler.ReduceLROnPlateau(optimizer, factor=0.8, patience=5, verbose=True)\n",
        "\n",
        "  for epoch in range(EPOCHS):\n",
        "    train_loss = train_fn(model, train_loader, optimizer)\n",
        "    valid_preds, valid_loss = eval_fn(model, test_loader)\n",
        "\n",
        "    valid_cap_preds=[]\n",
        "    for vp in valid_preds:\n",
        "      current_preds = decode_predictions(vp, lbl_enc)\n",
        "      valid_cap_preds.extend(current_preds)\n",
        "    pprint(list(zip(test_orig_targets, valid_cap_preds))[6:10])\n",
        "    print(f'EPOCH:{epoch}, train_loss={train_loss}, valid_loss={valid_loss}')\n",
        "\n",
        "  # print(targets)\n",
        "  # print('*'*100)\n",
        "  # print(np.unique(targets_flat))\n",
        "  # print('*'*100)\n",
        "  # print(targets_enc)\n",
        "  # print('*'*100)\n",
        "  # print(len(lbl_enc.classes_))\n",
        "\n",
        "\n",
        "run_traning()"
      ],
      "execution_count": 10,
      "outputs": [
        {
          "output_type": "stream",
          "text": [
            "100%|██████████| 117/117 [00:02<00:00, 44.89it/s]\n",
            "100%|██████████| 13/13 [00:00<00:00, 29.58it/s]\n",
            "  0%|          | 0/117 [00:00<?, ?it/s]"
          ],
          "name": "stderr"
        },
        {
          "output_type": "stream",
          "text": [
            "[('gc27',\n",
            "  '```````````````````````````````````````````````````````````````````````````'),\n",
            " ('pe4x',\n",
            "  '```````````````````````````````````````````````````````````````````````````'),\n",
            " ('cdmn',\n",
            "  '```````````````````````````````````````````````````````````````````````````'),\n",
            " ('5mff',\n",
            "  '```````````````````````````````````````````````````````````````````````````')]\n",
            "EPOCH:0, train_loss=9.064306259155273, valid_loss=3.4631714820861816\n"
          ],
          "name": "stdout"
        },
        {
          "output_type": "stream",
          "text": [
            "100%|██████████| 117/117 [00:02<00:00, 47.53it/s]\n",
            "100%|██████████| 13/13 [00:00<00:00, 29.41it/s]\n",
            "  0%|          | 0/117 [00:00<?, ?it/s]"
          ],
          "name": "stderr"
        },
        {
          "output_type": "stream",
          "text": [
            "[('gc27',\n",
            "  '```````````````````````````````````````````````````````````````````````````'),\n",
            " ('pe4x',\n",
            "  '```````````````````````````````````````````````````````````````````````````'),\n",
            " ('cdmn',\n",
            "  '```````````````````````````````````````````````````````````````````````````'),\n",
            " ('5mff',\n",
            "  '```````````````````````````````````````````````````````````````````````````')]\n",
            "EPOCH:1, train_loss=3.441807985305786, valid_loss=3.411414384841919\n"
          ],
          "name": "stdout"
        },
        {
          "output_type": "stream",
          "text": [
            "100%|██████████| 117/117 [00:02<00:00, 48.33it/s]\n",
            "100%|██████████| 13/13 [00:00<00:00, 31.78it/s]\n",
            "  0%|          | 0/117 [00:00<?, ?it/s]"
          ],
          "name": "stderr"
        },
        {
          "output_type": "stream",
          "text": [
            "[('gc27',\n",
            "  '```````````````````````````````````````````````````````````````````````````'),\n",
            " ('pe4x',\n",
            "  '```````````````````````````````````````````````````````````````````````````'),\n",
            " ('cdmn',\n",
            "  '```````````````````````````````````````````````````````````````````````````'),\n",
            " ('5mff',\n",
            "  '```````````````````````````````````````````````````````````````````````````')]\n",
            "EPOCH:2, train_loss=3.3925743103027344, valid_loss=3.3919591903686523\n"
          ],
          "name": "stdout"
        },
        {
          "output_type": "stream",
          "text": [
            "100%|██████████| 117/117 [00:02<00:00, 49.45it/s]\n",
            "100%|██████████| 13/13 [00:00<00:00, 31.30it/s]\n",
            "  0%|          | 0/117 [00:00<?, ?it/s]"
          ],
          "name": "stderr"
        },
        {
          "output_type": "stream",
          "text": [
            "[('gc27',\n",
            "  '```````````````````````````````````````````````````````````````````````````'),\n",
            " ('pe4x',\n",
            "  '```````````````````````````````````````````````````````````````````````````'),\n",
            " ('cdmn',\n",
            "  '```````````````````````````````````````````````````````````````````````````'),\n",
            " ('5mff',\n",
            "  '```````````````````````````````````````````````````````````````````````````')]\n",
            "EPOCH:3, train_loss=3.3756263256073, valid_loss=3.3799664974212646\n"
          ],
          "name": "stdout"
        },
        {
          "output_type": "stream",
          "text": [
            "100%|██████████| 117/117 [00:02<00:00, 49.43it/s]\n",
            "100%|██████████| 13/13 [00:00<00:00, 30.79it/s]\n",
            "  0%|          | 0/117 [00:00<?, ?it/s]"
          ],
          "name": "stderr"
        },
        {
          "output_type": "stream",
          "text": [
            "[('gc27',\n",
            "  '```````````````````````````````````````````````````````````````````````````'),\n",
            " ('pe4x',\n",
            "  '```````````````````````````````````````````````````````````````````````````'),\n",
            " ('cdmn',\n",
            "  '```````````````````````````````````````````````````````````````````````````'),\n",
            " ('5mff',\n",
            "  '```````````````````````````````````````````````````````````````````````````')]\n",
            "EPOCH:4, train_loss=3.364619493484497, valid_loss=3.369905710220337\n"
          ],
          "name": "stdout"
        },
        {
          "output_type": "stream",
          "text": [
            "100%|██████████| 117/117 [00:02<00:00, 48.17it/s]\n",
            "100%|██████████| 13/13 [00:00<00:00, 31.23it/s]\n",
            "  0%|          | 0/117 [00:00<?, ?it/s]"
          ],
          "name": "stderr"
        },
        {
          "output_type": "stream",
          "text": [
            "[('gc27',\n",
            "  '```````````````````````````````````````````````````````````````````````````'),\n",
            " ('pe4x',\n",
            "  '```````````````````````````````````````````````````````````````````````````'),\n",
            " ('cdmn',\n",
            "  '```````````````````````````````````````````````````````````````````````````'),\n",
            " ('5mff',\n",
            "  '```````````````````````````````````````````````````````````````````````````')]\n",
            "EPOCH:5, train_loss=3.3570895195007324, valid_loss=3.3637845516204834\n"
          ],
          "name": "stdout"
        },
        {
          "output_type": "stream",
          "text": [
            "100%|██████████| 117/117 [00:02<00:00, 48.54it/s]\n",
            "100%|██████████| 13/13 [00:00<00:00, 30.36it/s]\n",
            "  0%|          | 0/117 [00:00<?, ?it/s]"
          ],
          "name": "stderr"
        },
        {
          "output_type": "stream",
          "text": [
            "[('gc27',\n",
            "  '```````````````````````````````````````````````````````````````````````````'),\n",
            " ('pe4x',\n",
            "  '```````````````````````````````````````````````````````````````````````````'),\n",
            " ('cdmn',\n",
            "  '```````````````````````````````````````````````````````````````````````````'),\n",
            " ('5mff',\n",
            "  '```````````````````````````````````````````````````````````````````````````')]\n",
            "EPOCH:6, train_loss=3.348822832107544, valid_loss=3.3556461334228516\n"
          ],
          "name": "stdout"
        },
        {
          "output_type": "stream",
          "text": [
            "100%|██████████| 117/117 [00:02<00:00, 48.31it/s]\n",
            "100%|██████████| 13/13 [00:00<00:00, 31.58it/s]\n",
            "  0%|          | 0/117 [00:00<?, ?it/s]"
          ],
          "name": "stderr"
        },
        {
          "output_type": "stream",
          "text": [
            "[('gc27',\n",
            "  '```````````````````````````````````````````````````````````````````````````'),\n",
            " ('pe4x',\n",
            "  '```````````````````````````````````````````````````````````````````````````'),\n",
            " ('cdmn',\n",
            "  '```````````````````````````````````````````````````````````````````````````'),\n",
            " ('5mff',\n",
            "  '```````````````````````````````````````````````````````````````````````````')]\n",
            "EPOCH:7, train_loss=3.344961166381836, valid_loss=3.3531057834625244\n"
          ],
          "name": "stdout"
        },
        {
          "output_type": "stream",
          "text": [
            "100%|██████████| 117/117 [00:02<00:00, 47.50it/s]\n",
            "100%|██████████| 13/13 [00:00<00:00, 32.08it/s]\n",
            "  0%|          | 0/117 [00:00<?, ?it/s]"
          ],
          "name": "stderr"
        },
        {
          "output_type": "stream",
          "text": [
            "[('gc27',\n",
            "  '```````````````````````````````````````````````````````````````````````````'),\n",
            " ('pe4x',\n",
            "  '```````````````````````````````````````````````````````````````````````````'),\n",
            " ('cdmn',\n",
            "  '```````````````````````````````````````````````````````````````````````````'),\n",
            " ('5mff',\n",
            "  '```````````````````````````````````````````````````````````````````````````')]\n",
            "EPOCH:8, train_loss=3.342478036880493, valid_loss=3.350661516189575\n"
          ],
          "name": "stdout"
        },
        {
          "output_type": "stream",
          "text": [
            "100%|██████████| 117/117 [00:02<00:00, 48.36it/s]\n",
            "100%|██████████| 13/13 [00:00<00:00, 29.86it/s]\n",
            "  0%|          | 0/117 [00:00<?, ?it/s]"
          ],
          "name": "stderr"
        },
        {
          "output_type": "stream",
          "text": [
            "[('gc27',\n",
            "  '```````````````````````````````````````````````````````````````````````````'),\n",
            " ('pe4x',\n",
            "  '```````````````````````````````````````````````````````````````````````````'),\n",
            " ('cdmn',\n",
            "  '```````````````````````````````````````````````````````````````````````````'),\n",
            " ('5mff',\n",
            "  '```````````````````````````````````````````````````````````````````````````')]\n",
            "EPOCH:9, train_loss=3.3390097618103027, valid_loss=3.350121259689331\n"
          ],
          "name": "stdout"
        },
        {
          "output_type": "stream",
          "text": [
            "100%|██████████| 117/117 [00:02<00:00, 49.33it/s]\n",
            "100%|██████████| 13/13 [00:00<00:00, 30.38it/s]\n",
            "  0%|          | 0/117 [00:00<?, ?it/s]"
          ],
          "name": "stderr"
        },
        {
          "output_type": "stream",
          "text": [
            "[('gc27',\n",
            "  '```````````````````````````````````````````````````````````````````````````'),\n",
            " ('pe4x',\n",
            "  '```````````````````````````````````````````````````````````````````````````'),\n",
            " ('cdmn',\n",
            "  '```````````````````````````````````````````````````````````````````````````'),\n",
            " ('5mff',\n",
            "  '```````````````````````````````````````````````````````````````````````````')]\n",
            "EPOCH:10, train_loss=3.3369863033294678, valid_loss=3.351682424545288\n"
          ],
          "name": "stdout"
        },
        {
          "output_type": "stream",
          "text": [
            "100%|██████████| 117/117 [00:02<00:00, 48.70it/s]\n",
            "100%|██████████| 13/13 [00:00<00:00, 31.00it/s]\n",
            "  0%|          | 0/117 [00:00<?, ?it/s]"
          ],
          "name": "stderr"
        },
        {
          "output_type": "stream",
          "text": [
            "[('gc27',\n",
            "  '```````````````````````````````````````````````````````````````````````````'),\n",
            " ('pe4x',\n",
            "  '```````````````````````````````````````````````````````````````````````````'),\n",
            " ('cdmn',\n",
            "  '```````````````````````````````````````````````````````````````````````````'),\n",
            " ('5mff',\n",
            "  '```````````````````````````````````````````````````````````````````````````')]\n",
            "EPOCH:11, train_loss=3.3355672359466553, valid_loss=3.346255302429199\n"
          ],
          "name": "stdout"
        },
        {
          "output_type": "stream",
          "text": [
            "100%|██████████| 117/117 [00:02<00:00, 48.86it/s]\n",
            "100%|██████████| 13/13 [00:00<00:00, 31.18it/s]\n",
            "  0%|          | 0/117 [00:00<?, ?it/s]"
          ],
          "name": "stderr"
        },
        {
          "output_type": "stream",
          "text": [
            "[('gc27',\n",
            "  '```````````````````````````````````````````````````````````````````````````'),\n",
            " ('pe4x',\n",
            "  '```````````````````````````````````````````````````````````````````````````'),\n",
            " ('cdmn',\n",
            "  '```````````````````````````````````````````````````````````````````````````'),\n",
            " ('5mff',\n",
            "  '```````````````````````````````````````````````````````````````````````````')]\n",
            "EPOCH:12, train_loss=3.3358213901519775, valid_loss=3.342766761779785\n"
          ],
          "name": "stdout"
        },
        {
          "output_type": "stream",
          "text": [
            "100%|██████████| 117/117 [00:02<00:00, 49.06it/s]\n",
            "100%|██████████| 13/13 [00:00<00:00, 29.81it/s]\n",
            "  0%|          | 0/117 [00:00<?, ?it/s]"
          ],
          "name": "stderr"
        },
        {
          "output_type": "stream",
          "text": [
            "[('gc27',\n",
            "  '```````````````````````````````````````````````````````````````````````````'),\n",
            " ('pe4x',\n",
            "  '```````````````````````````````````````````````````````````````````````````'),\n",
            " ('cdmn',\n",
            "  '```````````````````````````````````````````````````````````````````````````'),\n",
            " ('5mff',\n",
            "  '```````````````````````````````````````````````````````````````````````````')]\n",
            "EPOCH:13, train_loss=3.334148645401001, valid_loss=3.346290111541748\n"
          ],
          "name": "stdout"
        },
        {
          "output_type": "stream",
          "text": [
            "100%|██████████| 117/117 [00:02<00:00, 47.72it/s]\n",
            "100%|██████████| 13/13 [00:00<00:00, 29.97it/s]\n",
            "  0%|          | 0/117 [00:00<?, ?it/s]"
          ],
          "name": "stderr"
        },
        {
          "output_type": "stream",
          "text": [
            "[('gc27',\n",
            "  '```````````````````````````````````````````````````````````````````````````'),\n",
            " ('pe4x',\n",
            "  '```````````````````````````````````````````````````````````````````````````'),\n",
            " ('cdmn',\n",
            "  '```````````````````````````````````````````````````````````````````````````'),\n",
            " ('5mff',\n",
            "  '```````````````````````````````````````````````````````````````````````````')]\n",
            "EPOCH:14, train_loss=3.333535671234131, valid_loss=3.346952199935913\n"
          ],
          "name": "stdout"
        },
        {
          "output_type": "stream",
          "text": [
            "100%|██████████| 117/117 [00:02<00:00, 49.19it/s]\n",
            "100%|██████████| 13/13 [00:00<00:00, 30.48it/s]\n",
            "  0%|          | 0/117 [00:00<?, ?it/s]"
          ],
          "name": "stderr"
        },
        {
          "output_type": "stream",
          "text": [
            "[('gc27',\n",
            "  '```````````````````````````````````````````````````````````````````````````'),\n",
            " ('pe4x',\n",
            "  '```````````````````````````````````````````````````````````````````````````'),\n",
            " ('cdmn',\n",
            "  '```````````````````````````````````````````````````````````````````````````'),\n",
            " ('5mff',\n",
            "  '```````````````````````````````````````````````````````````````````````````')]\n",
            "EPOCH:15, train_loss=3.3332722187042236, valid_loss=3.347399950027466\n"
          ],
          "name": "stdout"
        },
        {
          "output_type": "stream",
          "text": [
            "100%|██████████| 117/117 [00:02<00:00, 47.81it/s]\n",
            "100%|██████████| 13/13 [00:00<00:00, 30.76it/s]\n",
            "  0%|          | 0/117 [00:00<?, ?it/s]"
          ],
          "name": "stderr"
        },
        {
          "output_type": "stream",
          "text": [
            "[('gc27',\n",
            "  '```````````````````````````````````````````````````````````````````````````'),\n",
            " ('pe4x',\n",
            "  '```````````````````````````````````````````````````````````````````````````'),\n",
            " ('cdmn',\n",
            "  '```````````````````````````````````````````````````````````````````````````'),\n",
            " ('5mff',\n",
            "  '```````````````````````````````````````````````````````````````````````````')]\n",
            "EPOCH:16, train_loss=3.3322579860687256, valid_loss=3.346393346786499\n"
          ],
          "name": "stdout"
        },
        {
          "output_type": "stream",
          "text": [
            "100%|██████████| 117/117 [00:02<00:00, 48.21it/s]\n",
            "100%|██████████| 13/13 [00:00<00:00, 30.93it/s]\n",
            "  0%|          | 0/117 [00:00<?, ?it/s]"
          ],
          "name": "stderr"
        },
        {
          "output_type": "stream",
          "text": [
            "[('gc27',\n",
            "  '```````````````````````````````````````````````````````````````````````````'),\n",
            " ('pe4x',\n",
            "  '```````````````````````````````````````````````````````````````````````````'),\n",
            " ('cdmn',\n",
            "  '```````````````````````````````````````````````````````````````````````````'),\n",
            " ('5mff',\n",
            "  '```````````````````````````````````````````````````````````````````````````')]\n",
            "EPOCH:17, train_loss=3.3332133293151855, valid_loss=3.3461954593658447\n"
          ],
          "name": "stdout"
        },
        {
          "output_type": "stream",
          "text": [
            "100%|██████████| 117/117 [00:02<00:00, 49.56it/s]\n",
            "100%|██████████| 13/13 [00:00<00:00, 31.27it/s]\n",
            "  0%|          | 0/117 [00:00<?, ?it/s]"
          ],
          "name": "stderr"
        },
        {
          "output_type": "stream",
          "text": [
            "[('gc27',\n",
            "  '```````````````````````````````````````````````````````````````````````````'),\n",
            " ('pe4x',\n",
            "  '```````````````````````````````````````````````````````````````````````````'),\n",
            " ('cdmn',\n",
            "  '```````````````````````````````````````````````````````````````````````````'),\n",
            " ('5mff',\n",
            "  '```````````````````````````````````````````````````````````````````````````')]\n",
            "EPOCH:18, train_loss=3.331979513168335, valid_loss=3.347816228866577\n"
          ],
          "name": "stdout"
        },
        {
          "output_type": "stream",
          "text": [
            "100%|██████████| 117/117 [00:02<00:00, 48.81it/s]\n",
            "100%|██████████| 13/13 [00:00<00:00, 30.66it/s]\n",
            "  0%|          | 0/117 [00:00<?, ?it/s]"
          ],
          "name": "stderr"
        },
        {
          "output_type": "stream",
          "text": [
            "[('gc27',\n",
            "  '```````````````````````````````````````````````````````````````````````````'),\n",
            " ('pe4x',\n",
            "  '```````````````````````````````````````````````````````````````````````````'),\n",
            " ('cdmn',\n",
            "  '```````````````````````````````````````````````````````````````````````````'),\n",
            " ('5mff',\n",
            "  '```````````````````````````````````````````````````````````````````````````')]\n",
            "EPOCH:19, train_loss=3.3336026668548584, valid_loss=3.343001365661621\n"
          ],
          "name": "stdout"
        },
        {
          "output_type": "stream",
          "text": [
            "100%|██████████| 117/117 [00:02<00:00, 48.06it/s]\n",
            "100%|██████████| 13/13 [00:00<00:00, 30.93it/s]\n",
            "  0%|          | 0/117 [00:00<?, ?it/s]"
          ],
          "name": "stderr"
        },
        {
          "output_type": "stream",
          "text": [
            "[('gc27',\n",
            "  '```````````````````````````````````````````````````````````````````````````'),\n",
            " ('pe4x',\n",
            "  '```````````````````````````````````````````````````````````````````````````'),\n",
            " ('cdmn',\n",
            "  '```````````````````````````````````````````````````````````````````````````'),\n",
            " ('5mff',\n",
            "  '```````````````````````````````````````````````````````````````````````````')]\n",
            "EPOCH:20, train_loss=3.3339180946350098, valid_loss=3.3449790477752686\n"
          ],
          "name": "stdout"
        },
        {
          "output_type": "stream",
          "text": [
            "100%|██████████| 117/117 [00:02<00:00, 49.83it/s]\n",
            "100%|██████████| 13/13 [00:00<00:00, 31.14it/s]\n",
            "  0%|          | 0/117 [00:00<?, ?it/s]"
          ],
          "name": "stderr"
        },
        {
          "output_type": "stream",
          "text": [
            "[('gc27',\n",
            "  '```````````````````````````````````````````````````````````````````````````'),\n",
            " ('pe4x',\n",
            "  '```````````````````````````````````````````````````````````````````````````'),\n",
            " ('cdmn',\n",
            "  '```````````````````````````````````````````````````````````````````````````'),\n",
            " ('5mff',\n",
            "  '```````````````````````````````````````````````````````````````````````````')]\n",
            "EPOCH:21, train_loss=3.3322243690490723, valid_loss=3.3435144424438477\n"
          ],
          "name": "stdout"
        },
        {
          "output_type": "stream",
          "text": [
            "100%|██████████| 117/117 [00:02<00:00, 49.28it/s]\n",
            "100%|██████████| 13/13 [00:00<00:00, 30.76it/s]\n",
            "  0%|          | 0/117 [00:00<?, ?it/s]"
          ],
          "name": "stderr"
        },
        {
          "output_type": "stream",
          "text": [
            "[('gc27',\n",
            "  '```````````````````````````````````````````````````````````````````````````'),\n",
            " ('pe4x',\n",
            "  '```````````````````````````````````````````````````````````````````````````'),\n",
            " ('cdmn',\n",
            "  '```````````````````````````````````````````````````````````````````````````'),\n",
            " ('5mff',\n",
            "  '```````````````````````````````````````````````````````````````````````````')]\n",
            "EPOCH:22, train_loss=3.332284688949585, valid_loss=3.3488361835479736\n"
          ],
          "name": "stdout"
        },
        {
          "output_type": "stream",
          "text": [
            "100%|██████████| 117/117 [00:02<00:00, 48.67it/s]\n",
            "100%|██████████| 13/13 [00:00<00:00, 30.22it/s]\n",
            "  0%|          | 0/117 [00:00<?, ?it/s]"
          ],
          "name": "stderr"
        },
        {
          "output_type": "stream",
          "text": [
            "[('gc27',\n",
            "  '```````````````````````````````````````````````````````````````````````````'),\n",
            " ('pe4x',\n",
            "  '```````````````````````````````````````````````````````````````````````````'),\n",
            " ('cdmn',\n",
            "  '```````````````````````````````````````````````````````````````````````````'),\n",
            " ('5mff',\n",
            "  '```````````````````````````````````````````````````````````````````````````')]\n",
            "EPOCH:23, train_loss=3.333371639251709, valid_loss=3.354466199874878\n"
          ],
          "name": "stdout"
        },
        {
          "output_type": "stream",
          "text": [
            "100%|██████████| 117/117 [00:02<00:00, 49.76it/s]\n",
            "100%|██████████| 13/13 [00:00<00:00, 31.75it/s]\n",
            "  0%|          | 0/117 [00:00<?, ?it/s]"
          ],
          "name": "stderr"
        },
        {
          "output_type": "stream",
          "text": [
            "[('gc27',\n",
            "  '```````````````````````````````````````````````````````````````````````````'),\n",
            " ('pe4x',\n",
            "  '```````````````````````````````````````````````````````````````````````````'),\n",
            " ('cdmn',\n",
            "  '```````````````````````````````````````````````````````````````````````````'),\n",
            " ('5mff',\n",
            "  '```````````````````````````````````````````````````````````````````````````')]\n",
            "EPOCH:24, train_loss=3.3320276737213135, valid_loss=3.3503217697143555\n"
          ],
          "name": "stdout"
        },
        {
          "output_type": "stream",
          "text": [
            "100%|██████████| 117/117 [00:02<00:00, 50.10it/s]\n",
            "100%|██████████| 13/13 [00:00<00:00, 31.63it/s]\n",
            "  0%|          | 0/117 [00:00<?, ?it/s]"
          ],
          "name": "stderr"
        },
        {
          "output_type": "stream",
          "text": [
            "[('gc27',\n",
            "  '```````````````````````````````````````````````````````````````````````````'),\n",
            " ('pe4x',\n",
            "  '```````````````````````````````````````````````````````````````````````````'),\n",
            " ('cdmn',\n",
            "  '```````````````````````````````````````````````````````````````````````````'),\n",
            " ('5mff',\n",
            "  '```````````````````````````````````````````````````````````````````````````')]\n",
            "EPOCH:25, train_loss=3.3318943977355957, valid_loss=3.348911762237549\n"
          ],
          "name": "stdout"
        },
        {
          "output_type": "stream",
          "text": [
            "100%|██████████| 117/117 [00:02<00:00, 48.50it/s]\n",
            "100%|██████████| 13/13 [00:00<00:00, 30.41it/s]\n",
            "  0%|          | 0/117 [00:00<?, ?it/s]"
          ],
          "name": "stderr"
        },
        {
          "output_type": "stream",
          "text": [
            "[('gc27',\n",
            "  '```````````````````````````````````````````````````````````````````````````'),\n",
            " ('pe4x',\n",
            "  '```````````````````````````````````````````````````````````````````````````'),\n",
            " ('cdmn',\n",
            "  '```````````````````````````````````````````````````````````````````````````'),\n",
            " ('5mff',\n",
            "  '```````````````````````````````````````````````````````````````````````````')]\n",
            "EPOCH:26, train_loss=3.3339502811431885, valid_loss=3.3542182445526123\n"
          ],
          "name": "stdout"
        },
        {
          "output_type": "stream",
          "text": [
            "100%|██████████| 117/117 [00:02<00:00, 49.55it/s]\n",
            "100%|██████████| 13/13 [00:00<00:00, 31.33it/s]\n",
            "  0%|          | 0/117 [00:00<?, ?it/s]"
          ],
          "name": "stderr"
        },
        {
          "output_type": "stream",
          "text": [
            "[('gc27',\n",
            "  '```````````````````````````````````````````````````````````````````````````'),\n",
            " ('pe4x',\n",
            "  '```````````````````````````````````````````````````````````````````````````'),\n",
            " ('cdmn',\n",
            "  '```````````````````````````````````````````````````````````````````````````'),\n",
            " ('5mff',\n",
            "  '```````````````````````````````````````````````````````````````````````````')]\n",
            "EPOCH:27, train_loss=3.3325395584106445, valid_loss=3.357473134994507\n"
          ],
          "name": "stdout"
        },
        {
          "output_type": "stream",
          "text": [
            "100%|██████████| 117/117 [00:02<00:00, 49.38it/s]\n",
            "100%|██████████| 13/13 [00:00<00:00, 30.07it/s]\n",
            "  0%|          | 0/117 [00:00<?, ?it/s]"
          ],
          "name": "stderr"
        },
        {
          "output_type": "stream",
          "text": [
            "[('gc27',\n",
            "  '```````````````````````````````````````````````````````````````````````````'),\n",
            " ('pe4x',\n",
            "  '```````````````````````````````````````````````````````````````````````````'),\n",
            " ('cdmn',\n",
            "  '```````````````````````````````````````````````````````````````````````````'),\n",
            " ('5mff',\n",
            "  '```````````````````````````````````````````````````````````````````````````')]\n",
            "EPOCH:28, train_loss=3.332948684692383, valid_loss=3.3526852130889893\n"
          ],
          "name": "stdout"
        },
        {
          "output_type": "stream",
          "text": [
            "100%|██████████| 117/117 [00:02<00:00, 49.14it/s]\n",
            "100%|██████████| 13/13 [00:00<00:00, 30.79it/s]\n",
            "  0%|          | 0/117 [00:00<?, ?it/s]"
          ],
          "name": "stderr"
        },
        {
          "output_type": "stream",
          "text": [
            "[('gc27',\n",
            "  '```````````````````````````````````````````````````````````````````````````'),\n",
            " ('pe4x',\n",
            "  '```````````````````````````````````````````````````````````````````````````'),\n",
            " ('cdmn',\n",
            "  '```````````````````````````````````````````````````````````````````````````'),\n",
            " ('5mff',\n",
            "  '```````````````````````````````````````````````````````````````````````````')]\n",
            "EPOCH:29, train_loss=3.332275629043579, valid_loss=3.3510384559631348\n"
          ],
          "name": "stdout"
        },
        {
          "output_type": "stream",
          "text": [
            "100%|██████████| 117/117 [00:02<00:00, 49.15it/s]\n",
            "100%|██████████| 13/13 [00:00<00:00, 30.36it/s]\n",
            "  0%|          | 0/117 [00:00<?, ?it/s]"
          ],
          "name": "stderr"
        },
        {
          "output_type": "stream",
          "text": [
            "[('gc27',\n",
            "  '```````````````````````````````````````````````````````````````````````````'),\n",
            " ('pe4x',\n",
            "  '```````````````````````````````````````````````````````````````````````````'),\n",
            " ('cdmn',\n",
            "  '```````````````````````````````````````````````````````````````````````````'),\n",
            " ('5mff',\n",
            "  '```````````````````````````````````````````````````````````````````````````')]\n",
            "EPOCH:30, train_loss=3.331430435180664, valid_loss=3.35343599319458\n"
          ],
          "name": "stdout"
        },
        {
          "output_type": "stream",
          "text": [
            "100%|██████████| 117/117 [00:02<00:00, 48.50it/s]\n",
            "100%|██████████| 13/13 [00:00<00:00, 30.29it/s]\n",
            "  0%|          | 0/117 [00:00<?, ?it/s]"
          ],
          "name": "stderr"
        },
        {
          "output_type": "stream",
          "text": [
            "[('gc27',\n",
            "  '```````````````````````````````````````````````````````````````````````````'),\n",
            " ('pe4x',\n",
            "  '```````````````````````````````````````````````````````````````````````````'),\n",
            " ('cdmn',\n",
            "  '```````````````````````````````````````````````````````````````````````````'),\n",
            " ('5mff',\n",
            "  '```````````````````````````````````````````````````````````````````````````')]\n",
            "EPOCH:31, train_loss=3.3294379711151123, valid_loss=3.3597216606140137\n"
          ],
          "name": "stdout"
        },
        {
          "output_type": "stream",
          "text": [
            "100%|██████████| 117/117 [00:02<00:00, 49.21it/s]\n",
            "100%|██████████| 13/13 [00:00<00:00, 31.36it/s]\n",
            "  0%|          | 0/117 [00:00<?, ?it/s]"
          ],
          "name": "stderr"
        },
        {
          "output_type": "stream",
          "text": [
            "[('gc27',\n",
            "  '```````````````````````````````````````````````````````````````````````````'),\n",
            " ('pe4x',\n",
            "  '```````````````````````````````````````````````````````````````````````````'),\n",
            " ('cdmn',\n",
            "  '```````````````````````````````````````````````````````````````````````````'),\n",
            " ('5mff',\n",
            "  '```````````````````````````````````````````````````````````````````````````')]\n",
            "EPOCH:32, train_loss=3.324613332748413, valid_loss=3.326122760772705\n"
          ],
          "name": "stdout"
        },
        {
          "output_type": "stream",
          "text": [
            "100%|██████████| 117/117 [00:02<00:00, 49.75it/s]\n",
            "100%|██████████| 13/13 [00:00<00:00, 31.59it/s]\n",
            "  0%|          | 0/117 [00:00<?, ?it/s]"
          ],
          "name": "stderr"
        },
        {
          "output_type": "stream",
          "text": [
            "[('gc27',\n",
            "  '```````````````````````````````````````````````````````````````````````````'),\n",
            " ('pe4x',\n",
            "  '```````````````````````````````````````````````````````````````````````````'),\n",
            " ('cdmn',\n",
            "  '```````````````````````````````````````````````````````````````````````````'),\n",
            " ('5mff',\n",
            "  '```````````````````````````````````````````````````````````````````````````')]\n",
            "EPOCH:33, train_loss=3.3057591915130615, valid_loss=3.2724077701568604\n"
          ],
          "name": "stdout"
        },
        {
          "output_type": "stream",
          "text": [
            "100%|██████████| 117/117 [00:02<00:00, 48.86it/s]\n",
            "100%|██████████| 13/13 [00:00<00:00, 31.98it/s]\n",
            "  0%|          | 0/117 [00:00<?, ?it/s]"
          ],
          "name": "stderr"
        },
        {
          "output_type": "stream",
          "text": [
            "[('gc27',\n",
            "  '```````````````````````````````````````````````````````````````````````````'),\n",
            " ('pe4x',\n",
            "  '```````````````````````````````````````````````````````````````````````````'),\n",
            " ('cdmn',\n",
            "  '```````````````````````````````````````````````````````````````````````````'),\n",
            " ('5mff',\n",
            "  '```````````````````````````````````````````````````````````````````````````')]\n",
            "EPOCH:34, train_loss=3.2537777423858643, valid_loss=3.255841016769409\n"
          ],
          "name": "stdout"
        },
        {
          "output_type": "stream",
          "text": [
            "100%|██████████| 117/117 [00:02<00:00, 49.21it/s]\n",
            "100%|██████████| 13/13 [00:00<00:00, 31.65it/s]\n",
            "  0%|          | 0/117 [00:00<?, ?it/s]"
          ],
          "name": "stderr"
        },
        {
          "output_type": "stream",
          "text": [
            "[('gc27',\n",
            "  '```````````````````````````````````````````````````````````````````````````'),\n",
            " ('pe4x',\n",
            "  '```````````````````````````````````````````````````````````````````````````'),\n",
            " ('cdmn',\n",
            "  '````````````````````````````````````````````f``````````````````````````````'),\n",
            " ('5mff',\n",
            "  '``````````````````````````g````````````````````````````````````````````````')]\n",
            "EPOCH:35, train_loss=3.1360983848571777, valid_loss=3.05312180519104\n"
          ],
          "name": "stdout"
        },
        {
          "output_type": "stream",
          "text": [
            "100%|██████████| 117/117 [00:02<00:00, 48.52it/s]\n",
            "100%|██████████| 13/13 [00:00<00:00, 30.42it/s]\n",
            "  0%|          | 0/117 [00:00<?, ?it/s]"
          ],
          "name": "stderr"
        },
        {
          "output_type": "stream",
          "text": [
            "[('gc27',\n",
            "  '```````````````````````````````````````````````````````````````````````````'),\n",
            " ('pe4x',\n",
            "  '```````````````````````````````````````````````````````````````````````````'),\n",
            " ('cdmn',\n",
            "  '`````````````````b``````````````````````````d``````````````````````````````'),\n",
            " ('5mff',\n",
            "  '``````````````````````````g````````````````````````````````````````````````')]\n",
            "EPOCH:36, train_loss=2.9671905040740967, valid_loss=2.8340377807617188\n"
          ],
          "name": "stdout"
        },
        {
          "output_type": "stream",
          "text": [
            "100%|██████████| 117/117 [00:02<00:00, 46.83it/s]\n",
            "100%|██████████| 13/13 [00:00<00:00, 30.21it/s]\n",
            "  0%|          | 0/117 [00:00<?, ?it/s]"
          ],
          "name": "stderr"
        },
        {
          "output_type": "stream",
          "text": [
            "[('gc27',\n",
            "  '```````````````````````````````````````````````````````````````````````````'),\n",
            " ('pe4x',\n",
            "  '`````````````````````````````b`````````````````````````````````````````````'),\n",
            " ('cdmn',\n",
            "  '`````````````````b``````````````````````````b``````````````````````````````'),\n",
            " ('5mff',\n",
            "  '``````````````````````````g````````````````````````````````````````````````')]\n",
            "EPOCH:37, train_loss=2.793133497238159, valid_loss=2.6876838207244873\n"
          ],
          "name": "stdout"
        },
        {
          "output_type": "stream",
          "text": [
            "100%|██████████| 117/117 [00:02<00:00, 48.78it/s]\n",
            "100%|██████████| 13/13 [00:00<00:00, 30.76it/s]\n",
            "  0%|          | 0/117 [00:00<?, ?it/s]"
          ],
          "name": "stderr"
        },
        {
          "output_type": "stream",
          "text": [
            "[('gc27',\n",
            "  '```````````````````````````````````````````````````````````````````````````'),\n",
            " ('pe4x',\n",
            "  '`````````````````````````````f`````````````````````````````````````````````'),\n",
            " ('cdmn',\n",
            "  '`````````````````b``````````````````````````f``````````````````````````````'),\n",
            " ('5mff',\n",
            "  '``````````````````````````p````````````````````````````````````````````````')]\n",
            "EPOCH:38, train_loss=2.6043319702148438, valid_loss=2.502375841140747\n"
          ],
          "name": "stdout"
        },
        {
          "output_type": "stream",
          "text": [
            "100%|██████████| 117/117 [00:02<00:00, 47.25it/s]\n",
            "100%|██████████| 13/13 [00:00<00:00, 31.49it/s]\n",
            "  0%|          | 0/117 [00:00<?, ?it/s]"
          ],
          "name": "stderr"
        },
        {
          "output_type": "stream",
          "text": [
            "[('gc27',\n",
            "  '```````````````````````````````````````````````````````````````````````````'),\n",
            " ('pe4x',\n",
            "  '````````````````2````````````f`````````````````````````````````````````````'),\n",
            " ('cdmn',\n",
            "  '`````````````````f`````````````````````````````````````````````````````````'),\n",
            " ('5mff',\n",
            "  '``````````````````````````g````````````````````````````````````````````````')]\n",
            "EPOCH:39, train_loss=2.4396088123321533, valid_loss=2.3596606254577637\n"
          ],
          "name": "stdout"
        },
        {
          "output_type": "stream",
          "text": [
            "100%|██████████| 117/117 [00:02<00:00, 49.09it/s]\n",
            "100%|██████████| 13/13 [00:00<00:00, 31.83it/s]\n",
            "  0%|          | 0/117 [00:00<?, ?it/s]"
          ],
          "name": "stderr"
        },
        {
          "output_type": "stream",
          "text": [
            "[('gc27',\n",
            "  '`````````````````````````````6`````````````````````````````````````````````'),\n",
            " ('pe4x',\n",
            "  '````````````````2````````````f`````````2```````````````````````````````````'),\n",
            " ('cdmn',\n",
            "  '`````````````````4``````````````````````````f``````````````````````````````'),\n",
            " ('5mff',\n",
            "  '``````````````````````````g`````````````````````y``````````````````````````')]\n",
            "EPOCH:40, train_loss=2.274582624435425, valid_loss=2.089601993560791\n"
          ],
          "name": "stdout"
        },
        {
          "output_type": "stream",
          "text": [
            "100%|██████████| 117/117 [00:02<00:00, 49.07it/s]\n",
            "100%|██████████| 13/13 [00:00<00:00, 30.43it/s]\n",
            "  0%|          | 0/117 [00:00<?, ?it/s]"
          ],
          "name": "stderr"
        },
        {
          "output_type": "stream",
          "text": [
            "[('gc27',\n",
            "  '`````````````````````````````6`````````````3```````````````````````````````'),\n",
            " ('pe4x',\n",
            "  '````````````````2````````````f`````````2``6````````````````````````````````'),\n",
            " ('cdmn',\n",
            "  '`````````````````4```````````````````````7``d``````````````````````````````'),\n",
            " ('5mff',\n",
            "  '``````````````````````````g`````````````````````y``````````````````````````')]\n",
            "EPOCH:41, train_loss=2.0891194343566895, valid_loss=1.9476836919784546\n"
          ],
          "name": "stdout"
        },
        {
          "output_type": "stream",
          "text": [
            "100%|██████████| 117/117 [00:02<00:00, 47.02it/s]\n",
            "100%|██████████| 13/13 [00:00<00:00, 30.84it/s]\n",
            "  0%|          | 0/117 [00:00<?, ?it/s]"
          ],
          "name": "stderr"
        },
        {
          "output_type": "stream",
          "text": [
            "[('gc27',\n",
            "  '`````````````````````````````6`````````````3```````````````````````````````'),\n",
            " ('pe4x',\n",
            "  '````````````````2````````````f`````````2``6````````````````````````````````'),\n",
            " ('cdmn',\n",
            "  '`````````````````4```````````````````````7`````````````````````````````````'),\n",
            " ('5mff',\n",
            "  '``````````````````````````g`````````````````````y``````````````````````````')]\n",
            "EPOCH:42, train_loss=1.921986699104309, valid_loss=1.7585841417312622\n"
          ],
          "name": "stdout"
        },
        {
          "output_type": "stream",
          "text": [
            "100%|██████████| 117/117 [00:02<00:00, 49.11it/s]\n",
            "100%|██████████| 13/13 [00:00<00:00, 30.56it/s]\n",
            "  0%|          | 0/117 [00:00<?, ?it/s]"
          ],
          "name": "stderr"
        },
        {
          "output_type": "stream",
          "text": [
            "[('gc27',\n",
            "  '`````````````````````````````6`````````````3```````````````````````````````'),\n",
            " ('pe4x',\n",
            "  '````````````````2``n````n````f`````````2``6````````````````````````````````'),\n",
            " ('cdmn',\n",
            "  '`````````````````4``````````n````n```````7``d``````````````````````````````'),\n",
            " ('5mff',\n",
            "  '``````````````````````````g`````````````````````y``````````````````````````')]\n",
            "EPOCH:43, train_loss=1.7854808568954468, valid_loss=1.7105411291122437\n"
          ],
          "name": "stdout"
        },
        {
          "output_type": "stream",
          "text": [
            "100%|██████████| 117/117 [00:02<00:00, 49.78it/s]\n",
            "100%|██████████| 13/13 [00:00<00:00, 31.61it/s]\n",
            "  0%|          | 0/117 [00:00<?, ?it/s]"
          ],
          "name": "stderr"
        },
        {
          "output_type": "stream",
          "text": [
            "[('gc27',\n",
            "  '`````````````````````````````6`````````````8```````````````````````````````'),\n",
            " ('pe4x',\n",
            "  '````````````````2```````n````f`````````2```````````````````````````````````'),\n",
            " ('cdmn',\n",
            "  '`````````````````4`````````````````````````````````````````````````````````'),\n",
            " ('5mff',\n",
            "  '``````````````````````````g`````````````````````y``````````````````````````')]\n",
            "EPOCH:44, train_loss=1.607208251953125, valid_loss=1.3785932064056396\n"
          ],
          "name": "stdout"
        },
        {
          "output_type": "stream",
          "text": [
            "100%|██████████| 117/117 [00:02<00:00, 49.32it/s]\n",
            "100%|██████████| 13/13 [00:00<00:00, 32.39it/s]\n",
            "  0%|          | 0/117 [00:00<?, ?it/s]"
          ],
          "name": "stderr"
        },
        {
          "output_type": "stream",
          "text": [
            "[('gc27',\n",
            "  '`````````````````````````````6`````````````8```````````````````````````````'),\n",
            " ('pe4x',\n",
            "  '````````````````2```````n````f`````````2``6````````````````````````````````'),\n",
            " ('cdmn',\n",
            "  '`````````````````4``````````n``````````````````````````````````````````````'),\n",
            " ('5mff',\n",
            "  '``````````````````````````g````````````````````````````````````````````````')]\n",
            "EPOCH:45, train_loss=1.4240562915802002, valid_loss=1.2569738626480103\n"
          ],
          "name": "stdout"
        },
        {
          "output_type": "stream",
          "text": [
            "100%|██████████| 117/117 [00:02<00:00, 49.36it/s]\n",
            "100%|██████████| 13/13 [00:00<00:00, 32.21it/s]\n",
            "  0%|          | 0/117 [00:00<?, ?it/s]"
          ],
          "name": "stderr"
        },
        {
          "output_type": "stream",
          "text": [
            "[('gc27',\n",
            "  '`````````````````````````````6`````````````8```````````````````````````````'),\n",
            " ('pe4x',\n",
            "  '````````````````2``n````n````f`````````2``6````````````````````````````````'),\n",
            " ('cdmn',\n",
            "  '`````````````````4``````````n````````````7`````````````````````````````````'),\n",
            " ('5mff',\n",
            "  '``````````````````````````g`````````````````````y``````````````````````````')]\n",
            "EPOCH:46, train_loss=1.3113586902618408, valid_loss=1.1744754314422607\n"
          ],
          "name": "stdout"
        },
        {
          "output_type": "stream",
          "text": [
            "100%|██████████| 117/117 [00:02<00:00, 48.74it/s]\n",
            "100%|██████████| 13/13 [00:00<00:00, 32.27it/s]\n",
            "  0%|          | 0/117 [00:00<?, ?it/s]"
          ],
          "name": "stderr"
        },
        {
          "output_type": "stream",
          "text": [
            "[('gc27',\n",
            "  '`````````````````````````````6`````````````8```````````````````````````````'),\n",
            " ('pe4x',\n",
            "  '````````````````2```````n````f`````````2```````````````````````````````````'),\n",
            " ('cdmn',\n",
            "  '`````````````````4`````````````````````````````````````````````````````````'),\n",
            " ('5mff',\n",
            "  '``````````````````````````g`````````````````````y``````````````````````````')]\n",
            "EPOCH:47, train_loss=1.2066938877105713, valid_loss=0.9962602853775024\n"
          ],
          "name": "stdout"
        },
        {
          "output_type": "stream",
          "text": [
            "100%|██████████| 117/117 [00:02<00:00, 49.56it/s]\n",
            "100%|██████████| 13/13 [00:00<00:00, 30.99it/s]\n",
            "  0%|          | 0/117 [00:00<?, ?it/s]"
          ],
          "name": "stderr"
        },
        {
          "output_type": "stream",
          "text": [
            "[('gc27',\n",
            "  '`````````````````````````````6`````````````8```````````````````````````````'),\n",
            " ('pe4x',\n",
            "  '````````````````2``n````n````f`````````2``6````````````````````````````````'),\n",
            " ('cdmn',\n",
            "  '`````````````````4``x```````n``````````````````````````````````````````````'),\n",
            " ('5mff',\n",
            "  '``````````````````````````g``````````````x``````y``````````````````````````')]\n",
            "EPOCH:48, train_loss=1.0919901132583618, valid_loss=0.951413094997406\n"
          ],
          "name": "stdout"
        },
        {
          "output_type": "stream",
          "text": [
            "100%|██████████| 117/117 [00:02<00:00, 48.08it/s]\n",
            "100%|██████████| 13/13 [00:00<00:00, 32.52it/s]\n",
            "  0%|          | 0/117 [00:00<?, ?it/s]"
          ],
          "name": "stderr"
        },
        {
          "output_type": "stream",
          "text": [
            "[('gc27',\n",
            "  '`````````````````````````````6````````````88```````````````````````````````'),\n",
            " ('pe4x',\n",
            "  '````````````````2``n````n````f`````````2``6````````````````````````````````'),\n",
            " ('cdmn',\n",
            "  '`````````````````4``x```````n````````````7`````````````````````````````````'),\n",
            " ('5mff',\n",
            "  '``````````````````````````g``````````````x``````y``````````````````````````')]\n",
            "EPOCH:49, train_loss=1.0159507989883423, valid_loss=0.9207040667533875\n"
          ],
          "name": "stdout"
        },
        {
          "output_type": "stream",
          "text": [
            "100%|██████████| 117/117 [00:02<00:00, 48.84it/s]\n",
            "100%|██████████| 13/13 [00:00<00:00, 32.21it/s]\n",
            "  0%|          | 0/117 [00:00<?, ?it/s]"
          ],
          "name": "stderr"
        },
        {
          "output_type": "stream",
          "text": [
            "[('gc27',\n",
            "  '`````````````````````````````6`````````````8```````````````````````````````'),\n",
            " ('pe4x',\n",
            "  '````````````````2``n````n````f`````````2``6````````````````````````````````'),\n",
            " ('cdmn',\n",
            "  '`````````````````4``x```````n````````````7`````````````````````````````````'),\n",
            " ('5mff',\n",
            "  '``````````````````````````g``````````````x``````y``````````````````````````')]\n",
            "EPOCH:50, train_loss=0.9264146685600281, valid_loss=0.8944715857505798\n"
          ],
          "name": "stdout"
        },
        {
          "output_type": "stream",
          "text": [
            "100%|██████████| 117/117 [00:02<00:00, 47.82it/s]\n",
            "100%|██████████| 13/13 [00:00<00:00, 31.52it/s]\n",
            "  0%|          | 0/117 [00:00<?, ?it/s]"
          ],
          "name": "stderr"
        },
        {
          "output_type": "stream",
          "text": [
            "[('gc27',\n",
            "  '`````````````````````````````6`````````````8```````````````````````````````'),\n",
            " ('pe4x',\n",
            "  '````````````````2``n````n````f`````````2``6````````````````````````````````'),\n",
            " ('cdmn',\n",
            "  '`````````````````4``x```````n``````````````````````````````````````````````'),\n",
            " ('5mff',\n",
            "  '``````````````````````````g``````````````x``````y``````````````````````````')]\n",
            "EPOCH:51, train_loss=0.8705822229385376, valid_loss=0.7260562777519226\n"
          ],
          "name": "stdout"
        },
        {
          "output_type": "stream",
          "text": [
            "100%|██████████| 117/117 [00:02<00:00, 48.27it/s]\n",
            "100%|██████████| 13/13 [00:00<00:00, 30.08it/s]\n",
            "  0%|          | 0/117 [00:00<?, ?it/s]"
          ],
          "name": "stderr"
        },
        {
          "output_type": "stream",
          "text": [
            "[('gc27',\n",
            "  '`````````````````````````````6`````````````8```````````````````````````````'),\n",
            " ('pe4x',\n",
            "  '````````````````2``n`````````f`````````2```````````````````````````````````'),\n",
            " ('cdmn',\n",
            "  '`````````````````4``x```````n````````````7`````````````````````````````````'),\n",
            " ('5mff',\n",
            "  '``````````````````````````g``````````````x``````y``````````````````````````')]\n",
            "EPOCH:52, train_loss=0.8092842698097229, valid_loss=0.6698092222213745\n"
          ],
          "name": "stdout"
        },
        {
          "output_type": "stream",
          "text": [
            "100%|██████████| 117/117 [00:02<00:00, 49.99it/s]\n",
            "100%|██████████| 13/13 [00:00<00:00, 31.91it/s]\n",
            "  0%|          | 0/117 [00:00<?, ?it/s]"
          ],
          "name": "stderr"
        },
        {
          "output_type": "stream",
          "text": [
            "[('gc27',\n",
            "  '`````````````````````````````6`````````````8```````````````````````````````'),\n",
            " ('pe4x',\n",
            "  '````````````````2``n`````````f`````````2```````````````````````````````````'),\n",
            " ('cdmn',\n",
            "  '`````````````````4``x```````n``````````````````````````````````````````````'),\n",
            " ('5mff',\n",
            "  '``````````````````````````g``````````````x`````````````````````````````````')]\n",
            "EPOCH:53, train_loss=0.7692465782165527, valid_loss=0.6181773543357849\n"
          ],
          "name": "stdout"
        },
        {
          "output_type": "stream",
          "text": [
            "100%|██████████| 117/117 [00:02<00:00, 49.03it/s]\n",
            "100%|██████████| 13/13 [00:00<00:00, 31.63it/s]\n",
            "  0%|          | 0/117 [00:00<?, ?it/s]"
          ],
          "name": "stderr"
        },
        {
          "output_type": "stream",
          "text": [
            "[('gc27',\n",
            "  '```````````````c`````````````6`````````````8```````````````````````````````'),\n",
            " ('pe4x',\n",
            "  '````````````````2``n`````````f`````````2```````````````````````````````````'),\n",
            " ('cdmn',\n",
            "  '`````````````````4``e```````n````````````7`````````````````````````````````'),\n",
            " ('5mff',\n",
            "  '``````````````````````````g``````````````x`````````````````````````````````')]\n",
            "EPOCH:54, train_loss=0.6975522041320801, valid_loss=0.6254374384880066\n"
          ],
          "name": "stdout"
        },
        {
          "output_type": "stream",
          "text": [
            "100%|██████████| 117/117 [00:02<00:00, 47.87it/s]\n",
            "100%|██████████| 13/13 [00:00<00:00, 32.06it/s]\n",
            "  0%|          | 0/117 [00:00<?, ?it/s]"
          ],
          "name": "stderr"
        },
        {
          "output_type": "stream",
          "text": [
            "[('gc27',\n",
            "  '```````````````x`````````````6````````````88```````````````````````````````'),\n",
            " ('pe4x',\n",
            "  '````````````````2``n`````````f`````````2``6````````````````````````````````'),\n",
            " ('cdmn',\n",
            "  '`````````````````4``e```````n````````````7`````````````````````````````````'),\n",
            " ('5mff',\n",
            "  '```````````````x``````````g```c``````````x``````y``````````````````````````')]\n",
            "EPOCH:55, train_loss=0.6393101811408997, valid_loss=0.572955310344696\n"
          ],
          "name": "stdout"
        },
        {
          "output_type": "stream",
          "text": [
            "100%|██████████| 117/117 [00:02<00:00, 48.93it/s]\n",
            "100%|██████████| 13/13 [00:00<00:00, 31.23it/s]\n",
            "  0%|          | 0/117 [00:00<?, ?it/s]"
          ],
          "name": "stderr"
        },
        {
          "output_type": "stream",
          "text": [
            "[('gc27',\n",
            "  '```````````````x`````````````6`````````````8```````````````````````````````'),\n",
            " ('pe4x',\n",
            "  '````````````````2``n`````````f`````````2```````````````````````````````````'),\n",
            " ('cdmn',\n",
            "  '`````````````````4``e```````n````````````7`````````````````````````````````'),\n",
            " ('5mff',\n",
            "  '```````````````x``````````g``````````````x`````````````````````````````````')]\n",
            "EPOCH:56, train_loss=0.594635009765625, valid_loss=0.5169187784194946\n"
          ],
          "name": "stdout"
        },
        {
          "output_type": "stream",
          "text": [
            "100%|██████████| 117/117 [00:02<00:00, 49.38it/s]\n",
            "100%|██████████| 13/13 [00:00<00:00, 30.71it/s]\n",
            "  0%|          | 0/117 [00:00<?, ?it/s]"
          ],
          "name": "stderr"
        },
        {
          "output_type": "stream",
          "text": [
            "[('gc27',\n",
            "  '```````````````x`````c```````6`````````````8```````````````````````````````'),\n",
            " ('pe4x',\n",
            "  '````````````````2``n`````````f`````````2```````````````````````````````````'),\n",
            " ('cdmn',\n",
            "  '`````````````````4``e```````n````````````7`````````````````````````````````'),\n",
            " ('5mff',\n",
            "  '```````````````x``````````g```c``````````x`````````````````````````````````')]\n",
            "EPOCH:57, train_loss=0.5634832978248596, valid_loss=0.4929293692111969\n"
          ],
          "name": "stdout"
        },
        {
          "output_type": "stream",
          "text": [
            "100%|██████████| 117/117 [00:02<00:00, 47.88it/s]\n",
            "100%|██████████| 13/13 [00:00<00:00, 30.71it/s]\n",
            "  0%|          | 0/117 [00:00<?, ?it/s]"
          ],
          "name": "stderr"
        },
        {
          "output_type": "stream",
          "text": [
            "[('gc27',\n",
            "  '```````````````x`````c```````6`````````````8```````````````````````````````'),\n",
            " ('pe4x',\n",
            "  '````````````````22`n`````````f`````````2``6````````````````````````````````'),\n",
            " ('cdmn',\n",
            "  '`````````````````4``e```````n````````````7`````````````````````````````````'),\n",
            " ('5mff',\n",
            "  '```````````````x``````````g```c`````````xx`````````````````````````````````')]\n",
            "EPOCH:58, train_loss=0.5291851758956909, valid_loss=0.5690992474555969\n"
          ],
          "name": "stdout"
        },
        {
          "output_type": "stream",
          "text": [
            "100%|██████████| 117/117 [00:02<00:00, 48.78it/s]\n",
            "100%|██████████| 13/13 [00:00<00:00, 32.42it/s]\n",
            "  0%|          | 0/117 [00:00<?, ?it/s]"
          ],
          "name": "stderr"
        },
        {
          "output_type": "stream",
          "text": [
            "[('gc27',\n",
            "  '```````````````x`````c```````6`````````````8```````````````````````````````'),\n",
            " ('pe4x',\n",
            "  '````````````````22`n`````````f`````````2```````````````````````````````````'),\n",
            " ('cdmn',\n",
            "  '`````````````````4``e```````n````````````7`````````````````````````````````'),\n",
            " ('5mff',\n",
            "  '```````````````x``````````g```c``````````x`````````````````````````````````')]\n",
            "EPOCH:59, train_loss=0.5057260394096375, valid_loss=0.49229761958122253\n"
          ],
          "name": "stdout"
        },
        {
          "output_type": "stream",
          "text": [
            "100%|██████████| 117/117 [00:02<00:00, 48.71it/s]\n",
            "100%|██████████| 13/13 [00:00<00:00, 32.31it/s]\n",
            "  0%|          | 0/117 [00:00<?, ?it/s]"
          ],
          "name": "stderr"
        },
        {
          "output_type": "stream",
          "text": [
            "[('gc27',\n",
            "  '```````````````x`````````````6````````````88```````````````````````````````'),\n",
            " ('pe4x',\n",
            "  '````````````````2``n`````````f`````````2``6````````````````````````````````'),\n",
            " ('cdmn',\n",
            "  '`````````````````4``e```````n````````````7`````````````````````````````````'),\n",
            " ('5mff',\n",
            "  '```````````````x``````````g``````````````x`````````````````````````````````')]\n",
            "EPOCH:60, train_loss=0.4893595278263092, valid_loss=0.5003702044487\n"
          ],
          "name": "stdout"
        },
        {
          "output_type": "stream",
          "text": [
            "100%|██████████| 117/117 [00:02<00:00, 48.80it/s]\n",
            "100%|██████████| 13/13 [00:00<00:00, 30.43it/s]\n",
            "  0%|          | 0/117 [00:00<?, ?it/s]"
          ],
          "name": "stderr"
        },
        {
          "output_type": "stream",
          "text": [
            "[('gc27',\n",
            "  '```````````````x`````c```````6````````````88```````````````````````````````'),\n",
            " ('pe4x',\n",
            "  '````````````````2``n`````````f`````````2```````````````````````````````````'),\n",
            " ('cdmn',\n",
            "  '`````````````````4``e```````n````````````7`````````````````````````````````'),\n",
            " ('5mff',\n",
            "  '```````````````x``````````g```c``````````x`````````````````````````````````')]\n",
            "EPOCH:61, train_loss=0.4564078152179718, valid_loss=0.47779616713523865\n"
          ],
          "name": "stdout"
        },
        {
          "output_type": "stream",
          "text": [
            "100%|██████████| 117/117 [00:02<00:00, 48.44it/s]\n",
            "100%|██████████| 13/13 [00:00<00:00, 31.52it/s]\n",
            "  0%|          | 0/117 [00:00<?, ?it/s]"
          ],
          "name": "stderr"
        },
        {
          "output_type": "stream",
          "text": [
            "[('gc27',\n",
            "  '```````````````x`````c```````6`````````````8```````````````````````````````'),\n",
            " ('pe4x',\n",
            "  '````````````````22`n`````````f`````````2``6````````````````````````````````'),\n",
            " ('cdmn',\n",
            "  '`````````````````4``e```````n````````````7`````````````````````````````````'),\n",
            " ('5mff',\n",
            "  '```````````````x``````````g```c``````````x`````````````````````````````````')]\n",
            "EPOCH:62, train_loss=0.43804189562797546, valid_loss=0.49743834137916565\n"
          ],
          "name": "stdout"
        },
        {
          "output_type": "stream",
          "text": [
            "100%|██████████| 117/117 [00:02<00:00, 47.50it/s]\n",
            "100%|██████████| 13/13 [00:00<00:00, 31.35it/s]\n",
            "  0%|          | 0/117 [00:00<?, ?it/s]"
          ],
          "name": "stderr"
        },
        {
          "output_type": "stream",
          "text": [
            "[('gc27',\n",
            "  '```````````````x`````c```````6`````````````8```````````````````````````````'),\n",
            " ('pe4x',\n",
            "  '````````````````2``n`````````f`````````2```````````````````````````````````'),\n",
            " ('cdmn',\n",
            "  '`````````````````4``e```````n````````````7`````````````````````````````````'),\n",
            " ('5mff',\n",
            "  '```````````````x``````````g``````````````x`````````````````````````````````')]\n",
            "EPOCH:63, train_loss=0.4558844268321991, valid_loss=0.46884438395500183\n"
          ],
          "name": "stdout"
        },
        {
          "output_type": "stream",
          "text": [
            "100%|██████████| 117/117 [00:02<00:00, 48.46it/s]\n",
            "100%|██████████| 13/13 [00:00<00:00, 31.46it/s]\n",
            "  0%|          | 0/117 [00:00<?, ?it/s]"
          ],
          "name": "stderr"
        },
        {
          "output_type": "stream",
          "text": [
            "[('gc27',\n",
            "  '```````````````x`````c```````6````````````88```````````````````````````````'),\n",
            " ('pe4x',\n",
            "  '````````````````2``n`````````f`````````2``6````````````````````````````````'),\n",
            " ('cdmn',\n",
            "  '`````````````````4``e```````n````````````7`````````````````````````````````'),\n",
            " ('5mff',\n",
            "  '```````````````x``````````g```c`````````xx``````y``````````````````````````')]\n",
            "EPOCH:64, train_loss=0.4096602201461792, valid_loss=0.47198766469955444\n"
          ],
          "name": "stdout"
        },
        {
          "output_type": "stream",
          "text": [
            "100%|██████████| 117/117 [00:02<00:00, 48.69it/s]\n",
            "100%|██████████| 13/13 [00:00<00:00, 30.35it/s]\n",
            "  0%|          | 0/117 [00:00<?, ?it/s]"
          ],
          "name": "stderr"
        },
        {
          "output_type": "stream",
          "text": [
            "[('gc27',\n",
            "  '```````````````x`````c```````6`````````````8```````````````````````````````'),\n",
            " ('pe4x',\n",
            "  '````````````````2``n`````````f`````````2```````````````````````````````````'),\n",
            " ('cdmn',\n",
            "  '`````````````````4``e```````n````````````7`````````````````````````````````'),\n",
            " ('5mff',\n",
            "  '```````````````x``````````g```c``````````x`````````````````````````````````')]\n",
            "EPOCH:65, train_loss=0.4133881628513336, valid_loss=0.4247286319732666\n"
          ],
          "name": "stdout"
        },
        {
          "output_type": "stream",
          "text": [
            "100%|██████████| 117/117 [00:02<00:00, 49.46it/s]\n",
            "100%|██████████| 13/13 [00:00<00:00, 30.25it/s]\n",
            "  0%|          | 0/117 [00:00<?, ?it/s]"
          ],
          "name": "stderr"
        },
        {
          "output_type": "stream",
          "text": [
            "[('gc27',\n",
            "  '```````````````x`````c```````6`````````````8```````````````````````````````'),\n",
            " ('pe4x',\n",
            "  '````````````````22`n`````````f`````````2```````````````````````````````````'),\n",
            " ('cdmn',\n",
            "  '`````````````````4``e```````n````````````7`````````````````````````````````'),\n",
            " ('5mff',\n",
            "  '```````````````x``````````g```c``````````x`````````````````````````````````')]\n",
            "EPOCH:66, train_loss=0.36200496554374695, valid_loss=0.40926769375801086\n"
          ],
          "name": "stdout"
        },
        {
          "output_type": "stream",
          "text": [
            "100%|██████████| 117/117 [00:02<00:00, 48.67it/s]\n",
            "100%|██████████| 13/13 [00:00<00:00, 32.77it/s]\n",
            "  0%|          | 0/117 [00:00<?, ?it/s]"
          ],
          "name": "stderr"
        },
        {
          "output_type": "stream",
          "text": [
            "[('gc27',\n",
            "  '```````````````x`````c```````6````````````88```````````````````````````````'),\n",
            " ('pe4x',\n",
            "  '````````````````22`n`````````f`````````2``6````````````````````````````````'),\n",
            " ('cdmn',\n",
            "  '`````````````````4``e```````n````````````7`````````````````````````````````'),\n",
            " ('5mff',\n",
            "  '```````````````x``````````g```c``````````x`````````````````````````````````')]\n",
            "EPOCH:67, train_loss=0.3653714954853058, valid_loss=0.42564767599105835\n"
          ],
          "name": "stdout"
        },
        {
          "output_type": "stream",
          "text": [
            "100%|██████████| 117/117 [00:02<00:00, 49.19it/s]\n",
            "100%|██████████| 13/13 [00:00<00:00, 32.06it/s]\n",
            "  0%|          | 0/117 [00:00<?, ?it/s]"
          ],
          "name": "stderr"
        },
        {
          "output_type": "stream",
          "text": [
            "[('gc27',\n",
            "  '```````````````x`````c```````6`````````````8```````````````````````````````'),\n",
            " ('pe4x',\n",
            "  '````````````````2``n`````````f`````````2```````````````````````````````````'),\n",
            " ('cdmn',\n",
            "  '`````````````````4``e```````n````````````7`````````````````````````````````'),\n",
            " ('5mff',\n",
            "  '```````````````x``````````g```c``````````x`````````````````````````````````')]\n",
            "EPOCH:68, train_loss=0.361423522233963, valid_loss=0.415022611618042\n"
          ],
          "name": "stdout"
        },
        {
          "output_type": "stream",
          "text": [
            "100%|██████████| 117/117 [00:02<00:00, 47.59it/s]\n",
            "100%|██████████| 13/13 [00:00<00:00, 30.52it/s]\n",
            "  0%|          | 0/117 [00:00<?, ?it/s]"
          ],
          "name": "stderr"
        },
        {
          "output_type": "stream",
          "text": [
            "[('gc27',\n",
            "  '```````````````x`````c```````6`````````````8```````````````````````````````'),\n",
            " ('pe4x',\n",
            "  '````````````````2``n`````````f`````````2```````````````````````````````````'),\n",
            " ('cdmn',\n",
            "  '`````````````````4``e```````n````````````7`````````````````````````````````'),\n",
            " ('5mff',\n",
            "  '```````````````x``````````g```c`````````xx`````````````````````````````````')]\n",
            "EPOCH:69, train_loss=0.3633493185043335, valid_loss=0.4503154158592224\n"
          ],
          "name": "stdout"
        },
        {
          "output_type": "stream",
          "text": [
            "100%|██████████| 117/117 [00:02<00:00, 48.90it/s]\n",
            "100%|██████████| 13/13 [00:00<00:00, 29.25it/s]\n",
            "  0%|          | 0/117 [00:00<?, ?it/s]"
          ],
          "name": "stderr"
        },
        {
          "output_type": "stream",
          "text": [
            "[('gc27',\n",
            "  '```````````````x`````c```````6`````````````8```````````````````````````````'),\n",
            " ('pe4x',\n",
            "  '````````````````22`n`````````f`````````2``6````````````````````````````````'),\n",
            " ('cdmn',\n",
            "  '`````````````````4``e```````n````````````7`````````````````````````````````'),\n",
            " ('5mff',\n",
            "  '```````````````x``````````g```c`````````xx``````y``````````````````````````')]\n",
            "EPOCH:70, train_loss=0.3416365683078766, valid_loss=0.5015771985054016\n"
          ],
          "name": "stdout"
        },
        {
          "output_type": "stream",
          "text": [
            "100%|██████████| 117/117 [00:02<00:00, 50.14it/s]\n",
            "100%|██████████| 13/13 [00:00<00:00, 31.08it/s]\n",
            "  0%|          | 0/117 [00:00<?, ?it/s]"
          ],
          "name": "stderr"
        },
        {
          "output_type": "stream",
          "text": [
            "[('gc27',\n",
            "  '```````````````x`````c```````6````````````88```````````````````````````````'),\n",
            " ('pe4x',\n",
            "  '````````````````22`n`````````f`````````2``6````````````````````````````````'),\n",
            " ('cdmn',\n",
            "  '`````````````````4``e```````n````````````7`````````````````````````````````'),\n",
            " ('5mff',\n",
            "  '```````````````x``````````g```c``````````x`````````````````````````````````')]\n",
            "EPOCH:71, train_loss=0.33986926078796387, valid_loss=0.4975385069847107\n"
          ],
          "name": "stdout"
        },
        {
          "output_type": "stream",
          "text": [
            "100%|██████████| 117/117 [00:02<00:00, 48.85it/s]\n",
            "100%|██████████| 13/13 [00:00<00:00, 32.10it/s]\n",
            "  0%|          | 0/117 [00:00<?, ?it/s]"
          ],
          "name": "stderr"
        },
        {
          "output_type": "stream",
          "text": [
            "[('gc27',\n",
            "  '```````````````x`````c```````6`````````````8```````````````````````````````'),\n",
            " ('pe4x',\n",
            "  '````````````````22`n`````````f`````````2```````````````````````````````````'),\n",
            " ('cdmn',\n",
            "  '`````````````````4``e```````n````````````7`````````````````````````````````'),\n",
            " ('5mff',\n",
            "  '```````````````x``````````g```c``````````x`````````````````````````````````')]\n",
            "EPOCH:72, train_loss=0.3400428295135498, valid_loss=0.39214378595352173\n"
          ],
          "name": "stdout"
        },
        {
          "output_type": "stream",
          "text": [
            "100%|██████████| 117/117 [00:02<00:00, 49.26it/s]\n",
            "100%|██████████| 13/13 [00:00<00:00, 32.25it/s]\n",
            "  0%|          | 0/117 [00:00<?, ?it/s]"
          ],
          "name": "stderr"
        },
        {
          "output_type": "stream",
          "text": [
            "[('gc27',\n",
            "  '```````````````x`````c```````6`````````````8```````````````````````````````'),\n",
            " ('pe4x',\n",
            "  '````````````````22`n`````````f`````````2``6````````````````````````````````'),\n",
            " ('cdmn',\n",
            "  '`````````````````4``e```````n````````````7`````````````````````````````````'),\n",
            " ('5mff',\n",
            "  '```````````````x``````````g```c``````````x`````````````````````````````````')]\n",
            "EPOCH:73, train_loss=0.3180444538593292, valid_loss=0.3738512694835663\n"
          ],
          "name": "stdout"
        },
        {
          "output_type": "stream",
          "text": [
            "100%|██████████| 117/117 [00:02<00:00, 48.25it/s]\n",
            "100%|██████████| 13/13 [00:00<00:00, 29.67it/s]\n",
            "  0%|          | 0/117 [00:00<?, ?it/s]"
          ],
          "name": "stderr"
        },
        {
          "output_type": "stream",
          "text": [
            "[('gc27',\n",
            "  '```````````````x`````c```````6````````````88```````````````````````````````'),\n",
            " ('pe4x',\n",
            "  '````````````````22`n`````````f`````````2```````````````````````````````````'),\n",
            " ('cdmn',\n",
            "  '`````````````````4``e```````n````````````7`````````````````````````````````'),\n",
            " ('5mff',\n",
            "  '```````````````x``````````g```c``````````x`````````````````````````````````')]\n",
            "EPOCH:74, train_loss=0.29547441005706787, valid_loss=0.44093427062034607\n"
          ],
          "name": "stdout"
        },
        {
          "output_type": "stream",
          "text": [
            "100%|██████████| 117/117 [00:02<00:00, 47.82it/s]\n",
            "100%|██████████| 13/13 [00:00<00:00, 31.38it/s]\n",
            "  0%|          | 0/117 [00:00<?, ?it/s]"
          ],
          "name": "stderr"
        },
        {
          "output_type": "stream",
          "text": [
            "[('gc27',\n",
            "  '```````````````x`````c```````6`````````````8```````````````````````````````'),\n",
            " ('pe4x',\n",
            "  '````````````````2``n`````````f`````````2```````````````````````````````````'),\n",
            " ('cdmn',\n",
            "  '`````````````````4``e```````n````````````7`````````````````````````````````'),\n",
            " ('5mff',\n",
            "  '```````````````x``````````g```c``````````x`````````````````````````````````')]\n",
            "EPOCH:75, train_loss=0.295564204454422, valid_loss=0.49461811780929565\n"
          ],
          "name": "stdout"
        },
        {
          "output_type": "stream",
          "text": [
            "100%|██████████| 117/117 [00:02<00:00, 49.62it/s]\n",
            "100%|██████████| 13/13 [00:00<00:00, 31.13it/s]\n",
            "  0%|          | 0/117 [00:00<?, ?it/s]"
          ],
          "name": "stderr"
        },
        {
          "output_type": "stream",
          "text": [
            "[('gc27',\n",
            "  '```````````````x`````c```````6`````````````8```````````````````````````````'),\n",
            " ('pe4x',\n",
            "  '````````````````22`n`````````f`````````2``6````````````````````````````````'),\n",
            " ('cdmn',\n",
            "  '`````````````````4``e```````n````````````7`````````````````````````````````'),\n",
            " ('5mff',\n",
            "  '```````````````x`````c````g```c``````````x``````y``````````````````````````')]\n",
            "EPOCH:76, train_loss=0.2807520925998688, valid_loss=0.4038727581501007\n"
          ],
          "name": "stdout"
        },
        {
          "output_type": "stream",
          "text": [
            "100%|██████████| 117/117 [00:02<00:00, 49.65it/s]\n",
            "100%|██████████| 13/13 [00:00<00:00, 30.34it/s]\n",
            "  0%|          | 0/117 [00:00<?, ?it/s]"
          ],
          "name": "stderr"
        },
        {
          "output_type": "stream",
          "text": [
            "[('gc27',\n",
            "  '```````````````x`````c```````6`````````````8```````````````````````````````'),\n",
            " ('pe4x',\n",
            "  '````````````````22`n`````````f`````````2```````````````````````````````````'),\n",
            " ('cdmn',\n",
            "  '`````````````````4``e```````n````````````7`````````````````````````````````'),\n",
            " ('5mff',\n",
            "  '```````````````x``````````g```c`````````xx`````````````````````````````````')]\n",
            "EPOCH:77, train_loss=0.2619994878768921, valid_loss=0.3830658197402954\n"
          ],
          "name": "stdout"
        },
        {
          "output_type": "stream",
          "text": [
            "100%|██████████| 117/117 [00:02<00:00, 48.40it/s]\n",
            "100%|██████████| 13/13 [00:00<00:00, 30.43it/s]\n",
            "  0%|          | 0/117 [00:00<?, ?it/s]"
          ],
          "name": "stderr"
        },
        {
          "output_type": "stream",
          "text": [
            "[('gc27',\n",
            "  '```````````````x`````c```````6`````````````8```````````````````````````````'),\n",
            " ('pe4x',\n",
            "  '````````````````22`n`````````f`````````2```````````````````````````````````'),\n",
            " ('cdmn',\n",
            "  '`````````````````4``e```````n````````````7`````````````````````````````````'),\n",
            " ('5mff',\n",
            "  '```````````````x`````c````g```c`````````xx`````````````````````````````````')]\n",
            "EPOCH:78, train_loss=0.29891929030418396, valid_loss=0.3944419026374817\n"
          ],
          "name": "stdout"
        },
        {
          "output_type": "stream",
          "text": [
            "100%|██████████| 117/117 [00:02<00:00, 48.59it/s]\n",
            "100%|██████████| 13/13 [00:00<00:00, 29.59it/s]\n",
            "  0%|          | 0/117 [00:00<?, ?it/s]"
          ],
          "name": "stderr"
        },
        {
          "output_type": "stream",
          "text": [
            "[('gc27',\n",
            "  '```````````````x`````c```````6`````````````8```````````````````````````````'),\n",
            " ('pe4x',\n",
            "  '````````````````22`n`````````f`````````2```````````````````````````````````'),\n",
            " ('cdmn',\n",
            "  '`````````````````4``e```````n````````````7`````````````````````````````````'),\n",
            " ('5mff',\n",
            "  '``````````````````````````g```c``````````x`````````````````````````````````')]\n",
            "EPOCH:79, train_loss=0.27802160382270813, valid_loss=0.33921077847480774\n"
          ],
          "name": "stdout"
        },
        {
          "output_type": "stream",
          "text": [
            "100%|██████████| 117/117 [00:02<00:00, 46.07it/s]\n",
            "100%|██████████| 13/13 [00:00<00:00, 31.02it/s]\n",
            "  0%|          | 0/117 [00:00<?, ?it/s]"
          ],
          "name": "stderr"
        },
        {
          "output_type": "stream",
          "text": [
            "[('gc27',\n",
            "  '```````````````x`````c```````6`````````````8```````````````````````````````'),\n",
            " ('pe4x',\n",
            "  '````````````````22`n`````````f`````````2```````````````````````````````````'),\n",
            " ('cdmn',\n",
            "  '`````````````````4``e```````n````````````7`````````````````````````````````'),\n",
            " ('5mff',\n",
            "  '```````````````x``````````g```c``````````x`````````````````````````````````')]\n",
            "EPOCH:80, train_loss=0.2528435289859772, valid_loss=0.41056063771247864\n"
          ],
          "name": "stdout"
        },
        {
          "output_type": "stream",
          "text": [
            "100%|██████████| 117/117 [00:02<00:00, 48.84it/s]\n",
            "100%|██████████| 13/13 [00:00<00:00, 30.55it/s]\n",
            "  0%|          | 0/117 [00:00<?, ?it/s]"
          ],
          "name": "stderr"
        },
        {
          "output_type": "stream",
          "text": [
            "[('gc27',\n",
            "  '```````````````x`````c```````6`````````````8```````````````````````````````'),\n",
            " ('pe4x',\n",
            "  '````````````````22`n`````````f`````````2``6````````````````````````````````'),\n",
            " ('cdmn',\n",
            "  '`````````````````4``e```````n````````````7`````````````````````````````````'),\n",
            " ('5mff',\n",
            "  '```````````````x`````c````g```c``````````x`````````````````````````````````')]\n",
            "EPOCH:81, train_loss=0.2432023137807846, valid_loss=0.4988079369068146\n"
          ],
          "name": "stdout"
        },
        {
          "output_type": "stream",
          "text": [
            "100%|██████████| 117/117 [00:02<00:00, 48.31it/s]\n",
            "100%|██████████| 13/13 [00:00<00:00, 32.29it/s]\n",
            "  0%|          | 0/117 [00:00<?, ?it/s]"
          ],
          "name": "stderr"
        },
        {
          "output_type": "stream",
          "text": [
            "[('gc27',\n",
            "  '```````````````x`````c```````6````````````88```````````````````````````````'),\n",
            " ('pe4x',\n",
            "  '````````````````22`n`````````f`````````2``6````````````````````````````````'),\n",
            " ('cdmn',\n",
            "  '`````````````````4``e```````n````````````7`````````````````````````````````'),\n",
            " ('5mff',\n",
            "  '```````````````x`````c````g```c`````````xx``````y``````````````````````````')]\n",
            "EPOCH:82, train_loss=0.24210454523563385, valid_loss=0.5204741358757019\n"
          ],
          "name": "stdout"
        },
        {
          "output_type": "stream",
          "text": [
            "100%|██████████| 117/117 [00:02<00:00, 47.09it/s]\n",
            "100%|██████████| 13/13 [00:00<00:00, 32.80it/s]\n",
            "  0%|          | 0/117 [00:00<?, ?it/s]"
          ],
          "name": "stderr"
        },
        {
          "output_type": "stream",
          "text": [
            "[('gc27',\n",
            "  '```````````````x`````c```````6`````````````8```````````````````````````````'),\n",
            " ('pe4x',\n",
            "  '````````````````22`n`````````f`````````2```````````````````````````````````'),\n",
            " ('cdmn',\n",
            "  '`````````````````4``e```````n````````````7`````````````````````````````````'),\n",
            " ('5mff',\n",
            "  '```````````````x``````````g```c`````````xx`````````````````````````````````')]\n",
            "EPOCH:83, train_loss=0.28621646761894226, valid_loss=0.3998779356479645\n"
          ],
          "name": "stdout"
        },
        {
          "output_type": "stream",
          "text": [
            "100%|██████████| 117/117 [00:02<00:00, 48.14it/s]\n",
            "100%|██████████| 13/13 [00:00<00:00, 31.56it/s]\n",
            "  0%|          | 0/117 [00:00<?, ?it/s]"
          ],
          "name": "stderr"
        },
        {
          "output_type": "stream",
          "text": [
            "[('gc27',\n",
            "  '```````````````x`````c```````6`````````````8```````````````````````````````'),\n",
            " ('pe4x',\n",
            "  '````````````````22`n`````````f`````````2```````````````````````````````````'),\n",
            " ('cdmn',\n",
            "  '`````````````````4``e```````n````````````7`````````````````````````````````'),\n",
            " ('5mff',\n",
            "  '``````````````````````````g```c``````````x`````````````````````````````````')]\n",
            "EPOCH:84, train_loss=0.21942515671253204, valid_loss=0.4143872857093811\n"
          ],
          "name": "stdout"
        },
        {
          "output_type": "stream",
          "text": [
            "100%|██████████| 117/117 [00:02<00:00, 49.48it/s]\n",
            "100%|██████████| 13/13 [00:00<00:00, 31.24it/s]\n",
            "  0%|          | 0/117 [00:00<?, ?it/s]"
          ],
          "name": "stderr"
        },
        {
          "output_type": "stream",
          "text": [
            "[('gc27',\n",
            "  '```````````````x`````c```````6`````````````8```````````````````````````````'),\n",
            " ('pe4x',\n",
            "  '````````````````22`n`````````f`````````2``6````````````````````````````````'),\n",
            " ('cdmn',\n",
            "  '`````````````````4``e```````n````````````7`````````````````````````````````'),\n",
            " ('5mff',\n",
            "  '```````````````x`````c````g```c`````````xx`````````````````````````````````')]\n",
            "EPOCH:85, train_loss=0.23114104568958282, valid_loss=0.4302595853805542\n"
          ],
          "name": "stdout"
        },
        {
          "output_type": "stream",
          "text": [
            "100%|██████████| 117/117 [00:02<00:00, 48.65it/s]\n",
            "100%|██████████| 13/13 [00:00<00:00, 31.52it/s]\n",
            "  0%|          | 0/117 [00:00<?, ?it/s]"
          ],
          "name": "stderr"
        },
        {
          "output_type": "stream",
          "text": [
            "[('gc27',\n",
            "  '```````````````x`````c```````6`````````````8```````````````````````````````'),\n",
            " ('pe4x',\n",
            "  '````````````````22`n`````````f`````````2``6````````````````````````````````'),\n",
            " ('cdmn',\n",
            "  '`````````````````4``e```````n````````````7`````````````````````````````````'),\n",
            " ('5mff',\n",
            "  '```````````````x`````c````g```c``````````x``````y``````````````````````````')]\n",
            "EPOCH:86, train_loss=0.21289239823818207, valid_loss=0.4286303222179413\n"
          ],
          "name": "stdout"
        },
        {
          "output_type": "stream",
          "text": [
            "100%|██████████| 117/117 [00:02<00:00, 48.38it/s]\n",
            "100%|██████████| 13/13 [00:00<00:00, 31.44it/s]\n",
            "  0%|          | 0/117 [00:00<?, ?it/s]"
          ],
          "name": "stderr"
        },
        {
          "output_type": "stream",
          "text": [
            "[('gc27',\n",
            "  '```````````````x`````c```````6`````````````8```````````````````````````````'),\n",
            " ('pe4x',\n",
            "  '````````````````22`n`````````f`````````2```````````````````````````````````'),\n",
            " ('cdmn',\n",
            "  '`````````````````4``e```````n````````````7`````````````````````````````````'),\n",
            " ('5mff',\n",
            "  '```````````````x`````c````g```c``````````x`````````````````````````````````')]\n",
            "EPOCH:87, train_loss=0.22387583553791046, valid_loss=0.4681898057460785\n"
          ],
          "name": "stdout"
        },
        {
          "output_type": "stream",
          "text": [
            "100%|██████████| 117/117 [00:02<00:00, 47.55it/s]\n",
            "100%|██████████| 13/13 [00:00<00:00, 28.98it/s]\n",
            "  0%|          | 0/117 [00:00<?, ?it/s]"
          ],
          "name": "stderr"
        },
        {
          "output_type": "stream",
          "text": [
            "[('gc27',\n",
            "  '```````````````x`````c```````6`````````````8```````````````````````````````'),\n",
            " ('pe4x',\n",
            "  '````````````````2``n`````````f`````````2``6````````````````````````````````'),\n",
            " ('cdmn',\n",
            "  '`````````````````4``e```````n````````````7`````````````````````````````````'),\n",
            " ('5mff',\n",
            "  '```````````````x``````````g```c``````````x`````````````````````````````````')]\n",
            "EPOCH:88, train_loss=0.2158789485692978, valid_loss=0.4776562452316284\n"
          ],
          "name": "stdout"
        },
        {
          "output_type": "stream",
          "text": [
            "100%|██████████| 117/117 [00:02<00:00, 48.71it/s]\n",
            "100%|██████████| 13/13 [00:00<00:00, 30.93it/s]\n",
            "  0%|          | 0/117 [00:00<?, ?it/s]"
          ],
          "name": "stderr"
        },
        {
          "output_type": "stream",
          "text": [
            "[('gc27',\n",
            "  '```````````````x`````c```````6`````````````8```````````````````````````````'),\n",
            " ('pe4x',\n",
            "  '````````````````22`n`````````f`````````2```````````````````````````````````'),\n",
            " ('cdmn',\n",
            "  '`````````````````4``e```````n````````````7`````````````````````````````````'),\n",
            " ('5mff',\n",
            "  '```````````````x`````c````g```c``````````x`````````````````````````````````')]\n",
            "EPOCH:89, train_loss=0.20205587148666382, valid_loss=0.4016698896884918\n"
          ],
          "name": "stdout"
        },
        {
          "output_type": "stream",
          "text": [
            "100%|██████████| 117/117 [00:02<00:00, 49.24it/s]\n",
            "100%|██████████| 13/13 [00:00<00:00, 30.51it/s]\n",
            "  0%|          | 0/117 [00:00<?, ?it/s]"
          ],
          "name": "stderr"
        },
        {
          "output_type": "stream",
          "text": [
            "[('gc27',\n",
            "  '```````````````x`````c```````6`````````````8```````````````````````````````'),\n",
            " ('pe4x',\n",
            "  '````````````````22`n`````````f`````````2``6````````````````````````````````'),\n",
            " ('cdmn',\n",
            "  '`````````````````4``e```````n````````````7`````````````````````````````````'),\n",
            " ('5mff',\n",
            "  '``````````````````````````g```c``````````x`````````````````````````````````')]\n",
            "EPOCH:90, train_loss=0.2088058888912201, valid_loss=0.4005286395549774\n"
          ],
          "name": "stdout"
        },
        {
          "output_type": "stream",
          "text": [
            "100%|██████████| 117/117 [00:02<00:00, 46.21it/s]\n",
            "100%|██████████| 13/13 [00:00<00:00, 30.15it/s]\n",
            "  0%|          | 0/117 [00:00<?, ?it/s]"
          ],
          "name": "stderr"
        },
        {
          "output_type": "stream",
          "text": [
            "[('gc27',\n",
            "  '```````````````x`````c```````6`````````````8```````````````````````````````'),\n",
            " ('pe4x',\n",
            "  '````````````````22`n`````````f`````````2```````````````````````````````````'),\n",
            " ('cdmn',\n",
            "  '`````````````````4``e```````n````````````7`````````````````````````````````'),\n",
            " ('5mff',\n",
            "  '``````````````````````````g```c``````````x`````````````````````````````````')]\n",
            "EPOCH:91, train_loss=0.20611388981342316, valid_loss=0.4456869661808014\n"
          ],
          "name": "stdout"
        },
        {
          "output_type": "stream",
          "text": [
            "100%|██████████| 117/117 [00:02<00:00, 49.47it/s]\n",
            "100%|██████████| 13/13 [00:00<00:00, 31.52it/s]\n",
            "  0%|          | 0/117 [00:00<?, ?it/s]"
          ],
          "name": "stderr"
        },
        {
          "output_type": "stream",
          "text": [
            "[('gc27',\n",
            "  '```````````````x`````c```````6`````````````8```````````````````````````````'),\n",
            " ('pe4x',\n",
            "  '````````````````22`n`````````f`````````2``6````````````````````````````````'),\n",
            " ('cdmn',\n",
            "  '`````````````````4``e```````n````````````7`````````````````````````````````'),\n",
            " ('5mff',\n",
            "  '```````````````x`````c````g```c``````````x`````````````````````````````````')]\n",
            "EPOCH:92, train_loss=0.1802796870470047, valid_loss=0.44135892391204834\n"
          ],
          "name": "stdout"
        },
        {
          "output_type": "stream",
          "text": [
            "100%|██████████| 117/117 [00:02<00:00, 49.92it/s]\n",
            "100%|██████████| 13/13 [00:00<00:00, 31.64it/s]\n",
            "  0%|          | 0/117 [00:00<?, ?it/s]"
          ],
          "name": "stderr"
        },
        {
          "output_type": "stream",
          "text": [
            "[('gc27',\n",
            "  '```````````````x`````c```````6`````````````8```````````````````````````````'),\n",
            " ('pe4x',\n",
            "  '````````````````22`n`````````f`````````2```````````````````````````````````'),\n",
            " ('cdmn',\n",
            "  '`````````````````4``e```````n````````````7`````````````````````````````````'),\n",
            " ('5mff',\n",
            "  '```````````````x`````c````g```c``````````x`````````````````````````````````')]\n",
            "EPOCH:93, train_loss=0.1902761310338974, valid_loss=0.36539721488952637\n"
          ],
          "name": "stdout"
        },
        {
          "output_type": "stream",
          "text": [
            "100%|██████████| 117/117 [00:02<00:00, 45.92it/s]\n",
            "100%|██████████| 13/13 [00:00<00:00, 31.06it/s]\n",
            "  0%|          | 0/117 [00:00<?, ?it/s]"
          ],
          "name": "stderr"
        },
        {
          "output_type": "stream",
          "text": [
            "[('gc27',\n",
            "  '```````````````x`````c```````6`````````````8```````````````````````````````'),\n",
            " ('pe4x',\n",
            "  '````````````````22`n`````````f`````````2```````````````````````````````````'),\n",
            " ('cdmn',\n",
            "  '`````````````````4``e```````n````````````7`````````````````````````````````'),\n",
            " ('5mff',\n",
            "  '```````````````x``````````g```c``````````x``````y``````````````````````````')]\n",
            "EPOCH:94, train_loss=0.18916864693164825, valid_loss=0.42229342460632324\n"
          ],
          "name": "stdout"
        },
        {
          "output_type": "stream",
          "text": [
            "100%|██████████| 117/117 [00:02<00:00, 47.98it/s]\n",
            "100%|██████████| 13/13 [00:00<00:00, 29.96it/s]\n",
            "  0%|          | 0/117 [00:00<?, ?it/s]"
          ],
          "name": "stderr"
        },
        {
          "output_type": "stream",
          "text": [
            "[('gc27',\n",
            "  '```````````````x`````c```````6`````````````8```````````````````````````````'),\n",
            " ('pe4x',\n",
            "  '````````````````22`n`````````f`````````2``6````````````````````````````````'),\n",
            " ('cdmn',\n",
            "  '`````````````````4``e```````n````````````7`````````````````````````````````'),\n",
            " ('5mff',\n",
            "  '```````````````x`````c````g```c``````````x``````y``````````````````````````')]\n",
            "EPOCH:95, train_loss=0.18448716402053833, valid_loss=0.4689757525920868\n"
          ],
          "name": "stdout"
        },
        {
          "output_type": "stream",
          "text": [
            "100%|██████████| 117/117 [00:02<00:00, 48.98it/s]\n",
            "100%|██████████| 13/13 [00:00<00:00, 30.69it/s]\n",
            "  0%|          | 0/117 [00:00<?, ?it/s]"
          ],
          "name": "stderr"
        },
        {
          "output_type": "stream",
          "text": [
            "[('gc27',\n",
            "  '```````````````x`````c```````6`````````````8```````````````````````````````'),\n",
            " ('pe4x',\n",
            "  '````````````````22`n`````````f`````````2``6````````````````````````````````'),\n",
            " ('cdmn',\n",
            "  '`````````````````4``e```````n````````````7`````````````````````````````````'),\n",
            " ('5mff',\n",
            "  '```````````````x`````c````g```c``````````x`````````````````````````````````')]\n",
            "EPOCH:96, train_loss=0.19809111952781677, valid_loss=0.4064314067363739\n"
          ],
          "name": "stdout"
        },
        {
          "output_type": "stream",
          "text": [
            "100%|██████████| 117/117 [00:02<00:00, 49.34it/s]\n",
            "100%|██████████| 13/13 [00:00<00:00, 31.60it/s]\n",
            "  0%|          | 0/117 [00:00<?, ?it/s]"
          ],
          "name": "stderr"
        },
        {
          "output_type": "stream",
          "text": [
            "[('gc27',\n",
            "  '```````````````x`````c```````6`````````````8```````````````````````````````'),\n",
            " ('pe4x',\n",
            "  '````````````````22`n`````````f`````````2``6````````````````````````````````'),\n",
            " ('cdmn',\n",
            "  '`````````````````4``e```````n````````````7`````````````````````````````````'),\n",
            " ('5mff',\n",
            "  '```````````````x`````c````g```c`````````xx`````````````````````````````````')]\n",
            "EPOCH:97, train_loss=0.20208849012851715, valid_loss=0.43293023109436035\n"
          ],
          "name": "stdout"
        },
        {
          "output_type": "stream",
          "text": [
            "100%|██████████| 117/117 [00:02<00:00, 47.54it/s]\n",
            "100%|██████████| 13/13 [00:00<00:00, 31.99it/s]\n",
            "  0%|          | 0/117 [00:00<?, ?it/s]"
          ],
          "name": "stderr"
        },
        {
          "output_type": "stream",
          "text": [
            "[('gc27',\n",
            "  '```````````````x`````c```````6`````````````8```````````````````````````````'),\n",
            " ('pe4x',\n",
            "  '````````````````22`n`````````f`````````2``6````````````````````````````````'),\n",
            " ('cdmn',\n",
            "  '`````````````````4``e```````n````````````7`````````````````````````````````'),\n",
            " ('5mff',\n",
            "  '```````````````x`````c````g```c``````````x`````````````````````````````````')]\n",
            "EPOCH:98, train_loss=0.16609424352645874, valid_loss=0.40382423996925354\n"
          ],
          "name": "stdout"
        },
        {
          "output_type": "stream",
          "text": [
            "100%|██████████| 117/117 [00:02<00:00, 46.85it/s]\n",
            "100%|██████████| 13/13 [00:00<00:00, 29.69it/s]\n",
            "  0%|          | 0/117 [00:00<?, ?it/s]"
          ],
          "name": "stderr"
        },
        {
          "output_type": "stream",
          "text": [
            "[('gc27',\n",
            "  '```````````````x`````c```````6`````````````8```````````````````````````````'),\n",
            " ('pe4x',\n",
            "  '````````````````22`n`````````f`````````2```````````````````````````````````'),\n",
            " ('cdmn',\n",
            "  '`````````````````4``e```````n````````````7`````````````````````````````````'),\n",
            " ('5mff',\n",
            "  '```````````````x`````c````g```c``````````x`````````````````````````````````')]\n",
            "EPOCH:99, train_loss=0.16950930655002594, valid_loss=0.36103448271751404\n"
          ],
          "name": "stdout"
        },
        {
          "output_type": "stream",
          "text": [
            "100%|██████████| 117/117 [00:02<00:00, 48.49it/s]\n",
            "100%|██████████| 13/13 [00:00<00:00, 29.49it/s]\n",
            "  0%|          | 0/117 [00:00<?, ?it/s]"
          ],
          "name": "stderr"
        },
        {
          "output_type": "stream",
          "text": [
            "[('gc27',\n",
            "  '```````````````x`````c```````6`````````````8```````````````````````````````'),\n",
            " ('pe4x',\n",
            "  '````````````````22`n`````````f`````````2``6````````````````````````````````'),\n",
            " ('cdmn',\n",
            "  '`````````````````4``e```````n````````````7`````````````````````````````````'),\n",
            " ('5mff',\n",
            "  '```````````````x`````c````g```c`````````xx``````y``````````````````````````')]\n",
            "EPOCH:100, train_loss=0.17904937267303467, valid_loss=0.4389456510543823\n"
          ],
          "name": "stdout"
        },
        {
          "output_type": "stream",
          "text": [
            "100%|██████████| 117/117 [00:02<00:00, 48.71it/s]\n",
            "100%|██████████| 13/13 [00:00<00:00, 31.74it/s]\n",
            "  0%|          | 0/117 [00:00<?, ?it/s]"
          ],
          "name": "stderr"
        },
        {
          "output_type": "stream",
          "text": [
            "[('gc27',\n",
            "  '```````````````x`````c```````6`````````````8```````````````````````````````'),\n",
            " ('pe4x',\n",
            "  '````````````````22`n`````````f`````````2``6````````````````````````````````'),\n",
            " ('cdmn',\n",
            "  '`````````````````4``e```````n````````````7`````````````````````````````````'),\n",
            " ('5mff',\n",
            "  '```````````````x``````````g``````````````x`````````````````````````````````')]\n",
            "EPOCH:101, train_loss=0.18333223462104797, valid_loss=0.439334899187088\n"
          ],
          "name": "stdout"
        },
        {
          "output_type": "stream",
          "text": [
            "100%|██████████| 117/117 [00:02<00:00, 48.92it/s]\n",
            "100%|██████████| 13/13 [00:00<00:00, 30.26it/s]\n",
            "  0%|          | 0/117 [00:00<?, ?it/s]"
          ],
          "name": "stderr"
        },
        {
          "output_type": "stream",
          "text": [
            "[('gc27',\n",
            "  '```````````````x`````c```````6`````````````8```````````````````````````````'),\n",
            " ('pe4x',\n",
            "  '````````````````22`n`````````f`````````2``6````````````````````````````````'),\n",
            " ('cdmn',\n",
            "  '`````````````````4``e```````n````````````7`````````````````````````````````'),\n",
            " ('5mff',\n",
            "  '```````````````x`````c````g```c``````````x``````y``````````````````````````')]\n",
            "EPOCH:102, train_loss=0.17408917844295502, valid_loss=0.41335606575012207\n"
          ],
          "name": "stdout"
        },
        {
          "output_type": "stream",
          "text": [
            "100%|██████████| 117/117 [00:02<00:00, 49.39it/s]\n",
            "100%|██████████| 13/13 [00:00<00:00, 30.61it/s]\n",
            "  0%|          | 0/117 [00:00<?, ?it/s]"
          ],
          "name": "stderr"
        },
        {
          "output_type": "stream",
          "text": [
            "[('gc27',\n",
            "  '```````````````x`````c```````6`````````````8```````````````````````````````'),\n",
            " ('pe4x',\n",
            "  '````````````````2``n`````````f`````````2``6````````````````````````````````'),\n",
            " ('cdmn',\n",
            "  '`````````````````4``e```````n````````````7`````````````````````````````````'),\n",
            " ('5mff',\n",
            "  '```````````````x`````c````g```c``````````x`````````````````````````````````')]\n",
            "EPOCH:103, train_loss=0.1798543781042099, valid_loss=0.4020531475543976\n"
          ],
          "name": "stdout"
        },
        {
          "output_type": "stream",
          "text": [
            "100%|██████████| 117/117 [00:02<00:00, 49.90it/s]\n",
            "100%|██████████| 13/13 [00:00<00:00, 30.89it/s]\n",
            "  0%|          | 0/117 [00:00<?, ?it/s]"
          ],
          "name": "stderr"
        },
        {
          "output_type": "stream",
          "text": [
            "[('gc27',\n",
            "  '```````````````x`````c```````6````````````88```````````````````````````````'),\n",
            " ('pe4x',\n",
            "  '````````````````22`n`````````f`````````2``6````````````````````````````````'),\n",
            " ('cdmn',\n",
            "  '`````````````````4``e```````n````````````7`````````````````````````````````'),\n",
            " ('5mff',\n",
            "  '```````````````x``````````g```c`````````xx`````````````````````````````````')]\n",
            "EPOCH:104, train_loss=0.14513902366161346, valid_loss=0.5679994821548462\n"
          ],
          "name": "stdout"
        },
        {
          "output_type": "stream",
          "text": [
            "100%|██████████| 117/117 [00:02<00:00, 49.59it/s]\n",
            "100%|██████████| 13/13 [00:00<00:00, 31.27it/s]\n",
            "  0%|          | 0/117 [00:00<?, ?it/s]"
          ],
          "name": "stderr"
        },
        {
          "output_type": "stream",
          "text": [
            "[('gc27',\n",
            "  '```````````````x`````c```````6`````````````8```````````````````````````````'),\n",
            " ('pe4x',\n",
            "  '````````````````2``n`````````f`````````2``6````````````````````````````````'),\n",
            " ('cdmn',\n",
            "  '`````````````````4``e```````n````````````7`````````````````````````````````'),\n",
            " ('5mff',\n",
            "  '```````````````x`````c````g```c`````````xx`````````````````````````````````')]\n",
            "EPOCH:105, train_loss=0.156863734126091, valid_loss=0.42987361550331116\n"
          ],
          "name": "stdout"
        },
        {
          "output_type": "stream",
          "text": [
            "100%|██████████| 117/117 [00:02<00:00, 49.28it/s]\n",
            "100%|██████████| 13/13 [00:00<00:00, 30.68it/s]\n",
            "  0%|          | 0/117 [00:00<?, ?it/s]"
          ],
          "name": "stderr"
        },
        {
          "output_type": "stream",
          "text": [
            "[('gc27',\n",
            "  '```````````````x`````c```````6`````````````8```````````````````````````````'),\n",
            " ('pe4x',\n",
            "  '````````````````22`n`````````f`````````2``6````````````````````````````````'),\n",
            " ('cdmn',\n",
            "  '`````````````````4``e```````n````````````7`````````````````````````````````'),\n",
            " ('5mff',\n",
            "  '```````````````x`````c````g```c`````````xx`````````````````````````````````')]\n",
            "EPOCH:106, train_loss=0.15005965530872345, valid_loss=0.481844961643219\n"
          ],
          "name": "stdout"
        },
        {
          "output_type": "stream",
          "text": [
            "100%|██████████| 117/117 [00:02<00:00, 48.49it/s]\n",
            "100%|██████████| 13/13 [00:00<00:00, 30.33it/s]\n",
            "  0%|          | 0/117 [00:00<?, ?it/s]"
          ],
          "name": "stderr"
        },
        {
          "output_type": "stream",
          "text": [
            "[('gc27',\n",
            "  '```````````````x`````c```````6`````````````8```````````````````````````````'),\n",
            " ('pe4x',\n",
            "  '````````````````22`n`````````f`````````2```````````````````````````````````'),\n",
            " ('cdmn',\n",
            "  '`````````````````4``e```````n````````````7`````````````````````````````````'),\n",
            " ('5mff',\n",
            "  '```````````````x``````````g`````````````xx`````````````````````````````````')]\n",
            "EPOCH:107, train_loss=0.14750806987285614, valid_loss=0.39411693811416626\n"
          ],
          "name": "stdout"
        },
        {
          "output_type": "stream",
          "text": [
            "100%|██████████| 117/117 [00:02<00:00, 48.67it/s]\n",
            "100%|██████████| 13/13 [00:00<00:00, 32.19it/s]\n",
            "  0%|          | 0/117 [00:00<?, ?it/s]"
          ],
          "name": "stderr"
        },
        {
          "output_type": "stream",
          "text": [
            "[('gc27',\n",
            "  '```````````````x`````c```````6````````````38```````````````````````````````'),\n",
            " ('pe4x',\n",
            "  '````````````````22`n`````````f`````````2``6````````````````````````````````'),\n",
            " ('cdmn',\n",
            "  '`````````````````4``e```````n````````````7`````````````````````````````````'),\n",
            " ('5mff',\n",
            "  '```````````````x`````c````g```c`````````xx``````y``````````````````````````')]\n",
            "EPOCH:108, train_loss=0.15310026705265045, valid_loss=0.46107685565948486\n"
          ],
          "name": "stdout"
        },
        {
          "output_type": "stream",
          "text": [
            "100%|██████████| 117/117 [00:02<00:00, 48.49it/s]\n",
            "100%|██████████| 13/13 [00:00<00:00, 30.92it/s]\n",
            "  0%|          | 0/117 [00:00<?, ?it/s]"
          ],
          "name": "stderr"
        },
        {
          "output_type": "stream",
          "text": [
            "[('gc27',\n",
            "  '```````````````x`````c```````6`````````````8```````````````````````````````'),\n",
            " ('pe4x',\n",
            "  '````````````````22`n`````````f`````````2``6````````````````````````````````'),\n",
            " ('cdmn',\n",
            "  '`````````````````4``e```````n````````````7`````````````````````````````````'),\n",
            " ('5mff',\n",
            "  '```````````````x``````````g`````````````xx`````````````````````````````````')]\n",
            "EPOCH:109, train_loss=0.17280463874340057, valid_loss=0.4182700216770172\n"
          ],
          "name": "stdout"
        },
        {
          "output_type": "stream",
          "text": [
            "100%|██████████| 117/117 [00:02<00:00, 48.88it/s]\n",
            "100%|██████████| 13/13 [00:00<00:00, 29.89it/s]\n",
            "  0%|          | 0/117 [00:00<?, ?it/s]"
          ],
          "name": "stderr"
        },
        {
          "output_type": "stream",
          "text": [
            "[('gc27',\n",
            "  '```````````````x`````c```````6`````````````8```````````````````````````````'),\n",
            " ('pe4x',\n",
            "  '````````````````22`n`````````f`````````2```````````````````````````````````'),\n",
            " ('cdmn',\n",
            "  '`````````````````4``e```````n````````````7`````````````````````````````````'),\n",
            " ('5mff',\n",
            "  '```````````````x``````````g``````````````x`````````````````````````````````')]\n",
            "EPOCH:110, train_loss=0.1420065313577652, valid_loss=0.46648290753364563\n"
          ],
          "name": "stdout"
        },
        {
          "output_type": "stream",
          "text": [
            "100%|██████████| 117/117 [00:02<00:00, 48.49it/s]\n",
            "100%|██████████| 13/13 [00:00<00:00, 30.59it/s]\n",
            "  0%|          | 0/117 [00:00<?, ?it/s]"
          ],
          "name": "stderr"
        },
        {
          "output_type": "stream",
          "text": [
            "[('gc27',\n",
            "  '```````````````x`````c```````6`````````````8```````````````````````````````'),\n",
            " ('pe4x',\n",
            "  '````````````````22`n`````````f`````````2``6````````````````````````````````'),\n",
            " ('cdmn',\n",
            "  '`````````````````4``e```````n````````````7`````````````````````````````````'),\n",
            " ('5mff',\n",
            "  '```````````````x`````g````g```c`````````xx``````y``````````````````````````')]\n",
            "EPOCH:111, train_loss=0.14087536931037903, valid_loss=0.5837300419807434\n"
          ],
          "name": "stdout"
        },
        {
          "output_type": "stream",
          "text": [
            "100%|██████████| 117/117 [00:02<00:00, 49.36it/s]\n",
            "100%|██████████| 13/13 [00:00<00:00, 29.74it/s]\n",
            "  0%|          | 0/117 [00:00<?, ?it/s]"
          ],
          "name": "stderr"
        },
        {
          "output_type": "stream",
          "text": [
            "[('gc27',\n",
            "  '```````````````x`````c```````6`````````````8```````````````````````````````'),\n",
            " ('pe4x',\n",
            "  '````````````````22`n`````````f`````````2```````````````````````````````````'),\n",
            " ('cdmn',\n",
            "  '`````````````````4``c```````n````````````7`````````````````````````````````'),\n",
            " ('5mff',\n",
            "  '```````````````x``````````g```c``````````x`````````````````````````````````')]\n",
            "EPOCH:112, train_loss=0.17235024273395538, valid_loss=0.3945634961128235\n"
          ],
          "name": "stdout"
        },
        {
          "output_type": "stream",
          "text": [
            "100%|██████████| 117/117 [00:02<00:00, 49.09it/s]\n",
            "100%|██████████| 13/13 [00:00<00:00, 31.47it/s]\n",
            "  0%|          | 0/117 [00:00<?, ?it/s]"
          ],
          "name": "stderr"
        },
        {
          "output_type": "stream",
          "text": [
            "[('gc27',\n",
            "  '```````````````x`````c```````6`````````````8```````````````````````````````'),\n",
            " ('pe4x',\n",
            "  '````````````````22`n`````````f`````````2``6````````````````````````````````'),\n",
            " ('cdmn',\n",
            "  '`````````````````4``e```````n````````````7`````````````````````````````````'),\n",
            " ('5mff',\n",
            "  '```````````````x``````````g```c``````````x`````````````````````````````````')]\n",
            "EPOCH:113, train_loss=0.1417492926120758, valid_loss=0.4547993838787079\n"
          ],
          "name": "stdout"
        },
        {
          "output_type": "stream",
          "text": [
            "100%|██████████| 117/117 [00:02<00:00, 49.28it/s]\n",
            "100%|██████████| 13/13 [00:00<00:00, 30.43it/s]\n",
            "  0%|          | 0/117 [00:00<?, ?it/s]"
          ],
          "name": "stderr"
        },
        {
          "output_type": "stream",
          "text": [
            "[('gc27',\n",
            "  '```````````````x`````c```````6`````````````8```````````````````````````````'),\n",
            " ('pe4x',\n",
            "  '````````````````22`n`````````f`````````2``6````````````````````````````````'),\n",
            " ('cdmn',\n",
            "  '`````````````````4``e```````n````````````7`````````````````````````````````'),\n",
            " ('5mff',\n",
            "  '```````````````x``````````g```c``````````x`````````````````````````````````')]\n",
            "EPOCH:114, train_loss=0.14003203809261322, valid_loss=0.41914770007133484\n"
          ],
          "name": "stdout"
        },
        {
          "output_type": "stream",
          "text": [
            "100%|██████████| 117/117 [00:02<00:00, 48.07it/s]\n",
            "100%|██████████| 13/13 [00:00<00:00, 31.25it/s]\n",
            "  0%|          | 0/117 [00:00<?, ?it/s]"
          ],
          "name": "stderr"
        },
        {
          "output_type": "stream",
          "text": [
            "[('gc27',\n",
            "  '```````````````x`````c```````6`````````````8```````````````````````````````'),\n",
            " ('pe4x',\n",
            "  '````````````````22`n`````````f`````````2``6````````````````````````````````'),\n",
            " ('cdmn',\n",
            "  '`````````````````4``e```````n````````````7`````````````````````````````````'),\n",
            " ('5mff',\n",
            "  '```````````````x``````````g```c`````````xx`````````````````````````````````')]\n",
            "EPOCH:115, train_loss=0.13845905661582947, valid_loss=0.41432052850723267\n"
          ],
          "name": "stdout"
        },
        {
          "output_type": "stream",
          "text": [
            "100%|██████████| 117/117 [00:02<00:00, 49.82it/s]\n",
            "100%|██████████| 13/13 [00:00<00:00, 31.09it/s]\n",
            "  0%|          | 0/117 [00:00<?, ?it/s]"
          ],
          "name": "stderr"
        },
        {
          "output_type": "stream",
          "text": [
            "[('gc27',\n",
            "  '```````````````x`````c```````6`````````````8```````````````````````````````'),\n",
            " ('pe4x',\n",
            "  '````````````````2``n`````````f`````````2``6````````````````````````````````'),\n",
            " ('cdmn',\n",
            "  '`````````````````4``e```````n````````````7`````````````````````````````````'),\n",
            " ('5mff',\n",
            "  '```````````````x`````c````g```c``````````x`````````````````````````````````')]\n",
            "EPOCH:116, train_loss=0.14004424214363098, valid_loss=0.453924298286438\n"
          ],
          "name": "stdout"
        },
        {
          "output_type": "stream",
          "text": [
            "100%|██████████| 117/117 [00:02<00:00, 49.96it/s]\n",
            "100%|██████████| 13/13 [00:00<00:00, 31.60it/s]\n",
            "  0%|          | 0/117 [00:00<?, ?it/s]"
          ],
          "name": "stderr"
        },
        {
          "output_type": "stream",
          "text": [
            "[('gc27',\n",
            "  '```````````````x`````c```````6`````````````8```````````````````````````````'),\n",
            " ('pe4x',\n",
            "  '````````````````22`n`````````f`````````2``6````````````````````````````````'),\n",
            " ('cdmn',\n",
            "  '`````````````````4``e```````n````````````7`````````````````````````````````'),\n",
            " ('5mff',\n",
            "  '```````````````x``````````g```c``````````x`````````````````````````````````')]\n",
            "EPOCH:117, train_loss=0.15012921392917633, valid_loss=0.4858335256576538\n"
          ],
          "name": "stdout"
        },
        {
          "output_type": "stream",
          "text": [
            "100%|██████████| 117/117 [00:02<00:00, 49.28it/s]\n",
            "100%|██████████| 13/13 [00:00<00:00, 31.13it/s]\n",
            "  0%|          | 0/117 [00:00<?, ?it/s]"
          ],
          "name": "stderr"
        },
        {
          "output_type": "stream",
          "text": [
            "[('gc27',\n",
            "  '```````````````x`````c```````6`````````````8```````````````````````````````'),\n",
            " ('pe4x',\n",
            "  '````````````````22`n`````````f`````````2``6````````````````````````````````'),\n",
            " ('cdmn',\n",
            "  '`````````````````4``e```````n````````````7`````````````````````````````````'),\n",
            " ('5mff',\n",
            "  '```````````````x`````c````g```c`````````xx``````y``````````````````````````')]\n",
            "EPOCH:118, train_loss=0.1265510618686676, valid_loss=0.3963097333908081\n"
          ],
          "name": "stdout"
        },
        {
          "output_type": "stream",
          "text": [
            "100%|██████████| 117/117 [00:02<00:00, 49.72it/s]\n",
            "100%|██████████| 13/13 [00:00<00:00, 31.56it/s]\n",
            "  0%|          | 0/117 [00:00<?, ?it/s]"
          ],
          "name": "stderr"
        },
        {
          "output_type": "stream",
          "text": [
            "[('gc27',\n",
            "  '```````````````x`````c```````6`````````````8```````````````````````````````'),\n",
            " ('pe4x',\n",
            "  '````````````````22`n`````````f`````````2``6````````````````````````````````'),\n",
            " ('cdmn',\n",
            "  '`````````````````4``e```````n````````````7`````````````````````````````````'),\n",
            " ('5mff',\n",
            "  '```````````````x`````g````g```c`````````xx``````y``````````````````````````')]\n",
            "EPOCH:119, train_loss=0.12931807339191437, valid_loss=0.46175506711006165\n"
          ],
          "name": "stdout"
        },
        {
          "output_type": "stream",
          "text": [
            "100%|██████████| 117/117 [00:02<00:00, 49.94it/s]\n",
            "100%|██████████| 13/13 [00:00<00:00, 31.07it/s]\n",
            "  0%|          | 0/117 [00:00<?, ?it/s]"
          ],
          "name": "stderr"
        },
        {
          "output_type": "stream",
          "text": [
            "[('gc27',\n",
            "  '```````````````x`````c```````6`````````````8```````````````````````````````'),\n",
            " ('pe4x',\n",
            "  '````````````````22`n`````````f`````````2```````````````````````````````````'),\n",
            " ('cdmn',\n",
            "  '`````````````````4``e```````n````````````7`````````````````````````````````'),\n",
            " ('5mff',\n",
            "  '```````````````x`````c````g```c`````````xx`````````````````````````````````')]\n",
            "EPOCH:120, train_loss=0.1198192909359932, valid_loss=0.4157300591468811\n"
          ],
          "name": "stdout"
        },
        {
          "output_type": "stream",
          "text": [
            "100%|██████████| 117/117 [00:02<00:00, 48.69it/s]\n",
            "100%|██████████| 13/13 [00:00<00:00, 29.52it/s]\n",
            "  0%|          | 0/117 [00:00<?, ?it/s]"
          ],
          "name": "stderr"
        },
        {
          "output_type": "stream",
          "text": [
            "[('gc27',\n",
            "  '```````````````x`````c```````6`````````````8```````````````````````````````'),\n",
            " ('pe4x',\n",
            "  '````````````````22`n`````````f`````````2``6````````````````````````````````'),\n",
            " ('cdmn',\n",
            "  '`````````````````4``e```````n````````````7`````````````````````````````````'),\n",
            " ('5mff',\n",
            "  '```````````````x`````g````g```c``````````x`````````````````````````````````')]\n",
            "EPOCH:121, train_loss=0.12081639468669891, valid_loss=0.46545320749282837\n"
          ],
          "name": "stdout"
        },
        {
          "output_type": "stream",
          "text": [
            "100%|██████████| 117/117 [00:02<00:00, 46.69it/s]\n",
            "100%|██████████| 13/13 [00:00<00:00, 31.84it/s]\n",
            "  0%|          | 0/117 [00:00<?, ?it/s]"
          ],
          "name": "stderr"
        },
        {
          "output_type": "stream",
          "text": [
            "[('gc27',\n",
            "  '```````````````x`````c```````6````````````38```````````````````````````````'),\n",
            " ('pe4x',\n",
            "  '````````````````22`n`````````f`````````2``6````````````````````````````````'),\n",
            " ('cdmn',\n",
            "  '`````````````````4``e```````n````````````7`````````````````````````````````'),\n",
            " ('5mff',\n",
            "  '```````````````x``````````g`````````````xx``````y``````````````````````````')]\n",
            "EPOCH:122, train_loss=0.14650842547416687, valid_loss=0.47950708866119385\n"
          ],
          "name": "stdout"
        },
        {
          "output_type": "stream",
          "text": [
            "100%|██████████| 117/117 [00:02<00:00, 49.69it/s]\n",
            "100%|██████████| 13/13 [00:00<00:00, 31.66it/s]\n",
            "  0%|          | 0/117 [00:00<?, ?it/s]"
          ],
          "name": "stderr"
        },
        {
          "output_type": "stream",
          "text": [
            "[('gc27',\n",
            "  '```````````````x`````c```````6`````````````8```````````````````````````````'),\n",
            " ('pe4x',\n",
            "  '````````````````22`n`````````f`````````2```````````````````````````````````'),\n",
            " ('cdmn',\n",
            "  '`````````````````4``e```````n````````````7`````````````````````````````````'),\n",
            " ('5mff',\n",
            "  '```````````````x``````````g``````````````x`````````````````````````````````')]\n",
            "EPOCH:123, train_loss=0.16431961953639984, valid_loss=0.48622870445251465\n"
          ],
          "name": "stdout"
        },
        {
          "output_type": "stream",
          "text": [
            "100%|██████████| 117/117 [00:02<00:00, 49.66it/s]\n",
            "100%|██████████| 13/13 [00:00<00:00, 30.85it/s]\n",
            "  0%|          | 0/117 [00:00<?, ?it/s]"
          ],
          "name": "stderr"
        },
        {
          "output_type": "stream",
          "text": [
            "[('gc27',\n",
            "  '```````````````x`````c```````6`````````````8```````````````````````````````'),\n",
            " ('pe4x',\n",
            "  '````````````````22`n`````````f`````````2``6````````````````````````````````'),\n",
            " ('cdmn',\n",
            "  '`````````````````4``c```````n````````````7`````````````````````````````````'),\n",
            " ('5mff',\n",
            "  '```````````````x`````g````g```c`````````xx``````y``````````````````````````')]\n",
            "EPOCH:124, train_loss=0.1377861499786377, valid_loss=0.4439311623573303\n"
          ],
          "name": "stdout"
        },
        {
          "output_type": "stream",
          "text": [
            "100%|██████████| 117/117 [00:02<00:00, 49.44it/s]\n",
            "100%|██████████| 13/13 [00:00<00:00, 30.32it/s]\n",
            "  0%|          | 0/117 [00:00<?, ?it/s]"
          ],
          "name": "stderr"
        },
        {
          "output_type": "stream",
          "text": [
            "[('gc27',\n",
            "  '```````````````x`````c```````6`````````````8```````````````````````````````'),\n",
            " ('pe4x',\n",
            "  '````````````````22`n`````````f`````````2``6````````````````````````````````'),\n",
            " ('cdmn',\n",
            "  '`````````````````4``e```````n````````````7`````````````````````````````````'),\n",
            " ('5mff',\n",
            "  '```````````````x`````g````g```c`````````xx``````y``````````````````````````')]\n",
            "EPOCH:125, train_loss=0.12489300966262817, valid_loss=0.4027892053127289\n"
          ],
          "name": "stdout"
        },
        {
          "output_type": "stream",
          "text": [
            "100%|██████████| 117/117 [00:02<00:00, 49.26it/s]\n",
            "100%|██████████| 13/13 [00:00<00:00, 30.61it/s]\n",
            "  0%|          | 0/117 [00:00<?, ?it/s]"
          ],
          "name": "stderr"
        },
        {
          "output_type": "stream",
          "text": [
            "[('gc27',\n",
            "  '```````````````x`````c```````6````````````88```````````````````````````````'),\n",
            " ('pe4x',\n",
            "  '````````````````22`n`````````f`````````2``6````````````````````````````````'),\n",
            " ('cdmn',\n",
            "  '`````````````````4``e```````n````````````7`````````````````````````````````'),\n",
            " ('5mff',\n",
            "  '```````````````x``````````g```c`````````xx`````````````````````````````````')]\n",
            "EPOCH:126, train_loss=0.11477094888687134, valid_loss=0.5191691517829895\n"
          ],
          "name": "stdout"
        },
        {
          "output_type": "stream",
          "text": [
            "100%|██████████| 117/117 [00:02<00:00, 49.03it/s]\n",
            "100%|██████████| 13/13 [00:00<00:00, 32.04it/s]\n",
            "  0%|          | 0/117 [00:00<?, ?it/s]"
          ],
          "name": "stderr"
        },
        {
          "output_type": "stream",
          "text": [
            "[('gc27',\n",
            "  '```````````````x`````c```````6`````````````8```````````````````````````````'),\n",
            " ('pe4x',\n",
            "  '````````````````2``n`````````f`````````2```````````````````````````````````'),\n",
            " ('cdmn',\n",
            "  '`````````````````4``e```````n````````````7`````````````````````````````````'),\n",
            " ('5mff',\n",
            "  '```````````````x``````````g```c``````````x`````````````````````````````````')]\n",
            "EPOCH:127, train_loss=0.14845214784145355, valid_loss=0.39991623163223267\n"
          ],
          "name": "stdout"
        },
        {
          "output_type": "stream",
          "text": [
            "100%|██████████| 117/117 [00:02<00:00, 48.89it/s]\n",
            "100%|██████████| 13/13 [00:00<00:00, 29.65it/s]\n",
            "  0%|          | 0/117 [00:00<?, ?it/s]"
          ],
          "name": "stderr"
        },
        {
          "output_type": "stream",
          "text": [
            "[('gc27',\n",
            "  '```````````````x`````c```````6`````````````8```````````````````````````````'),\n",
            " ('pe4x',\n",
            "  '````````````````22`n`````````f`````````2``6````````````````````````````````'),\n",
            " ('cdmn',\n",
            "  '`````````````````4``e```````n````````````7`````````````````````````````````'),\n",
            " ('5mff',\n",
            "  '```````````````x``````````g```c``````````x``````y``````````````````````````')]\n",
            "EPOCH:128, train_loss=0.1256895810365677, valid_loss=0.4352371394634247\n"
          ],
          "name": "stdout"
        },
        {
          "output_type": "stream",
          "text": [
            "100%|██████████| 117/117 [00:02<00:00, 49.07it/s]\n",
            "100%|██████████| 13/13 [00:00<00:00, 30.96it/s]\n",
            "  0%|          | 0/117 [00:00<?, ?it/s]"
          ],
          "name": "stderr"
        },
        {
          "output_type": "stream",
          "text": [
            "[('gc27',\n",
            "  '```````````````x`````c```````6`````````````8```````````````````````````````'),\n",
            " ('pe4x',\n",
            "  '````````````````22`n`````````f`````````2``6````````````````````````````````'),\n",
            " ('cdmn',\n",
            "  '`````````````````4``c```````n````````````7`````````````````````````````````'),\n",
            " ('5mff',\n",
            "  '```````````````x``````````g```c``````````x`````````````````````````````````')]\n",
            "EPOCH:129, train_loss=0.11160719394683838, valid_loss=0.45810991525650024\n"
          ],
          "name": "stdout"
        },
        {
          "output_type": "stream",
          "text": [
            "100%|██████████| 117/117 [00:02<00:00, 49.60it/s]\n",
            "100%|██████████| 13/13 [00:00<00:00, 30.88it/s]\n",
            "  0%|          | 0/117 [00:00<?, ?it/s]"
          ],
          "name": "stderr"
        },
        {
          "output_type": "stream",
          "text": [
            "[('gc27',\n",
            "  '```````````````x`````c```````6`````````````8```````````````````````````````'),\n",
            " ('pe4x',\n",
            "  '````````````````22`n`````````f`````````2``6````````````````````````````````'),\n",
            " ('cdmn',\n",
            "  '`````````````````4``e```````n````````````7`````````````````````````````````'),\n",
            " ('5mff',\n",
            "  '```````````````x``````````g```c`````````xx``````y``````````````````````````')]\n",
            "EPOCH:130, train_loss=0.11459945142269135, valid_loss=0.4351014196872711\n"
          ],
          "name": "stdout"
        },
        {
          "output_type": "stream",
          "text": [
            "100%|██████████| 117/117 [00:02<00:00, 48.32it/s]\n",
            "100%|██████████| 13/13 [00:00<00:00, 31.23it/s]\n",
            "  0%|          | 0/117 [00:00<?, ?it/s]"
          ],
          "name": "stderr"
        },
        {
          "output_type": "stream",
          "text": [
            "[('gc27',\n",
            "  '```````````````x`````c```````6`````````````8```````````````````````````````'),\n",
            " ('pe4x',\n",
            "  '````````````````22`n`````````f`````````2```````````````````````````````````'),\n",
            " ('cdmn',\n",
            "  '`````````````````4``e```````n````````````7`````````````````````````````````'),\n",
            " ('5mff',\n",
            "  '```````````````x``````````g`````````````xx`````````````````````````````````')]\n",
            "EPOCH:131, train_loss=0.11609834432601929, valid_loss=0.4415743052959442\n"
          ],
          "name": "stdout"
        },
        {
          "output_type": "stream",
          "text": [
            "100%|██████████| 117/117 [00:02<00:00, 49.92it/s]\n",
            "100%|██████████| 13/13 [00:00<00:00, 31.25it/s]\n",
            "  0%|          | 0/117 [00:00<?, ?it/s]"
          ],
          "name": "stderr"
        },
        {
          "output_type": "stream",
          "text": [
            "[('gc27',\n",
            "  '```````````````x`````c```````6`````````````8```````````````````````````````'),\n",
            " ('pe4x',\n",
            "  '````````````````22`n`````````f`````````2```````````````````````````````````'),\n",
            " ('cdmn',\n",
            "  '`````````````````4``e```````n````````````7`````````````````````````````````'),\n",
            " ('5mff',\n",
            "  '```````````````x`````c````g``````````````x`````````````````````````````````')]\n",
            "EPOCH:132, train_loss=0.12749218940734863, valid_loss=0.3936132490634918\n"
          ],
          "name": "stdout"
        },
        {
          "output_type": "stream",
          "text": [
            "100%|██████████| 117/117 [00:02<00:00, 48.34it/s]\n",
            "100%|██████████| 13/13 [00:00<00:00, 30.39it/s]\n",
            "  0%|          | 0/117 [00:00<?, ?it/s]"
          ],
          "name": "stderr"
        },
        {
          "output_type": "stream",
          "text": [
            "[('gc27',\n",
            "  '```````````````x`````c```````6`````````````8```````````````````````````````'),\n",
            " ('pe4x',\n",
            "  '````````````````2``n`````````f`````````2```````````````````````````````````'),\n",
            " ('cdmn',\n",
            "  '`````````````````4``c```````n````````````7`````````````````````````````````'),\n",
            " ('5mff',\n",
            "  '```````````````x``````````g``````````````x`````````````````````````````````')]\n",
            "EPOCH:133, train_loss=0.12162063270807266, valid_loss=0.47153815627098083\n"
          ],
          "name": "stdout"
        },
        {
          "output_type": "stream",
          "text": [
            "100%|██████████| 117/117 [00:02<00:00, 47.79it/s]\n",
            "100%|██████████| 13/13 [00:00<00:00, 31.31it/s]\n",
            "  0%|          | 0/117 [00:00<?, ?it/s]"
          ],
          "name": "stderr"
        },
        {
          "output_type": "stream",
          "text": [
            "[('gc27',\n",
            "  '```````````````x`````c```````6`````````````8```````````````````````````````'),\n",
            " ('pe4x',\n",
            "  '````````````````2``n`````````f`````````2``6````````````````````````````````'),\n",
            " ('cdmn',\n",
            "  '`````````````````4``e```````n````````````7`````````````````````````````````'),\n",
            " ('5mff',\n",
            "  '```````````````x``````````g```c`````````xx``````y``````````````````````````')]\n",
            "EPOCH:134, train_loss=0.13007748126983643, valid_loss=0.4210067391395569\n"
          ],
          "name": "stdout"
        },
        {
          "output_type": "stream",
          "text": [
            "100%|██████████| 117/117 [00:02<00:00, 49.32it/s]\n",
            "100%|██████████| 13/13 [00:00<00:00, 31.17it/s]\n",
            "  0%|          | 0/117 [00:00<?, ?it/s]"
          ],
          "name": "stderr"
        },
        {
          "output_type": "stream",
          "text": [
            "[('gc27',\n",
            "  '```````````````x`````c```````6`````````````8```````````````````````````````'),\n",
            " ('pe4x',\n",
            "  '````````````````2``n`````````f`````````2``6````````````````````````````````'),\n",
            " ('cdmn',\n",
            "  '`````````````````4``e```````n````````````7`````````````````````````````````'),\n",
            " ('5mff',\n",
            "  '```````````````x``````````g```c`````````xx`````````````````````````````````')]\n",
            "EPOCH:135, train_loss=0.11431144177913666, valid_loss=0.3960244655609131\n"
          ],
          "name": "stdout"
        },
        {
          "output_type": "stream",
          "text": [
            "100%|██████████| 117/117 [00:02<00:00, 49.43it/s]\n",
            "100%|██████████| 13/13 [00:00<00:00, 30.54it/s]\n",
            "  0%|          | 0/117 [00:00<?, ?it/s]"
          ],
          "name": "stderr"
        },
        {
          "output_type": "stream",
          "text": [
            "[('gc27',\n",
            "  '```````````````x`````c```````6`````````````8```````````````````````````````'),\n",
            " ('pe4x',\n",
            "  '````````````````2``n`````````f`````````2```````````````````````````````````'),\n",
            " ('cdmn',\n",
            "  '`````````````````4``e```````n````````````7`````````````````````````````````'),\n",
            " ('5mff',\n",
            "  '```````````````x``````````g``````````````x``````y``````````````````````````')]\n",
            "EPOCH:136, train_loss=0.11956664174795151, valid_loss=0.3910522162914276\n"
          ],
          "name": "stdout"
        },
        {
          "output_type": "stream",
          "text": [
            "100%|██████████| 117/117 [00:02<00:00, 48.61it/s]\n",
            "100%|██████████| 13/13 [00:00<00:00, 31.49it/s]\n",
            "  0%|          | 0/117 [00:00<?, ?it/s]"
          ],
          "name": "stderr"
        },
        {
          "output_type": "stream",
          "text": [
            "[('gc27',\n",
            "  '```````````````x`````c```````6`````````````8```````````````````````````````'),\n",
            " ('pe4x',\n",
            "  '````````````````22`n`````````f`````````2```````````````````````````````````'),\n",
            " ('cdmn',\n",
            "  '`````````````````4``c```````n````````````7`````````````````````````````````'),\n",
            " ('5mff',\n",
            "  '```````````````x`````g````g```c`````````xx``````y``````````````````````````')]\n",
            "EPOCH:137, train_loss=0.13308845460414886, valid_loss=0.5175595283508301\n"
          ],
          "name": "stdout"
        },
        {
          "output_type": "stream",
          "text": [
            "100%|██████████| 117/117 [00:02<00:00, 49.89it/s]\n",
            "100%|██████████| 13/13 [00:00<00:00, 31.09it/s]\n",
            "  0%|          | 0/117 [00:00<?, ?it/s]"
          ],
          "name": "stderr"
        },
        {
          "output_type": "stream",
          "text": [
            "[('gc27',\n",
            "  '```````````````x`````c```````6`````````````8```````````````````````````````'),\n",
            " ('pe4x',\n",
            "  '````````````````22`n`````````f`````````2``6````````````````````````````````'),\n",
            " ('cdmn',\n",
            "  '`````````````````4``e```````n````````````7`````````````````````````````````'),\n",
            " ('5mff',\n",
            "  '```````````````x``````````g```c`````````xx`````````````````````````````````')]\n",
            "EPOCH:138, train_loss=0.13413485884666443, valid_loss=0.45368245244026184\n"
          ],
          "name": "stdout"
        },
        {
          "output_type": "stream",
          "text": [
            "100%|██████████| 117/117 [00:02<00:00, 49.94it/s]\n",
            "100%|██████████| 13/13 [00:00<00:00, 31.48it/s]\n",
            "  0%|          | 0/117 [00:00<?, ?it/s]"
          ],
          "name": "stderr"
        },
        {
          "output_type": "stream",
          "text": [
            "[('gc27',\n",
            "  '```````````````x`````c```````6`````````````8```````````````````````````````'),\n",
            " ('pe4x',\n",
            "  '````````````````2``n`````````f`````````2``6````````````````````````````````'),\n",
            " ('cdmn',\n",
            "  '`````````````````4``e```````n````````````7`````````````````````````````````'),\n",
            " ('5mff',\n",
            "  '```````````````x``````````g```c``````````x`````````````````````````````````')]\n",
            "EPOCH:139, train_loss=0.11470016092061996, valid_loss=0.4208155870437622\n"
          ],
          "name": "stdout"
        },
        {
          "output_type": "stream",
          "text": [
            "100%|██████████| 117/117 [00:02<00:00, 48.43it/s]\n",
            "100%|██████████| 13/13 [00:00<00:00, 30.94it/s]\n",
            "  0%|          | 0/117 [00:00<?, ?it/s]"
          ],
          "name": "stderr"
        },
        {
          "output_type": "stream",
          "text": [
            "[('gc27',\n",
            "  '```````````````x`````c```````6`````````````8```````````````````````````````'),\n",
            " ('pe4x',\n",
            "  '````````````````2``n`````````f`````````2```````````````````````````````````'),\n",
            " ('cdmn',\n",
            "  '`````````````````4``e```````n````````````7`````````````````````````````````'),\n",
            " ('5mff',\n",
            "  '```````````````x``````````g```c``````````x``````y``````````````````````````')]\n",
            "EPOCH:140, train_loss=0.12492009997367859, valid_loss=0.3976551592350006\n"
          ],
          "name": "stdout"
        },
        {
          "output_type": "stream",
          "text": [
            "100%|██████████| 117/117 [00:02<00:00, 49.35it/s]\n",
            "100%|██████████| 13/13 [00:00<00:00, 32.13it/s]\n",
            "  0%|          | 0/117 [00:00<?, ?it/s]"
          ],
          "name": "stderr"
        },
        {
          "output_type": "stream",
          "text": [
            "[('gc27',\n",
            "  '```````````````x`````c```````6`````````````8```````````````````````````````'),\n",
            " ('pe4x',\n",
            "  '````````````````22`n`````````f`````````2``6````````````````````````````````'),\n",
            " ('cdmn',\n",
            "  '`````````````````4``c```````n````````````7`````````````````````````````````'),\n",
            " ('5mff',\n",
            "  '```````````````x`````g````g```c``````````x``````y``````````````````````````')]\n",
            "EPOCH:141, train_loss=0.10155840963125229, valid_loss=0.46805399656295776\n"
          ],
          "name": "stdout"
        },
        {
          "output_type": "stream",
          "text": [
            "100%|██████████| 117/117 [00:02<00:00, 48.26it/s]\n",
            "100%|██████████| 13/13 [00:00<00:00, 29.93it/s]\n",
            "  0%|          | 0/117 [00:00<?, ?it/s]"
          ],
          "name": "stderr"
        },
        {
          "output_type": "stream",
          "text": [
            "[('gc27',\n",
            "  '```````````````x`````c```````6`````````````8```````````````````````````````'),\n",
            " ('pe4x',\n",
            "  '````````````````22`n`````````f`````````2``6````````````````````````````````'),\n",
            " ('cdmn',\n",
            "  '`````````````````4``c```````n````````````7`````````````````````````````````'),\n",
            " ('5mff',\n",
            "  '```````````````x`````c````g```c``````````x``````y``````````````````````````')]\n",
            "EPOCH:142, train_loss=0.09466598182916641, valid_loss=0.4429953396320343\n"
          ],
          "name": "stdout"
        },
        {
          "output_type": "stream",
          "text": [
            "100%|██████████| 117/117 [00:02<00:00, 47.97it/s]\n",
            "100%|██████████| 13/13 [00:00<00:00, 30.51it/s]\n",
            "  0%|          | 0/117 [00:00<?, ?it/s]"
          ],
          "name": "stderr"
        },
        {
          "output_type": "stream",
          "text": [
            "[('gc27',\n",
            "  '```````````````x`````c```````6`````````````8```````````````````````````````'),\n",
            " ('pe4x',\n",
            "  '````````````````2``n`````````f`````````2```````````````````````````````````'),\n",
            " ('cdmn',\n",
            "  '`````````````````4``e```````n````````````7`````````````````````````````````'),\n",
            " ('5mff',\n",
            "  '```````````````x``````````g```c``````````x`````````````````````````````````')]\n",
            "EPOCH:143, train_loss=0.08805333822965622, valid_loss=0.422585129737854\n"
          ],
          "name": "stdout"
        },
        {
          "output_type": "stream",
          "text": [
            "100%|██████████| 117/117 [00:02<00:00, 49.54it/s]\n",
            "100%|██████████| 13/13 [00:00<00:00, 31.59it/s]\n",
            "  0%|          | 0/117 [00:00<?, ?it/s]"
          ],
          "name": "stderr"
        },
        {
          "output_type": "stream",
          "text": [
            "[('gc27',\n",
            "  '```````````````x`````c```````6`````````````8```````````````````````````````'),\n",
            " ('pe4x',\n",
            "  '````````````````2``n`````````f`````````2``6````````````````````````````````'),\n",
            " ('cdmn',\n",
            "  '`````````````````4``c```````n````````````7`````````````````````````````````'),\n",
            " ('5mff',\n",
            "  '```````````````x``````````g```c``````````x`````````````````````````````````')]\n",
            "EPOCH:144, train_loss=0.09646134078502655, valid_loss=0.3908652663230896\n"
          ],
          "name": "stdout"
        },
        {
          "output_type": "stream",
          "text": [
            "100%|██████████| 117/117 [00:02<00:00, 48.57it/s]\n",
            "100%|██████████| 13/13 [00:00<00:00, 30.84it/s]\n",
            "  0%|          | 0/117 [00:00<?, ?it/s]"
          ],
          "name": "stderr"
        },
        {
          "output_type": "stream",
          "text": [
            "[('gc27',\n",
            "  '```````````````x`````c```````6`````````````8```````````````````````````````'),\n",
            " ('pe4x',\n",
            "  '````````````````22`n`````````f`````````2```````````````````````````````````'),\n",
            " ('cdmn',\n",
            "  '`````````````````4``e```````n````````````7`````````````````````````````````'),\n",
            " ('5mff',\n",
            "  '```````````````x``````````g```c``````````x`````````````````````````````````')]\n",
            "EPOCH:145, train_loss=0.08697868883609772, valid_loss=0.4683094620704651\n"
          ],
          "name": "stdout"
        },
        {
          "output_type": "stream",
          "text": [
            "100%|██████████| 117/117 [00:02<00:00, 48.92it/s]\n",
            "100%|██████████| 13/13 [00:00<00:00, 31.13it/s]\n",
            "  0%|          | 0/117 [00:00<?, ?it/s]"
          ],
          "name": "stderr"
        },
        {
          "output_type": "stream",
          "text": [
            "[('gc27',\n",
            "  '```````````````x`````c```````6`````````````8```````````````````````````````'),\n",
            " ('pe4x',\n",
            "  '````````````````2``n`````````f`````````2```````````````````````````````````'),\n",
            " ('cdmn',\n",
            "  '`````````````````4``e```````n````````````7`````````````````````````````````'),\n",
            " ('5mff',\n",
            "  '```````````````x``````````g```c`````````xx``````y``````````````````````````')]\n",
            "EPOCH:146, train_loss=0.12469007074832916, valid_loss=0.40421077609062195\n"
          ],
          "name": "stdout"
        },
        {
          "output_type": "stream",
          "text": [
            "100%|██████████| 117/117 [00:02<00:00, 48.68it/s]\n",
            "100%|██████████| 13/13 [00:00<00:00, 31.45it/s]\n",
            "  0%|          | 0/117 [00:00<?, ?it/s]"
          ],
          "name": "stderr"
        },
        {
          "output_type": "stream",
          "text": [
            "[('gc27',\n",
            "  '```````````````x`````c```````6`````````````8```````````````````````````````'),\n",
            " ('pe4x',\n",
            "  '````````````````2``n`````````f`````````2```````````````````````````````````'),\n",
            " ('cdmn',\n",
            "  '`````````````````4``e```````n````````````7`````````````````````````````````'),\n",
            " ('5mff',\n",
            "  '```````````````x`````c````g```c``````````x`````````````````````````````````')]\n",
            "EPOCH:147, train_loss=0.0975763127207756, valid_loss=0.398149311542511\n"
          ],
          "name": "stdout"
        },
        {
          "output_type": "stream",
          "text": [
            "100%|██████████| 117/117 [00:02<00:00, 49.42it/s]\n",
            "100%|██████████| 13/13 [00:00<00:00, 31.54it/s]\n",
            "  0%|          | 0/117 [00:00<?, ?it/s]"
          ],
          "name": "stderr"
        },
        {
          "output_type": "stream",
          "text": [
            "[('gc27',\n",
            "  '```````````````x`````c```````6`````````````8```````````````````````````````'),\n",
            " ('pe4x',\n",
            "  '````````````````22`n`````````f`````````2``6````````````````````````````````'),\n",
            " ('cdmn',\n",
            "  '`````````````````4``c```````n````````````7`````````````````````````````````'),\n",
            " ('5mff',\n",
            "  '```````````````x``````````g```c``````````x`````````````````````````````````')]\n",
            "EPOCH:148, train_loss=0.10086096078157425, valid_loss=0.3959313631057739\n"
          ],
          "name": "stdout"
        },
        {
          "output_type": "stream",
          "text": [
            "100%|██████████| 117/117 [00:02<00:00, 50.00it/s]\n",
            "100%|██████████| 13/13 [00:00<00:00, 29.61it/s]\n",
            "  0%|          | 0/117 [00:00<?, ?it/s]"
          ],
          "name": "stderr"
        },
        {
          "output_type": "stream",
          "text": [
            "[('gc27',\n",
            "  '```````````````x`````c```````6`````````````8```````````````````````````````'),\n",
            " ('pe4x',\n",
            "  '````````````````22`n`````````f`````````2``6````````````````````````````````'),\n",
            " ('cdmn',\n",
            "  '`````````````````4``e```````n````````````7`````````````````````````````````'),\n",
            " ('5mff',\n",
            "  '```````````````x`````c````g```c``````````x`````````````````````````````````')]\n",
            "EPOCH:149, train_loss=0.10187959671020508, valid_loss=0.4013875722885132\n"
          ],
          "name": "stdout"
        },
        {
          "output_type": "stream",
          "text": [
            "100%|██████████| 117/117 [00:02<00:00, 49.48it/s]\n",
            "100%|██████████| 13/13 [00:00<00:00, 31.84it/s]\n",
            "  0%|          | 0/117 [00:00<?, ?it/s]"
          ],
          "name": "stderr"
        },
        {
          "output_type": "stream",
          "text": [
            "[('gc27',\n",
            "  '```````````````x`````c```````6`````````````8```````````````````````````````'),\n",
            " ('pe4x',\n",
            "  '````````````````22`n`````````f`````````2``6````````````````````````````````'),\n",
            " ('cdmn',\n",
            "  '`````````````````4``e```````n````````````7`````````````````````````````````'),\n",
            " ('5mff',\n",
            "  '```````````````x`````g````g```c``````````x`````````````````````````````````')]\n",
            "EPOCH:150, train_loss=0.08193063735961914, valid_loss=0.4312347173690796\n"
          ],
          "name": "stdout"
        },
        {
          "output_type": "stream",
          "text": [
            "100%|██████████| 117/117 [00:02<00:00, 48.18it/s]\n",
            "100%|██████████| 13/13 [00:00<00:00, 30.23it/s]\n",
            "  0%|          | 0/117 [00:00<?, ?it/s]"
          ],
          "name": "stderr"
        },
        {
          "output_type": "stream",
          "text": [
            "[('gc27',\n",
            "  '```````````````x`````c```````6`````````````8```````````````````````````````'),\n",
            " ('pe4x',\n",
            "  '````````````````22`n`````````f`````````2``6````````````````````````````````'),\n",
            " ('cdmn',\n",
            "  '`````````````````4``e```````n````````````7`````````````````````````````````'),\n",
            " ('5mff',\n",
            "  '```````````````x``````````g```c`````````xx`````````````````````````````````')]\n",
            "EPOCH:151, train_loss=0.11214718222618103, valid_loss=0.48052918910980225\n"
          ],
          "name": "stdout"
        },
        {
          "output_type": "stream",
          "text": [
            "100%|██████████| 117/117 [00:02<00:00, 47.91it/s]\n",
            "100%|██████████| 13/13 [00:00<00:00, 31.02it/s]\n",
            "  0%|          | 0/117 [00:00<?, ?it/s]"
          ],
          "name": "stderr"
        },
        {
          "output_type": "stream",
          "text": [
            "[('gc27',\n",
            "  '```````````````x`````c```````6`````````````8```````````````````````````````'),\n",
            " ('pe4x',\n",
            "  '````````````````22`n`````````f`````````2``6````````````````````````````````'),\n",
            " ('cdmn',\n",
            "  '`````````````````4``e```````n````````````7`````````````````````````````````'),\n",
            " ('5mff',\n",
            "  '```````````````x``````````g`````````````xx`````````````````````````````````')]\n",
            "EPOCH:152, train_loss=0.11262659728527069, valid_loss=0.49164941906929016\n"
          ],
          "name": "stdout"
        },
        {
          "output_type": "stream",
          "text": [
            "100%|██████████| 117/117 [00:02<00:00, 48.06it/s]\n",
            "100%|██████████| 13/13 [00:00<00:00, 30.56it/s]\n",
            "  0%|          | 0/117 [00:00<?, ?it/s]"
          ],
          "name": "stderr"
        },
        {
          "output_type": "stream",
          "text": [
            "[('gc27',\n",
            "  '```````````````x`````c```````6`````````````8```````````````````````````````'),\n",
            " ('pe4x',\n",
            "  '````````````````22`n`````````f`````````2```````````````````````````````````'),\n",
            " ('cdmn',\n",
            "  '`````````````````4``e```````n````````````7`````````````````````````````````'),\n",
            " ('5mff',\n",
            "  '```````````````x``````````g``````````````x`````````````````````````````````')]\n",
            "EPOCH:153, train_loss=0.10408035665750504, valid_loss=0.429434210062027\n"
          ],
          "name": "stdout"
        },
        {
          "output_type": "stream",
          "text": [
            "100%|██████████| 117/117 [00:02<00:00, 46.87it/s]\n",
            "100%|██████████| 13/13 [00:00<00:00, 29.00it/s]\n",
            "  0%|          | 0/117 [00:00<?, ?it/s]"
          ],
          "name": "stderr"
        },
        {
          "output_type": "stream",
          "text": [
            "[('gc27',\n",
            "  '```````````````x`````c```````6`````````````8```````````````````````````````'),\n",
            " ('pe4x',\n",
            "  '````````````````22`n`````````f`````````2``6````````````````````````````````'),\n",
            " ('cdmn',\n",
            "  '`````````````````4``c```````n````````````7`````````````````````````````````'),\n",
            " ('5mff',\n",
            "  '```````````````x`````g````g```c``````````x`````````````````````````````````')]\n",
            "EPOCH:154, train_loss=0.09631860256195068, valid_loss=0.37888509035110474\n"
          ],
          "name": "stdout"
        },
        {
          "output_type": "stream",
          "text": [
            "100%|██████████| 117/117 [00:02<00:00, 47.54it/s]\n",
            "100%|██████████| 13/13 [00:00<00:00, 30.25it/s]\n",
            "  0%|          | 0/117 [00:00<?, ?it/s]"
          ],
          "name": "stderr"
        },
        {
          "output_type": "stream",
          "text": [
            "[('gc27',\n",
            "  '```````````````x`````c```````6`````````````8```````````````````````````````'),\n",
            " ('pe4x',\n",
            "  '````````````````22`n`````````f`````````2```````````````````````````````````'),\n",
            " ('cdmn',\n",
            "  '`````````````````4``c```````n````````````7`````````````````````````````````'),\n",
            " ('5mff',\n",
            "  '```````````````x``````````g```c`````````xx``````y``````````````````````````')]\n",
            "EPOCH:155, train_loss=0.08863122761249542, valid_loss=0.42698100209236145\n"
          ],
          "name": "stdout"
        },
        {
          "output_type": "stream",
          "text": [
            "100%|██████████| 117/117 [00:02<00:00, 49.39it/s]\n",
            "100%|██████████| 13/13 [00:00<00:00, 30.90it/s]\n",
            "  0%|          | 0/117 [00:00<?, ?it/s]"
          ],
          "name": "stderr"
        },
        {
          "output_type": "stream",
          "text": [
            "[('gc27',\n",
            "  '```````````````x`````c```````6`````````````8```````````````````````````````'),\n",
            " ('pe4x',\n",
            "  '````````````````22`n`````````f`````````2```````````````````````````````````'),\n",
            " ('cdmn',\n",
            "  '`````````````````4``e```````n````````````7`````````````````````````````````'),\n",
            " ('5mff',\n",
            "  '```````````````x`````g````g``````````````x``````y``````````````````````````')]\n",
            "EPOCH:156, train_loss=0.08380719274282455, valid_loss=0.41935208439826965\n"
          ],
          "name": "stdout"
        },
        {
          "output_type": "stream",
          "text": [
            "100%|██████████| 117/117 [00:02<00:00, 46.74it/s]\n",
            "100%|██████████| 13/13 [00:00<00:00, 27.88it/s]\n",
            "  0%|          | 0/117 [00:00<?, ?it/s]"
          ],
          "name": "stderr"
        },
        {
          "output_type": "stream",
          "text": [
            "[('gc27',\n",
            "  '```````````````x`````c```````6`````````````8```````````````````````````````'),\n",
            " ('pe4x',\n",
            "  '````````````````22`n`````````f`````````2```````````````````````````````````'),\n",
            " ('cdmn',\n",
            "  '`````````````````4``c```````n````````````7`````````````````````````````````'),\n",
            " ('5mff',\n",
            "  '```````````````x``````````g``````````````x``````y``````````````````````````')]\n",
            "EPOCH:157, train_loss=0.08993127197027206, valid_loss=0.39620697498321533\n"
          ],
          "name": "stdout"
        },
        {
          "output_type": "stream",
          "text": [
            "100%|██████████| 117/117 [00:02<00:00, 49.65it/s]\n",
            "100%|██████████| 13/13 [00:00<00:00, 29.99it/s]\n",
            "  0%|          | 0/117 [00:00<?, ?it/s]"
          ],
          "name": "stderr"
        },
        {
          "output_type": "stream",
          "text": [
            "[('gc27',\n",
            "  '```````````````x`````c```````6`````````````8```````````````````````````````'),\n",
            " ('pe4x',\n",
            "  '````````````````22`n`````````f`````````2```````````````````````````````````'),\n",
            " ('cdmn',\n",
            "  '`````````````````4``e```````n````````````7`````````````````````````````````'),\n",
            " ('5mff',\n",
            "  '```````````````x``````````g```c``````````x``````y``````````````````````````')]\n",
            "EPOCH:158, train_loss=0.07494034618139267, valid_loss=0.440228670835495\n"
          ],
          "name": "stdout"
        },
        {
          "output_type": "stream",
          "text": [
            "100%|██████████| 117/117 [00:02<00:00, 48.38it/s]\n",
            "100%|██████████| 13/13 [00:00<00:00, 30.75it/s]\n",
            "  0%|          | 0/117 [00:00<?, ?it/s]"
          ],
          "name": "stderr"
        },
        {
          "output_type": "stream",
          "text": [
            "[('gc27',\n",
            "  '```````````````x`````c```````6`````````````8```````````````````````````````'),\n",
            " ('pe4x',\n",
            "  '````````````````22`n`````````f`````````2```````````````````````````````````'),\n",
            " ('cdmn',\n",
            "  '`````````````````4``e```````n````````````7`````````````````````````````````'),\n",
            " ('5mff',\n",
            "  '```````````````x``````````g```c``````````x``````y``````````````````````````')]\n",
            "EPOCH:159, train_loss=0.07758969813585281, valid_loss=0.4148710072040558\n"
          ],
          "name": "stdout"
        },
        {
          "output_type": "stream",
          "text": [
            "100%|██████████| 117/117 [00:02<00:00, 48.15it/s]\n",
            "100%|██████████| 13/13 [00:00<00:00, 29.43it/s]\n",
            "  0%|          | 0/117 [00:00<?, ?it/s]"
          ],
          "name": "stderr"
        },
        {
          "output_type": "stream",
          "text": [
            "[('gc27',\n",
            "  '```````````````x`````c```````6`````````````8```````````````````````````````'),\n",
            " ('pe4x',\n",
            "  '````````````````22`nm````````f`````````2``6````````````````````````````````'),\n",
            " ('cdmn',\n",
            "  '`````````````````4``e```````n````````````7`````````````````````````````````'),\n",
            " ('5mff',\n",
            "  '```````````````x`````g````g```c`````````xx``````y``````````````````````````')]\n",
            "EPOCH:160, train_loss=0.0873340591788292, valid_loss=0.6374379992485046\n"
          ],
          "name": "stdout"
        },
        {
          "output_type": "stream",
          "text": [
            "100%|██████████| 117/117 [00:02<00:00, 48.67it/s]\n",
            "100%|██████████| 13/13 [00:00<00:00, 32.09it/s]\n",
            "  0%|          | 0/117 [00:00<?, ?it/s]"
          ],
          "name": "stderr"
        },
        {
          "output_type": "stream",
          "text": [
            "[('gc27',\n",
            "  '```````````````x`````c```````6`````````````8```````````````````````````````'),\n",
            " ('pe4x',\n",
            "  '````````````````2``n`````````f`````````2```````````````````````````````````'),\n",
            " ('cdmn',\n",
            "  '`````````````````4``e```````n````````````7`````````````````````````````````'),\n",
            " ('5mff',\n",
            "  '```````````````x``````````g```c``````````x`````````````````````````````````')]\n",
            "EPOCH:161, train_loss=0.10634613782167435, valid_loss=0.4647049605846405\n"
          ],
          "name": "stdout"
        },
        {
          "output_type": "stream",
          "text": [
            "100%|██████████| 117/117 [00:02<00:00, 49.63it/s]\n",
            "100%|██████████| 13/13 [00:00<00:00, 31.90it/s]\n",
            "  0%|          | 0/117 [00:00<?, ?it/s]"
          ],
          "name": "stderr"
        },
        {
          "output_type": "stream",
          "text": [
            "[('gc27',\n",
            "  '```````````````x`````c```````6````````````88```````````````````````````````'),\n",
            " ('pe4x',\n",
            "  '````````````````2``n`````````f`````````2``6````````````````````````````````'),\n",
            " ('cdmn',\n",
            "  '`````````````````4``e```````n````````````7`````````````````````````````````'),\n",
            " ('5mff',\n",
            "  '```````````````x``````````g```c`````````xx`````````````````````````````````')]\n",
            "EPOCH:162, train_loss=0.13119730353355408, valid_loss=0.4555472135543823\n"
          ],
          "name": "stdout"
        },
        {
          "output_type": "stream",
          "text": [
            "100%|██████████| 117/117 [00:02<00:00, 47.52it/s]\n",
            "100%|██████████| 13/13 [00:00<00:00, 26.23it/s]\n",
            "  0%|          | 0/117 [00:00<?, ?it/s]"
          ],
          "name": "stderr"
        },
        {
          "output_type": "stream",
          "text": [
            "[('gc27',\n",
            "  '```````````````x`````c```````6`````````````8```````````````````````````````'),\n",
            " ('pe4x',\n",
            "  '````````````````22`n`````````f`````````2``6````````````````````````````````'),\n",
            " ('cdmn',\n",
            "  '`````````````````4``e```````n````````````7`````````````````````````````````'),\n",
            " ('5mff',\n",
            "  '```````````````x``````````g```c``````````x``````y``````````````````````````')]\n",
            "EPOCH:163, train_loss=0.11088774353265762, valid_loss=0.569608747959137\n"
          ],
          "name": "stdout"
        },
        {
          "output_type": "stream",
          "text": [
            "100%|██████████| 117/117 [00:02<00:00, 48.92it/s]\n",
            "100%|██████████| 13/13 [00:00<00:00, 31.42it/s]\n",
            "  0%|          | 0/117 [00:00<?, ?it/s]"
          ],
          "name": "stderr"
        },
        {
          "output_type": "stream",
          "text": [
            "[('gc27',\n",
            "  '```````````````x`````c```````6`````````````8```````````````````````````````'),\n",
            " ('pe4x',\n",
            "  '````````````````22`n`````````f`````````2```````````````````````````````````'),\n",
            " ('cdmn',\n",
            "  '`````````````````4``e```````n````````````7`````````````````````````````````'),\n",
            " ('5mff',\n",
            "  '```````````````x``````````g```c``````````x`````````````````````````````````')]\n",
            "EPOCH:164, train_loss=0.09568830579519272, valid_loss=0.4689410328865051\n"
          ],
          "name": "stdout"
        },
        {
          "output_type": "stream",
          "text": [
            "100%|██████████| 117/117 [00:02<00:00, 49.23it/s]\n",
            "100%|██████████| 13/13 [00:00<00:00, 31.10it/s]\n",
            "  0%|          | 0/117 [00:00<?, ?it/s]"
          ],
          "name": "stderr"
        },
        {
          "output_type": "stream",
          "text": [
            "[('gc27',\n",
            "  '```````````````x`````c```````6````````````88```````````````````````````````'),\n",
            " ('pe4x',\n",
            "  '````````````````2``n`````````f`````````2``6````````````````````````````````'),\n",
            " ('cdmn',\n",
            "  '`````````````````4``e```````n````````````7`````````````````````````````````'),\n",
            " ('5mff',\n",
            "  '```````````````x`````g````g```c`````````xx``````y``````````````````````````')]\n",
            "EPOCH:165, train_loss=0.07955338805913925, valid_loss=0.5133443474769592\n"
          ],
          "name": "stdout"
        },
        {
          "output_type": "stream",
          "text": [
            "100%|██████████| 117/117 [00:02<00:00, 49.78it/s]\n",
            "100%|██████████| 13/13 [00:00<00:00, 31.80it/s]\n",
            "  0%|          | 0/117 [00:00<?, ?it/s]"
          ],
          "name": "stderr"
        },
        {
          "output_type": "stream",
          "text": [
            "[('gc27',\n",
            "  '```````````````x`````c```````6`````````````8```````````````````````````````'),\n",
            " ('pe4x',\n",
            "  '````````````````2``n`````````f`````````2``6````````````````````````````````'),\n",
            " ('cdmn',\n",
            "  '`````````````````4``c```````n````````````7`````````````````````````````````'),\n",
            " ('5mff',\n",
            "  '```````````````x`````g````g```c`````````xx``````y``````````````````````````')]\n",
            "EPOCH:166, train_loss=0.07100015878677368, valid_loss=0.5048737525939941\n"
          ],
          "name": "stdout"
        },
        {
          "output_type": "stream",
          "text": [
            "100%|██████████| 117/117 [00:02<00:00, 48.36it/s]\n",
            "100%|██████████| 13/13 [00:00<00:00, 31.15it/s]\n",
            "  0%|          | 0/117 [00:00<?, ?it/s]"
          ],
          "name": "stderr"
        },
        {
          "output_type": "stream",
          "text": [
            "[('gc27',\n",
            "  '```````````````x`````c```````6`````````````8```````````````````````````````'),\n",
            " ('pe4x',\n",
            "  '````````````````22`n`````````f`````````2```````````````````````````````````'),\n",
            " ('cdmn',\n",
            "  '`````````````````4``e```````n````````````7`````````````````````````````````'),\n",
            " ('5mff',\n",
            "  '```````````````x``````````g```c``````````x`````````````````````````````````')]\n",
            "EPOCH:167, train_loss=0.08799421042203903, valid_loss=0.5262311100959778\n"
          ],
          "name": "stdout"
        },
        {
          "output_type": "stream",
          "text": [
            "100%|██████████| 117/117 [00:02<00:00, 47.47it/s]\n",
            "100%|██████████| 13/13 [00:00<00:00, 31.04it/s]\n",
            "  0%|          | 0/117 [00:00<?, ?it/s]"
          ],
          "name": "stderr"
        },
        {
          "output_type": "stream",
          "text": [
            "[('gc27',\n",
            "  '```````````````x`````c```````6````````````38```````````````````````````````'),\n",
            " ('pe4x',\n",
            "  '````````````````22`n`````````f`````````2``6````````````````````````````````'),\n",
            " ('cdmn',\n",
            "  '`````````````````4``e```````n````````````7`````````````````````````````````'),\n",
            " ('5mff',\n",
            "  '```````````````x`````g````g```c`````````xx``````y``````````````````````````')]\n",
            "EPOCH:168, train_loss=0.08455964177846909, valid_loss=0.6044710278511047\n"
          ],
          "name": "stdout"
        },
        {
          "output_type": "stream",
          "text": [
            "100%|██████████| 117/117 [00:02<00:00, 47.11it/s]\n",
            "100%|██████████| 13/13 [00:00<00:00, 31.73it/s]\n",
            "  0%|          | 0/117 [00:00<?, ?it/s]"
          ],
          "name": "stderr"
        },
        {
          "output_type": "stream",
          "text": [
            "[('gc27',\n",
            "  '```````````````x`````c```````6`````````````8```````````````````````````````'),\n",
            " ('pe4x',\n",
            "  '````````````````2``n`````````f`````````2```````````````````````````````````'),\n",
            " ('cdmn',\n",
            "  '`````````````````4``e```````n````````````7`````````````````````````````````'),\n",
            " ('5mff',\n",
            "  '```````````````x`````g````g```c`````````xx`````````````````````````````````')]\n",
            "EPOCH:169, train_loss=0.08870105445384979, valid_loss=0.46099573373794556\n"
          ],
          "name": "stdout"
        },
        {
          "output_type": "stream",
          "text": [
            "100%|██████████| 117/117 [00:02<00:00, 46.81it/s]\n",
            "100%|██████████| 13/13 [00:00<00:00, 29.43it/s]\n",
            "  0%|          | 0/117 [00:00<?, ?it/s]"
          ],
          "name": "stderr"
        },
        {
          "output_type": "stream",
          "text": [
            "[('gc27',\n",
            "  '```````````````x`````c```````6`````````````8```````````````````````````````'),\n",
            " ('pe4x',\n",
            "  '````````````````2``n`````````f`````````2```````````````````````````````````'),\n",
            " ('cdmn',\n",
            "  '`````````````````4``e```````n````````````7`````````````````````````````````'),\n",
            " ('5mff',\n",
            "  '```````````````x`````g````g```c`````````xx``````y``````````````````````````')]\n",
            "EPOCH:170, train_loss=0.07286762446165085, valid_loss=0.4785939157009125\n"
          ],
          "name": "stdout"
        },
        {
          "output_type": "stream",
          "text": [
            "100%|██████████| 117/117 [00:02<00:00, 49.73it/s]\n",
            "100%|██████████| 13/13 [00:00<00:00, 31.18it/s]\n",
            "  0%|          | 0/117 [00:00<?, ?it/s]"
          ],
          "name": "stderr"
        },
        {
          "output_type": "stream",
          "text": [
            "[('gc27',\n",
            "  '```````````````x`````c```````6`````````````8```````````````````````````````'),\n",
            " ('pe4x',\n",
            "  '````````````````22`n`````````f`````````2```````````````````````````````````'),\n",
            " ('cdmn',\n",
            "  '`````````````````4``e```````n````````````7`````````````````````````````````'),\n",
            " ('5mff',\n",
            "  '```````````````x`````g````g`````````````xx``````y``````````````````````````')]\n",
            "EPOCH:171, train_loss=0.07857707887887955, valid_loss=0.5492509007453918\n"
          ],
          "name": "stdout"
        },
        {
          "output_type": "stream",
          "text": [
            "100%|██████████| 117/117 [00:02<00:00, 49.96it/s]\n",
            "100%|██████████| 13/13 [00:00<00:00, 31.40it/s]\n",
            "  0%|          | 0/117 [00:00<?, ?it/s]"
          ],
          "name": "stderr"
        },
        {
          "output_type": "stream",
          "text": [
            "[('gc27',\n",
            "  '```````````````x`````c```````6`````````````8```````````````````````````````'),\n",
            " ('pe4x',\n",
            "  '````````````````2``n`````````f`````````2```````````````````````````````````'),\n",
            " ('cdmn',\n",
            "  '`````````````````4``e```````n````````````7`````````````````````````````````'),\n",
            " ('5mff',\n",
            "  '```````````````x`````g````g```c``````````x`````````````````````````````````')]\n",
            "EPOCH:172, train_loss=0.0935945063829422, valid_loss=0.5178757905960083\n"
          ],
          "name": "stdout"
        },
        {
          "output_type": "stream",
          "text": [
            "100%|██████████| 117/117 [00:02<00:00, 48.07it/s]\n",
            "100%|██████████| 13/13 [00:00<00:00, 30.34it/s]\n",
            "  0%|          | 0/117 [00:00<?, ?it/s]"
          ],
          "name": "stderr"
        },
        {
          "output_type": "stream",
          "text": [
            "[('gc27',\n",
            "  '```````````````x`````c```````6`````````````8```````````````````````````````'),\n",
            " ('pe4x',\n",
            "  '````````````````2``n`````````f`````````2```````````````````````````````````'),\n",
            " ('cdmn',\n",
            "  '`````````````````4``e```````n````````````7`````````````````````````````````'),\n",
            " ('5mff',\n",
            "  '```````````````x``````````g```c``````````x`````````````````````````````````')]\n",
            "EPOCH:173, train_loss=0.08603240549564362, valid_loss=0.44971662759780884\n"
          ],
          "name": "stdout"
        },
        {
          "output_type": "stream",
          "text": [
            "100%|██████████| 117/117 [00:02<00:00, 48.04it/s]\n",
            "100%|██████████| 13/13 [00:00<00:00, 30.89it/s]\n",
            "  0%|          | 0/117 [00:00<?, ?it/s]"
          ],
          "name": "stderr"
        },
        {
          "output_type": "stream",
          "text": [
            "[('gc27',\n",
            "  '```````````````x`````c```````6````````````88```````````````````````````````'),\n",
            " ('pe4x',\n",
            "  '````````````````22`n`````````f`````````2``6````````````````````````````````'),\n",
            " ('cdmn',\n",
            "  '`````````````````4``e```````n````````````7`````````````````````````````````'),\n",
            " ('5mff',\n",
            "  '```````````````x`````g````g```c`````````xx``````y``````````````````````````')]\n",
            "EPOCH:174, train_loss=0.09241920709609985, valid_loss=0.620276689529419\n"
          ],
          "name": "stdout"
        },
        {
          "output_type": "stream",
          "text": [
            "100%|██████████| 117/117 [00:02<00:00, 48.66it/s]\n",
            "100%|██████████| 13/13 [00:00<00:00, 31.34it/s]\n",
            "  0%|          | 0/117 [00:00<?, ?it/s]"
          ],
          "name": "stderr"
        },
        {
          "output_type": "stream",
          "text": [
            "[('gc27',\n",
            "  '```````````````x`````c```````6`````````````8```````````````````````````````'),\n",
            " ('pe4x',\n",
            "  '````````````````2``n`````````f`````````2``6````````````````````````````````'),\n",
            " ('cdmn',\n",
            "  '`````````````````4``e```````n````````````7`````````````````````````````````'),\n",
            " ('5mff',\n",
            "  '```````````````x`````g````g```c``````````x`````````````````````````````````')]\n",
            "EPOCH:175, train_loss=0.09425636380910873, valid_loss=0.4495754539966583\n"
          ],
          "name": "stdout"
        },
        {
          "output_type": "stream",
          "text": [
            "100%|██████████| 117/117 [00:02<00:00, 49.43it/s]\n",
            "100%|██████████| 13/13 [00:00<00:00, 31.51it/s]\n",
            "  0%|          | 0/117 [00:00<?, ?it/s]"
          ],
          "name": "stderr"
        },
        {
          "output_type": "stream",
          "text": [
            "[('gc27',\n",
            "  '```````````````x`````c```````6````````````88```````````````````````````````'),\n",
            " ('pe4x',\n",
            "  '````````````````2``n`````````f`````````2```````````````````````````````````'),\n",
            " ('cdmn',\n",
            "  '`````````````````4``e```````n````````````7`````````````````````````````````'),\n",
            " ('5mff',\n",
            "  '```````````````x``````````g``````````````x`````````````````````````````````')]\n",
            "EPOCH:176, train_loss=0.11015278846025467, valid_loss=0.45223915576934814\n"
          ],
          "name": "stdout"
        },
        {
          "output_type": "stream",
          "text": [
            "100%|██████████| 117/117 [00:02<00:00, 46.37it/s]\n",
            "100%|██████████| 13/13 [00:00<00:00, 31.73it/s]\n",
            "  0%|          | 0/117 [00:00<?, ?it/s]"
          ],
          "name": "stderr"
        },
        {
          "output_type": "stream",
          "text": [
            "[('gc27',\n",
            "  '```````````````x`````c```````6`````````````8```````````````````````````````'),\n",
            " ('pe4x',\n",
            "  '````````````````2``n`````````f`````````2```````````````````````````````````'),\n",
            " ('cdmn',\n",
            "  '`````````````````4``c```````n````````````7`````````````````````````````````'),\n",
            " ('5mff',\n",
            "  '```````````````x``````````g``````````````x`````````````````````````````````')]\n",
            "EPOCH:177, train_loss=0.10491201281547546, valid_loss=0.46442723274230957\n"
          ],
          "name": "stdout"
        },
        {
          "output_type": "stream",
          "text": [
            "100%|██████████| 117/117 [00:02<00:00, 49.99it/s]\n",
            "100%|██████████| 13/13 [00:00<00:00, 30.92it/s]\n",
            "  0%|          | 0/117 [00:00<?, ?it/s]"
          ],
          "name": "stderr"
        },
        {
          "output_type": "stream",
          "text": [
            "[('gc27',\n",
            "  '```````````````x`````c```````6`````````````8```````````````````````````````'),\n",
            " ('pe4x',\n",
            "  '````````````````2``n`````````f`````````2```````````````````````````````````'),\n",
            " ('cdmn',\n",
            "  '`````````````````4``c```````n````````````7`````````````````````````````````'),\n",
            " ('5mff',\n",
            "  '```````````````x``````````g```c``````````x``````y``````````````````````````')]\n",
            "EPOCH:178, train_loss=0.0738234892487526, valid_loss=0.47063666582107544\n"
          ],
          "name": "stdout"
        },
        {
          "output_type": "stream",
          "text": [
            "100%|██████████| 117/117 [00:02<00:00, 50.13it/s]\n",
            "100%|██████████| 13/13 [00:00<00:00, 30.63it/s]\n",
            "  0%|          | 0/117 [00:00<?, ?it/s]"
          ],
          "name": "stderr"
        },
        {
          "output_type": "stream",
          "text": [
            "[('gc27',\n",
            "  '```````````````x`````c```````6`````````````8```````````````````````````````'),\n",
            " ('pe4x',\n",
            "  '````````````````2``n`````````f`````````2``6````````````````````````````````'),\n",
            " ('cdmn',\n",
            "  '`````````````````4``c```````n````````````7`````````````````````````````````'),\n",
            " ('5mff',\n",
            "  '```````````````x`````g````g```c``````````x``````y``````````````````````````')]\n",
            "EPOCH:179, train_loss=0.07067419588565826, valid_loss=0.4769844710826874\n"
          ],
          "name": "stdout"
        },
        {
          "output_type": "stream",
          "text": [
            "100%|██████████| 117/117 [00:02<00:00, 48.00it/s]\n",
            "100%|██████████| 13/13 [00:00<00:00, 30.19it/s]\n",
            "  0%|          | 0/117 [00:00<?, ?it/s]"
          ],
          "name": "stderr"
        },
        {
          "output_type": "stream",
          "text": [
            "[('gc27',\n",
            "  '```````````````x`````c```````6`````````````8```````````````````````````````'),\n",
            " ('pe4x',\n",
            "  '````````````````2``n`````````f`````````2``6````````````````````````````````'),\n",
            " ('cdmn',\n",
            "  '`````````````````4``e```````n````````````7`````````````````````````````````'),\n",
            " ('5mff',\n",
            "  '```````````````x`````g````g```c``````````x``````y``````````````````````````')]\n",
            "EPOCH:180, train_loss=0.06264244019985199, valid_loss=0.5381174087524414\n"
          ],
          "name": "stdout"
        },
        {
          "output_type": "stream",
          "text": [
            "100%|██████████| 117/117 [00:02<00:00, 48.86it/s]\n",
            "100%|██████████| 13/13 [00:00<00:00, 30.04it/s]\n",
            "  0%|          | 0/117 [00:00<?, ?it/s]"
          ],
          "name": "stderr"
        },
        {
          "output_type": "stream",
          "text": [
            "[('gc27',\n",
            "  '```````````````x`````c```````6`````````````8```````````````````````````````'),\n",
            " ('pe4x',\n",
            "  '````````````````2``n`````````f`````````2```````````````````````````````````'),\n",
            " ('cdmn',\n",
            "  '`````````````````4``e```````n````````````7`````````````````````````````````'),\n",
            " ('5mff',\n",
            "  '```````````````x``````````g``````````````x``````y``````````````````````````')]\n",
            "EPOCH:181, train_loss=0.06205977872014046, valid_loss=0.5071983337402344\n"
          ],
          "name": "stdout"
        },
        {
          "output_type": "stream",
          "text": [
            "100%|██████████| 117/117 [00:02<00:00, 47.19it/s]\n",
            "100%|██████████| 13/13 [00:00<00:00, 30.84it/s]\n",
            "  0%|          | 0/117 [00:00<?, ?it/s]"
          ],
          "name": "stderr"
        },
        {
          "output_type": "stream",
          "text": [
            "[('gc27',\n",
            "  '```````````````x`````c```````6`````````````8```````````````````````````````'),\n",
            " ('pe4x',\n",
            "  '````````````````2``n`````````f`````````2```````````````````````````````````'),\n",
            " ('cdmn',\n",
            "  '`````````````````4``e```````n````````````7`````````````````````````````````'),\n",
            " ('5mff',\n",
            "  '```````````````x`````g````g```c``````````x``````y``````````````````````````')]\n",
            "EPOCH:182, train_loss=0.05498476326465607, valid_loss=0.4965924024581909\n"
          ],
          "name": "stdout"
        },
        {
          "output_type": "stream",
          "text": [
            "100%|██████████| 117/117 [00:02<00:00, 48.71it/s]\n",
            "100%|██████████| 13/13 [00:00<00:00, 30.81it/s]\n",
            "  0%|          | 0/117 [00:00<?, ?it/s]"
          ],
          "name": "stderr"
        },
        {
          "output_type": "stream",
          "text": [
            "[('gc27',\n",
            "  '```````````````x`````c```````6````````````88```````````````````````````````'),\n",
            " ('pe4x',\n",
            "  '````````````````2``n`````````f`````````2``6````````````````````````````````'),\n",
            " ('cdmn',\n",
            "  '`````````````````4``e```````n````````````7`````````````````````````````````'),\n",
            " ('5mff',\n",
            "  '```````````````x`````g````g```c``````````x`````````````````````````````````')]\n",
            "EPOCH:183, train_loss=0.06547760963439941, valid_loss=0.6011123061180115\n"
          ],
          "name": "stdout"
        },
        {
          "output_type": "stream",
          "text": [
            "100%|██████████| 117/117 [00:02<00:00, 49.12it/s]\n",
            "100%|██████████| 13/13 [00:00<00:00, 30.68it/s]\n",
            "  0%|          | 0/117 [00:00<?, ?it/s]"
          ],
          "name": "stderr"
        },
        {
          "output_type": "stream",
          "text": [
            "[('gc27',\n",
            "  '```````````````x`````c```````6`````````````8```````````````````````````````'),\n",
            " ('pe4x',\n",
            "  '````````````````2``n`````````f`````````2```````````````````````````````````'),\n",
            " ('cdmn',\n",
            "  '`````````````````4``e```````n````````````7`````````````````````````````````'),\n",
            " ('5mff',\n",
            "  '```````````````x`````c````g```c`````````xx`````````````````````````````````')]\n",
            "EPOCH:184, train_loss=0.11395619809627533, valid_loss=0.5053368806838989\n"
          ],
          "name": "stdout"
        },
        {
          "output_type": "stream",
          "text": [
            "100%|██████████| 117/117 [00:02<00:00, 48.86it/s]\n",
            "100%|██████████| 13/13 [00:00<00:00, 31.42it/s]\n",
            "  0%|          | 0/117 [00:00<?, ?it/s]"
          ],
          "name": "stderr"
        },
        {
          "output_type": "stream",
          "text": [
            "[('gc27',\n",
            "  '```````````````x`````c```````6````````````38```````````````````````````````'),\n",
            " ('pe4x',\n",
            "  '````````````````22`n`````````f`````````2``6````````````````````````````````'),\n",
            " ('cdmn',\n",
            "  '`````````````````4``e```````n````````````7`````````````````````````````````'),\n",
            " ('5mff',\n",
            "  '```````````````x`````g````g```c`````````xx``````y``````````````````````````')]\n",
            "EPOCH:185, train_loss=0.08708348125219345, valid_loss=0.5519719123840332\n"
          ],
          "name": "stdout"
        },
        {
          "output_type": "stream",
          "text": [
            "100%|██████████| 117/117 [00:02<00:00, 48.80it/s]\n",
            "100%|██████████| 13/13 [00:00<00:00, 31.16it/s]\n",
            "  0%|          | 0/117 [00:00<?, ?it/s]"
          ],
          "name": "stderr"
        },
        {
          "output_type": "stream",
          "text": [
            "[('gc27',\n",
            "  '```````````````x`````c```````6`````````````8```````````````````````````````'),\n",
            " ('pe4x',\n",
            "  '````````````````2``n`````````f`````````2```````````````````````````````````'),\n",
            " ('cdmn',\n",
            "  '`````````````````4``e```````n````````````7`````````````````````````````````'),\n",
            " ('5mff',\n",
            "  '```````````````x`````g````g```c``````````x``````y``````````````````````````')]\n",
            "EPOCH:186, train_loss=0.07270798832178116, valid_loss=0.4758736491203308\n"
          ],
          "name": "stdout"
        },
        {
          "output_type": "stream",
          "text": [
            "100%|██████████| 117/117 [00:02<00:00, 48.74it/s]\n",
            "100%|██████████| 13/13 [00:00<00:00, 30.36it/s]\n",
            "  0%|          | 0/117 [00:00<?, ?it/s]"
          ],
          "name": "stderr"
        },
        {
          "output_type": "stream",
          "text": [
            "[('gc27',\n",
            "  '```````````````x`````c```````6`````````````8```````````````````````````````'),\n",
            " ('pe4x',\n",
            "  '````````````````2``n`````````f`````````2```````````````````````````````````'),\n",
            " ('cdmn',\n",
            "  '`````````````````4``c```````n````````````7`````````````````````````````````'),\n",
            " ('5mff',\n",
            "  '```````````````x``````````g```c``````````x`````````````````````````````````')]\n",
            "EPOCH:187, train_loss=0.06700699776411057, valid_loss=0.4869881868362427\n"
          ],
          "name": "stdout"
        },
        {
          "output_type": "stream",
          "text": [
            "100%|██████████| 117/117 [00:02<00:00, 49.38it/s]\n",
            "100%|██████████| 13/13 [00:00<00:00, 30.18it/s]\n",
            "  0%|          | 0/117 [00:00<?, ?it/s]"
          ],
          "name": "stderr"
        },
        {
          "output_type": "stream",
          "text": [
            "[('gc27',\n",
            "  '```````````````x`````c```````6`````````````8```````````````````````````````'),\n",
            " ('pe4x',\n",
            "  '````````````````22`n`````````f`````````2``6````````````````````````````````'),\n",
            " ('cdmn',\n",
            "  '`````````````````4``e```````n````````````7`````````````````````````````````'),\n",
            " ('5mff',\n",
            "  '```````````````x`````g````g```c`````````xx``````y``````````````````````````')]\n",
            "EPOCH:188, train_loss=0.06512930244207382, valid_loss=0.6076323390007019\n"
          ],
          "name": "stdout"
        },
        {
          "output_type": "stream",
          "text": [
            "100%|██████████| 117/117 [00:02<00:00, 49.88it/s]\n",
            "100%|██████████| 13/13 [00:00<00:00, 31.12it/s]\n",
            "  0%|          | 0/117 [00:00<?, ?it/s]"
          ],
          "name": "stderr"
        },
        {
          "output_type": "stream",
          "text": [
            "[('gc27',\n",
            "  '```````````````x`````c```````6`````````````8```````````````````````````````'),\n",
            " ('pe4x',\n",
            "  '````````````````2``n`````````f`````````2```````````````````````````````````'),\n",
            " ('cdmn',\n",
            "  '`````````````````4``c```````n````````````7`````````````````````````````````'),\n",
            " ('5mff',\n",
            "  '``````````````````````````g```c``````````x`````````````````````````````````')]\n",
            "EPOCH:189, train_loss=0.08163172006607056, valid_loss=0.5756699442863464\n"
          ],
          "name": "stdout"
        },
        {
          "output_type": "stream",
          "text": [
            "100%|██████████| 117/117 [00:02<00:00, 50.06it/s]\n",
            "100%|██████████| 13/13 [00:00<00:00, 31.24it/s]\n",
            "  0%|          | 0/117 [00:00<?, ?it/s]"
          ],
          "name": "stderr"
        },
        {
          "output_type": "stream",
          "text": [
            "[('gc27',\n",
            "  '```````````````x`````c```````6`````````````8```````````````````````````````'),\n",
            " ('pe4x',\n",
            "  '````````````````2``n`````````f`````````2```````````````````````````````````'),\n",
            " ('cdmn',\n",
            "  '`````````````````4``c```````n````````````7`````````````````````````````````'),\n",
            " ('5mff',\n",
            "  '```````````````x`````g````g```c``````````x`````````````````````````````````')]\n",
            "EPOCH:190, train_loss=0.08493906259536743, valid_loss=0.4873144030570984\n"
          ],
          "name": "stdout"
        },
        {
          "output_type": "stream",
          "text": [
            "100%|██████████| 117/117 [00:02<00:00, 48.82it/s]\n",
            "100%|██████████| 13/13 [00:00<00:00, 31.77it/s]\n",
            "  0%|          | 0/117 [00:00<?, ?it/s]"
          ],
          "name": "stderr"
        },
        {
          "output_type": "stream",
          "text": [
            "[('gc27',\n",
            "  '```````````````x`````c```````6`````````````8```````````````````````````````'),\n",
            " ('pe4x',\n",
            "  '````````````````22`n`````````f`````````2``6````````````````````````````````'),\n",
            " ('cdmn',\n",
            "  '`````````````````4``e```````n````````````7`````````````````````````````````'),\n",
            " ('5mff',\n",
            "  '```````````````x`````g````g```c``````````x`````````````````````````````````')]\n",
            "EPOCH:191, train_loss=0.06274048984050751, valid_loss=0.6050735116004944\n"
          ],
          "name": "stdout"
        },
        {
          "output_type": "stream",
          "text": [
            "100%|██████████| 117/117 [00:02<00:00, 49.71it/s]\n",
            "100%|██████████| 13/13 [00:00<00:00, 30.75it/s]\n",
            "  0%|          | 0/117 [00:00<?, ?it/s]"
          ],
          "name": "stderr"
        },
        {
          "output_type": "stream",
          "text": [
            "[('gc27',\n",
            "  '```````````````x`````c```````6`````````````8```````````````````````````````'),\n",
            " ('pe4x',\n",
            "  '````````````````22`n`````````f`````````2``6````````````````````````````````'),\n",
            " ('cdmn',\n",
            "  '`````````````````4``e```````n````````````7`````````````````````````````````'),\n",
            " ('5mff',\n",
            "  '```````````````x`````g````g```c`````````xx``````y``````````````````````````')]\n",
            "EPOCH:192, train_loss=0.0632513165473938, valid_loss=0.5264784693717957\n"
          ],
          "name": "stdout"
        },
        {
          "output_type": "stream",
          "text": [
            "100%|██████████| 117/117 [00:02<00:00, 50.47it/s]\n",
            "100%|██████████| 13/13 [00:00<00:00, 31.13it/s]\n",
            "  0%|          | 0/117 [00:00<?, ?it/s]"
          ],
          "name": "stderr"
        },
        {
          "output_type": "stream",
          "text": [
            "[('gc27',\n",
            "  '```````````````x`````c```````6`````````````8```````````````````````````````'),\n",
            " ('pe4x',\n",
            "  '````````````````22`n`````````f`````````2``6````````````````````````````````'),\n",
            " ('cdmn',\n",
            "  '`````````````````4``e```````n````````````7`````````````````````````````````'),\n",
            " ('5mff',\n",
            "  '```````````````x``````````g```c``````````x`````````````````````````````````')]\n",
            "EPOCH:193, train_loss=0.06653949618339539, valid_loss=0.5258058309555054\n"
          ],
          "name": "stdout"
        },
        {
          "output_type": "stream",
          "text": [
            "100%|██████████| 117/117 [00:02<00:00, 47.81it/s]\n",
            "100%|██████████| 13/13 [00:00<00:00, 30.75it/s]\n",
            "  0%|          | 0/117 [00:00<?, ?it/s]"
          ],
          "name": "stderr"
        },
        {
          "output_type": "stream",
          "text": [
            "[('gc27',\n",
            "  '```````````````x`````c```````6`````````````8```````````````````````````````'),\n",
            " ('pe4x',\n",
            "  '````````````````2``n`````````f`````````2``6````````````````````````````````'),\n",
            " ('cdmn',\n",
            "  '`````````````````4``e```````n````````````7`````````````````````````````````'),\n",
            " ('5mff',\n",
            "  '```````````````x`````g````g```c``````````x``````y``````````````````````````')]\n",
            "EPOCH:194, train_loss=0.059790726751089096, valid_loss=0.6883966326713562\n"
          ],
          "name": "stdout"
        },
        {
          "output_type": "stream",
          "text": [
            "100%|██████████| 117/117 [00:02<00:00, 49.45it/s]\n",
            "100%|██████████| 13/13 [00:00<00:00, 31.09it/s]\n",
            "  0%|          | 0/117 [00:00<?, ?it/s]"
          ],
          "name": "stderr"
        },
        {
          "output_type": "stream",
          "text": [
            "[('gc27',\n",
            "  '```````````````x`````c```````6`````````````8```````````````````````````````'),\n",
            " ('pe4x',\n",
            "  '````````````````22`n`````````f`````````2```````````````````````````````````'),\n",
            " ('cdmn',\n",
            "  '`````````````````4``e```````n````````````7`````````````````````````````````'),\n",
            " ('5mff',\n",
            "  '```````````````x`````g````g```c`````````xx`````````````````````````````````')]\n",
            "EPOCH:195, train_loss=0.08071333914995193, valid_loss=0.5665099620819092\n"
          ],
          "name": "stdout"
        },
        {
          "output_type": "stream",
          "text": [
            "100%|██████████| 117/117 [00:02<00:00, 49.05it/s]\n",
            "100%|██████████| 13/13 [00:00<00:00, 29.08it/s]\n",
            "  0%|          | 0/117 [00:00<?, ?it/s]"
          ],
          "name": "stderr"
        },
        {
          "output_type": "stream",
          "text": [
            "[('gc27',\n",
            "  '```````````````x`````c```````6`````````````8```````````````````````````````'),\n",
            " ('pe4x',\n",
            "  '````````````````2``n`````````f`````````2```````````````````````````````````'),\n",
            " ('cdmn',\n",
            "  '`````````````````4``e```````n````````````7`````````````````````````````````'),\n",
            " ('5mff',\n",
            "  '```````````````x`````g````g```c`````````xx``````y``````````````````````````')]\n",
            "EPOCH:196, train_loss=0.06045494228601456, valid_loss=0.5112912654876709\n"
          ],
          "name": "stdout"
        },
        {
          "output_type": "stream",
          "text": [
            "100%|██████████| 117/117 [00:02<00:00, 49.12it/s]\n",
            "100%|██████████| 13/13 [00:00<00:00, 30.36it/s]\n",
            "  0%|          | 0/117 [00:00<?, ?it/s]"
          ],
          "name": "stderr"
        },
        {
          "output_type": "stream",
          "text": [
            "[('gc27',\n",
            "  '```````````````x`````c```````6`````````````8```````````````````````````````'),\n",
            " ('pe4x',\n",
            "  '````````````````2``n`````````f`````````2``6````````````````````````````````'),\n",
            " ('cdmn',\n",
            "  '`````````````````4``e```````n````````````7`````````````````````````````````'),\n",
            " ('5mff',\n",
            "  '```````````````x``````````g```c``````````x`````````````````````````````````')]\n",
            "EPOCH:197, train_loss=0.057194121181964874, valid_loss=0.4780619442462921\n"
          ],
          "name": "stdout"
        },
        {
          "output_type": "stream",
          "text": [
            "100%|██████████| 117/117 [00:02<00:00, 48.66it/s]\n",
            "100%|██████████| 13/13 [00:00<00:00, 29.49it/s]\n",
            "  0%|          | 0/117 [00:00<?, ?it/s]"
          ],
          "name": "stderr"
        },
        {
          "output_type": "stream",
          "text": [
            "[('gc27',\n",
            "  '```````````````x`````c```````6`````````````8```````````````````````````````'),\n",
            " ('pe4x',\n",
            "  '````````````````2``n`````````f`````````2```````````````````````````````````'),\n",
            " ('cdmn',\n",
            "  '`````````````````4``e```````n````````````7`````````````````````````````````'),\n",
            " ('5mff',\n",
            "  '```````````````x`````g````g```c``````````x`````````````````````````````````')]\n",
            "EPOCH:198, train_loss=0.0663364827632904, valid_loss=0.5773308873176575\n"
          ],
          "name": "stdout"
        },
        {
          "output_type": "stream",
          "text": [
            "100%|██████████| 117/117 [00:02<00:00, 49.26it/s]\n",
            "100%|██████████| 13/13 [00:00<00:00, 30.70it/s]"
          ],
          "name": "stderr"
        },
        {
          "output_type": "stream",
          "text": [
            "[('gc27',\n",
            "  '```````````````x`````c```````6`````````````8```````````````````````````````'),\n",
            " ('pe4x',\n",
            "  '````````````````22`n`````````f`````````2``6````````````````````````````````'),\n",
            " ('cdmn',\n",
            "  '`````````````````4``e```````n````````````7`````````````````````````````````'),\n",
            " ('5mff',\n",
            "  '```````````````x`````g````g```c``````````x``````y``````````````````````````')]\n",
            "EPOCH:199, train_loss=0.09337785094976425, valid_loss=0.5470633506774902\n"
          ],
          "name": "stdout"
        },
        {
          "output_type": "stream",
          "text": [
            "\n"
          ],
          "name": "stderr"
        }
      ]
    },
    {
      "cell_type": "markdown",
      "metadata": {
        "id": "w0OFDe0C9EHg",
        "colab_type": "text"
      },
      "source": [
        "### view.py"
      ]
    },
    {
      "cell_type": "code",
      "metadata": {
        "id": "T_eN_o4x1GZt",
        "colab_type": "code",
        "colab": {}
      },
      "source": [
        "import os\n",
        "import glob\n",
        "import torch\n",
        "import numpy as np\n",
        "\n",
        "from sklearn import preprocessing\n",
        "from sklearn import model_selection\n",
        "from sklearn import metrics\n",
        "import matplotlib.pyplot as plt\n",
        "%matplotlib inline\n",
        "\n",
        "image_files = glob.glob('/content/captcha_images_v2/*.png')\n",
        "targets_orig = [x.split('/')[-1][:4] for x in image_files]  # \"'../../../abcd.png\"\n",
        "targets = [[c for c in x] for x in targets_orig]  # abcd --> [a, b, c, d]\n",
        "targets_flat = [c for clist in targets for c in clist]\n",
        "\n",
        "lbl_enc = preprocessing.LabelEncoder()\n",
        "lbl_enc.fit(targets_flat)\n",
        "targets_enc = [lbl_enc.transform(x) for x in targets]\n",
        "targets_enc = np.array(targets_enc) + 1\n",
        "\n",
        "\n",
        "(train_imgs, test_imgs, train_targets, test_targets, train_orig_targets, test_orig_targets) = \\\n",
        "model_selection.train_test_split(image_files, targets_enc, targets_orig, test_size=0.1, random_state=42)\n",
        "\n",
        "train_dataset = ClassificationDataset(image_paths=train_imgs, targets=train_targets, resize=(IMAGE_HEIGHT, IMAGE_WIDTH))"
      ],
      "execution_count": 11,
      "outputs": []
    },
    {
      "cell_type": "code",
      "metadata": {
        "id": "-O3dzqOW0Dq-",
        "colab_type": "code",
        "colab": {
          "base_uri": "https://localhost:8080/",
          "height": 169
        },
        "outputId": "3dcffc5b-85b2-4eb0-b062-7ce19dd2ac73"
      },
      "source": [
        "# train_dataset[0]\n",
        "npimg = train_dataset[200][\"images\"].numpy()\n",
        "# npimg\n",
        "# npimg.shape\n",
        "# np.transpose(npimg, (1,2,0)).shape\n",
        "plt.imshow(np.transpose(npimg, (1,2,0)))"
      ],
      "execution_count": 12,
      "outputs": [
        {
          "output_type": "stream",
          "text": [
            "Clipping input data to the valid range for imshow with RGB data ([0..1] for floats or [0..255] for integers).\n"
          ],
          "name": "stderr"
        },
        {
          "output_type": "execute_result",
          "data": {
            "text/plain": [
              "<matplotlib.image.AxesImage at 0x7f6cb41db9e8>"
            ]
          },
          "metadata": {
            "tags": []
          },
          "execution_count": 12
        },
        {
          "output_type": "display_data",
          "data": {
            "image/png": "[encoded data removed]",
            "text/plain": [
              "<Figure size 432x288 with 1 Axes>"
            ]
          },
          "metadata": {
            "tags": [],
            "needs_background": "light"
          }
        }
      ]
    },
    {
      "cell_type": "code",
      "metadata": {
        "id": "i_PPoywPz_kE",
        "colab_type": "code",
        "colab": {}
      },
      "source": [
        ""
      ],
      "execution_count": 12,
      "outputs": []
    },
    {
      "cell_type": "code",
      "metadata": {
        "id": "SUgssNYhz8dU",
        "colab_type": "code",
        "colab": {}
      },
      "source": [
        ""
      ],
      "execution_count": 12,
      "outputs": []
    },
    {
      "cell_type": "code",
      "metadata": {
        "id": "UhIW1Vynz6Ed",
        "colab_type": "code",
        "colab": {}
      },
      "source": [
        ""
      ],
      "execution_count": 12,
      "outputs": []
    },
    {
      "cell_type": "code",
      "metadata": {
        "id": "7-otD3F-YBJL",
        "colab_type": "code",
        "colab": {}
      },
      "source": [
        ""
      ],
      "execution_count": 12,
      "outputs": []
    },
    {
      "cell_type": "code",
      "metadata": {
        "id": "0SOCSzb-W8Ky",
        "colab_type": "code",
        "colab": {}
      },
      "source": [
        ""
      ],
      "execution_count": 12,
      "outputs": []
    }
  ]
}