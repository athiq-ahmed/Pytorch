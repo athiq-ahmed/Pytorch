{
  "nbformat": 4,
  "nbformat_minor": 0,
  "metadata": {
    "colab": {
      "name": "Captcha recognition using PyTorch (Convolutional-RNN + CTC Loss)",
      "provenance": [],
      "collapsed_sections": [],
      "authorship_tag": "ABX9TyOZXmX+iwoyCWfFw3v2x23r",
      "include_colab_link": true
    },
    "kernelspec": {
      "name": "python3",
      "display_name": "Python 3"
    },
    "accelerator": "GPU"
  },
  "cells": [
    {
      "cell_type": "markdown",
      "metadata": {
        "id": "view-in-github",
        "colab_type": "text"
      },
      "source": [
        "<a href=\"https://colab.research.google.com/github/athiq-ahmed/Pytorch/blob/master/Captcha_recognition_using_PyTorch_(Convolutional_RNN_%2B_CTC_Loss).ipynb\" target=\"_parent\"><img src=\"https://colab.research.google.com/assets/colab-badge.svg\" alt=\"Open In Colab\"/></a>"
      ]
    },
    {
      "cell_type": "code",
      "metadata": {
        "id": "a4l18NVL44Cb",
        "colab_type": "code",
        "colab": {
          "base_uri": "https://localhost:8080/",
          "height": 357
        },
        "outputId": "8ad40417-1d05-4725-c10e-06fad0208710"
      },
      "source": [
        "!nvidia-smi"
      ],
      "execution_count": 1,
      "outputs": [
        {
          "output_type": "stream",
          "text": [
            "Sat Sep 12 10:56:01 2020       \n",
            "+-----------------------------------------------------------------------------+\n",
            "| NVIDIA-SMI 450.66       Driver Version: 418.67       CUDA Version: 10.1     |\n",
            "|-------------------------------+----------------------+----------------------+\n",
            "| GPU  Name        Persistence-M| Bus-Id        Disp.A | Volatile Uncorr. ECC |\n",
            "| Fan  Temp  Perf  Pwr:Usage/Cap|         Memory-Usage | GPU-Util  Compute M. |\n",
            "|                               |                      |               MIG M. |\n",
            "|===============================+======================+======================|\n",
            "|   0  Tesla P100-PCIE...  Off  | 00000000:00:04.0 Off |                    0 |\n",
            "| N/A   33C    P0    25W / 250W |      0MiB / 16280MiB |      0%      Default |\n",
            "|                               |                      |                 ERR! |\n",
            "+-------------------------------+----------------------+----------------------+\n",
            "                                                                               \n",
            "+-----------------------------------------------------------------------------+\n",
            "| Processes:                                                                  |\n",
            "|  GPU   GI   CI        PID   Type   Process name                  GPU Memory |\n",
            "|        ID   ID                                                   Usage      |\n",
            "|=============================================================================|\n",
            "|  No running processes found                                                 |\n",
            "+-----------------------------------------------------------------------------+\n"
          ],
          "name": "stdout"
        }
      ]
    },
    {
      "cell_type": "code",
      "metadata": {
        "id": "dl2xh-wxvWon",
        "colab_type": "code",
        "colab": {
          "base_uri": "https://localhost:8080/",
          "height": 85
        },
        "outputId": "dbe80f45-dba3-4930-b315-4b428179d3f5"
      },
      "source": [
        "!curl -LO https://github.com/AakashKumarNain/CaptchaCracker/raw/master/captcha_images_v2.zip"
      ],
      "execution_count": 2,
      "outputs": [
        {
          "output_type": "stream",
          "text": [
            "  % Total    % Received % Xferd  Average Speed   Time    Time     Time  Current\n",
            "                                 Dload  Upload   Total   Spent    Left  Speed\n",
            "100   159  100   159    0     0    227      0 --:--:-- --:--:-- --:--:--   226\n",
            "100 8863k  100 8863k    0     0  6070k      0  0:00:01  0:00:01 --:--:-- 39.8M\n"
          ],
          "name": "stdout"
        }
      ]
    },
    {
      "cell_type": "code",
      "metadata": {
        "id": "mN2ImllIvaMh",
        "colab_type": "code",
        "colab": {}
      },
      "source": [
        "!unzip -qq captcha_images_v2.zip"
      ],
      "execution_count": 3,
      "outputs": []
    },
    {
      "cell_type": "markdown",
      "metadata": {
        "id": "6rBIHK16wYCW",
        "colab_type": "text"
      },
      "source": [
        "### Config.py"
      ]
    },
    {
      "cell_type": "code",
      "metadata": {
        "id": "aLKxfWZtwXiC",
        "colab_type": "code",
        "colab": {}
      },
      "source": [
        "DATA_DIR = '/content/captcha_images_v2'\n",
        "BATCH_SIZE = 8\n",
        "IMAGE_WIDTH = 300\n",
        "IMAGE_HEIGHT = 75\n",
        "NUM_WORKERS = 4\n",
        "EPOCHS = 200\n",
        "DEVICE = \"cuda\""
      ],
      "execution_count": 22,
      "outputs": []
    },
    {
      "cell_type": "code",
      "metadata": {
        "id": "ZcsZCbdJveUZ",
        "colab_type": "code",
        "colab": {}
      },
      "source": [
        "import glob\n",
        "# glob.glob('/content/captcha_images_v2/*.png')"
      ],
      "execution_count": 5,
      "outputs": []
    },
    {
      "cell_type": "markdown",
      "metadata": {
        "id": "2VRFv3kfxqzl",
        "colab_type": "text"
      },
      "source": [
        "### Dataset.py"
      ]
    },
    {
      "cell_type": "code",
      "metadata": {
        "id": "P9Wt_BuvxsK6",
        "colab_type": "code",
        "colab": {}
      },
      "source": [
        "import albumentations # for augmentations\n",
        "import torch\n",
        "import numpy as np\n",
        "\n",
        "from PIL import Image\n",
        "from PIL import ImageFile\n",
        "\n",
        "ImageFile.LOAD_TRUNCATED_IMAGES = True"
      ],
      "execution_count": 6,
      "outputs": []
    },
    {
      "cell_type": "code",
      "metadata": {
        "id": "06TNTq6exSyg",
        "colab_type": "code",
        "colab": {}
      },
      "source": [
        "class ClassificationDataset:\n",
        "  def __init__(self, image_paths, targets, resize=None):\n",
        "    self.image_paths = image_paths\n",
        "    self.targets = targets\n",
        "    self.resize = resize\n",
        "    self.aug = albumentations.Compose([albumentations.Normalize(always_apply=True)])\n",
        "\n",
        "  def __len__(self):\n",
        "    return len(self.image_paths)\n",
        "\n",
        "  def __getitem__(self, item):\n",
        "    image = Image.open(self.image_paths[item]).convert(\"RGB\")\n",
        "    targets = self.targets[item]\n",
        "\n",
        "    if self.resize is not None:\n",
        "      image = image.resize((self.resize[1], self.resize[0]), resample=Image.BILINEAR)\n",
        "\n",
        "    image = np.array(image)\n",
        "    augmented = self.aug(image=image)\n",
        "    image = augmented[\"image\"]\n",
        "    image = np.transpose(image, (2,0,1)).astype(np.float32)\n",
        "\n",
        "    return {\n",
        "        \"images\": torch.tensor(image, dtype=torch.float),\n",
        "        \"targets\": torch.tensor(targets, dtype=torch.long)\n",
        "    }"
      ],
      "execution_count": 7,
      "outputs": []
    },
    {
      "cell_type": "markdown",
      "metadata": {
        "id": "bwbg5Ae6CCbP",
        "colab_type": "text"
      },
      "source": [
        "### engine.py"
      ]
    },
    {
      "cell_type": "code",
      "metadata": {
        "id": "s5lMDPPXBuIR",
        "colab_type": "code",
        "colab": {}
      },
      "source": [
        "from tqdm import tqdm\n",
        "import torch\n",
        "\n",
        "def train_fn(model, data_loader, optimizer):\n",
        "  model.train()\n",
        "  fin_loss = 0\n",
        "  tk = tqdm(data_loader, total=len(data_loader))\n",
        "  for data in tk:\n",
        "    for k, v in data.items():\n",
        "      data[k] = v.to(DEVICE)\n",
        "    optimizer.zero_grad()\n",
        "    _, loss = model(**data)\n",
        "    loss.backward()\n",
        "    optimizer.step()\n",
        "    fin_loss += loss\n",
        "  return fin_loss / len(data_loader)\n",
        "\n",
        "def eval_fn(model, data_loader):\n",
        "  model.eval()\n",
        "  fin_loss = 0\n",
        "  fin_preds = []\n",
        "  with torch.no_grad():\n",
        "    tk = tqdm(data_loader, total=len(data_loader))\n",
        "    for data in tk:\n",
        "      for k, v in data.items():\n",
        "        data[k] = v.to(DEVICE)\n",
        "\n",
        "      preds, loss = model(**data)\n",
        "      fin_loss += loss\n",
        "      fin_preds.append(preds)\n",
        "    return fin_preds, fin_loss / len(data_loader)"
      ],
      "execution_count": 8,
      "outputs": []
    },
    {
      "cell_type": "markdown",
      "metadata": {
        "id": "V-UzZU_eL-lM",
        "colab_type": "text"
      },
      "source": [
        "### model.py"
      ]
    },
    {
      "cell_type": "code",
      "metadata": {
        "id": "IV61l6XmL9TF",
        "colab_type": "code",
        "colab": {}
      },
      "source": [
        "import torch\n",
        "from torch import nn\n",
        "from torch.nn import functional as F\n",
        "\n",
        "class CaptchaModel(nn.Module):\n",
        "  def __init__(self, num_chars):\n",
        "    super(CaptchaModel, self).__init__()\n",
        "    self.conv_1 = nn.Conv2d(3, 128, kernel_size=(3,3), padding=(1,1))\n",
        "    self.max_pool_1 = nn.MaxPool2d(kernel_size=(2,2))\n",
        "    self.conv_2 = nn.Conv2d(128, 64, kernel_size=(3,3), padding=(1,1))\n",
        "    self.max_pool_2 = nn.MaxPool2d(kernel_size=(2,2))\n",
        "\n",
        "    self.linear_1 = nn.Linear(1152, 64)\n",
        "    self.drop_1= nn.Dropout(0.2)\n",
        "\n",
        "    self.gru = nn.GRU(64, 32, bidirectional=True, num_layers=2, dropout=0.25)\n",
        "    self.output = nn.Linear(64, num_chars+1)\n",
        "\n",
        "  def forward(self, images, targets=None):\n",
        "    bs, c, h, w = images.size()\n",
        "    # print(bs, c, h, w)\n",
        "    x = F.relu(self.conv_1(images))\n",
        "    # print(x.size())\n",
        "    x = self.max_pool_1(x)\n",
        "    # print(x.size())\n",
        "    x = F.relu(self.conv_2(x))\n",
        "    # print(x.size())\n",
        "    x = self.max_pool_2(x) # [1, 64, 18, 75]\n",
        "    # print(x.size())\n",
        "    x = x.permute(0,3,1,2) # [1, 75, 64, 18]\n",
        "    # print(x.size())\n",
        "    x = x.view(bs, x.size(1), -1)\n",
        "    # print(x.size()) #[1, 75, 1152]\n",
        "    x = self.linear_1(x)\n",
        "    x = self.drop_1(x)\n",
        "    # print(x.size())\n",
        "    x, _ = self.gru(x)\n",
        "    # print(x.size())\n",
        "    x = self.output(x)\n",
        "    # print(x.size())\n",
        "    x = x.permute(1,0,2)\n",
        "    # print(x.size())\n",
        "\n",
        "    if targets is not None:\n",
        "      log_softmax_values = F.log_softmax(x, 2)\n",
        "      input_lengths = torch.full(size=(bs,),fill_value=log_softmax_values.size(0),dtype=torch.int32)\n",
        "      # print(input_lengths)\n",
        "      target_lengths = torch.full(size=(bs,),fill_value=targets.size(1),dtype=torch.int32)\n",
        "      # print(target_lengths)\n",
        "      loss = nn.CTCLoss(blank=0)(log_softmax_values, targets, input_lengths, target_lengths)\n",
        "      return x, loss\n",
        "\n",
        "    return x, None\n",
        "\n",
        "if __name__ == \"__main__\":\n",
        "  cm = CaptchaModel(19)\n",
        "  img = torch.rand(1,3,75,300)\n",
        "  target = torch.randint(1,20,(1,5))\n",
        "  x, loss = cm(img, target)\n"
      ],
      "execution_count": 13,
      "outputs": []
    },
    {
      "cell_type": "markdown",
      "metadata": {
        "id": "pNrIRPcF88Aj",
        "colab_type": "text"
      },
      "source": [
        "### train.py"
      ]
    },
    {
      "cell_type": "code",
      "metadata": {
        "id": "tc-XYTZZ3yNT",
        "colab_type": "code",
        "colab": {
          "base_uri": "https://localhost:8080/",
          "height": 1000
        },
        "outputId": "b78a90ed-be06-4de7-a77a-5eba897fa728"
      },
      "source": [
        "import os\n",
        "import glob\n",
        "import torch\n",
        "import numpy as np\n",
        "\n",
        "from sklearn import preprocessing\n",
        "from sklearn import model_selection\n",
        "from sklearn import metrics\n",
        "\n",
        "from pprint import pprint\n",
        "\n",
        "def decode_predictions(preds, encoder):\n",
        "  preds = preds.permute(1, 0 ,2)\n",
        "  preds = torch.softmax(preds, 2)\n",
        "  preds = torch.argmax(preds, 2)\n",
        "  preds = preds.detach().cpu().numpy()\n",
        "  cap_preds = []\n",
        "  for j in range(preds.shape[0]):\n",
        "    temp = []\n",
        "    for k in preds[j, :]:\n",
        "      k = k-1\n",
        "      if k == -1:\n",
        "        temp.append(\"`\")\n",
        "      else:\n",
        "        temp.append(encoder.inverse_transform([k])[0])\n",
        "    tp = \"\".join(temp)\n",
        "    cap_preds.append(tp)\n",
        "    return cap_preds\n",
        "\n",
        "\n",
        "def run_traning():\n",
        "  image_files = glob.glob('/content/captcha_images_v2/*.png')\n",
        "  targets_orig = [x.split('/')[-1][:4] for x in image_files]  # \"'../../../abcd.png\"\n",
        "  targets = [[c for c in x] for x in targets_orig]  # abcd --> [a, b, c, d]\n",
        "  targets_flat = [c for clist in targets for c in clist]\n",
        "\n",
        "  lbl_enc = preprocessing.LabelEncoder()\n",
        "  lbl_enc.fit(targets_flat)\n",
        "  targets_enc = [lbl_enc.transform(x) for x in targets]\n",
        "  targets_enc = np.array(targets_enc) + 1\n",
        "\n",
        "\n",
        "  (train_imgs, test_imgs, train_targets, test_targets, train_orig_targets, test_orig_targets) = \\\n",
        "  model_selection.train_test_split(image_files, targets_enc, targets_orig, test_size=0.1, random_state=42)\n",
        "\n",
        "  train_dataset = ClassificationDataset(image_paths=train_imgs, targets=train_targets, resize=(IMAGE_HEIGHT, IMAGE_WIDTH))\n",
        "  test_dataset = ClassificationDataset(image_paths=test_imgs, targets=test_targets, resize=(IMAGE_HEIGHT, IMAGE_WIDTH))\n",
        "\n",
        "  train_loader = torch.utils.data.DataLoader(train_dataset, batch_size=BATCH_SIZE, num_workers=NUM_WORKERS, shuffle=True)\n",
        "  test_loader = torch.utils.data.DataLoader(test_dataset, batch_size=BATCH_SIZE, num_workers=NUM_WORKERS, shuffle=False)\n",
        "\n",
        "  model = CaptchaModel(num_chars=len(lbl_enc.classes_))\n",
        "  model.to(DEVICE)\n",
        "\n",
        "  optimizer = torch.optim.Adam(model.parameters(), lr=3e-4)\n",
        "  scheduler = torch.optim.lr_scheduler.ReduceLROnPlateau(optimizer, factor=0.8, patience=5, verbose=True)\n",
        "\n",
        "  for epoch in range(EPOCHS):\n",
        "    train_loss = train_fn(model, train_loader, optimizer)\n",
        "    valid_preds, valid_loss = eval_fn(model, test_loader)\n",
        "\n",
        "    valid_cap_preds=[]\n",
        "    for vp in valid_preds:\n",
        "      current_preds = decode_predictions(vp, lbl_enc)\n",
        "      valid_cap_preds.extend(current_preds)\n",
        "    pprint(list(zip(test_orig_targets, valid_cap_preds))[6:10])\n",
        "    print(f'EPOCH:{epoch}, train_loss={train_loss}, valid_loss={valid_loss}')\n",
        "\n",
        "  # print(targets)\n",
        "  # print('*'*100)\n",
        "  # print(np.unique(targets_flat))\n",
        "  # print('*'*100)\n",
        "  # print(targets_enc)\n",
        "  # print('*'*100)\n",
        "  # print(len(lbl_enc.classes_))\n",
        "\n",
        "\n",
        "run_traning()"
      ],
      "execution_count": 23,
      "outputs": [
        {
          "output_type": "stream",
          "text": [
            "100%|██████████| 117/117 [00:02<00:00, 50.57it/s]\n",
            "100%|██████████| 13/13 [00:00<00:00, 37.40it/s]\n",
            "  0%|          | 0/117 [00:00<?, ?it/s]"
          ],
          "name": "stderr"
        },
        {
          "output_type": "stream",
          "text": [
            "[('gc27',\n",
            "  '```````````````````````````````````````````````````````````````````````````'),\n",
            " ('pe4x',\n",
            "  '```````````````````````````````````````````````````````````````````````````'),\n",
            " ('cdmn',\n",
            "  '```````````````````````````````````````````````````````````````````````````'),\n",
            " ('5mff',\n",
            "  '```````````````````````````````````````````````````````````````````````````')]\n",
            "EPOCH:0, train_loss=9.905404090881348, valid_loss=3.4535133838653564\n"
          ],
          "name": "stdout"
        },
        {
          "output_type": "stream",
          "text": [
            "100%|██████████| 117/117 [00:02<00:00, 50.95it/s]\n",
            "100%|██████████| 13/13 [00:00<00:00, 38.95it/s]\n",
            "  0%|          | 0/117 [00:00<?, ?it/s]"
          ],
          "name": "stderr"
        },
        {
          "output_type": "stream",
          "text": [
            "[('gc27',\n",
            "  '```````````````````````````````````````````````````````````````````````````'),\n",
            " ('pe4x',\n",
            "  '```````````````````````````````````````````````````````````````````````````'),\n",
            " ('cdmn',\n",
            "  '```````````````````````````````````````````````````````````````````````````'),\n",
            " ('5mff',\n",
            "  '```````````````````````````````````````````````````````````````````````````')]\n",
            "EPOCH:1, train_loss=3.4397318363189697, valid_loss=3.404492139816284\n"
          ],
          "name": "stdout"
        },
        {
          "output_type": "stream",
          "text": [
            "100%|██████████| 117/117 [00:02<00:00, 50.82it/s]\n",
            "100%|██████████| 13/13 [00:00<00:00, 38.55it/s]\n",
            "  0%|          | 0/117 [00:00<?, ?it/s]"
          ],
          "name": "stderr"
        },
        {
          "output_type": "stream",
          "text": [
            "[('gc27',\n",
            "  '```````````````````````````````````````````````````````````````````````````'),\n",
            " ('pe4x',\n",
            "  '```````````````````````````````````````````````````````````````````````````'),\n",
            " ('cdmn',\n",
            "  '```````````````````````````````````````````````````````````````````````````'),\n",
            " ('5mff',\n",
            "  '```````````````````````````````````````````````````````````````````````````')]\n",
            "EPOCH:2, train_loss=3.3890697956085205, valid_loss=3.388254404067993\n"
          ],
          "name": "stdout"
        },
        {
          "output_type": "stream",
          "text": [
            "100%|██████████| 117/117 [00:02<00:00, 50.68it/s]\n",
            "100%|██████████| 13/13 [00:00<00:00, 38.20it/s]\n",
            "  0%|          | 0/117 [00:00<?, ?it/s]"
          ],
          "name": "stderr"
        },
        {
          "output_type": "stream",
          "text": [
            "[('gc27',\n",
            "  '```````````````````````````````````````````````````````````````````````````'),\n",
            " ('pe4x',\n",
            "  '```````````````````````````````````````````````````````````````````````````'),\n",
            " ('cdmn',\n",
            "  '```````````````````````````````````````````````````````````````````````````'),\n",
            " ('5mff',\n",
            "  '```````````````````````````````````````````````````````````````````````````')]\n",
            "EPOCH:3, train_loss=3.3717336654663086, valid_loss=3.3790199756622314\n"
          ],
          "name": "stdout"
        },
        {
          "output_type": "stream",
          "text": [
            "100%|██████████| 117/117 [00:02<00:00, 50.73it/s]\n",
            "100%|██████████| 13/13 [00:00<00:00, 39.44it/s]\n",
            "  0%|          | 0/117 [00:00<?, ?it/s]"
          ],
          "name": "stderr"
        },
        {
          "output_type": "stream",
          "text": [
            "[('gc27',\n",
            "  '```````````````````````````````````````````````````````````````````````````'),\n",
            " ('pe4x',\n",
            "  '```````````````````````````````````````````````````````````````````````````'),\n",
            " ('cdmn',\n",
            "  '```````````````````````````````````````````````````````````````````````````'),\n",
            " ('5mff',\n",
            "  '```````````````````````````````````````````````````````````````````````````')]\n",
            "EPOCH:4, train_loss=3.362989902496338, valid_loss=3.3702802658081055\n"
          ],
          "name": "stdout"
        },
        {
          "output_type": "stream",
          "text": [
            "100%|██████████| 117/117 [00:02<00:00, 50.63it/s]\n",
            "100%|██████████| 13/13 [00:00<00:00, 37.97it/s]\n",
            "  0%|          | 0/117 [00:00<?, ?it/s]"
          ],
          "name": "stderr"
        },
        {
          "output_type": "stream",
          "text": [
            "[('gc27',\n",
            "  '```````````````````````````````````````````````````````````````````````````'),\n",
            " ('pe4x',\n",
            "  '```````````````````````````````````````````````````````````````````````````'),\n",
            " ('cdmn',\n",
            "  '```````````````````````````````````````````````````````````````````````````'),\n",
            " ('5mff',\n",
            "  '```````````````````````````````````````````````````````````````````````````')]\n",
            "EPOCH:5, train_loss=3.3561618328094482, valid_loss=3.3662092685699463\n"
          ],
          "name": "stdout"
        },
        {
          "output_type": "stream",
          "text": [
            "100%|██████████| 117/117 [00:02<00:00, 50.67it/s]\n",
            "100%|██████████| 13/13 [00:00<00:00, 39.56it/s]\n",
            "  0%|          | 0/117 [00:00<?, ?it/s]"
          ],
          "name": "stderr"
        },
        {
          "output_type": "stream",
          "text": [
            "[('gc27',\n",
            "  '```````````````````````````````````````````````````````````````````````````'),\n",
            " ('pe4x',\n",
            "  '```````````````````````````````````````````````````````````````````````````'),\n",
            " ('cdmn',\n",
            "  '```````````````````````````````````````````````````````````````````````````'),\n",
            " ('5mff',\n",
            "  '```````````````````````````````````````````````````````````````````````````')]\n",
            "EPOCH:6, train_loss=3.3505239486694336, valid_loss=3.364133596420288\n"
          ],
          "name": "stdout"
        },
        {
          "output_type": "stream",
          "text": [
            "100%|██████████| 117/117 [00:02<00:00, 50.52it/s]\n",
            "100%|██████████| 13/13 [00:00<00:00, 34.46it/s]\n",
            "  0%|          | 0/117 [00:00<?, ?it/s]"
          ],
          "name": "stderr"
        },
        {
          "output_type": "stream",
          "text": [
            "[('gc27',\n",
            "  '```````````````````````````````````````````````````````````````````````````'),\n",
            " ('pe4x',\n",
            "  '```````````````````````````````````````````````````````````````````````````'),\n",
            " ('cdmn',\n",
            "  '```````````````````````````````````````````````````````````````````````````'),\n",
            " ('5mff',\n",
            "  '```````````````````````````````````````````````````````````````````````````')]\n",
            "EPOCH:7, train_loss=3.3464579582214355, valid_loss=3.361543655395508\n"
          ],
          "name": "stdout"
        },
        {
          "output_type": "stream",
          "text": [
            "100%|██████████| 117/117 [00:02<00:00, 49.74it/s]\n",
            "100%|██████████| 13/13 [00:00<00:00, 34.14it/s]\n",
            "  0%|          | 0/117 [00:00<?, ?it/s]"
          ],
          "name": "stderr"
        },
        {
          "output_type": "stream",
          "text": [
            "[('gc27',\n",
            "  '```````````````````````````````````````````````````````````````````````````'),\n",
            " ('pe4x',\n",
            "  '```````````````````````````````````````````````````````````````````````````'),\n",
            " ('cdmn',\n",
            "  '```````````````````````````````````````````````````````````````````````````'),\n",
            " ('5mff',\n",
            "  '```````````````````````````````````````````````````````````````````````````')]\n",
            "EPOCH:8, train_loss=3.34285306930542, valid_loss=3.3619632720947266\n"
          ],
          "name": "stdout"
        },
        {
          "output_type": "stream",
          "text": [
            "100%|██████████| 117/117 [00:02<00:00, 49.44it/s]\n",
            "100%|██████████| 13/13 [00:00<00:00, 37.70it/s]\n",
            "  0%|          | 0/117 [00:00<?, ?it/s]"
          ],
          "name": "stderr"
        },
        {
          "output_type": "stream",
          "text": [
            "[('gc27',\n",
            "  '```````````````````````````````````````````````````````````````````````````'),\n",
            " ('pe4x',\n",
            "  '```````````````````````````````````````````````````````````````````````````'),\n",
            " ('cdmn',\n",
            "  '```````````````````````````````````````````````````````````````````````````'),\n",
            " ('5mff',\n",
            "  '```````````````````````````````````````````````````````````````````````````')]\n",
            "EPOCH:9, train_loss=3.3390393257141113, valid_loss=3.355255365371704\n"
          ],
          "name": "stdout"
        },
        {
          "output_type": "stream",
          "text": [
            "100%|██████████| 117/117 [00:02<00:00, 50.38it/s]\n",
            "100%|██████████| 13/13 [00:00<00:00, 38.50it/s]\n",
            "  0%|          | 0/117 [00:00<?, ?it/s]"
          ],
          "name": "stderr"
        },
        {
          "output_type": "stream",
          "text": [
            "[('gc27',\n",
            "  '```````````````````````````````````````````````````````````````````````````'),\n",
            " ('pe4x',\n",
            "  '```````````````````````````````````````````````````````````````````````````'),\n",
            " ('cdmn',\n",
            "  '```````````````````````````````````````````````````````````````````````````'),\n",
            " ('5mff',\n",
            "  '```````````````````````````````````````````````````````````````````````````')]\n",
            "EPOCH:10, train_loss=3.3388476371765137, valid_loss=3.3513834476470947\n"
          ],
          "name": "stdout"
        },
        {
          "output_type": "stream",
          "text": [
            "100%|██████████| 117/117 [00:02<00:00, 50.76it/s]\n",
            "100%|██████████| 13/13 [00:00<00:00, 38.79it/s]\n",
            "  0%|          | 0/117 [00:00<?, ?it/s]"
          ],
          "name": "stderr"
        },
        {
          "output_type": "stream",
          "text": [
            "[('gc27',\n",
            "  '```````````````````````````````````````````````````````````````````````````'),\n",
            " ('pe4x',\n",
            "  '```````````````````````````````````````````````````````````````````````````'),\n",
            " ('cdmn',\n",
            "  '```````````````````````````````````````````````````````````````````````````'),\n",
            " ('5mff',\n",
            "  '```````````````````````````````````````````````````````````````````````````')]\n",
            "EPOCH:11, train_loss=3.3356552124023438, valid_loss=3.3473594188690186\n"
          ],
          "name": "stdout"
        },
        {
          "output_type": "stream",
          "text": [
            "100%|██████████| 117/117 [00:02<00:00, 50.80it/s]\n",
            "100%|██████████| 13/13 [00:00<00:00, 38.90it/s]\n",
            "  0%|          | 0/117 [00:00<?, ?it/s]"
          ],
          "name": "stderr"
        },
        {
          "output_type": "stream",
          "text": [
            "[('gc27',\n",
            "  '```````````````````````````````````````````````````````````````````````````'),\n",
            " ('pe4x',\n",
            "  '```````````````````````````````````````````````````````````````````````````'),\n",
            " ('cdmn',\n",
            "  '```````````````````````````````````````````````````````````````````````````'),\n",
            " ('5mff',\n",
            "  '```````````````````````````````````````````````````````````````````````````')]\n",
            "EPOCH:12, train_loss=3.335153341293335, valid_loss=3.349532127380371\n"
          ],
          "name": "stdout"
        },
        {
          "output_type": "stream",
          "text": [
            "100%|██████████| 117/117 [00:02<00:00, 50.53it/s]\n",
            "100%|██████████| 13/13 [00:00<00:00, 37.63it/s]\n",
            "  0%|          | 0/117 [00:00<?, ?it/s]"
          ],
          "name": "stderr"
        },
        {
          "output_type": "stream",
          "text": [
            "[('gc27',\n",
            "  '```````````````````````````````````````````````````````````````````````````'),\n",
            " ('pe4x',\n",
            "  '```````````````````````````````````````````````````````````````````````````'),\n",
            " ('cdmn',\n",
            "  '```````````````````````````````````````````````````````````````````````````'),\n",
            " ('5mff',\n",
            "  '```````````````````````````````````````````````````````````````````````````')]\n",
            "EPOCH:13, train_loss=3.333218812942505, valid_loss=3.349372625350952\n"
          ],
          "name": "stdout"
        },
        {
          "output_type": "stream",
          "text": [
            "100%|██████████| 117/117 [00:02<00:00, 50.69it/s]\n",
            "100%|██████████| 13/13 [00:00<00:00, 38.96it/s]\n",
            "  0%|          | 0/117 [00:00<?, ?it/s]"
          ],
          "name": "stderr"
        },
        {
          "output_type": "stream",
          "text": [
            "[('gc27',\n",
            "  '```````````````````````````````````````````````````````````````````````````'),\n",
            " ('pe4x',\n",
            "  '```````````````````````````````````````````````````````````````````````````'),\n",
            " ('cdmn',\n",
            "  '```````````````````````````````````````````````````````````````````````````'),\n",
            " ('5mff',\n",
            "  '```````````````````````````````````````````````````````````````````````````')]\n",
            "EPOCH:14, train_loss=3.3329601287841797, valid_loss=3.3464395999908447\n"
          ],
          "name": "stdout"
        },
        {
          "output_type": "stream",
          "text": [
            "100%|██████████| 117/117 [00:02<00:00, 50.58it/s]\n",
            "100%|██████████| 13/13 [00:00<00:00, 38.58it/s]\n",
            "  0%|          | 0/117 [00:00<?, ?it/s]"
          ],
          "name": "stderr"
        },
        {
          "output_type": "stream",
          "text": [
            "[('gc27',\n",
            "  '```````````````````````````````````````````````````````````````````````````'),\n",
            " ('pe4x',\n",
            "  '```````````````````````````````````````````````````````````````````````````'),\n",
            " ('cdmn',\n",
            "  '```````````````````````````````````````````````````````````````````````````'),\n",
            " ('5mff',\n",
            "  '```````````````````````````````````````````````````````````````````````````')]\n",
            "EPOCH:15, train_loss=3.332822322845459, valid_loss=3.347621202468872\n"
          ],
          "name": "stdout"
        },
        {
          "output_type": "stream",
          "text": [
            "100%|██████████| 117/117 [00:02<00:00, 50.70it/s]\n",
            "100%|██████████| 13/13 [00:00<00:00, 38.05it/s]\n",
            "  0%|          | 0/117 [00:00<?, ?it/s]"
          ],
          "name": "stderr"
        },
        {
          "output_type": "stream",
          "text": [
            "[('gc27',\n",
            "  '```````````````````````````````````````````````````````````````````````````'),\n",
            " ('pe4x',\n",
            "  '```````````````````````````````````````````````````````````````````````````'),\n",
            " ('cdmn',\n",
            "  '```````````````````````````````````````````````````````````````````````````'),\n",
            " ('5mff',\n",
            "  '```````````````````````````````````````````````````````````````````````````')]\n",
            "EPOCH:16, train_loss=3.334022045135498, valid_loss=3.342625617980957\n"
          ],
          "name": "stdout"
        },
        {
          "output_type": "stream",
          "text": [
            "100%|██████████| 117/117 [00:02<00:00, 51.05it/s]\n",
            "100%|██████████| 13/13 [00:00<00:00, 39.84it/s]\n",
            "  0%|          | 0/117 [00:00<?, ?it/s]"
          ],
          "name": "stderr"
        },
        {
          "output_type": "stream",
          "text": [
            "[('gc27',\n",
            "  '```````````````````````````````````````````````````````````````````````````'),\n",
            " ('pe4x',\n",
            "  '```````````````````````````````````````````````````````````````````````````'),\n",
            " ('cdmn',\n",
            "  '```````````````````````````````````````````````````````````````````````````'),\n",
            " ('5mff',\n",
            "  '```````````````````````````````````````````````````````````````````````````')]\n",
            "EPOCH:17, train_loss=3.3322081565856934, valid_loss=3.3501100540161133\n"
          ],
          "name": "stdout"
        },
        {
          "output_type": "stream",
          "text": [
            "100%|██████████| 117/117 [00:02<00:00, 49.85it/s]\n",
            "100%|██████████| 13/13 [00:00<00:00, 38.01it/s]\n",
            "  0%|          | 0/117 [00:00<?, ?it/s]"
          ],
          "name": "stderr"
        },
        {
          "output_type": "stream",
          "text": [
            "[('gc27',\n",
            "  '```````````````````````````````````````````````````````````````````````````'),\n",
            " ('pe4x',\n",
            "  '```````````````````````````````````````````````````````````````````````````'),\n",
            " ('cdmn',\n",
            "  '```````````````````````````````````````````````````````````````````````````'),\n",
            " ('5mff',\n",
            "  '```````````````````````````````````````````````````````````````````````````')]\n",
            "EPOCH:18, train_loss=3.3323793411254883, valid_loss=3.346386432647705\n"
          ],
          "name": "stdout"
        },
        {
          "output_type": "stream",
          "text": [
            "100%|██████████| 117/117 [00:02<00:00, 50.32it/s]\n",
            "100%|██████████| 13/13 [00:00<00:00, 36.87it/s]\n",
            "  0%|          | 0/117 [00:00<?, ?it/s]"
          ],
          "name": "stderr"
        },
        {
          "output_type": "stream",
          "text": [
            "[('gc27',\n",
            "  '```````````````````````````````````````````````````````````````````````````'),\n",
            " ('pe4x',\n",
            "  '```````````````````````````````````````````````````````````````````````````'),\n",
            " ('cdmn',\n",
            "  '```````````````````````````````````````````````````````````````````````````'),\n",
            " ('5mff',\n",
            "  '```````````````````````````````````````````````````````````````````````````')]\n",
            "EPOCH:19, train_loss=3.331843614578247, valid_loss=3.3501055240631104\n"
          ],
          "name": "stdout"
        },
        {
          "output_type": "stream",
          "text": [
            "100%|██████████| 117/117 [00:02<00:00, 50.06it/s]\n",
            "100%|██████████| 13/13 [00:00<00:00, 39.15it/s]\n",
            "  0%|          | 0/117 [00:00<?, ?it/s]"
          ],
          "name": "stderr"
        },
        {
          "output_type": "stream",
          "text": [
            "[('gc27',\n",
            "  '```````````````````````````````````````````````````````````````````````````'),\n",
            " ('pe4x',\n",
            "  '```````````````````````````````````````````````````````````````````````````'),\n",
            " ('cdmn',\n",
            "  '```````````````````````````````````````````````````````````````````````````'),\n",
            " ('5mff',\n",
            "  '```````````````````````````````````````````````````````````````````````````')]\n",
            "EPOCH:20, train_loss=3.3312225341796875, valid_loss=3.3466498851776123\n"
          ],
          "name": "stdout"
        },
        {
          "output_type": "stream",
          "text": [
            "100%|██████████| 117/117 [00:02<00:00, 50.52it/s]\n",
            "100%|██████████| 13/13 [00:00<00:00, 34.53it/s]\n",
            "  0%|          | 0/117 [00:00<?, ?it/s]"
          ],
          "name": "stderr"
        },
        {
          "output_type": "stream",
          "text": [
            "[('gc27',\n",
            "  '```````````````````````````````````````````````````````````````````````````'),\n",
            " ('pe4x',\n",
            "  '```````````````````````````````````````````````````````````````````````````'),\n",
            " ('cdmn',\n",
            "  '```````````````````````````````````````````````````````````````````````````'),\n",
            " ('5mff',\n",
            "  '```````````````````````````````````````````````````````````````````````````')]\n",
            "EPOCH:21, train_loss=3.3321213722229004, valid_loss=3.347550392150879\n"
          ],
          "name": "stdout"
        },
        {
          "output_type": "stream",
          "text": [
            "100%|██████████| 117/117 [00:02<00:00, 50.58it/s]\n",
            "100%|██████████| 13/13 [00:00<00:00, 38.24it/s]\n",
            "  0%|          | 0/117 [00:00<?, ?it/s]"
          ],
          "name": "stderr"
        },
        {
          "output_type": "stream",
          "text": [
            "[('gc27',\n",
            "  '```````````````````````````````````````````````````````````````````````````'),\n",
            " ('pe4x',\n",
            "  '```````````````````````````````````````````````````````````````````````````'),\n",
            " ('cdmn',\n",
            "  '```````````````````````````````````````````````````````````````````````````'),\n",
            " ('5mff',\n",
            "  '```````````````````````````````````````````````````````````````````````````')]\n",
            "EPOCH:22, train_loss=3.332225799560547, valid_loss=3.350619316101074\n"
          ],
          "name": "stdout"
        },
        {
          "output_type": "stream",
          "text": [
            "100%|██████████| 117/117 [00:02<00:00, 50.28it/s]\n",
            "100%|██████████| 13/13 [00:00<00:00, 38.07it/s]\n",
            "  0%|          | 0/117 [00:00<?, ?it/s]"
          ],
          "name": "stderr"
        },
        {
          "output_type": "stream",
          "text": [
            "[('gc27',\n",
            "  '```````````````````````````````````````````````````````````````````````````'),\n",
            " ('pe4x',\n",
            "  '```````````````````````````````````````````````````````````````````````````'),\n",
            " ('cdmn',\n",
            "  '```````````````````````````````````````````````````````````````````````````'),\n",
            " ('5mff',\n",
            "  '```````````````````````````````````````````````````````````````````````````')]\n",
            "EPOCH:23, train_loss=3.3328347206115723, valid_loss=3.3512513637542725\n"
          ],
          "name": "stdout"
        },
        {
          "output_type": "stream",
          "text": [
            "100%|██████████| 117/117 [00:02<00:00, 50.35it/s]\n",
            "100%|██████████| 13/13 [00:00<00:00, 36.93it/s]\n",
            "  0%|          | 0/117 [00:00<?, ?it/s]"
          ],
          "name": "stderr"
        },
        {
          "output_type": "stream",
          "text": [
            "[('gc27',\n",
            "  '```````````````````````````````````````````````````````````````````````````'),\n",
            " ('pe4x',\n",
            "  '```````````````````````````````````````````````````````````````````````````'),\n",
            " ('cdmn',\n",
            "  '```````````````````````````````````````````````````````````````````````````'),\n",
            " ('5mff',\n",
            "  '```````````````````````````````````````````````````````````````````````````')]\n",
            "EPOCH:24, train_loss=3.332076072692871, valid_loss=3.343177080154419\n"
          ],
          "name": "stdout"
        },
        {
          "output_type": "stream",
          "text": [
            "100%|██████████| 117/117 [00:02<00:00, 50.17it/s]\n",
            "100%|██████████| 13/13 [00:00<00:00, 39.24it/s]\n",
            "  0%|          | 0/117 [00:00<?, ?it/s]"
          ],
          "name": "stderr"
        },
        {
          "output_type": "stream",
          "text": [
            "[('gc27',\n",
            "  '```````````````````````````````````````````````````````````````````````````'),\n",
            " ('pe4x',\n",
            "  '```````````````````````````````````````````````````````````````````````````'),\n",
            " ('cdmn',\n",
            "  '```````````````````````````````````````````````````````````````````````````'),\n",
            " ('5mff',\n",
            "  '```````````````````````````````````````````````````````````````````````````')]\n",
            "EPOCH:25, train_loss=3.3322081565856934, valid_loss=3.348159074783325\n"
          ],
          "name": "stdout"
        },
        {
          "output_type": "stream",
          "text": [
            "100%|██████████| 117/117 [00:02<00:00, 50.44it/s]\n",
            "100%|██████████| 13/13 [00:00<00:00, 38.72it/s]\n",
            "  0%|          | 0/117 [00:00<?, ?it/s]"
          ],
          "name": "stderr"
        },
        {
          "output_type": "stream",
          "text": [
            "[('gc27',\n",
            "  '```````````````````````````````````````````````````````````````````````````'),\n",
            " ('pe4x',\n",
            "  '```````````````````````````````````````````````````````````````````````````'),\n",
            " ('cdmn',\n",
            "  '```````````````````````````````````````````````````````````````````````````'),\n",
            " ('5mff',\n",
            "  '```````````````````````````````````````````````````````````````````````````')]\n",
            "EPOCH:26, train_loss=3.333000898361206, valid_loss=3.348562479019165\n"
          ],
          "name": "stdout"
        },
        {
          "output_type": "stream",
          "text": [
            "100%|██████████| 117/117 [00:02<00:00, 50.55it/s]\n",
            "100%|██████████| 13/13 [00:00<00:00, 38.28it/s]\n",
            "  0%|          | 0/117 [00:00<?, ?it/s]"
          ],
          "name": "stderr"
        },
        {
          "output_type": "stream",
          "text": [
            "[('gc27',\n",
            "  '```````````````````````````````````````````````````````````````````````````'),\n",
            " ('pe4x',\n",
            "  '```````````````````````````````````````````````````````````````````````````'),\n",
            " ('cdmn',\n",
            "  '```````````````````````````````````````````````````````````````````````````'),\n",
            " ('5mff',\n",
            "  '```````````````````````````````````````````````````````````````````````````')]\n",
            "EPOCH:27, train_loss=3.3322887420654297, valid_loss=3.3446571826934814\n"
          ],
          "name": "stdout"
        },
        {
          "output_type": "stream",
          "text": [
            "100%|██████████| 117/117 [00:02<00:00, 50.77it/s]\n",
            "100%|██████████| 13/13 [00:00<00:00, 38.54it/s]\n",
            "  0%|          | 0/117 [00:00<?, ?it/s]"
          ],
          "name": "stderr"
        },
        {
          "output_type": "stream",
          "text": [
            "[('gc27',\n",
            "  '```````````````````````````````````````````````````````````````````````````'),\n",
            " ('pe4x',\n",
            "  '```````````````````````````````````````````````````````````````````````````'),\n",
            " ('cdmn',\n",
            "  '```````````````````````````````````````````````````````````````````````````'),\n",
            " ('5mff',\n",
            "  '```````````````````````````````````````````````````````````````````````````')]\n",
            "EPOCH:28, train_loss=3.33298659324646, valid_loss=3.3450284004211426\n"
          ],
          "name": "stdout"
        },
        {
          "output_type": "stream",
          "text": [
            "100%|██████████| 117/117 [00:02<00:00, 50.60it/s]\n",
            "100%|██████████| 13/13 [00:00<00:00, 37.58it/s]\n",
            "  0%|          | 0/117 [00:00<?, ?it/s]"
          ],
          "name": "stderr"
        },
        {
          "output_type": "stream",
          "text": [
            "[('gc27',\n",
            "  '```````````````````````````````````````````````````````````````````````````'),\n",
            " ('pe4x',\n",
            "  '```````````````````````````````````````````````````````````````````````````'),\n",
            " ('cdmn',\n",
            "  '```````````````````````````````````````````````````````````````````````````'),\n",
            " ('5mff',\n",
            "  '```````````````````````````````````````````````````````````````````````````')]\n",
            "EPOCH:29, train_loss=3.3329033851623535, valid_loss=3.341266393661499\n"
          ],
          "name": "stdout"
        },
        {
          "output_type": "stream",
          "text": [
            "100%|██████████| 117/117 [00:02<00:00, 50.59it/s]\n",
            "100%|██████████| 13/13 [00:00<00:00, 38.26it/s]\n",
            "  0%|          | 0/117 [00:00<?, ?it/s]"
          ],
          "name": "stderr"
        },
        {
          "output_type": "stream",
          "text": [
            "[('gc27',\n",
            "  '```````````````````````````````````````````````````````````````````````````'),\n",
            " ('pe4x',\n",
            "  '```````````````````````````````````````````````````````````````````````````'),\n",
            " ('cdmn',\n",
            "  '```````````````````````````````````````````````````````````````````````````'),\n",
            " ('5mff',\n",
            "  '```````````````````````````````````````````````````````````````````````````')]\n",
            "EPOCH:30, train_loss=3.332136869430542, valid_loss=3.3472769260406494\n"
          ],
          "name": "stdout"
        },
        {
          "output_type": "stream",
          "text": [
            "100%|██████████| 117/117 [00:02<00:00, 48.61it/s]\n",
            "100%|██████████| 13/13 [00:00<00:00, 37.16it/s]\n",
            "  0%|          | 0/117 [00:00<?, ?it/s]"
          ],
          "name": "stderr"
        },
        {
          "output_type": "stream",
          "text": [
            "[('gc27',\n",
            "  '```````````````````````````````````````````````````````````````````````````'),\n",
            " ('pe4x',\n",
            "  '```````````````````````````````````````````````````````````````````````````'),\n",
            " ('cdmn',\n",
            "  '```````````````````````````````````````````````````````````````````````````'),\n",
            " ('5mff',\n",
            "  '```````````````````````````````````````````````````````````````````````````')]\n",
            "EPOCH:31, train_loss=3.332273483276367, valid_loss=3.341991662979126\n"
          ],
          "name": "stdout"
        },
        {
          "output_type": "stream",
          "text": [
            "100%|██████████| 117/117 [00:02<00:00, 50.29it/s]\n",
            "100%|██████████| 13/13 [00:00<00:00, 38.24it/s]\n",
            "  0%|          | 0/117 [00:00<?, ?it/s]"
          ],
          "name": "stderr"
        },
        {
          "output_type": "stream",
          "text": [
            "[('gc27',\n",
            "  '```````````````````````````````````````````````````````````````````````````'),\n",
            " ('pe4x',\n",
            "  '```````````````````````````````````````````````````````````````````````````'),\n",
            " ('cdmn',\n",
            "  '```````````````````````````````````````````````````````````````````````````'),\n",
            " ('5mff',\n",
            "  '```````````````````````````````````````````````````````````````````````````')]\n",
            "EPOCH:32, train_loss=3.332775115966797, valid_loss=3.347782611846924\n"
          ],
          "name": "stdout"
        },
        {
          "output_type": "stream",
          "text": [
            "100%|██████████| 117/117 [00:02<00:00, 50.71it/s]\n",
            "100%|██████████| 13/13 [00:00<00:00, 37.82it/s]\n",
            "  0%|          | 0/117 [00:00<?, ?it/s]"
          ],
          "name": "stderr"
        },
        {
          "output_type": "stream",
          "text": [
            "[('gc27',\n",
            "  '```````````````````````````````````````````````````````````````````````````'),\n",
            " ('pe4x',\n",
            "  '```````````````````````````````````````````````````````````````````````````'),\n",
            " ('cdmn',\n",
            "  '```````````````````````````````````````````````````````````````````````````'),\n",
            " ('5mff',\n",
            "  '```````````````````````````````````````````````````````````````````````````')]\n",
            "EPOCH:33, train_loss=3.332876205444336, valid_loss=3.3487424850463867\n"
          ],
          "name": "stdout"
        },
        {
          "output_type": "stream",
          "text": [
            "100%|██████████| 117/117 [00:02<00:00, 51.01it/s]\n",
            "100%|██████████| 13/13 [00:00<00:00, 38.07it/s]\n",
            "  0%|          | 0/117 [00:00<?, ?it/s]"
          ],
          "name": "stderr"
        },
        {
          "output_type": "stream",
          "text": [
            "[('gc27',\n",
            "  '```````````````````````````````````````````````````````````````````````````'),\n",
            " ('pe4x',\n",
            "  '```````````````````````````````````````````````````````````````````````````'),\n",
            " ('cdmn',\n",
            "  '```````````````````````````````````````````````````````````````````````````'),\n",
            " ('5mff',\n",
            "  '```````````````````````````````````````````````````````````````````````````')]\n",
            "EPOCH:34, train_loss=3.3331713676452637, valid_loss=3.342200756072998\n"
          ],
          "name": "stdout"
        },
        {
          "output_type": "stream",
          "text": [
            "100%|██████████| 117/117 [00:02<00:00, 50.73it/s]\n",
            "100%|██████████| 13/13 [00:00<00:00, 38.15it/s]\n",
            "  0%|          | 0/117 [00:00<?, ?it/s]"
          ],
          "name": "stderr"
        },
        {
          "output_type": "stream",
          "text": [
            "[('gc27',\n",
            "  '```````````````````````````````````````````````````````````````````````````'),\n",
            " ('pe4x',\n",
            "  '```````````````````````````````````````````````````````````````````````````'),\n",
            " ('cdmn',\n",
            "  '```````````````````````````````````````````````````````````````````````````'),\n",
            " ('5mff',\n",
            "  '```````````````````````````````````````````````````````````````````````````')]\n",
            "EPOCH:35, train_loss=3.33241605758667, valid_loss=3.3453633785247803\n"
          ],
          "name": "stdout"
        },
        {
          "output_type": "stream",
          "text": [
            "100%|██████████| 117/117 [00:02<00:00, 50.81it/s]\n",
            "100%|██████████| 13/13 [00:00<00:00, 38.40it/s]\n",
            "  0%|          | 0/117 [00:00<?, ?it/s]"
          ],
          "name": "stderr"
        },
        {
          "output_type": "stream",
          "text": [
            "[('gc27',\n",
            "  '```````````````````````````````````````````````````````````````````````````'),\n",
            " ('pe4x',\n",
            "  '```````````````````````````````````````````````````````````````````````````'),\n",
            " ('cdmn',\n",
            "  '```````````````````````````````````````````````````````````````````````````'),\n",
            " ('5mff',\n",
            "  '```````````````````````````````````````````````````````````````````````````')]\n",
            "EPOCH:36, train_loss=3.3335416316986084, valid_loss=3.345694065093994\n"
          ],
          "name": "stdout"
        },
        {
          "output_type": "stream",
          "text": [
            "100%|██████████| 117/117 [00:02<00:00, 50.88it/s]\n",
            "100%|██████████| 13/13 [00:00<00:00, 38.11it/s]\n",
            "  0%|          | 0/117 [00:00<?, ?it/s]"
          ],
          "name": "stderr"
        },
        {
          "output_type": "stream",
          "text": [
            "[('gc27',\n",
            "  '```````````````````````````````````````````````````````````````````````````'),\n",
            " ('pe4x',\n",
            "  '```````````````````````````````````````````````````````````````````````````'),\n",
            " ('cdmn',\n",
            "  '```````````````````````````````````````````````````````````````````````````'),\n",
            " ('5mff',\n",
            "  '```````````````````````````````````````````````````````````````````````````')]\n",
            "EPOCH:37, train_loss=3.332421064376831, valid_loss=3.349614143371582\n"
          ],
          "name": "stdout"
        },
        {
          "output_type": "stream",
          "text": [
            "100%|██████████| 117/117 [00:02<00:00, 50.53it/s]\n",
            "100%|██████████| 13/13 [00:00<00:00, 38.28it/s]\n",
            "  0%|          | 0/117 [00:00<?, ?it/s]"
          ],
          "name": "stderr"
        },
        {
          "output_type": "stream",
          "text": [
            "[('gc27',\n",
            "  '```````````````````````````````````````````````````````````````````````````'),\n",
            " ('pe4x',\n",
            "  '```````````````````````````````````````````````````````````````````````````'),\n",
            " ('cdmn',\n",
            "  '```````````````````````````````````````````````````````````````````````````'),\n",
            " ('5mff',\n",
            "  '```````````````````````````````````````````````````````````````````````````')]\n",
            "EPOCH:38, train_loss=3.3329219818115234, valid_loss=3.3413262367248535\n"
          ],
          "name": "stdout"
        },
        {
          "output_type": "stream",
          "text": [
            "100%|██████████| 117/117 [00:02<00:00, 50.55it/s]\n",
            "100%|██████████| 13/13 [00:00<00:00, 38.29it/s]\n",
            "  0%|          | 0/117 [00:00<?, ?it/s]"
          ],
          "name": "stderr"
        },
        {
          "output_type": "stream",
          "text": [
            "[('gc27',\n",
            "  '```````````````````````````````````````````````````````````````````````````'),\n",
            " ('pe4x',\n",
            "  '```````````````````````````````````````````````````````````````````````````'),\n",
            " ('cdmn',\n",
            "  '```````````````````````````````````````````````````````````````````````````'),\n",
            " ('5mff',\n",
            "  '```````````````````````````````````````````````````````````````````````````')]\n",
            "EPOCH:39, train_loss=3.3320746421813965, valid_loss=3.351425886154175\n"
          ],
          "name": "stdout"
        },
        {
          "output_type": "stream",
          "text": [
            "100%|██████████| 117/117 [00:02<00:00, 50.61it/s]\n",
            "100%|██████████| 13/13 [00:00<00:00, 38.86it/s]\n",
            "  0%|          | 0/117 [00:00<?, ?it/s]"
          ],
          "name": "stderr"
        },
        {
          "output_type": "stream",
          "text": [
            "[('gc27',\n",
            "  '```````````````````````````````````````````````````````````````````````````'),\n",
            " ('pe4x',\n",
            "  '```````````````````````````````````````````````````````````````````````````'),\n",
            " ('cdmn',\n",
            "  '```````````````````````````````````````````````````````````````````````````'),\n",
            " ('5mff',\n",
            "  '```````````````````````````````````````````````````````````````````````````')]\n",
            "EPOCH:40, train_loss=3.3326401710510254, valid_loss=3.3432788848876953\n"
          ],
          "name": "stdout"
        },
        {
          "output_type": "stream",
          "text": [
            "100%|██████████| 117/117 [00:02<00:00, 50.27it/s]\n",
            "100%|██████████| 13/13 [00:00<00:00, 37.62it/s]\n",
            "  0%|          | 0/117 [00:00<?, ?it/s]"
          ],
          "name": "stderr"
        },
        {
          "output_type": "stream",
          "text": [
            "[('gc27',\n",
            "  '```````````````````````````````````````````````````````````````````````````'),\n",
            " ('pe4x',\n",
            "  '```````````````````````````````````````````````````````````````````````````'),\n",
            " ('cdmn',\n",
            "  '```````````````````````````````````````````````````````````````````````````'),\n",
            " ('5mff',\n",
            "  '```````````````````````````````````````````````````````````````````````````')]\n",
            "EPOCH:41, train_loss=3.332609176635742, valid_loss=3.347522258758545\n"
          ],
          "name": "stdout"
        },
        {
          "output_type": "stream",
          "text": [
            "100%|██████████| 117/117 [00:02<00:00, 50.86it/s]\n",
            "100%|██████████| 13/13 [00:00<00:00, 38.58it/s]\n",
            "  0%|          | 0/117 [00:00<?, ?it/s]"
          ],
          "name": "stderr"
        },
        {
          "output_type": "stream",
          "text": [
            "[('gc27',\n",
            "  '```````````````````````````````````````````````````````````````````````````'),\n",
            " ('pe4x',\n",
            "  '```````````````````````````````````````````````````````````````````````````'),\n",
            " ('cdmn',\n",
            "  '```````````````````````````````````````````````````````````````````````````'),\n",
            " ('5mff',\n",
            "  '```````````````````````````````````````````````````````````````````````````')]\n",
            "EPOCH:42, train_loss=3.330312967300415, valid_loss=3.349771738052368\n"
          ],
          "name": "stdout"
        },
        {
          "output_type": "stream",
          "text": [
            "100%|██████████| 117/117 [00:02<00:00, 49.53it/s]\n",
            "100%|██████████| 13/13 [00:00<00:00, 37.60it/s]\n",
            "  0%|          | 0/117 [00:00<?, ?it/s]"
          ],
          "name": "stderr"
        },
        {
          "output_type": "stream",
          "text": [
            "[('gc27',\n",
            "  '```````````````````````````````````````````````````````````````````````````'),\n",
            " ('pe4x',\n",
            "  '```````````````````````````````````````````````````````````````````````````'),\n",
            " ('cdmn',\n",
            "  '```````````````````````````````````````````````````````````````````````````'),\n",
            " ('5mff',\n",
            "  '```````````````````````````````````````````````````````````````````````````')]\n",
            "EPOCH:43, train_loss=3.3267712593078613, valid_loss=3.362938642501831\n"
          ],
          "name": "stdout"
        },
        {
          "output_type": "stream",
          "text": [
            "100%|██████████| 117/117 [00:02<00:00, 50.54it/s]\n",
            "100%|██████████| 13/13 [00:00<00:00, 38.49it/s]\n",
            "  0%|          | 0/117 [00:00<?, ?it/s]"
          ],
          "name": "stderr"
        },
        {
          "output_type": "stream",
          "text": [
            "[('gc27',\n",
            "  '```````````````````````````````````````````````````````````````````````````'),\n",
            " ('pe4x',\n",
            "  '```````````````````````````````````````````````````````````````````````````'),\n",
            " ('cdmn',\n",
            "  '```````````````````````````````````````````````````````````````````````````'),\n",
            " ('5mff',\n",
            "  '```````````````````````````````````````````````````````````````````````````')]\n",
            "EPOCH:44, train_loss=3.311652660369873, valid_loss=3.2741711139678955\n"
          ],
          "name": "stdout"
        },
        {
          "output_type": "stream",
          "text": [
            "100%|██████████| 117/117 [00:02<00:00, 49.72it/s]\n",
            "100%|██████████| 13/13 [00:00<00:00, 36.21it/s]\n",
            "  0%|          | 0/117 [00:00<?, ?it/s]"
          ],
          "name": "stderr"
        },
        {
          "output_type": "stream",
          "text": [
            "[('gc27',\n",
            "  '```````````````````````````````````````````````````````````````````````````'),\n",
            " ('pe4x',\n",
            "  '```````````````````````````````````````````````````````````````````````````'),\n",
            " ('cdmn',\n",
            "  '```````````````````````````````````````````````````````````````````````````'),\n",
            " ('5mff',\n",
            "  '``````````````````````````p````````````````````````````````````````````````')]\n",
            "EPOCH:45, train_loss=3.2315046787261963, valid_loss=3.1498029232025146\n"
          ],
          "name": "stdout"
        },
        {
          "output_type": "stream",
          "text": [
            "100%|██████████| 117/117 [00:02<00:00, 50.14it/s]\n",
            "100%|██████████| 13/13 [00:00<00:00, 37.16it/s]\n",
            "  0%|          | 0/117 [00:00<?, ?it/s]"
          ],
          "name": "stderr"
        },
        {
          "output_type": "stream",
          "text": [
            "[('gc27',\n",
            "  '```````````````````````````````````````````````````````````````````````````'),\n",
            " ('pe4x',\n",
            "  '`````````````````````````````d`````````````````````````````````````````````'),\n",
            " ('cdmn',\n",
            "  '`````````````````d``````````````````````````d``````````````````````````````'),\n",
            " ('5mff',\n",
            "  '``````````````````````````p````````````````````````````````````````````````')]\n",
            "EPOCH:46, train_loss=3.074951410293579, valid_loss=2.99765944480896\n"
          ],
          "name": "stdout"
        },
        {
          "output_type": "stream",
          "text": [
            "100%|██████████| 117/117 [00:02<00:00, 49.73it/s]\n",
            "100%|██████████| 13/13 [00:00<00:00, 37.19it/s]\n",
            "  0%|          | 0/117 [00:00<?, ?it/s]"
          ],
          "name": "stderr"
        },
        {
          "output_type": "stream",
          "text": [
            "[('gc27',\n",
            "  '```````````````````````````````````````````````````````````````````````````'),\n",
            " ('pe4x',\n",
            "  '`````````````````````````````d`````````````````````````````````````````````'),\n",
            " ('cdmn',\n",
            "  '`````````````````d``````````````````````````b``````````````````````````````'),\n",
            " ('5mff',\n",
            "  '``````````````````````````p````````````````````````````````````````````````')]\n",
            "EPOCH:47, train_loss=2.892859697341919, valid_loss=2.8141705989837646\n"
          ],
          "name": "stdout"
        },
        {
          "output_type": "stream",
          "text": [
            "100%|██████████| 117/117 [00:02<00:00, 50.20it/s]\n",
            "100%|██████████| 13/13 [00:00<00:00, 38.55it/s]\n",
            "  0%|          | 0/117 [00:00<?, ?it/s]"
          ],
          "name": "stderr"
        },
        {
          "output_type": "stream",
          "text": [
            "[('gc27',\n",
            "  '```````````````````````````````````````````````````````````````````````````'),\n",
            " ('pe4x',\n",
            "  '`````````````````````````````d`````````````````````````````````````````````'),\n",
            " ('cdmn',\n",
            "  '`````````````````d``````````````````````````d``````````````````````````````'),\n",
            " ('5mff',\n",
            "  '``````````````````````````g````````````````````````````````````````````````')]\n",
            "EPOCH:48, train_loss=2.7163848876953125, valid_loss=2.5996382236480713\n"
          ],
          "name": "stdout"
        },
        {
          "output_type": "stream",
          "text": [
            "100%|██████████| 117/117 [00:02<00:00, 50.52it/s]\n",
            "100%|██████████| 13/13 [00:00<00:00, 38.38it/s]\n",
            "  0%|          | 0/117 [00:00<?, ?it/s]"
          ],
          "name": "stderr"
        },
        {
          "output_type": "stream",
          "text": [
            "[('gc27',\n",
            "  '```````````````````````````````````````````````````````````````````````````'),\n",
            " ('pe4x',\n",
            "  '`````````````````````````````d`````````````````````````````````````````````'),\n",
            " ('cdmn',\n",
            "  '`````````````````4``````````````````````````4``````````````````````````````'),\n",
            " ('5mff',\n",
            "  '``````````````````````````g````````````````````````````````````````````````')]\n",
            "EPOCH:49, train_loss=2.5230789184570312, valid_loss=2.4098148345947266\n"
          ],
          "name": "stdout"
        },
        {
          "output_type": "stream",
          "text": [
            "100%|██████████| 117/117 [00:02<00:00, 50.59it/s]\n",
            "100%|██████████| 13/13 [00:00<00:00, 38.43it/s]\n",
            "  0%|          | 0/117 [00:00<?, ?it/s]"
          ],
          "name": "stderr"
        },
        {
          "output_type": "stream",
          "text": [
            "[('gc27',\n",
            "  '```````````````````````````````````````````````````````````````````````````'),\n",
            " ('pe4x',\n",
            "  '```````````````````n````n````d`````````````````````````````````````````````'),\n",
            " ('cdmn',\n",
            "  '`````````````````4```````````````n``````````4``````````````````````````````'),\n",
            " ('5mff',\n",
            "  '``````````````````````````g````````````````````````````````````````````````')]\n",
            "EPOCH:50, train_loss=2.375422239303589, valid_loss=2.332526922225952\n"
          ],
          "name": "stdout"
        },
        {
          "output_type": "stream",
          "text": [
            "100%|██████████| 117/117 [00:02<00:00, 50.68it/s]\n",
            "100%|██████████| 13/13 [00:00<00:00, 38.42it/s]\n",
            "  0%|          | 0/117 [00:00<?, ?it/s]"
          ],
          "name": "stderr"
        },
        {
          "output_type": "stream",
          "text": [
            "[('gc27',\n",
            "  '```````````````````````````````````````````````````````````````````````````'),\n",
            " ('pe4x',\n",
            "  '`````````````````````````````d`````````````````````````````````````````````'),\n",
            " ('cdmn',\n",
            "  '`````````````````4``````````````````````````4``````````````````````````````'),\n",
            " ('5mff',\n",
            "  '``````````````````````````g`````````````````````y``````````````````````````')]\n",
            "EPOCH:51, train_loss=2.2090742588043213, valid_loss=2.17313814163208\n"
          ],
          "name": "stdout"
        },
        {
          "output_type": "stream",
          "text": [
            "100%|██████████| 117/117 [00:02<00:00, 50.32it/s]\n",
            "100%|██████████| 13/13 [00:00<00:00, 37.37it/s]\n",
            "  0%|          | 0/117 [00:00<?, ?it/s]"
          ],
          "name": "stderr"
        },
        {
          "output_type": "stream",
          "text": [
            "[('gc27',\n",
            "  '```````````````````````````````````````````3```````````````````````````````'),\n",
            " ('pe4x',\n",
            "  '```````````````````n````n````f`````````````````````````````````````````````'),\n",
            " ('cdmn',\n",
            "  '`````````````````4```````````````n``````````4``````````````````````````````'),\n",
            " ('5mff',\n",
            "  '``````````````````````````g`````````````````````y``````````````````````````')]\n",
            "EPOCH:52, train_loss=2.0142593383789062, valid_loss=1.9257420301437378\n"
          ],
          "name": "stdout"
        },
        {
          "output_type": "stream",
          "text": [
            "100%|██████████| 117/117 [00:02<00:00, 50.59it/s]\n",
            "100%|██████████| 13/13 [00:00<00:00, 36.57it/s]\n",
            "  0%|          | 0/117 [00:00<?, ?it/s]"
          ],
          "name": "stderr"
        },
        {
          "output_type": "stream",
          "text": [
            "[('gc27',\n",
            "  '```````````````````````````````````````````3```````````````````````````````'),\n",
            " ('pe4x',\n",
            "  '````````````````2``n````n````f`````````````````````````````````````````````'),\n",
            " ('cdmn',\n",
            "  '`````````````````4```````````````n``````````4``````````````````````````````'),\n",
            " ('5mff',\n",
            "  '``````````````````````````g`````````````````````y``````````````````````````')]\n",
            "EPOCH:53, train_loss=1.814183235168457, valid_loss=1.678654670715332\n"
          ],
          "name": "stdout"
        },
        {
          "output_type": "stream",
          "text": [
            "100%|██████████| 117/117 [00:02<00:00, 50.16it/s]\n",
            "100%|██████████| 13/13 [00:00<00:00, 37.62it/s]\n",
            "  0%|          | 0/117 [00:00<?, ?it/s]"
          ],
          "name": "stderr"
        },
        {
          "output_type": "stream",
          "text": [
            "[('gc27',\n",
            "  '```````````````````````````````````````````3```````````````````````````````'),\n",
            " ('pe4x',\n",
            "  '````````````````2``n````n````f`````````````````````````````````````````````'),\n",
            " ('cdmn',\n",
            "  '`````````````````4```````````````n`````````````````````````````````````````'),\n",
            " ('5mff',\n",
            "  '```````````````````````````````````````````````````````````````````````````')]\n",
            "EPOCH:54, train_loss=1.6118392944335938, valid_loss=1.470862627029419\n"
          ],
          "name": "stdout"
        },
        {
          "output_type": "stream",
          "text": [
            "100%|██████████| 117/117 [00:02<00:00, 50.05it/s]\n",
            "100%|██████████| 13/13 [00:00<00:00, 37.42it/s]\n",
            "  0%|          | 0/117 [00:00<?, ?it/s]"
          ],
          "name": "stderr"
        },
        {
          "output_type": "stream",
          "text": [
            "[('gc27',\n",
            "  '```````````````````````````````````````````3```````````````````````````````'),\n",
            " ('pe4x',\n",
            "  '````````````````2``n````n````f`````````2```````````````````````````````````'),\n",
            " ('cdmn',\n",
            "  '`````````````````4```````````````n`````````````````````````````````````````'),\n",
            " ('5mff',\n",
            "  '```````````````````````````````````````````````````````````````````````````')]\n",
            "EPOCH:55, train_loss=1.4654115438461304, valid_loss=1.282059907913208\n"
          ],
          "name": "stdout"
        },
        {
          "output_type": "stream",
          "text": [
            "100%|██████████| 117/117 [00:02<00:00, 50.61it/s]\n",
            "100%|██████████| 13/13 [00:00<00:00, 38.58it/s]\n",
            "  0%|          | 0/117 [00:00<?, ?it/s]"
          ],
          "name": "stderr"
        },
        {
          "output_type": "stream",
          "text": [
            "[('gc27',\n",
            "  '``````````````````````````````6````````````8```````````````````````````````'),\n",
            " ('pe4x',\n",
            "  '````````````````2``n````n````f`````````2```````````````````````````````````'),\n",
            " ('cdmn',\n",
            "  '`````````````````4```````````````n```````7`````````````````````````````````'),\n",
            " ('5mff',\n",
            "  '``````````````````````````g````````````````````````````````````````````````')]\n",
            "EPOCH:56, train_loss=1.2793381214141846, valid_loss=1.1209325790405273\n"
          ],
          "name": "stdout"
        },
        {
          "output_type": "stream",
          "text": [
            "100%|██████████| 117/117 [00:02<00:00, 50.32it/s]\n",
            "100%|██████████| 13/13 [00:00<00:00, 37.24it/s]\n",
            "  0%|          | 0/117 [00:00<?, ?it/s]"
          ],
          "name": "stderr"
        },
        {
          "output_type": "stream",
          "text": [
            "[('gc27',\n",
            "  '``````````````````````````````6````````````3```````````````````````````````'),\n",
            " ('pe4x',\n",
            "  '````````````````2``n````n````f`````````2```````````````````````````````````'),\n",
            " ('cdmn',\n",
            "  '`````````````````4```````````````n```````7`````````````````````````````````'),\n",
            " ('5mff',\n",
            "  '``````````````````````````g`````````````````````y``````````````````````````')]\n",
            "EPOCH:57, train_loss=1.141470193862915, valid_loss=0.9876043200492859\n"
          ],
          "name": "stdout"
        },
        {
          "output_type": "stream",
          "text": [
            "100%|██████████| 117/117 [00:02<00:00, 50.78it/s]\n",
            "100%|██████████| 13/13 [00:00<00:00, 37.63it/s]\n",
            "  0%|          | 0/117 [00:00<?, ?it/s]"
          ],
          "name": "stderr"
        },
        {
          "output_type": "stream",
          "text": [
            "[('gc27',\n",
            "  '``````````````````````````````6````````````8```````````````````````````````'),\n",
            " ('pe4x',\n",
            "  '````````````````2``n````n````f`````````2```````````````````````````````````'),\n",
            " ('cdmn',\n",
            "  '`````````````````4```````````````n`````````````````````````````````````````'),\n",
            " ('5mff',\n",
            "  '``````````````````````````g````````````````````````````````````````````````')]\n",
            "EPOCH:58, train_loss=1.0586903095245361, valid_loss=0.9217778444290161\n"
          ],
          "name": "stdout"
        },
        {
          "output_type": "stream",
          "text": [
            "100%|██████████| 117/117 [00:02<00:00, 50.83it/s]\n",
            "100%|██████████| 13/13 [00:00<00:00, 38.44it/s]\n",
            "  0%|          | 0/117 [00:00<?, ?it/s]"
          ],
          "name": "stderr"
        },
        {
          "output_type": "stream",
          "text": [
            "[('gc27',\n",
            "  '``````````````````````````````6````````````8```````````````````````````````'),\n",
            " ('pe4x',\n",
            "  '````````````````2``n````n````f`````````2```6```````````````````````````````'),\n",
            " ('cdmn',\n",
            "  '`````````````````4```e```````````n```````7`````````````````````````````````'),\n",
            " ('5mff',\n",
            "  '````````````````x`````````g````````````````````````````````````````````````')]\n",
            "EPOCH:59, train_loss=0.9521371126174927, valid_loss=0.8886396884918213\n"
          ],
          "name": "stdout"
        },
        {
          "output_type": "stream",
          "text": [
            "100%|██████████| 117/117 [00:02<00:00, 50.34it/s]\n",
            "100%|██████████| 13/13 [00:00<00:00, 37.83it/s]\n",
            "  0%|          | 0/117 [00:00<?, ?it/s]"
          ],
          "name": "stderr"
        },
        {
          "output_type": "stream",
          "text": [
            "[('gc27',\n",
            "  '``````````````````````````````6````````````8```````````````````````````````'),\n",
            " ('pe4x',\n",
            "  '````````````````2``n`````````f`````````2```````````````````````````````````'),\n",
            " ('cdmn',\n",
            "  '`````````````````4```````````````n```````7`````````````````````````````````'),\n",
            " ('5mff',\n",
            "  '````````````````x`````````g````````````````````````````````````````````````')]\n",
            "EPOCH:60, train_loss=0.9059163928031921, valid_loss=0.7847957015037537\n"
          ],
          "name": "stdout"
        },
        {
          "output_type": "stream",
          "text": [
            "100%|██████████| 117/117 [00:02<00:00, 50.79it/s]\n",
            "100%|██████████| 13/13 [00:00<00:00, 38.08it/s]\n",
            "  0%|          | 0/117 [00:00<?, ?it/s]"
          ],
          "name": "stderr"
        },
        {
          "output_type": "stream",
          "text": [
            "[('gc27',\n",
            "  '````````````````e`````````````66```````````8```````````````````````````````'),\n",
            " ('pe4x',\n",
            "  '````````````````2``n````n````f`````````2```6```````````````````````````````'),\n",
            " ('cdmn',\n",
            "  '`````````````````4```e```````````n```````7`````````````````````````````````'),\n",
            " ('5mff',\n",
            "  '````````````````x`````````g``````````````x`````````````````````````````````')]\n",
            "EPOCH:61, train_loss=0.8444591164588928, valid_loss=0.801410973072052\n"
          ],
          "name": "stdout"
        },
        {
          "output_type": "stream",
          "text": [
            "100%|██████████| 117/117 [00:02<00:00, 50.55it/s]\n",
            "100%|██████████| 13/13 [00:00<00:00, 38.39it/s]\n",
            "  0%|          | 0/117 [00:00<?, ?it/s]"
          ],
          "name": "stderr"
        },
        {
          "output_type": "stream",
          "text": [
            "[('gc27',\n",
            "  '````````````````e`````````````6````````````8```````````````````````````````'),\n",
            " ('pe4x',\n",
            "  '````````````````2``n````n````f`````````2```````````````````````````````````'),\n",
            " ('cdmn',\n",
            "  '`````````````````4```e```````````n```````7`````````````````````````````````'),\n",
            " ('5mff',\n",
            "  '````````````````x`````````g````````````````````````````````````````````````')]\n",
            "EPOCH:62, train_loss=0.7927006483078003, valid_loss=0.6803922057151794\n"
          ],
          "name": "stdout"
        },
        {
          "output_type": "stream",
          "text": [
            "100%|██████████| 117/117 [00:02<00:00, 50.83it/s]\n",
            "100%|██████████| 13/13 [00:00<00:00, 36.77it/s]\n",
            "  0%|          | 0/117 [00:00<?, ?it/s]"
          ],
          "name": "stderr"
        },
        {
          "output_type": "stream",
          "text": [
            "[('gc27',\n",
            "  '``````````````````````````````6````````````8```````````````````````````````'),\n",
            " ('pe4x',\n",
            "  '````````````````2````````````f`````````2```````````````````````````````````'),\n",
            " ('cdmn',\n",
            "  '`````````````````4```````````````n```````7`````````````````````````````````'),\n",
            " ('5mff',\n",
            "  '````````````````x`````````g````````````````````````````````````````````````')]\n",
            "EPOCH:63, train_loss=0.7400910258293152, valid_loss=0.6692584156990051\n"
          ],
          "name": "stdout"
        },
        {
          "output_type": "stream",
          "text": [
            "100%|██████████| 117/117 [00:02<00:00, 51.12it/s]\n",
            "100%|██████████| 13/13 [00:00<00:00, 39.58it/s]\n",
            "  0%|          | 0/117 [00:00<?, ?it/s]"
          ],
          "name": "stderr"
        },
        {
          "output_type": "stream",
          "text": [
            "[('gc27',\n",
            "  '````````````````e`````````````6````````````8```````````````````````````````'),\n",
            " ('pe4x',\n",
            "  '````````````````2``n````n````f`````````2```````````````````````````````````'),\n",
            " ('cdmn',\n",
            "  '`````````````````4```````````````n```````7`````````````````````````````````'),\n",
            " ('5mff',\n",
            "  '````````````````x`````````g``````````````x`````````````````````````````````')]\n",
            "EPOCH:64, train_loss=0.6892109513282776, valid_loss=0.6199978590011597\n"
          ],
          "name": "stdout"
        },
        {
          "output_type": "stream",
          "text": [
            "100%|██████████| 117/117 [00:02<00:00, 50.29it/s]\n",
            "100%|██████████| 13/13 [00:00<00:00, 38.98it/s]\n",
            "  0%|          | 0/117 [00:00<?, ?it/s]"
          ],
          "name": "stderr"
        },
        {
          "output_type": "stream",
          "text": [
            "[('gc27',\n",
            "  '````````````````x`````c```````6````````````8```````````````````````````````'),\n",
            " ('pe4x',\n",
            "  '````````````````2``n````n````f`````````2```6```````````````````````````````'),\n",
            " ('cdmn',\n",
            "  '`````````````````4```e```````````n```````7`````````````````````````````````'),\n",
            " ('5mff',\n",
            "  '````````````````x`````````g``````````````x`````````````````````````````````')]\n",
            "EPOCH:65, train_loss=0.6634732484817505, valid_loss=0.5681484341621399\n"
          ],
          "name": "stdout"
        },
        {
          "output_type": "stream",
          "text": [
            "100%|██████████| 117/117 [00:02<00:00, 50.39it/s]\n",
            "100%|██████████| 13/13 [00:00<00:00, 36.09it/s]\n",
            "  0%|          | 0/117 [00:00<?, ?it/s]"
          ],
          "name": "stderr"
        },
        {
          "output_type": "stream",
          "text": [
            "[('gc27',\n",
            "  '````````````````x`````````````6````````````8```````````````````````````````'),\n",
            " ('pe4x',\n",
            "  '````````````````2``n````n````f`````````2```````````````````````````````````'),\n",
            " ('cdmn',\n",
            "  '`````````````````4```````````````n```````7`````````````````````````````````'),\n",
            " ('5mff',\n",
            "  '````````````````x`````````g````````````````````````````````````````````````')]\n",
            "EPOCH:66, train_loss=0.5897229909896851, valid_loss=0.5154878497123718\n"
          ],
          "name": "stdout"
        },
        {
          "output_type": "stream",
          "text": [
            "100%|██████████| 117/117 [00:02<00:00, 50.44it/s]\n",
            "100%|██████████| 13/13 [00:00<00:00, 38.74it/s]\n",
            "  0%|          | 0/117 [00:00<?, ?it/s]"
          ],
          "name": "stderr"
        },
        {
          "output_type": "stream",
          "text": [
            "[('gc27',\n",
            "  '````````````````x`````````````66```````````8```````````````````````````````'),\n",
            " ('pe4x',\n",
            "  '````````````````2``n````n````f`````````2```````````````````````````````````'),\n",
            " ('cdmn',\n",
            "  '`````````````````4```e```````````n```````7`````````````````````````````````'),\n",
            " ('5mff',\n",
            "  '````````````````x`````````g``````````````xc````````````````````````````````')]\n",
            "EPOCH:67, train_loss=0.5982179045677185, valid_loss=0.5605972409248352\n"
          ],
          "name": "stdout"
        },
        {
          "output_type": "stream",
          "text": [
            "100%|██████████| 117/117 [00:02<00:00, 50.76it/s]\n",
            "100%|██████████| 13/13 [00:00<00:00, 37.72it/s]\n",
            "  0%|          | 0/117 [00:00<?, ?it/s]"
          ],
          "name": "stderr"
        },
        {
          "output_type": "stream",
          "text": [
            "[('gc27',\n",
            "  '``````````````````````````````6````````````8```````````````````````````````'),\n",
            " ('pe4x',\n",
            "  '````````````````2````````````f`````````2```````````````````````````````````'),\n",
            " ('cdmn',\n",
            "  '`````````````````4```````````````n```````7`````````````````````````````````'),\n",
            " ('5mff',\n",
            "  '````````````````x`````````g````````````````````````````````````````````````')]\n",
            "EPOCH:68, train_loss=0.5308178663253784, valid_loss=0.5281373262405396\n"
          ],
          "name": "stdout"
        },
        {
          "output_type": "stream",
          "text": [
            "100%|██████████| 117/117 [00:02<00:00, 51.11it/s]\n",
            "100%|██████████| 13/13 [00:00<00:00, 38.34it/s]\n",
            "  0%|          | 0/117 [00:00<?, ?it/s]"
          ],
          "name": "stderr"
        },
        {
          "output_type": "stream",
          "text": [
            "[('gc27',\n",
            "  '````````````````x`````c```````6````````````8```````````````````````````````'),\n",
            " ('pe4x',\n",
            "  '````````````````2``n`````````f`````````2```````````````````````````````````'),\n",
            " ('cdmn',\n",
            "  '`````````````````4```e```````````n```````7`````````````````````````````````'),\n",
            " ('5mff',\n",
            "  '````````````````x`````````g````c`````````xc````````````````````````````````')]\n",
            "EPOCH:69, train_loss=0.5129795074462891, valid_loss=0.4726567566394806\n"
          ],
          "name": "stdout"
        },
        {
          "output_type": "stream",
          "text": [
            "100%|██████████| 117/117 [00:02<00:00, 49.59it/s]\n",
            "100%|██████████| 13/13 [00:00<00:00, 38.50it/s]\n",
            "  0%|          | 0/117 [00:00<?, ?it/s]"
          ],
          "name": "stderr"
        },
        {
          "output_type": "stream",
          "text": [
            "[('gc27',\n",
            "  '````````````````x`````c```````66```````````8```````````````````````````````'),\n",
            " ('pe4x',\n",
            "  '````````````````2``n````n````f`````````2```6```````````````````````````````'),\n",
            " ('cdmn',\n",
            "  '`````````````````4```ee``````````n```````7`````````````````````````````````'),\n",
            " ('5mff',\n",
            "  '````````````````x`````````g``````````````xc````````````````````````````````')]\n",
            "EPOCH:70, train_loss=0.4831222891807556, valid_loss=0.46699199080467224\n"
          ],
          "name": "stdout"
        },
        {
          "output_type": "stream",
          "text": [
            "100%|██████████| 117/117 [00:02<00:00, 50.85it/s]\n",
            "100%|██████████| 13/13 [00:00<00:00, 37.02it/s]\n",
            "  0%|          | 0/117 [00:00<?, ?it/s]"
          ],
          "name": "stderr"
        },
        {
          "output_type": "stream",
          "text": [
            "[('gc27',\n",
            "  '``````````````````````````````6````````````8```````````````````````````````'),\n",
            " ('pe4x',\n",
            "  '````````````````2``n`````````f`````````2```````````````````````````````````'),\n",
            " ('cdmn',\n",
            "  '`````````````````4```e```````````n```````7`````````````````````````````````'),\n",
            " ('5mff',\n",
            "  '````````````````x`````````g````````````````````````````````````````````````')]\n",
            "EPOCH:71, train_loss=0.4607820510864258, valid_loss=0.4741230309009552\n"
          ],
          "name": "stdout"
        },
        {
          "output_type": "stream",
          "text": [
            "100%|██████████| 117/117 [00:02<00:00, 50.93it/s]\n",
            "100%|██████████| 13/13 [00:00<00:00, 38.06it/s]\n",
            "  0%|          | 0/117 [00:00<?, ?it/s]"
          ],
          "name": "stderr"
        },
        {
          "output_type": "stream",
          "text": [
            "[('gc27',\n",
            "  '````````````````x`````c```````66```````````8```````````````````````````````'),\n",
            " ('pe4x',\n",
            "  '````````````````2``n````n````f`````````2```6```````````````````````````````'),\n",
            " ('cdmn',\n",
            "  '`````````````````4```e```````````n``````77`````````````````````````````````'),\n",
            " ('5mff',\n",
            "  '````````````````x`````````g````c`````````xx````````````````````````````````')]\n",
            "EPOCH:72, train_loss=0.45768076181411743, valid_loss=0.5109544992446899\n"
          ],
          "name": "stdout"
        },
        {
          "output_type": "stream",
          "text": [
            "100%|██████████| 117/117 [00:02<00:00, 50.82it/s]\n",
            "100%|██████████| 13/13 [00:00<00:00, 38.71it/s]\n",
            "  0%|          | 0/117 [00:00<?, ?it/s]"
          ],
          "name": "stderr"
        },
        {
          "output_type": "stream",
          "text": [
            "[('gc27',\n",
            "  '````````````````x`````````````6````````````8```````````````````````````````'),\n",
            " ('pe4x',\n",
            "  '````````````````2``n````n````f`````````2```6```````````````````````````````'),\n",
            " ('cdmn',\n",
            "  '`````````````````4```e```````````n``````77`````````````````````````````````'),\n",
            " ('5mff',\n",
            "  '````````````````x`````````g``````````````x`````````````````````````````````')]\n",
            "EPOCH:73, train_loss=0.4271431267261505, valid_loss=0.4376298189163208\n"
          ],
          "name": "stdout"
        },
        {
          "output_type": "stream",
          "text": [
            "100%|██████████| 117/117 [00:02<00:00, 49.61it/s]\n",
            "100%|██████████| 13/13 [00:00<00:00, 36.74it/s]\n",
            "  0%|          | 0/117 [00:00<?, ?it/s]"
          ],
          "name": "stderr"
        },
        {
          "output_type": "stream",
          "text": [
            "[('gc27',\n",
            "  '````````````````x`````c```````6````````````8```````````````````````````````'),\n",
            " ('pe4x',\n",
            "  '````````````````2``n`````````f`````````2```6```````````````````````````````'),\n",
            " ('cdmn',\n",
            "  '`````````````````4```e```````````n```````7`````````````````````````````````'),\n",
            " ('5mff',\n",
            "  '````````````````x`````````g````c`````````x``````y``````````````````````````')]\n",
            "EPOCH:74, train_loss=0.39613327383995056, valid_loss=0.4233682155609131\n"
          ],
          "name": "stdout"
        },
        {
          "output_type": "stream",
          "text": [
            "100%|██████████| 117/117 [00:02<00:00, 50.57it/s]\n",
            "100%|██████████| 13/13 [00:00<00:00, 38.46it/s]\n",
            "  0%|          | 0/117 [00:00<?, ?it/s]"
          ],
          "name": "stderr"
        },
        {
          "output_type": "stream",
          "text": [
            "[('gc27',\n",
            "  '````````````````x`````````````6````````````8```````````````````````````````'),\n",
            " ('pe4x',\n",
            "  '````````````````2``n`````````f`````````2```````````````````````````````````'),\n",
            " ('cdmn',\n",
            "  '`````````````````4```e```````````n``````77`````````````````````````````````'),\n",
            " ('5mff',\n",
            "  '````````````````x`````````g``````````````x`````````````````````````````````')]\n",
            "EPOCH:75, train_loss=0.38622575998306274, valid_loss=0.4370478391647339\n"
          ],
          "name": "stdout"
        },
        {
          "output_type": "stream",
          "text": [
            "100%|██████████| 117/117 [00:02<00:00, 49.72it/s]\n",
            "100%|██████████| 13/13 [00:00<00:00, 37.19it/s]\n",
            "  0%|          | 0/117 [00:00<?, ?it/s]"
          ],
          "name": "stderr"
        },
        {
          "output_type": "stream",
          "text": [
            "[('gc27',\n",
            "  '````````````````x`````````````6````````````8```````````````````````````````'),\n",
            " ('pe4x',\n",
            "  '````````````````2``n`````````f`````````2```````````````````````````````````'),\n",
            " ('cdmn',\n",
            "  '`````````````````4```````````````n```````7`````````````````````````````````'),\n",
            " ('5mff',\n",
            "  '````````````````x`````````g``````````````x`````````````````````````````````')]\n",
            "EPOCH:76, train_loss=0.37456583976745605, valid_loss=0.4256039261817932\n"
          ],
          "name": "stdout"
        },
        {
          "output_type": "stream",
          "text": [
            "100%|██████████| 117/117 [00:02<00:00, 50.63it/s]\n",
            "100%|██████████| 13/13 [00:00<00:00, 37.75it/s]\n",
            "  0%|          | 0/117 [00:00<?, ?it/s]"
          ],
          "name": "stderr"
        },
        {
          "output_type": "stream",
          "text": [
            "[('gc27',\n",
            "  '````````````````x`````````````6````````````8```````````````````````````````'),\n",
            " ('pe4x',\n",
            "  '````````````````2``n`````````f`````````2```````````````````````````````````'),\n",
            " ('cdmn',\n",
            "  '`````````````````4```e```````````n```````7`````````````````````````````````'),\n",
            " ('5mff',\n",
            "  '````````````````x`````````g``````````````x`````````````````````````````````')]\n",
            "EPOCH:77, train_loss=0.34375664591789246, valid_loss=0.34734830260276794\n"
          ],
          "name": "stdout"
        },
        {
          "output_type": "stream",
          "text": [
            "100%|██████████| 117/117 [00:02<00:00, 49.43it/s]\n",
            "100%|██████████| 13/13 [00:00<00:00, 36.04it/s]\n",
            "  0%|          | 0/117 [00:00<?, ?it/s]"
          ],
          "name": "stderr"
        },
        {
          "output_type": "stream",
          "text": [
            "[('gc27',\n",
            "  '````````````````x`````````````6````````````8```````````````````````````````'),\n",
            " ('pe4x',\n",
            "  '````````````````2``n`````````f`````````2```````````````````````````````````'),\n",
            " ('cdmn',\n",
            "  '`````````````````4```e```````````n```````7`````````````````````````````````'),\n",
            " ('5mff',\n",
            "  '````````````````x`````````g``````````````x`````````````````````````````````')]\n",
            "EPOCH:78, train_loss=0.339869886636734, valid_loss=0.3976546823978424\n"
          ],
          "name": "stdout"
        },
        {
          "output_type": "stream",
          "text": [
            "100%|██████████| 117/117 [00:02<00:00, 49.95it/s]\n",
            "100%|██████████| 13/13 [00:00<00:00, 37.08it/s]\n",
            "  0%|          | 0/117 [00:00<?, ?it/s]"
          ],
          "name": "stderr"
        },
        {
          "output_type": "stream",
          "text": [
            "[('gc27',\n",
            "  '````````````````x`````````````6````````````8```````````````````````````````'),\n",
            " ('pe4x',\n",
            "  '````````````````2``n`````````f`````````2```````````````````````````````````'),\n",
            " ('cdmn',\n",
            "  '`````````````````4```e```````````n``````77`````````````````````````````````'),\n",
            " ('5mff',\n",
            "  '````````````````x`````````g``````````````x`````````````````````````````````')]\n",
            "EPOCH:79, train_loss=0.3101404011249542, valid_loss=0.4164794683456421\n"
          ],
          "name": "stdout"
        },
        {
          "output_type": "stream",
          "text": [
            "100%|██████████| 117/117 [00:02<00:00, 50.66it/s]\n",
            "100%|██████████| 13/13 [00:00<00:00, 38.65it/s]\n",
            "  0%|          | 0/117 [00:00<?, ?it/s]"
          ],
          "name": "stderr"
        },
        {
          "output_type": "stream",
          "text": [
            "[('gc27',\n",
            "  '````````````````x`````````````6````````````8```````````````````````````````'),\n",
            " ('pe4x',\n",
            "  '````````````````2``n`````````f`````````2```````````````````````````````````'),\n",
            " ('cdmn',\n",
            "  '`````````````````4```e```````````n``````77`````````````````````````````````'),\n",
            " ('5mff',\n",
            "  '````````````````x`````````g````c`````````x`````````````````````````````````')]\n",
            "EPOCH:80, train_loss=0.32411372661590576, valid_loss=0.37924930453300476\n"
          ],
          "name": "stdout"
        },
        {
          "output_type": "stream",
          "text": [
            "100%|██████████| 117/117 [00:02<00:00, 50.28it/s]\n",
            "100%|██████████| 13/13 [00:00<00:00, 38.31it/s]\n",
            "  0%|          | 0/117 [00:00<?, ?it/s]"
          ],
          "name": "stderr"
        },
        {
          "output_type": "stream",
          "text": [
            "[('gc27',\n",
            "  '````````````````x`````````````6````````````8```````````````````````````````'),\n",
            " ('pe4x',\n",
            "  '````````````````2``n`````````f`````````2```````````````````````````````````'),\n",
            " ('cdmn',\n",
            "  '`````````````````4```````````````n``````77`````````````````````````````````'),\n",
            " ('5mff',\n",
            "  '````````````````x`````````g``````````````xx````````````````````````````````')]\n",
            "EPOCH:81, train_loss=0.29915982484817505, valid_loss=0.404900461435318\n"
          ],
          "name": "stdout"
        },
        {
          "output_type": "stream",
          "text": [
            "100%|██████████| 117/117 [00:02<00:00, 50.28it/s]\n",
            "100%|██████████| 13/13 [00:00<00:00, 38.10it/s]\n",
            "  0%|          | 0/117 [00:00<?, ?it/s]"
          ],
          "name": "stderr"
        },
        {
          "output_type": "stream",
          "text": [
            "[('gc27',\n",
            "  '````````````````x`````````````66```````````8```````````````````````````````'),\n",
            " ('pe4x',\n",
            "  '````````````````2``n`````````f`````````2```6```````````````````````````````'),\n",
            " ('cdmn',\n",
            "  '`````````````````4```e```````````n``````77`````````````````````````````````'),\n",
            " ('5mff',\n",
            "  '````````````````x`````````g``````````````xc`````y``````````````````````````')]\n",
            "EPOCH:82, train_loss=0.2844698131084442, valid_loss=0.4750444293022156\n"
          ],
          "name": "stdout"
        },
        {
          "output_type": "stream",
          "text": [
            "100%|██████████| 117/117 [00:02<00:00, 50.38it/s]\n",
            "100%|██████████| 13/13 [00:00<00:00, 38.32it/s]\n",
            "  0%|          | 0/117 [00:00<?, ?it/s]"
          ],
          "name": "stderr"
        },
        {
          "output_type": "stream",
          "text": [
            "[('gc27',\n",
            "  '````````````````x`````````````6````````````8```````````````````````````````'),\n",
            " ('pe4x',\n",
            "  '````````````````2``n`````````f`````````2```````````````````````````````````'),\n",
            " ('cdmn',\n",
            "  '`````````````````4```````````````n``````77`````````````````````````````````'),\n",
            " ('5mff',\n",
            "  '````````````````x`````````g``````````````x``````y``````````````````````````')]\n",
            "EPOCH:83, train_loss=0.2865741550922394, valid_loss=0.369041383266449\n"
          ],
          "name": "stdout"
        },
        {
          "output_type": "stream",
          "text": [
            "100%|██████████| 117/117 [00:02<00:00, 50.27it/s]\n",
            "100%|██████████| 13/13 [00:00<00:00, 38.28it/s]\n",
            "  0%|          | 0/117 [00:00<?, ?it/s]"
          ],
          "name": "stderr"
        },
        {
          "output_type": "stream",
          "text": [
            "[('gc27',\n",
            "  '````````````````x`````````````6````````````8```````````````````````````````'),\n",
            " ('pe4x',\n",
            "  '````````````````2``n`````````f`````````2```````````````````````````````````'),\n",
            " ('cdmn',\n",
            "  '`````````````````4```e```````````n``````77`````````````````````````````````'),\n",
            " ('5mff',\n",
            "  '````````````````x`````````g```````````````c````````````````````````````````')]\n",
            "EPOCH:84, train_loss=0.26868152618408203, valid_loss=0.37261971831321716\n"
          ],
          "name": "stdout"
        },
        {
          "output_type": "stream",
          "text": [
            "100%|██████████| 117/117 [00:02<00:00, 50.32it/s]\n",
            "100%|██████████| 13/13 [00:00<00:00, 37.69it/s]\n",
            "  0%|          | 0/117 [00:00<?, ?it/s]"
          ],
          "name": "stderr"
        },
        {
          "output_type": "stream",
          "text": [
            "[('gc27',\n",
            "  '``````````````````````````````6````````````8```````````````````````````````'),\n",
            " ('pe4x',\n",
            "  '````````````````2``n`````````f`````````2```````````````````````````````````'),\n",
            " ('cdmn',\n",
            "  '`````````````````4```````````````n```````7`````````````````````````````````'),\n",
            " ('5mff',\n",
            "  '````````````````x`````````g````````````````````````````````````````````````')]\n",
            "EPOCH:85, train_loss=0.251901775598526, valid_loss=0.44398242235183716\n"
          ],
          "name": "stdout"
        },
        {
          "output_type": "stream",
          "text": [
            "100%|██████████| 117/117 [00:02<00:00, 50.61it/s]\n",
            "100%|██████████| 13/13 [00:00<00:00, 39.19it/s]\n",
            "  0%|          | 0/117 [00:00<?, ?it/s]"
          ],
          "name": "stderr"
        },
        {
          "output_type": "stream",
          "text": [
            "[('gc27',\n",
            "  '````````````````x`````````````6````````````8```````````````````````````````'),\n",
            " ('pe4x',\n",
            "  '````````````````2``n`````````f`````````2```````````````````````````````````'),\n",
            " ('cdmn',\n",
            "  '`````````````````4```e```````````n``````77`````````````````````````````````'),\n",
            " ('5mff',\n",
            "  '````````````````x`````````g``````````````x``````y``````````````````````````')]\n",
            "EPOCH:86, train_loss=0.26031988859176636, valid_loss=0.3924354910850525\n"
          ],
          "name": "stdout"
        },
        {
          "output_type": "stream",
          "text": [
            "100%|██████████| 117/117 [00:02<00:00, 50.37it/s]\n",
            "100%|██████████| 13/13 [00:00<00:00, 37.94it/s]\n",
            "  0%|          | 0/117 [00:00<?, ?it/s]"
          ],
          "name": "stderr"
        },
        {
          "output_type": "stream",
          "text": [
            "[('gc27',\n",
            "  '````````````````x`````````````6````````````8```````````````````````````````'),\n",
            " ('pe4x',\n",
            "  '````````````````2``n`````````f`````````2```6```````````````````````````````'),\n",
            " ('cdmn',\n",
            "  '`````````````````4```e```````````n```````7`````````````````````````````````'),\n",
            " ('5mff',\n",
            "  '````````````````x`````````g``````````````xc`````y``````````````````````````')]\n",
            "EPOCH:87, train_loss=0.25662747025489807, valid_loss=0.36044251918792725\n"
          ],
          "name": "stdout"
        },
        {
          "output_type": "stream",
          "text": [
            "100%|██████████| 117/117 [00:02<00:00, 50.88it/s]\n",
            "100%|██████████| 13/13 [00:00<00:00, 39.33it/s]\n",
            "  0%|          | 0/117 [00:00<?, ?it/s]"
          ],
          "name": "stderr"
        },
        {
          "output_type": "stream",
          "text": [
            "[('gc27',\n",
            "  '````````````````x`````````````6````````````8```````````````````````````````'),\n",
            " ('pe4x',\n",
            "  '````````````````2``n`````````f`````````2```````````````````````````````````'),\n",
            " ('cdmn',\n",
            "  '`````````````````4```````````````n```````7`````````````````````````````````'),\n",
            " ('5mff',\n",
            "  '````````````````x`````````g````````````````````````````````````````````````')]\n",
            "EPOCH:88, train_loss=0.22505322098731995, valid_loss=0.41766393184661865\n"
          ],
          "name": "stdout"
        },
        {
          "output_type": "stream",
          "text": [
            "100%|██████████| 117/117 [00:02<00:00, 50.62it/s]\n",
            "100%|██████████| 13/13 [00:00<00:00, 38.76it/s]\n",
            "  0%|          | 0/117 [00:00<?, ?it/s]"
          ],
          "name": "stderr"
        },
        {
          "output_type": "stream",
          "text": [
            "[('gc27',\n",
            "  '````````````````x`````c```````66```````````8```````````````````````````````'),\n",
            " ('pe4x',\n",
            "  '````````````````2``n`````````f`````````2```6```````````````````````````````'),\n",
            " ('cdmn',\n",
            "  '`````````````````4```ec``````````n``````77`````````````````````````````````'),\n",
            " ('5mff',\n",
            "  '````````````````x`````````g````c`````````xx`````y``````````````````````````')]\n",
            "EPOCH:89, train_loss=0.230620875954628, valid_loss=0.4446087181568146\n"
          ],
          "name": "stdout"
        },
        {
          "output_type": "stream",
          "text": [
            "100%|██████████| 117/117 [00:02<00:00, 50.16it/s]\n",
            "100%|██████████| 13/13 [00:00<00:00, 37.43it/s]\n",
            "  0%|          | 0/117 [00:00<?, ?it/s]"
          ],
          "name": "stderr"
        },
        {
          "output_type": "stream",
          "text": [
            "[('gc27',\n",
            "  '````````````````x`````c```````66```````````8```````````````````````````````'),\n",
            " ('pe4x',\n",
            "  '````````````````2``n`````````f`````````2```6```````````````````````````````'),\n",
            " ('cdmn',\n",
            "  '`````````````````4```e```````````n``````77`````````````````````````````````'),\n",
            " ('5mff',\n",
            "  '````````````````x`````````g````c`````````xc`````y``````````````````````````')]\n",
            "EPOCH:90, train_loss=0.21152621507644653, valid_loss=0.39522016048431396\n"
          ],
          "name": "stdout"
        },
        {
          "output_type": "stream",
          "text": [
            "100%|██████████| 117/117 [00:02<00:00, 50.88it/s]\n",
            "100%|██████████| 13/13 [00:00<00:00, 38.84it/s]\n",
            "  0%|          | 0/117 [00:00<?, ?it/s]"
          ],
          "name": "stderr"
        },
        {
          "output_type": "stream",
          "text": [
            "[('gc27',\n",
            "  '````````````````x`````````````6````````````8```````````````````````````````'),\n",
            " ('pe4x',\n",
            "  '````````````````2``n`````````f`````````2```````````````````````````````````'),\n",
            " ('cdmn',\n",
            "  '`````````````````4```````````````n```````7`````````````````````````````````'),\n",
            " ('5mff',\n",
            "  '````````````````x`````````g````````````````````````````````````````````````')]\n",
            "EPOCH:91, train_loss=0.23305644094944, valid_loss=0.4523769021034241\n"
          ],
          "name": "stdout"
        },
        {
          "output_type": "stream",
          "text": [
            "100%|██████████| 117/117 [00:02<00:00, 50.81it/s]\n",
            "100%|██████████| 13/13 [00:00<00:00, 37.93it/s]\n",
            "  0%|          | 0/117 [00:00<?, ?it/s]"
          ],
          "name": "stderr"
        },
        {
          "output_type": "stream",
          "text": [
            "[('gc27',\n",
            "  '````````````````x`````````````6````````````8```````````````````````````````'),\n",
            " ('pe4x',\n",
            "  '````````````````2``n`````````f`````````2```````````````````````````````````'),\n",
            " ('cdmn',\n",
            "  '`````````````````4```````````````n``````77`````````````````````````````````'),\n",
            " ('5mff',\n",
            "  '````````````````x`````````g``````````````x`````````````````````````````````')]\n",
            "EPOCH:92, train_loss=0.20984700322151184, valid_loss=0.38361433148384094\n"
          ],
          "name": "stdout"
        },
        {
          "output_type": "stream",
          "text": [
            "100%|██████████| 117/117 [00:02<00:00, 50.58it/s]\n",
            "100%|██████████| 13/13 [00:00<00:00, 37.70it/s]\n",
            "  0%|          | 0/117 [00:00<?, ?it/s]"
          ],
          "name": "stderr"
        },
        {
          "output_type": "stream",
          "text": [
            "[('gc27',\n",
            "  '````````````````x`````c```````6````````````8```````````````````````````````'),\n",
            " ('pe4x',\n",
            "  '````````````````2``n`````````f`````````2```6```````````````````````````````'),\n",
            " ('cdmn',\n",
            "  '`````````````````4```ec``````````n```````7`````````````````````````````````'),\n",
            " ('5mff',\n",
            "  '````````````````x`````````g````c`````````x`````````````````````````````````')]\n",
            "EPOCH:93, train_loss=0.20643150806427002, valid_loss=0.4146820306777954\n"
          ],
          "name": "stdout"
        },
        {
          "output_type": "stream",
          "text": [
            "100%|██████████| 117/117 [00:02<00:00, 50.68it/s]\n",
            "100%|██████████| 13/13 [00:00<00:00, 38.35it/s]\n",
            "  0%|          | 0/117 [00:00<?, ?it/s]"
          ],
          "name": "stderr"
        },
        {
          "output_type": "stream",
          "text": [
            "[('gc27',\n",
            "  '````````````````x`````c```````6````````````8```````````````````````````````'),\n",
            " ('pe4x',\n",
            "  '````````````````2``n`````````f`````````2```6```````````````````````````````'),\n",
            " ('cdmn',\n",
            "  '`````````````````4```e```````````n```````7`````````````````````````````````'),\n",
            " ('5mff',\n",
            "  '````````````````x`````````g``````````````xx````````````````````````````````')]\n",
            "EPOCH:94, train_loss=0.2117009162902832, valid_loss=0.3890894055366516\n"
          ],
          "name": "stdout"
        },
        {
          "output_type": "stream",
          "text": [
            "100%|██████████| 117/117 [00:02<00:00, 50.66it/s]\n",
            "100%|██████████| 13/13 [00:00<00:00, 38.83it/s]\n",
            "  0%|          | 0/117 [00:00<?, ?it/s]"
          ],
          "name": "stderr"
        },
        {
          "output_type": "stream",
          "text": [
            "[('gc27',\n",
            "  '````````````````x`````c```````6````````````8```````````````````````````````'),\n",
            " ('pe4x',\n",
            "  '````````````````2``n`````````f`````````2```````````````````````````````````'),\n",
            " ('cdmn',\n",
            "  '`````````````````4```ec``````````n```````7`````````````````````````````````'),\n",
            " ('5mff',\n",
            "  '````````````````x`````````g``````````````x`````````````````````````````````')]\n",
            "EPOCH:95, train_loss=0.18095190823078156, valid_loss=0.3703099191188812\n"
          ],
          "name": "stdout"
        },
        {
          "output_type": "stream",
          "text": [
            "100%|██████████| 117/117 [00:02<00:00, 50.34it/s]\n",
            "100%|██████████| 13/13 [00:00<00:00, 37.80it/s]\n",
            "  0%|          | 0/117 [00:00<?, ?it/s]"
          ],
          "name": "stderr"
        },
        {
          "output_type": "stream",
          "text": [
            "[('gc27',\n",
            "  '````````````````x`````````````6````````````8```````````````````````````````'),\n",
            " ('pe4x',\n",
            "  '````````````````2``n`````````f`````````2```6```````````````````````````````'),\n",
            " ('cdmn',\n",
            "  '`````````````````4```e```````````n```````7`````````````````````````````````'),\n",
            " ('5mff',\n",
            "  '````````````````x`````````g``````````````x`````````````````````````````````')]\n",
            "EPOCH:96, train_loss=0.19526274502277374, valid_loss=0.35921603441238403\n"
          ],
          "name": "stdout"
        },
        {
          "output_type": "stream",
          "text": [
            "100%|██████████| 117/117 [00:02<00:00, 50.73it/s]\n",
            "100%|██████████| 13/13 [00:00<00:00, 37.97it/s]\n",
            "  0%|          | 0/117 [00:00<?, ?it/s]"
          ],
          "name": "stderr"
        },
        {
          "output_type": "stream",
          "text": [
            "[('gc27',\n",
            "  '````````````````x`````c```````6````````````8```````````````````````````````'),\n",
            " ('pe4x',\n",
            "  '````````````````2``n`````````f`````````2```````````````````````````````````'),\n",
            " ('cdmn',\n",
            "  '`````````````````4```````````````n``````77`````````````````````````````````'),\n",
            " ('5mff',\n",
            "  '````````````````x`````````g````````````````````````````````````````````````')]\n",
            "EPOCH:97, train_loss=0.17638514935970306, valid_loss=0.4170639216899872\n"
          ],
          "name": "stdout"
        },
        {
          "output_type": "stream",
          "text": [
            "100%|██████████| 117/117 [00:02<00:00, 49.79it/s]\n",
            "100%|██████████| 13/13 [00:00<00:00, 39.24it/s]\n",
            "  0%|          | 0/117 [00:00<?, ?it/s]"
          ],
          "name": "stderr"
        },
        {
          "output_type": "stream",
          "text": [
            "[('gc27',\n",
            "  '````````````````x`````````````6````````````8```````````````````````````````'),\n",
            " ('pe4x',\n",
            "  '````````````````2``n`````````f`````````2```6```````````````````````````````'),\n",
            " ('cdmn',\n",
            "  '`````````````````4```e```````````n``````77`````````````````````````````````'),\n",
            " ('5mff',\n",
            "  '````````````````x`````````g``````````````xx`````y``````````````````````````')]\n",
            "EPOCH:98, train_loss=0.20080289244651794, valid_loss=0.40508323907852173\n"
          ],
          "name": "stdout"
        },
        {
          "output_type": "stream",
          "text": [
            "100%|██████████| 117/117 [00:02<00:00, 50.61it/s]\n",
            "100%|██████████| 13/13 [00:00<00:00, 37.62it/s]\n",
            "  0%|          | 0/117 [00:00<?, ?it/s]"
          ],
          "name": "stderr"
        },
        {
          "output_type": "stream",
          "text": [
            "[('gc27',\n",
            "  '````````````````x`````````````6````````````8```````````````````````````````'),\n",
            " ('pe4x',\n",
            "  '````````````````2``n`````````f`````````2```````````````````````````````````'),\n",
            " ('cdmn',\n",
            "  '`````````````````4```````````````n```````7`````````````````````````````````'),\n",
            " ('5mff',\n",
            "  '````````````````x`````````g``````````````xx`````y``````````````````````````')]\n",
            "EPOCH:99, train_loss=0.1878998875617981, valid_loss=0.40774405002593994\n"
          ],
          "name": "stdout"
        },
        {
          "output_type": "stream",
          "text": [
            "100%|██████████| 117/117 [00:02<00:00, 50.57it/s]\n",
            "100%|██████████| 13/13 [00:00<00:00, 38.87it/s]\n",
            "  0%|          | 0/117 [00:00<?, ?it/s]"
          ],
          "name": "stderr"
        },
        {
          "output_type": "stream",
          "text": [
            "[('gc27',\n",
            "  '````````````````x`````````````6````````````8```````````````````````````````'),\n",
            " ('pe4x',\n",
            "  '````````````````2``n`````````f`````````2```````````````````````````````````'),\n",
            " ('cdmn',\n",
            "  '`````````````````4```````````````n```````7`````````````````````````````````'),\n",
            " ('5mff',\n",
            "  '````````````````x`````````g``````````````x`````````````````````````````````')]\n",
            "EPOCH:100, train_loss=0.19189725816249847, valid_loss=0.3976854085922241\n"
          ],
          "name": "stdout"
        },
        {
          "output_type": "stream",
          "text": [
            "100%|██████████| 117/117 [00:02<00:00, 50.56it/s]\n",
            "100%|██████████| 13/13 [00:00<00:00, 38.51it/s]\n",
            "  0%|          | 0/117 [00:00<?, ?it/s]"
          ],
          "name": "stderr"
        },
        {
          "output_type": "stream",
          "text": [
            "[('gc27',\n",
            "  '````````````````x`````c```````6````````````8```````````````````````````````'),\n",
            " ('pe4x',\n",
            "  '````````````````2``n`````````f`````````2```````````````````````````````````'),\n",
            " ('cdmn',\n",
            "  '`````````````````4```ec``````````n```````7`````````````````````````````````'),\n",
            " ('5mff',\n",
            "  '````````````````x`````````g````c`````````xx````````````````````````````````')]\n",
            "EPOCH:101, train_loss=0.15684917569160461, valid_loss=0.34319984912872314\n"
          ],
          "name": "stdout"
        },
        {
          "output_type": "stream",
          "text": [
            "100%|██████████| 117/117 [00:02<00:00, 48.99it/s]\n",
            "100%|██████████| 13/13 [00:00<00:00, 37.61it/s]\n",
            "  0%|          | 0/117 [00:00<?, ?it/s]"
          ],
          "name": "stderr"
        },
        {
          "output_type": "stream",
          "text": [
            "[('gc27',\n",
            "  '````````````````x`````````````6````````````8```````````````````````````````'),\n",
            " ('pe4x',\n",
            "  '````````````````2``n`````````f`````````2```6```````````````````````````````'),\n",
            " ('cdmn',\n",
            "  '`````````````````4```e```````````n``````77`````````````````````````````````'),\n",
            " ('5mff',\n",
            "  '````````````````x`````````g``````````````x``````y``````````````````````````')]\n",
            "EPOCH:102, train_loss=0.1582990288734436, valid_loss=0.36702197790145874\n"
          ],
          "name": "stdout"
        },
        {
          "output_type": "stream",
          "text": [
            "100%|██████████| 117/117 [00:02<00:00, 50.46it/s]\n",
            "100%|██████████| 13/13 [00:00<00:00, 37.40it/s]\n",
            "  0%|          | 0/117 [00:00<?, ?it/s]"
          ],
          "name": "stderr"
        },
        {
          "output_type": "stream",
          "text": [
            "[('gc27',\n",
            "  '````````````````x`````````````6````````````8```````````````````````````````'),\n",
            " ('pe4x',\n",
            "  '````````````````2``n`````````f`````````2```6```````````````````````````````'),\n",
            " ('cdmn',\n",
            "  '`````````````````4```e```````````n```````7`````````````````````````````````'),\n",
            " ('5mff',\n",
            "  '````````````````x`````````g``````````````x``````y``````````````````````````')]\n",
            "EPOCH:103, train_loss=0.17140157520771027, valid_loss=0.4009631872177124\n"
          ],
          "name": "stdout"
        },
        {
          "output_type": "stream",
          "text": [
            "100%|██████████| 117/117 [00:02<00:00, 50.73it/s]\n",
            "100%|██████████| 13/13 [00:00<00:00, 38.95it/s]\n",
            "  0%|          | 0/117 [00:00<?, ?it/s]"
          ],
          "name": "stderr"
        },
        {
          "output_type": "stream",
          "text": [
            "[('gc27',\n",
            "  '````````````````x`````````````66```````````8```````````````````````````````'),\n",
            " ('pe4x',\n",
            "  '````````````````2``n`````````f`````````2```6```````````````````````````````'),\n",
            " ('cdmn',\n",
            "  '`````````````````4```e```````````n```````7`````````````````````````````````'),\n",
            " ('5mff',\n",
            "  '````````````````x`````````g````c`````````xx`````y``````````````````````````')]\n",
            "EPOCH:104, train_loss=0.1491871178150177, valid_loss=0.4393017888069153\n"
          ],
          "name": "stdout"
        },
        {
          "output_type": "stream",
          "text": [
            "100%|██████████| 117/117 [00:02<00:00, 50.42it/s]\n",
            "100%|██████████| 13/13 [00:00<00:00, 39.43it/s]\n",
            "  0%|          | 0/117 [00:00<?, ?it/s]"
          ],
          "name": "stderr"
        },
        {
          "output_type": "stream",
          "text": [
            "[('gc27',\n",
            "  '````````````````x`````````````6````````````8```````````````````````````````'),\n",
            " ('pe4x',\n",
            "  '````````````````2``n`````````f`````````2```````````````````````````````````'),\n",
            " ('cdmn',\n",
            "  '`````````````````4```````````````n```````7`````````````````````````````````'),\n",
            " ('5mff',\n",
            "  '````````````````x`````````g````c`````````x`````````````````````````````````')]\n",
            "EPOCH:105, train_loss=0.16061115264892578, valid_loss=0.41570454835891724\n"
          ],
          "name": "stdout"
        },
        {
          "output_type": "stream",
          "text": [
            "100%|██████████| 117/117 [00:02<00:00, 50.60it/s]\n",
            "100%|██████████| 13/13 [00:00<00:00, 38.67it/s]\n",
            "  0%|          | 0/117 [00:00<?, ?it/s]"
          ],
          "name": "stderr"
        },
        {
          "output_type": "stream",
          "text": [
            "[('gc27',\n",
            "  '````````````````x`````````````6````````````8```````````````````````````````'),\n",
            " ('pe4x',\n",
            "  '````````````````2``n`````````f`````````2```````````````````````````````````'),\n",
            " ('cdmn',\n",
            "  '`````````````````4```e```````````n```````7`````````````````````````````````'),\n",
            " ('5mff',\n",
            "  '````````````````x`````````g````c`````````x`````````````````````````````````')]\n",
            "EPOCH:106, train_loss=0.1905299425125122, valid_loss=0.38358041644096375\n"
          ],
          "name": "stdout"
        },
        {
          "output_type": "stream",
          "text": [
            "100%|██████████| 117/117 [00:02<00:00, 50.44it/s]\n",
            "100%|██████████| 13/13 [00:00<00:00, 38.78it/s]\n",
            "  0%|          | 0/117 [00:00<?, ?it/s]"
          ],
          "name": "stderr"
        },
        {
          "output_type": "stream",
          "text": [
            "[('gc27',\n",
            "  '````````````````x`````c```````6````````````8```````````````````````````````'),\n",
            " ('pe4x',\n",
            "  '````````````````2``n`````````f`````````2```6```````````````````````````````'),\n",
            " ('cdmn',\n",
            "  '`````````````````4```ec``````````n```````7`````````````````````````````````'),\n",
            " ('5mff',\n",
            "  '````````````````x`````````g````c`````````xx`````y``````````````````````````')]\n",
            "EPOCH:107, train_loss=0.16470317542552948, valid_loss=0.376022070646286\n"
          ],
          "name": "stdout"
        },
        {
          "output_type": "stream",
          "text": [
            "100%|██████████| 117/117 [00:02<00:00, 50.70it/s]\n",
            "100%|██████████| 13/13 [00:00<00:00, 37.68it/s]\n",
            "  0%|          | 0/117 [00:00<?, ?it/s]"
          ],
          "name": "stderr"
        },
        {
          "output_type": "stream",
          "text": [
            "[('gc27',\n",
            "  '````````````````x`````c```````66```````````8```````````````````````````````'),\n",
            " ('pe4x',\n",
            "  '````````````````2``n`````````f`````````2```6```````````````````````````````'),\n",
            " ('cdmn',\n",
            "  '`````````````````4```ec``````````n``````77`````````````````````````````````'),\n",
            " ('5mff',\n",
            "  '````````````````x`````````g````c`````````x`````````````````````````````````')]\n",
            "EPOCH:108, train_loss=0.18197032809257507, valid_loss=0.4122648537158966\n"
          ],
          "name": "stdout"
        },
        {
          "output_type": "stream",
          "text": [
            "100%|██████████| 117/117 [00:02<00:00, 50.65it/s]\n",
            "100%|██████████| 13/13 [00:00<00:00, 38.34it/s]\n",
            "  0%|          | 0/117 [00:00<?, ?it/s]"
          ],
          "name": "stderr"
        },
        {
          "output_type": "stream",
          "text": [
            "[('gc27',\n",
            "  '````````````````x`````c```````6````````````8```````````````````````````````'),\n",
            " ('pe4x',\n",
            "  '````````````````2``n`````````f`````````2```````````````````````````````````'),\n",
            " ('cdmn',\n",
            "  '`````````````````4```ec``````````n``````77`````````````````````````````````'),\n",
            " ('5mff',\n",
            "  '````````````````x`````````g``````````````x`````````````````````````````````')]\n",
            "EPOCH:109, train_loss=0.14995422959327698, valid_loss=0.3628367483615875\n"
          ],
          "name": "stdout"
        },
        {
          "output_type": "stream",
          "text": [
            "100%|██████████| 117/117 [00:02<00:00, 50.55it/s]\n",
            "100%|██████████| 13/13 [00:00<00:00, 37.82it/s]\n",
            "  0%|          | 0/117 [00:00<?, ?it/s]"
          ],
          "name": "stderr"
        },
        {
          "output_type": "stream",
          "text": [
            "[('gc27',\n",
            "  '````````````````x`````c```````6````````````8```````````````````````````````'),\n",
            " ('pe4x',\n",
            "  '````````````````2``n`````````f`````````2```````````````````````````````````'),\n",
            " ('cdmn',\n",
            "  '`````````````````4```e```````````n```````7`````````````````````````````````'),\n",
            " ('5mff',\n",
            "  '````````````````x`````````g````c`````````x`````````````````````````````````')]\n",
            "EPOCH:110, train_loss=0.15739895403385162, valid_loss=0.40682655572891235\n"
          ],
          "name": "stdout"
        },
        {
          "output_type": "stream",
          "text": [
            "100%|██████████| 117/117 [00:02<00:00, 51.00it/s]\n",
            "100%|██████████| 13/13 [00:00<00:00, 36.74it/s]\n",
            "  0%|          | 0/117 [00:00<?, ?it/s]"
          ],
          "name": "stderr"
        },
        {
          "output_type": "stream",
          "text": [
            "[('gc27',\n",
            "  '````````````````x`````c```````66```````````8```````````````````````````````'),\n",
            " ('pe4x',\n",
            "  '````````````````2``n`````````f`````````2```6```````````````````````````````'),\n",
            " ('cdmn',\n",
            "  '`````````````````4```ec``````````n``````77`````````````````````````````````'),\n",
            " ('5mff',\n",
            "  '````````````````x`````````g``````````````xx`````y``````````````````````````')]\n",
            "EPOCH:111, train_loss=0.13315804302692413, valid_loss=0.5249150991439819\n"
          ],
          "name": "stdout"
        },
        {
          "output_type": "stream",
          "text": [
            "100%|██████████| 117/117 [00:02<00:00, 50.23it/s]\n",
            "100%|██████████| 13/13 [00:00<00:00, 37.70it/s]\n",
            "  0%|          | 0/117 [00:00<?, ?it/s]"
          ],
          "name": "stderr"
        },
        {
          "output_type": "stream",
          "text": [
            "[('gc27',\n",
            "  '````````````````x`````c```````6````````````8```````````````````````````````'),\n",
            " ('pe4x',\n",
            "  '````````````````2``n`````````f`````````2```````````````````````````````````'),\n",
            " ('cdmn',\n",
            "  '`````````````````4````c``````````n``````77`````````````````````````````````'),\n",
            " ('5mff',\n",
            "  '````````````````x`````````g````c`````````x`````````````````````````````````')]\n",
            "EPOCH:112, train_loss=0.1662246137857437, valid_loss=0.4674224257469177\n"
          ],
          "name": "stdout"
        },
        {
          "output_type": "stream",
          "text": [
            "100%|██████████| 117/117 [00:02<00:00, 50.21it/s]\n",
            "100%|██████████| 13/13 [00:00<00:00, 36.95it/s]\n",
            "  0%|          | 0/117 [00:00<?, ?it/s]"
          ],
          "name": "stderr"
        },
        {
          "output_type": "stream",
          "text": [
            "[('gc27',\n",
            "  '````````````````x`````c```````6````````````8```````````````````````````````'),\n",
            " ('pe4x',\n",
            "  '````````````````2``n`````````f`````````2```````````````````````````````````'),\n",
            " ('cdmn',\n",
            "  '`````````````````4```e```````````n```````7`````````````````````````````````'),\n",
            " ('5mff',\n",
            "  '````````````````x`````````g``````````````x``````y``````````````````````````')]\n",
            "EPOCH:113, train_loss=0.12598241865634918, valid_loss=0.3963611423969269\n"
          ],
          "name": "stdout"
        },
        {
          "output_type": "stream",
          "text": [
            "100%|██████████| 117/117 [00:02<00:00, 50.37it/s]\n",
            "100%|██████████| 13/13 [00:00<00:00, 38.44it/s]\n",
            "  0%|          | 0/117 [00:00<?, ?it/s]"
          ],
          "name": "stderr"
        },
        {
          "output_type": "stream",
          "text": [
            "[('gc27',\n",
            "  '````````````````x`````c```````6````````````8```````````````````````````````'),\n",
            " ('pe4x',\n",
            "  '````````````````2``n`````````f`````````2```6```````````````````````````````'),\n",
            " ('cdmn',\n",
            "  '`````````````````4```e```````````n``````77`````````````````````````````````'),\n",
            " ('5mff',\n",
            "  '````````````````x`````````g``````````````xc`````y``````````````````````````')]\n",
            "EPOCH:114, train_loss=0.13158388435840607, valid_loss=0.3907075822353363\n"
          ],
          "name": "stdout"
        },
        {
          "output_type": "stream",
          "text": [
            "100%|██████████| 117/117 [00:02<00:00, 50.40it/s]\n",
            "100%|██████████| 13/13 [00:00<00:00, 38.32it/s]\n",
            "  0%|          | 0/117 [00:00<?, ?it/s]"
          ],
          "name": "stderr"
        },
        {
          "output_type": "stream",
          "text": [
            "[('gc27',\n",
            "  '````````````````x`````c```````66```````````8```````````````````````````````'),\n",
            " ('pe4x',\n",
            "  '````````````````2``n`````````f`````````2```6```````````````````````````````'),\n",
            " ('cdmn',\n",
            "  '`````````````````4```ec``````````n``````77`````````````````````````````````'),\n",
            " ('5mff',\n",
            "  '````````````````x`````````g````c`````````x``````y``````````````````````````')]\n",
            "EPOCH:115, train_loss=0.13652347028255463, valid_loss=0.4149690866470337\n"
          ],
          "name": "stdout"
        },
        {
          "output_type": "stream",
          "text": [
            "100%|██████████| 117/117 [00:02<00:00, 50.83it/s]\n",
            "100%|██████████| 13/13 [00:00<00:00, 38.27it/s]\n",
            "  0%|          | 0/117 [00:00<?, ?it/s]"
          ],
          "name": "stderr"
        },
        {
          "output_type": "stream",
          "text": [
            "[('gc27',\n",
            "  '````````````````x`````c```````6````````````8```````````````````````````````'),\n",
            " ('pe4x',\n",
            "  '````````````````2``n`````````f`````````2```````````````````````````````````'),\n",
            " ('cdmn',\n",
            "  '`````````````````4```e```````````n```````7`````````````````````````````````'),\n",
            " ('5mff',\n",
            "  '````````````````x`````````g``````````````x`````````````````````````````````')]\n",
            "EPOCH:116, train_loss=0.12507407367229462, valid_loss=0.40223294496536255\n"
          ],
          "name": "stdout"
        },
        {
          "output_type": "stream",
          "text": [
            "100%|██████████| 117/117 [00:02<00:00, 50.22it/s]\n",
            "100%|██████████| 13/13 [00:00<00:00, 38.53it/s]\n",
            "  0%|          | 0/117 [00:00<?, ?it/s]"
          ],
          "name": "stderr"
        },
        {
          "output_type": "stream",
          "text": [
            "[('gc27',\n",
            "  '````````````````x`````c```````6````````````8```````````````````````````````'),\n",
            " ('pe4x',\n",
            "  '````````````````2``n`````````f`````````2```6```````````````````````````````'),\n",
            " ('cdmn',\n",
            "  '`````````````````4```ec``````````n```````7`````````````````````````````````'),\n",
            " ('5mff',\n",
            "  '````````````````x`````````g````c`````````x``````y``````````````````````````')]\n",
            "EPOCH:117, train_loss=0.11737779527902603, valid_loss=0.44228288531303406\n"
          ],
          "name": "stdout"
        },
        {
          "output_type": "stream",
          "text": [
            "100%|██████████| 117/117 [00:02<00:00, 50.33it/s]\n",
            "100%|██████████| 13/13 [00:00<00:00, 39.26it/s]\n",
            "  0%|          | 0/117 [00:00<?, ?it/s]"
          ],
          "name": "stderr"
        },
        {
          "output_type": "stream",
          "text": [
            "[('gc27',\n",
            "  '````````````````x`````c```````6````````````8```````````````````````````````'),\n",
            " ('pe4x',\n",
            "  '````````````````2``n`````````f`````````2```6```````````````````````````````'),\n",
            " ('cdmn',\n",
            "  '`````````````````4```e```````````n``````77`````````````````````````````````'),\n",
            " ('5mff',\n",
            "  '````````````````x`````````g````c`````````x``````y``````````````````````````')]\n",
            "EPOCH:118, train_loss=0.15990707278251648, valid_loss=0.43913576006889343\n"
          ],
          "name": "stdout"
        },
        {
          "output_type": "stream",
          "text": [
            "100%|██████████| 117/117 [00:02<00:00, 50.61it/s]\n",
            "100%|██████████| 13/13 [00:00<00:00, 38.53it/s]\n",
            "  0%|          | 0/117 [00:00<?, ?it/s]"
          ],
          "name": "stderr"
        },
        {
          "output_type": "stream",
          "text": [
            "[('gc27',\n",
            "  '````````````````x`````c```````66```````````8```````````````````````````````'),\n",
            " ('pe4x',\n",
            "  '````````````````2``n`````````f`````````2```6```````````````````````````````'),\n",
            " ('cdmn',\n",
            "  '`````````````````4```ec``````````n``````77`````````````````````````````````'),\n",
            " ('5mff',\n",
            "  '````````````````x`````````g````c`````````xx````````````````````````````````')]\n",
            "EPOCH:119, train_loss=0.13345251977443695, valid_loss=0.474073201417923\n"
          ],
          "name": "stdout"
        },
        {
          "output_type": "stream",
          "text": [
            "100%|██████████| 117/117 [00:02<00:00, 50.76it/s]\n",
            "100%|██████████| 13/13 [00:00<00:00, 36.26it/s]\n",
            "  0%|          | 0/117 [00:00<?, ?it/s]"
          ],
          "name": "stderr"
        },
        {
          "output_type": "stream",
          "text": [
            "[('gc27',\n",
            "  '``````````````````````c```````6````````````8```````````````````````````````'),\n",
            " ('pe4x',\n",
            "  '````````````````2``n`````````f`````````2```````````````````````````````````'),\n",
            " ('cdmn',\n",
            "  '`````````````````4```````````````n``````77`````````````````````````````````'),\n",
            " ('5mff',\n",
            "  '````````````````x`````````g````````````````````````````````````````````````')]\n",
            "EPOCH:120, train_loss=0.12708890438079834, valid_loss=0.6631064414978027\n"
          ],
          "name": "stdout"
        },
        {
          "output_type": "stream",
          "text": [
            "100%|██████████| 117/117 [00:02<00:00, 49.31it/s]\n",
            "100%|██████████| 13/13 [00:00<00:00, 37.47it/s]\n",
            "  0%|          | 0/117 [00:00<?, ?it/s]"
          ],
          "name": "stderr"
        },
        {
          "output_type": "stream",
          "text": [
            "[('gc27',\n",
            "  '````````````````x`````c```````6````````````8```````````````````````````````'),\n",
            " ('pe4x',\n",
            "  '````````````````2``n`````````f`````````2```````````````````````````````````'),\n",
            " ('cdmn',\n",
            "  '`````````````````4```e```````````n``````77`````````````````````````````````'),\n",
            " ('5mff',\n",
            "  '````````````````x`````````g``````````````x`````````````````````````````````')]\n",
            "EPOCH:121, train_loss=0.13397637009620667, valid_loss=0.38064175844192505\n"
          ],
          "name": "stdout"
        },
        {
          "output_type": "stream",
          "text": [
            "100%|██████████| 117/117 [00:02<00:00, 50.58it/s]\n",
            "100%|██████████| 13/13 [00:00<00:00, 38.37it/s]\n",
            "  0%|          | 0/117 [00:00<?, ?it/s]"
          ],
          "name": "stderr"
        },
        {
          "output_type": "stream",
          "text": [
            "[('gc27',\n",
            "  '``````````````````````c```````6````````````8```````````````````````````````'),\n",
            " ('pe4x',\n",
            "  '````````````````2``n`````````f`````````2```````````````````````````````````'),\n",
            " ('cdmn',\n",
            "  '`````````````````4```````````````n```````7`````````````````````````````````'),\n",
            " ('5mff',\n",
            "  '````````````````x`````````g````````````````````````````````````````````````')]\n",
            "EPOCH:122, train_loss=0.11550870537757874, valid_loss=0.46260592341423035\n"
          ],
          "name": "stdout"
        },
        {
          "output_type": "stream",
          "text": [
            "100%|██████████| 117/117 [00:02<00:00, 50.32it/s]\n",
            "100%|██████████| 13/13 [00:00<00:00, 39.30it/s]\n",
            "  0%|          | 0/117 [00:00<?, ?it/s]"
          ],
          "name": "stderr"
        },
        {
          "output_type": "stream",
          "text": [
            "[('gc27',\n",
            "  '``````````````````````````````6````````````8```````````````````````````````'),\n",
            " ('pe4x',\n",
            "  '````````````````2``n`````````f`````````2```````````````````````````````````'),\n",
            " ('cdmn',\n",
            "  '`````````````````4```````````````n```````7`````````````````````````````````'),\n",
            " ('5mff',\n",
            "  '````````````````x`````````g``````````````x`````````````````````````````````')]\n",
            "EPOCH:123, train_loss=0.14535288512706757, valid_loss=0.4769616425037384\n"
          ],
          "name": "stdout"
        },
        {
          "output_type": "stream",
          "text": [
            "100%|██████████| 117/117 [00:02<00:00, 50.49it/s]\n",
            "100%|██████████| 13/13 [00:00<00:00, 37.32it/s]\n",
            "  0%|          | 0/117 [00:00<?, ?it/s]"
          ],
          "name": "stderr"
        },
        {
          "output_type": "stream",
          "text": [
            "[('gc27',\n",
            "  '````````````````x`````c```````6````````````8```````````````````````````````'),\n",
            " ('pe4x',\n",
            "  '````````````````2``m`````````f`````````2```````````````````````````````````'),\n",
            " ('cdmn',\n",
            "  '`````````````````4```e```````````n```````7`````````````````````````````````'),\n",
            " ('5mff',\n",
            "  '````````````````x`````````g``````````````x``````y``````````````````````````')]\n",
            "EPOCH:124, train_loss=0.11205869168043137, valid_loss=0.4546809494495392\n"
          ],
          "name": "stdout"
        },
        {
          "output_type": "stream",
          "text": [
            "100%|██████████| 117/117 [00:02<00:00, 49.53it/s]\n",
            "100%|██████████| 13/13 [00:00<00:00, 35.94it/s]\n",
            "  0%|          | 0/117 [00:00<?, ?it/s]"
          ],
          "name": "stderr"
        },
        {
          "output_type": "stream",
          "text": [
            "[('gc27',\n",
            "  '````````````````x`````c```````6````````````8```````````````````````````````'),\n",
            " ('pe4x',\n",
            "  '````````````````2``n`````````f`````````2```````````````````````````````````'),\n",
            " ('cdmn',\n",
            "  '`````````````````4```e```````````n``````77`````````````````````````````````'),\n",
            " ('5mff',\n",
            "  '````````````````x`````````g``````````````x``````y``````````````````````````')]\n",
            "EPOCH:125, train_loss=0.12808051705360413, valid_loss=0.48331448435783386\n"
          ],
          "name": "stdout"
        },
        {
          "output_type": "stream",
          "text": [
            "100%|██████████| 117/117 [00:02<00:00, 50.41it/s]\n",
            "100%|██████████| 13/13 [00:00<00:00, 37.88it/s]\n",
            "  0%|          | 0/117 [00:00<?, ?it/s]"
          ],
          "name": "stderr"
        },
        {
          "output_type": "stream",
          "text": [
            "[('gc27',\n",
            "  '``````````````````````````````6````````````8```````````````````````````````'),\n",
            " ('pe4x',\n",
            "  '````````````````2``n`````````f`````````2```````````````````````````````````'),\n",
            " ('cdmn',\n",
            "  '`````````````````4```e```````````n```````7`````````````````````````````````'),\n",
            " ('5mff',\n",
            "  '````````````````x`````````g````````````````````````````````````````````````')]\n",
            "EPOCH:126, train_loss=0.10843499004840851, valid_loss=0.5454211831092834\n"
          ],
          "name": "stdout"
        },
        {
          "output_type": "stream",
          "text": [
            "100%|██████████| 117/117 [00:02<00:00, 50.79it/s]\n",
            "100%|██████████| 13/13 [00:00<00:00, 37.20it/s]\n",
            "  0%|          | 0/117 [00:00<?, ?it/s]"
          ],
          "name": "stderr"
        },
        {
          "output_type": "stream",
          "text": [
            "[('gc27',\n",
            "  '````````````````x`````c```````66```````````8```````````````````````````````'),\n",
            " ('pe4x',\n",
            "  '````````````````2``n`````````f`````````2```````````````````````````````````'),\n",
            " ('cdmn',\n",
            "  '`````````````````4```e```````````n```````7`````````````````````````````````'),\n",
            " ('5mff',\n",
            "  '````````````````x`````````g``````````````x``````y``````````````````````````')]\n",
            "EPOCH:127, train_loss=0.11570651829242706, valid_loss=0.46135687828063965\n"
          ],
          "name": "stdout"
        },
        {
          "output_type": "stream",
          "text": [
            "100%|██████████| 117/117 [00:02<00:00, 50.60it/s]\n",
            "100%|██████████| 13/13 [00:00<00:00, 37.48it/s]\n",
            "  0%|          | 0/117 [00:00<?, ?it/s]"
          ],
          "name": "stderr"
        },
        {
          "output_type": "stream",
          "text": [
            "[('gc27',\n",
            "  '````````````````x`````c```````6````````````8```````````````````````````````'),\n",
            " ('pe4x',\n",
            "  '````````````````2``n`````````f`````````2```````````````````````````````````'),\n",
            " ('cdmn',\n",
            "  '`````````````````4```e```````````n```````7`````````````````````````````````'),\n",
            " ('5mff',\n",
            "  '````````````````x`````````g``````````````xx`````y``````````````````````````')]\n",
            "EPOCH:128, train_loss=0.09473355859518051, valid_loss=0.4330219030380249\n"
          ],
          "name": "stdout"
        },
        {
          "output_type": "stream",
          "text": [
            "100%|██████████| 117/117 [00:02<00:00, 50.77it/s]\n",
            "100%|██████████| 13/13 [00:00<00:00, 37.91it/s]\n",
            "  0%|          | 0/117 [00:00<?, ?it/s]"
          ],
          "name": "stderr"
        },
        {
          "output_type": "stream",
          "text": [
            "[('gc27',\n",
            "  '````````````````x`````c```````66```````````8```````````````````````````````'),\n",
            " ('pe4x',\n",
            "  '````````````````2``n`````````f`````````2```6```````````````````````````````'),\n",
            " ('cdmn',\n",
            "  '`````````````````4```ec``````````n``````77`````````````````````````````````'),\n",
            " ('5mff',\n",
            "  '````````````````x`````````g````c`````````xx`````y``````````````````````````')]\n",
            "EPOCH:129, train_loss=0.09519524872303009, valid_loss=0.5977135896682739\n"
          ],
          "name": "stdout"
        },
        {
          "output_type": "stream",
          "text": [
            "100%|██████████| 117/117 [00:02<00:00, 50.62it/s]\n",
            "100%|██████████| 13/13 [00:00<00:00, 38.96it/s]\n",
            "  0%|          | 0/117 [00:00<?, ?it/s]"
          ],
          "name": "stderr"
        },
        {
          "output_type": "stream",
          "text": [
            "[('gc27',\n",
            "  '````````````````x`````````````6````````````8```````````````````````````````'),\n",
            " ('pe4x',\n",
            "  '````````````````2``n`````````f`````````2```````````````````````````````````'),\n",
            " ('cdmn',\n",
            "  '`````````````````4```e```````````n```````7`````````````````````````````````'),\n",
            " ('5mff',\n",
            "  '````````````````x`````````g````c`````````xx````````````````````````````````')]\n",
            "EPOCH:130, train_loss=0.11001092195510864, valid_loss=0.4141083061695099\n"
          ],
          "name": "stdout"
        },
        {
          "output_type": "stream",
          "text": [
            "100%|██████████| 117/117 [00:02<00:00, 50.77it/s]\n",
            "100%|██████████| 13/13 [00:00<00:00, 38.21it/s]\n",
            "  0%|          | 0/117 [00:00<?, ?it/s]"
          ],
          "name": "stderr"
        },
        {
          "output_type": "stream",
          "text": [
            "[('gc27',\n",
            "  '````````````````x`````c```````66```````````8```````````````````````````````'),\n",
            " ('pe4x',\n",
            "  '````````````````2``n`````````f`````````2```````````````````````````````````'),\n",
            " ('cdmn',\n",
            "  '`````````````````4```ec``````````n```````7`````````````````````````````````'),\n",
            " ('5mff',\n",
            "  '````````````````x`````````g````c`````````xx`````y``````````````````````````')]\n",
            "EPOCH:131, train_loss=0.14225125312805176, valid_loss=0.4315624535083771\n"
          ],
          "name": "stdout"
        },
        {
          "output_type": "stream",
          "text": [
            "100%|██████████| 117/117 [00:02<00:00, 50.62it/s]\n",
            "100%|██████████| 13/13 [00:00<00:00, 36.70it/s]\n",
            "  0%|          | 0/117 [00:00<?, ?it/s]"
          ],
          "name": "stderr"
        },
        {
          "output_type": "stream",
          "text": [
            "[('gc27',\n",
            "  '````````````````x`````c```````66```````````8```````````````````````````````'),\n",
            " ('pe4x',\n",
            "  '````````````````2``n`````````f`````````2```6```````````````````````````````'),\n",
            " ('cdmn',\n",
            "  '`````````````````4```ec``````````n```````7`````````````````````````````````'),\n",
            " ('5mff',\n",
            "  '````````````````x`````````g````c`````````xx`````y``````````````````````````')]\n",
            "EPOCH:132, train_loss=0.13099586963653564, valid_loss=0.6429417133331299\n"
          ],
          "name": "stdout"
        },
        {
          "output_type": "stream",
          "text": [
            "100%|██████████| 117/117 [00:02<00:00, 50.61it/s]\n",
            "100%|██████████| 13/13 [00:00<00:00, 37.75it/s]\n",
            "  0%|          | 0/117 [00:00<?, ?it/s]"
          ],
          "name": "stderr"
        },
        {
          "output_type": "stream",
          "text": [
            "[('gc27',\n",
            "  '````````````````x`````c```````66```````````8```````````````````````````````'),\n",
            " ('pe4x',\n",
            "  '````````````````2``n`````````f`````````2```6```````````````````````````````'),\n",
            " ('cdmn',\n",
            "  '`````````````````4```e```````````n```````7`````````````````````````````````'),\n",
            " ('5mff',\n",
            "  '````````````````x`````````g````c`````````xx````````````````````````````````')]\n",
            "EPOCH:133, train_loss=0.11809608340263367, valid_loss=0.5072861909866333\n"
          ],
          "name": "stdout"
        },
        {
          "output_type": "stream",
          "text": [
            "100%|██████████| 117/117 [00:02<00:00, 49.27it/s]\n",
            "100%|██████████| 13/13 [00:00<00:00, 38.42it/s]\n",
            "  0%|          | 0/117 [00:00<?, ?it/s]"
          ],
          "name": "stderr"
        },
        {
          "output_type": "stream",
          "text": [
            "[('gc27',\n",
            "  '````````````````x`````c```````66```````````8```````````````````````````````'),\n",
            " ('pe4x',\n",
            "  '````````````````2``n`````````f`````````2```6```````````````````````````````'),\n",
            " ('cdmn',\n",
            "  '`````````````````4```ec``````````n```````7`````````````````````````````````'),\n",
            " ('5mff',\n",
            "  '````````````````x`````````g````c`````````xx`````y``````````````````````````')]\n",
            "EPOCH:134, train_loss=0.09085524082183838, valid_loss=0.5982946753501892\n"
          ],
          "name": "stdout"
        },
        {
          "output_type": "stream",
          "text": [
            "100%|██████████| 117/117 [00:02<00:00, 50.48it/s]\n",
            "100%|██████████| 13/13 [00:00<00:00, 36.80it/s]\n",
            "  0%|          | 0/117 [00:00<?, ?it/s]"
          ],
          "name": "stderr"
        },
        {
          "output_type": "stream",
          "text": [
            "[('gc27',\n",
            "  '````````````````x`````c```````66```````````8```````````````````````````````'),\n",
            " ('pe4x',\n",
            "  '````````````````2``n`````````f`````````2```6```````````````````````````````'),\n",
            " ('cdmn',\n",
            "  '`````````````````4```ec``````````n```````7`````````````````````````````````'),\n",
            " ('5mff',\n",
            "  '````````````````x`````````g````c`````````xx`````y``````````````````````````')]\n",
            "EPOCH:135, train_loss=0.12032587826251984, valid_loss=0.44209033250808716\n"
          ],
          "name": "stdout"
        },
        {
          "output_type": "stream",
          "text": [
            "100%|██████████| 117/117 [00:02<00:00, 50.60it/s]\n",
            "100%|██████████| 13/13 [00:00<00:00, 37.39it/s]\n",
            "  0%|          | 0/117 [00:00<?, ?it/s]"
          ],
          "name": "stderr"
        },
        {
          "output_type": "stream",
          "text": [
            "[('gc27',\n",
            "  '````````````````x`````c```````66```````````8```````````````````````````````'),\n",
            " ('pe4x',\n",
            "  '````````````````2``n`````````f`````````2```6```````````````````````````````'),\n",
            " ('cdmn',\n",
            "  '`````````````````4```e```````````n```````7`````````````````````````````````'),\n",
            " ('5mff',\n",
            "  '````````````````x`````````g``````````````xx````````````````````````````````')]\n",
            "EPOCH:136, train_loss=0.13412977755069733, valid_loss=0.4472528398036957\n"
          ],
          "name": "stdout"
        },
        {
          "output_type": "stream",
          "text": [
            "100%|██████████| 117/117 [00:02<00:00, 49.69it/s]\n",
            "100%|██████████| 13/13 [00:00<00:00, 37.05it/s]\n",
            "  0%|          | 0/117 [00:00<?, ?it/s]"
          ],
          "name": "stderr"
        },
        {
          "output_type": "stream",
          "text": [
            "[('gc27',\n",
            "  '````````````````x`````c```````66```````````8```````````````````````````````'),\n",
            " ('pe4x',\n",
            "  '````````````````2``n`````````f`````````2```6```````````````````````````````'),\n",
            " ('cdmn',\n",
            "  '`````````````````4```e```````````n```````7`````````````````````````````````'),\n",
            " ('5mff',\n",
            "  '````````````````x`````````g````c`````````xx`````y``````````````````````````')]\n",
            "EPOCH:137, train_loss=0.09007575362920761, valid_loss=0.4603426456451416\n"
          ],
          "name": "stdout"
        },
        {
          "output_type": "stream",
          "text": [
            "100%|██████████| 117/117 [00:02<00:00, 50.32it/s]\n",
            "100%|██████████| 13/13 [00:00<00:00, 37.53it/s]\n",
            "  0%|          | 0/117 [00:00<?, ?it/s]"
          ],
          "name": "stderr"
        },
        {
          "output_type": "stream",
          "text": [
            "[('gc27',\n",
            "  '````````````````x`````c```````6````````````8```````````````````````````````'),\n",
            " ('pe4x',\n",
            "  '````````````````2``m`````````f`````````2```6```````````````````````````````'),\n",
            " ('cdmn',\n",
            "  '`````````````````4```e```````````n```````7`````````````````````````````````'),\n",
            " ('5mff',\n",
            "  '````````````````x`````````g````c`````````xx````````````````````````````````')]\n",
            "EPOCH:138, train_loss=0.08807957172393799, valid_loss=0.47403836250305176\n"
          ],
          "name": "stdout"
        },
        {
          "output_type": "stream",
          "text": [
            "100%|██████████| 117/117 [00:02<00:00, 50.81it/s]\n",
            "100%|██████████| 13/13 [00:00<00:00, 38.54it/s]\n",
            "  0%|          | 0/117 [00:00<?, ?it/s]"
          ],
          "name": "stderr"
        },
        {
          "output_type": "stream",
          "text": [
            "[('gc27',\n",
            "  '````````````````x`````c```````66```````````8```````````````````````````````'),\n",
            " ('pe4x',\n",
            "  '````````````````2``n`````````f`````````2```````````````````````````````````'),\n",
            " ('cdmn',\n",
            "  '`````````````````4```e```````````n```````7`````````````````````````````````'),\n",
            " ('5mff',\n",
            "  '````````````````x`````````g``````````````xx`````y``````````````````````````')]\n",
            "EPOCH:139, train_loss=0.09466566890478134, valid_loss=0.4960511028766632\n"
          ],
          "name": "stdout"
        },
        {
          "output_type": "stream",
          "text": [
            "100%|██████████| 117/117 [00:02<00:00, 50.28it/s]\n",
            "100%|██████████| 13/13 [00:00<00:00, 36.51it/s]\n",
            "  0%|          | 0/117 [00:00<?, ?it/s]"
          ],
          "name": "stderr"
        },
        {
          "output_type": "stream",
          "text": [
            "[('gc27',\n",
            "  '````````````````x`````c```````66```````````8```````````````````````````````'),\n",
            " ('pe4x',\n",
            "  '````````````````2``n`````````f`````````2```````````````````````````````````'),\n",
            " ('cdmn',\n",
            "  '`````````````````4```e```````````n```````7`````````````````````````````````'),\n",
            " ('5mff',\n",
            "  '````````````````x`````````g````c````````````````y``````````````````````````')]\n",
            "EPOCH:140, train_loss=0.11613816767930984, valid_loss=0.5172325372695923\n"
          ],
          "name": "stdout"
        },
        {
          "output_type": "stream",
          "text": [
            "100%|██████████| 117/117 [00:02<00:00, 50.87it/s]\n",
            "100%|██████████| 13/13 [00:00<00:00, 37.40it/s]\n",
            "  0%|          | 0/117 [00:00<?, ?it/s]"
          ],
          "name": "stderr"
        },
        {
          "output_type": "stream",
          "text": [
            "[('gc27',\n",
            "  '````````````````x`````c```````66```````````8```````````````````````````````'),\n",
            " ('pe4x',\n",
            "  '````````````````2``n`````````f`````````2```````````````````````````````````'),\n",
            " ('cdmn',\n",
            "  '`````````````````4```ec``````````n```````7`````````````````````````````````'),\n",
            " ('5mff',\n",
            "  '````````````````x`````````g````c`````````xx````````````````````````````````')]\n",
            "EPOCH:141, train_loss=0.08581878244876862, valid_loss=0.5293116569519043\n"
          ],
          "name": "stdout"
        },
        {
          "output_type": "stream",
          "text": [
            "100%|██████████| 117/117 [00:02<00:00, 50.30it/s]\n",
            "100%|██████████| 13/13 [00:00<00:00, 37.98it/s]\n",
            "  0%|          | 0/117 [00:00<?, ?it/s]"
          ],
          "name": "stderr"
        },
        {
          "output_type": "stream",
          "text": [
            "[('gc27',\n",
            "  '````````````````x`````c```````66```````````8```````````````````````````````'),\n",
            " ('pe4x',\n",
            "  '````````````````2``n`````````f`````````2```6```````````````````````````````'),\n",
            " ('cdmn',\n",
            "  '`````````````````4```ec``````````n``````77`````````````````````````````````'),\n",
            " ('5mff',\n",
            "  '````````````````x`````````g````c`````````xx`````y``````````````````````````')]\n",
            "EPOCH:142, train_loss=0.1028340682387352, valid_loss=0.5258876085281372\n"
          ],
          "name": "stdout"
        },
        {
          "output_type": "stream",
          "text": [
            "100%|██████████| 117/117 [00:02<00:00, 50.28it/s]\n",
            "100%|██████████| 13/13 [00:00<00:00, 36.51it/s]\n",
            "  0%|          | 0/117 [00:00<?, ?it/s]"
          ],
          "name": "stderr"
        },
        {
          "output_type": "stream",
          "text": [
            "[('gc27',\n",
            "  '````````````````w`````c```````66```````````8```````````````````````````````'),\n",
            " ('pe4x',\n",
            "  '````````````````2``n`````````f`````````2```````````````````````````````````'),\n",
            " ('cdmn',\n",
            "  '`````````````````4```e```````````n``````77`````````````````````````````````'),\n",
            " ('5mff',\n",
            "  '````````````````x`````````g````c`````````x``````y``````````````````````````')]\n",
            "EPOCH:143, train_loss=0.09425168484449387, valid_loss=0.4848794639110565\n"
          ],
          "name": "stdout"
        },
        {
          "output_type": "stream",
          "text": [
            "100%|██████████| 117/117 [00:02<00:00, 50.19it/s]\n",
            "100%|██████████| 13/13 [00:00<00:00, 37.56it/s]\n",
            "  0%|          | 0/117 [00:00<?, ?it/s]"
          ],
          "name": "stderr"
        },
        {
          "output_type": "stream",
          "text": [
            "[('gc27',\n",
            "  '````````````````x`````````````6````````````8```````````````````````````````'),\n",
            " ('pe4x',\n",
            "  '````````````````2``n`````````f`````````2```````````````````````````````````'),\n",
            " ('cdmn',\n",
            "  '`````````````````4```````````````n```````7`````````````````````````````````'),\n",
            " ('5mff',\n",
            "  '````````````````x`````````g``````````````x``````y``````````````````````````')]\n",
            "EPOCH:144, train_loss=0.07985923439264297, valid_loss=0.5739704370498657\n"
          ],
          "name": "stdout"
        },
        {
          "output_type": "stream",
          "text": [
            "100%|██████████| 117/117 [00:02<00:00, 50.33it/s]\n",
            "100%|██████████| 13/13 [00:00<00:00, 38.71it/s]\n",
            "  0%|          | 0/117 [00:00<?, ?it/s]"
          ],
          "name": "stderr"
        },
        {
          "output_type": "stream",
          "text": [
            "[('gc27',\n",
            "  '````````````````x`````c```````66```````````8```````````````````````````````'),\n",
            " ('pe4x',\n",
            "  '````````````````2``n`````````f`````````2```6```````````````````````````````'),\n",
            " ('cdmn',\n",
            "  '`````````````````4````c``````````n``````77`````````````````````````````````'),\n",
            " ('5mff',\n",
            "  '````````````````x`````````g````c`````````xx`````y``````````````````````````')]\n",
            "EPOCH:145, train_loss=0.092489093542099, valid_loss=0.5299760699272156\n"
          ],
          "name": "stdout"
        },
        {
          "output_type": "stream",
          "text": [
            "100%|██████████| 117/117 [00:02<00:00, 50.89it/s]\n",
            "100%|██████████| 13/13 [00:00<00:00, 40.44it/s]\n",
            "  0%|          | 0/117 [00:00<?, ?it/s]"
          ],
          "name": "stderr"
        },
        {
          "output_type": "stream",
          "text": [
            "[('gc27',\n",
            "  '````````````````x`````c```````66```````````8```````````````````````````````'),\n",
            " ('pe4x',\n",
            "  '````````````````2``n`````````f`````````2```````````````````````````````````'),\n",
            " ('cdmn',\n",
            "  '`````````````````4```ec``````````n```````7`````````````````````````````````'),\n",
            " ('5mff',\n",
            "  '````````````````x`````````g````c`````````xx````````````````````````````````')]\n",
            "EPOCH:146, train_loss=0.09165062010288239, valid_loss=0.5026422739028931\n"
          ],
          "name": "stdout"
        },
        {
          "output_type": "stream",
          "text": [
            "100%|██████████| 117/117 [00:02<00:00, 50.65it/s]\n",
            "100%|██████████| 13/13 [00:00<00:00, 37.94it/s]\n",
            "  0%|          | 0/117 [00:00<?, ?it/s]"
          ],
          "name": "stderr"
        },
        {
          "output_type": "stream",
          "text": [
            "[('gc27',\n",
            "  '````````````````x`````c```````66```````````8```````````````````````````````'),\n",
            " ('pe4x',\n",
            "  '````````````````2``n`````````f`````````2```````````````````````````````````'),\n",
            " ('cdmn',\n",
            "  '`````````````````4```e```````````n```````7`````````````````````````````````'),\n",
            " ('5mff',\n",
            "  '````````````````x`````````g````c`````````xx````````````````````````````````')]\n",
            "EPOCH:147, train_loss=0.07169639319181442, valid_loss=0.4597616493701935\n"
          ],
          "name": "stdout"
        },
        {
          "output_type": "stream",
          "text": [
            "100%|██████████| 117/117 [00:02<00:00, 50.65it/s]\n",
            "100%|██████████| 13/13 [00:00<00:00, 37.06it/s]\n",
            "  0%|          | 0/117 [00:00<?, ?it/s]"
          ],
          "name": "stderr"
        },
        {
          "output_type": "stream",
          "text": [
            "[('gc27',\n",
            "  '````````````````x`````c```````6````````````8```````````````````````````````'),\n",
            " ('pe4x',\n",
            "  '````````````````2``n`````````f`````````2```````````````````````````````````'),\n",
            " ('cdmn',\n",
            "  '`````````````````4```e```````````n``````77`````````````````````````````````'),\n",
            " ('5mff',\n",
            "  '````````````````x`````````g````c`````````xx`````y``````````````````````````')]\n",
            "EPOCH:148, train_loss=0.07650800049304962, valid_loss=0.5150713324546814\n"
          ],
          "name": "stdout"
        },
        {
          "output_type": "stream",
          "text": [
            "100%|██████████| 117/117 [00:02<00:00, 48.99it/s]\n",
            "100%|██████████| 13/13 [00:00<00:00, 37.48it/s]\n",
            "  0%|          | 0/117 [00:00<?, ?it/s]"
          ],
          "name": "stderr"
        },
        {
          "output_type": "stream",
          "text": [
            "[('gc27',\n",
            "  '````````````````x`````c```````6````````````8```````````````````````````````'),\n",
            " ('pe4x',\n",
            "  '````````````````2``n`````````f`````````2```````````````````````````````````'),\n",
            " ('cdmn',\n",
            "  '`````````````````4```e```````````n```````7`````````````````````````````````'),\n",
            " ('5mff',\n",
            "  '````````````````x`````````g````c`````````xx`````y``````````````````````````')]\n",
            "EPOCH:149, train_loss=0.11225167661905289, valid_loss=0.47439080476760864\n"
          ],
          "name": "stdout"
        },
        {
          "output_type": "stream",
          "text": [
            "100%|██████████| 117/117 [00:02<00:00, 50.74it/s]\n",
            "100%|██████████| 13/13 [00:00<00:00, 39.39it/s]\n",
            "  0%|          | 0/117 [00:00<?, ?it/s]"
          ],
          "name": "stderr"
        },
        {
          "output_type": "stream",
          "text": [
            "[('gc27',\n",
            "  '````````````````x`````c```````6````````````8```````````````````````````````'),\n",
            " ('pe4x',\n",
            "  '````````````````2``n`````````f`````````2```````````````````````````````````'),\n",
            " ('cdmn',\n",
            "  '`````````````````4```````````````n```````7`````````````````````````````````'),\n",
            " ('5mff',\n",
            "  '````````````````x`````````g``````````````x``````y``````````````````````````')]\n",
            "EPOCH:150, train_loss=0.09320614486932755, valid_loss=0.48873794078826904\n"
          ],
          "name": "stdout"
        },
        {
          "output_type": "stream",
          "text": [
            "100%|██████████| 117/117 [00:02<00:00, 50.63it/s]\n",
            "100%|██████████| 13/13 [00:00<00:00, 37.77it/s]\n",
            "  0%|          | 0/117 [00:00<?, ?it/s]"
          ],
          "name": "stderr"
        },
        {
          "output_type": "stream",
          "text": [
            "[('gc27',\n",
            "  '````````````````x`````````````6````````````8```````````````````````````````'),\n",
            " ('pe4x',\n",
            "  '````````````````2``n`````````f`````````2```````````````````````````````````'),\n",
            " ('cdmn',\n",
            "  '`````````````````4```````````````n```````7`````````````````````````````````'),\n",
            " ('5mff',\n",
            "  '````````````````x`````````g``````````````x``````y``````````````````````````')]\n",
            "EPOCH:151, train_loss=0.09067755937576294, valid_loss=0.49542510509490967\n"
          ],
          "name": "stdout"
        },
        {
          "output_type": "stream",
          "text": [
            "100%|██████████| 117/117 [00:02<00:00, 50.83it/s]\n",
            "100%|██████████| 13/13 [00:00<00:00, 37.83it/s]\n",
            "  0%|          | 0/117 [00:00<?, ?it/s]"
          ],
          "name": "stderr"
        },
        {
          "output_type": "stream",
          "text": [
            "[('gc27',\n",
            "  '````````````````x`````c```````66```````````8```````````````````````````````'),\n",
            " ('pe4x',\n",
            "  '````````````````2``n`````````f`````````2```````````````````````````````````'),\n",
            " ('cdmn',\n",
            "  '`````````````````4````c``````````n```````7`````````````````````````````````'),\n",
            " ('5mff',\n",
            "  '````````````````x`````````g````c`````````xx`````y``````````````````````````')]\n",
            "EPOCH:152, train_loss=0.08384016156196594, valid_loss=0.5557274222373962\n"
          ],
          "name": "stdout"
        },
        {
          "output_type": "stream",
          "text": [
            "100%|██████████| 117/117 [00:02<00:00, 50.70it/s]\n",
            "100%|██████████| 13/13 [00:00<00:00, 38.97it/s]\n",
            "  0%|          | 0/117 [00:00<?, ?it/s]"
          ],
          "name": "stderr"
        },
        {
          "output_type": "stream",
          "text": [
            "[('gc27',\n",
            "  '````````````````x`````c```````66```````````8```````````````````````````````'),\n",
            " ('pe4x',\n",
            "  '````````````````2``n`````````f`````````2```6```````````````````````````````'),\n",
            " ('cdmn',\n",
            "  '`````````````````4```e```````````n```````7`````````````````````````````````'),\n",
            " ('5mff',\n",
            "  '````````````````x`````````g````c`````````xx````````````````````````````````')]\n",
            "EPOCH:153, train_loss=0.08879657834768295, valid_loss=0.46658656001091003\n"
          ],
          "name": "stdout"
        },
        {
          "output_type": "stream",
          "text": [
            "100%|██████████| 117/117 [00:02<00:00, 50.22it/s]\n",
            "100%|██████████| 13/13 [00:00<00:00, 38.65it/s]\n",
            "  0%|          | 0/117 [00:00<?, ?it/s]"
          ],
          "name": "stderr"
        },
        {
          "output_type": "stream",
          "text": [
            "[('gc27',\n",
            "  '````````````````x`````c```````6````````````8```````````````````````````````'),\n",
            " ('pe4x',\n",
            "  '````````````````2``n`````````f`````````2```6```````````````````````````````'),\n",
            " ('cdmn',\n",
            "  '`````````````````4```e```````````n```````7`````````````````````````````````'),\n",
            " ('5mff',\n",
            "  '````````````````x`````````g``````````````x``````y``````````````````````````')]\n",
            "EPOCH:154, train_loss=0.09670890867710114, valid_loss=0.49166589975357056\n"
          ],
          "name": "stdout"
        },
        {
          "output_type": "stream",
          "text": [
            "100%|██████████| 117/117 [00:02<00:00, 50.44it/s]\n",
            "100%|██████████| 13/13 [00:00<00:00, 38.89it/s]\n",
            "  0%|          | 0/117 [00:00<?, ?it/s]"
          ],
          "name": "stderr"
        },
        {
          "output_type": "stream",
          "text": [
            "[('gc27',\n",
            "  '````````````````x`````c```````66```````````8```````````````````````````````'),\n",
            " ('pe4x',\n",
            "  '````````````````2``n`````````f`````````2```6```````````````````````````````'),\n",
            " ('cdmn',\n",
            "  '`````````````````4```e```````````n```````7`````````````````````````````````'),\n",
            " ('5mff',\n",
            "  '````````````````x`````````g````c`````````xx`````y``````````````````````````')]\n",
            "EPOCH:155, train_loss=0.07836147397756577, valid_loss=0.5490219593048096\n"
          ],
          "name": "stdout"
        },
        {
          "output_type": "stream",
          "text": [
            "100%|██████████| 117/117 [00:02<00:00, 50.65it/s]\n",
            "100%|██████████| 13/13 [00:00<00:00, 38.16it/s]\n",
            "  0%|          | 0/117 [00:00<?, ?it/s]"
          ],
          "name": "stderr"
        },
        {
          "output_type": "stream",
          "text": [
            "[('gc27',\n",
            "  '````````````````x`````c```````6````````````8```````````````````````````````'),\n",
            " ('pe4x',\n",
            "  '````````````````2``n`````````f`````````2```````````````````````````````````'),\n",
            " ('cdmn',\n",
            "  '`````````````````4```e```````````n```````7`````````````````````````````````'),\n",
            " ('5mff',\n",
            "  '````````````````x`````````g````c`````````xx````````````````````````````````')]\n",
            "EPOCH:156, train_loss=0.06993050873279572, valid_loss=0.47272107005119324\n"
          ],
          "name": "stdout"
        },
        {
          "output_type": "stream",
          "text": [
            "100%|██████████| 117/117 [00:02<00:00, 50.61it/s]\n",
            "100%|██████████| 13/13 [00:00<00:00, 37.89it/s]\n",
            "  0%|          | 0/117 [00:00<?, ?it/s]"
          ],
          "name": "stderr"
        },
        {
          "output_type": "stream",
          "text": [
            "[('gc27',\n",
            "  '````````````````x`````c```````66```````````8```````````````````````````````'),\n",
            " ('pe4x',\n",
            "  '````````````````2``n`````````f`````````2```````````````````````````````````'),\n",
            " ('cdmn',\n",
            "  '`````````````````4```e```````````n``````77`````````````````````````````````'),\n",
            " ('5mff',\n",
            "  '````````````````x`````````g````c`````````xx````````````````````````````````')]\n",
            "EPOCH:157, train_loss=0.06679008901119232, valid_loss=0.4718140661716461\n"
          ],
          "name": "stdout"
        },
        {
          "output_type": "stream",
          "text": [
            "100%|██████████| 117/117 [00:02<00:00, 50.45it/s]\n",
            "100%|██████████| 13/13 [00:00<00:00, 38.21it/s]\n",
            "  0%|          | 0/117 [00:00<?, ?it/s]"
          ],
          "name": "stderr"
        },
        {
          "output_type": "stream",
          "text": [
            "[('gc27',\n",
            "  '````````````````x`````c```````6````````````8```````````````````````````````'),\n",
            " ('pe4x',\n",
            "  '````````````````2``n`````````f`````````2```````````````````````````````````'),\n",
            " ('cdmn',\n",
            "  '`````````````````4```ec``````````n```````7`````````````````````````````````'),\n",
            " ('5mff',\n",
            "  '````````````````x`````````g````c`````````xx````````````````````````````````')]\n",
            "EPOCH:158, train_loss=0.06630504876375198, valid_loss=0.4641155004501343\n"
          ],
          "name": "stdout"
        },
        {
          "output_type": "stream",
          "text": [
            "100%|██████████| 117/117 [00:02<00:00, 50.42it/s]\n",
            "100%|██████████| 13/13 [00:00<00:00, 38.25it/s]\n",
            "  0%|          | 0/117 [00:00<?, ?it/s]"
          ],
          "name": "stderr"
        },
        {
          "output_type": "stream",
          "text": [
            "[('gc27',\n",
            "  '````````````````x`````c```````6````````````8```````````````````````````````'),\n",
            " ('pe4x',\n",
            "  '````````````````2``n`````````f`````````2```````````````````````````````````'),\n",
            " ('cdmn',\n",
            "  '`````````````````4```e```````````n```````7`````````````````````````````````'),\n",
            " ('5mff',\n",
            "  '````````````````x`````````g````c`````````xx````````````````````````````````')]\n",
            "EPOCH:159, train_loss=0.06132695823907852, valid_loss=0.51543790102005\n"
          ],
          "name": "stdout"
        },
        {
          "output_type": "stream",
          "text": [
            "100%|██████████| 117/117 [00:02<00:00, 49.99it/s]\n",
            "100%|██████████| 13/13 [00:00<00:00, 35.60it/s]\n",
            "  0%|          | 0/117 [00:00<?, ?it/s]"
          ],
          "name": "stderr"
        },
        {
          "output_type": "stream",
          "text": [
            "[('gc27',\n",
            "  '````````````````x`````c```````6````````````8```````````````````````````````'),\n",
            " ('pe4x',\n",
            "  '````````````````2``n`````````f`````````2```6```````````````````````````````'),\n",
            " ('cdmn',\n",
            "  '`````````````````4```e```````````n```````7`````````````````````````````````'),\n",
            " ('5mff',\n",
            "  '````````````````x`````````g````c`````````xx````````````````````````````````')]\n",
            "EPOCH:160, train_loss=0.0831330418586731, valid_loss=0.4892900586128235\n"
          ],
          "name": "stdout"
        },
        {
          "output_type": "stream",
          "text": [
            "100%|██████████| 117/117 [00:02<00:00, 48.98it/s]\n",
            "100%|██████████| 13/13 [00:00<00:00, 36.52it/s]\n",
            "  0%|          | 0/117 [00:00<?, ?it/s]"
          ],
          "name": "stderr"
        },
        {
          "output_type": "stream",
          "text": [
            "[('gc27',\n",
            "  '````````````````x`````c```````6````````````8```````````````````````````````'),\n",
            " ('pe4x',\n",
            "  '````````````````2``n`````````f`````````2```6```````````````````````````````'),\n",
            " ('cdmn',\n",
            "  '`````````````````4```ec``````````n```````7`````````````````````````````````'),\n",
            " ('5mff',\n",
            "  '````````````````x`````````g````c`````````xx`````y``````````````````````````')]\n",
            "EPOCH:161, train_loss=0.07733233273029327, valid_loss=0.46686986088752747\n"
          ],
          "name": "stdout"
        },
        {
          "output_type": "stream",
          "text": [
            "100%|██████████| 117/117 [00:02<00:00, 49.65it/s]\n",
            "100%|██████████| 13/13 [00:00<00:00, 38.64it/s]\n",
            "  0%|          | 0/117 [00:00<?, ?it/s]"
          ],
          "name": "stderr"
        },
        {
          "output_type": "stream",
          "text": [
            "[('gc27',\n",
            "  '````````````````x`````c```````6````````````8```````````````````````````````'),\n",
            " ('pe4x',\n",
            "  '````````````````2``n`````````f`````````2```6```````````````````````````````'),\n",
            " ('cdmn',\n",
            "  '`````````````````4```ec``````````n```````7`````````````````````````````````'),\n",
            " ('5mff',\n",
            "  '````````````````x`````````g````c`````````xx`````y``````````````````````````')]\n",
            "EPOCH:162, train_loss=0.07091403752565384, valid_loss=0.4951123297214508\n"
          ],
          "name": "stdout"
        },
        {
          "output_type": "stream",
          "text": [
            "100%|██████████| 117/117 [00:02<00:00, 50.57it/s]\n",
            "100%|██████████| 13/13 [00:00<00:00, 38.54it/s]\n",
            "  0%|          | 0/117 [00:00<?, ?it/s]"
          ],
          "name": "stderr"
        },
        {
          "output_type": "stream",
          "text": [
            "[('gc27',\n",
            "  '````````````````x`````c```````6````````````8```````````````````````````````'),\n",
            " ('pe4x',\n",
            "  '````````````````2``n`````````f`````````2```6```````````````````````````````'),\n",
            " ('cdmn',\n",
            "  '`````````````````4```ec``````````n```````7`````````````````````````````````'),\n",
            " ('5mff',\n",
            "  '````````````````x`````````g````c`````````xc`````y``````````````````````````')]\n",
            "EPOCH:163, train_loss=0.08893627673387527, valid_loss=0.5729823708534241\n"
          ],
          "name": "stdout"
        },
        {
          "output_type": "stream",
          "text": [
            "100%|██████████| 117/117 [00:02<00:00, 50.46it/s]\n",
            "100%|██████████| 13/13 [00:00<00:00, 37.41it/s]\n",
            "  0%|          | 0/117 [00:00<?, ?it/s]"
          ],
          "name": "stderr"
        },
        {
          "output_type": "stream",
          "text": [
            "[('gc27',\n",
            "  '````````````````x`````c```````66```````````8```````````````````````````````'),\n",
            " ('pe4x',\n",
            "  '````````````````2``n`````````f`````````2```````````````````````````````````'),\n",
            " ('cdmn',\n",
            "  '`````````````````4```e```````````n```````7`````````````````````````````````'),\n",
            " ('5mff',\n",
            "  '````````````````x`````````g````c`````````x`````````````````````````````````')]\n",
            "EPOCH:164, train_loss=0.09853294491767883, valid_loss=0.64848792552948\n"
          ],
          "name": "stdout"
        },
        {
          "output_type": "stream",
          "text": [
            "100%|██████████| 117/117 [00:02<00:00, 49.96it/s]\n",
            "100%|██████████| 13/13 [00:00<00:00, 34.31it/s]\n",
            "  0%|          | 0/117 [00:00<?, ?it/s]"
          ],
          "name": "stderr"
        },
        {
          "output_type": "stream",
          "text": [
            "[('gc27',\n",
            "  '````````````````x`````c```````66```````````8```````````````````````````````'),\n",
            " ('pe4x',\n",
            "  '````````````````2``n`````````f`````````2```6```````````````````````````````'),\n",
            " ('cdmn',\n",
            "  '`````````````````4```e```````````n``````77`````````````````````````````````'),\n",
            " ('5mff',\n",
            "  '````````````````x`````````g````c`````````xx`````y``````````````````````````')]\n",
            "EPOCH:165, train_loss=0.06705030053853989, valid_loss=0.4893243610858917\n"
          ],
          "name": "stdout"
        },
        {
          "output_type": "stream",
          "text": [
            "100%|██████████| 117/117 [00:02<00:00, 49.67it/s]\n",
            "100%|██████████| 13/13 [00:00<00:00, 37.85it/s]\n",
            "  0%|          | 0/117 [00:00<?, ?it/s]"
          ],
          "name": "stderr"
        },
        {
          "output_type": "stream",
          "text": [
            "[('gc27',\n",
            "  '````````````````x`````````````6````````````8```````````````````````````````'),\n",
            " ('pe4x',\n",
            "  '````````````````2``n`````````f`````````2```````````````````````````````````'),\n",
            " ('cdmn',\n",
            "  '`````````````````4```e```````````n```````7`````````````````````````````````'),\n",
            " ('5mff',\n",
            "  '````````````````x`````````g````c`````````xx````````````````````````````````')]\n",
            "EPOCH:166, train_loss=0.06274557113647461, valid_loss=0.47753551602363586\n"
          ],
          "name": "stdout"
        },
        {
          "output_type": "stream",
          "text": [
            "100%|██████████| 117/117 [00:02<00:00, 50.65it/s]\n",
            "100%|██████████| 13/13 [00:00<00:00, 37.47it/s]\n",
            "  0%|          | 0/117 [00:00<?, ?it/s]"
          ],
          "name": "stderr"
        },
        {
          "output_type": "stream",
          "text": [
            "[('gc27',\n",
            "  '````````````````x`````c```````66```````````3```````````````````````````````'),\n",
            " ('pe4x',\n",
            "  '````````````````2``n`````````f`````````2```````````````````````````````````'),\n",
            " ('cdmn',\n",
            "  '`````````````````4```ec``````````n``````77`````````````````````````````````'),\n",
            " ('5mff',\n",
            "  '````````````````x`````````g````c`````````xx````````````````````````````````')]\n",
            "EPOCH:167, train_loss=0.08587037771940231, valid_loss=0.4522061049938202\n"
          ],
          "name": "stdout"
        },
        {
          "output_type": "stream",
          "text": [
            "100%|██████████| 117/117 [00:02<00:00, 50.84it/s]\n",
            "100%|██████████| 13/13 [00:00<00:00, 38.25it/s]\n",
            "  0%|          | 0/117 [00:00<?, ?it/s]"
          ],
          "name": "stderr"
        },
        {
          "output_type": "stream",
          "text": [
            "[('gc27',\n",
            "  '````````````````x`````c```````6````````````3```````````````````````````````'),\n",
            " ('pe4x',\n",
            "  '````````````````2``n`````````f`````````2```6```````````````````````````````'),\n",
            " ('cdmn',\n",
            "  '`````````````````4```ec``````````n``````77`````````````````````````````````'),\n",
            " ('5mff',\n",
            "  '````````````````x`````````g````c`````````xx`````y``````````````````````````')]\n",
            "EPOCH:168, train_loss=0.06703493744134903, valid_loss=0.4703485369682312\n"
          ],
          "name": "stdout"
        },
        {
          "output_type": "stream",
          "text": [
            "100%|██████████| 117/117 [00:02<00:00, 50.05it/s]\n",
            "100%|██████████| 13/13 [00:00<00:00, 37.34it/s]\n",
            "  0%|          | 0/117 [00:00<?, ?it/s]"
          ],
          "name": "stderr"
        },
        {
          "output_type": "stream",
          "text": [
            "[('gc27',\n",
            "  '````````````````x`````c```````6````````````3```````````````````````````````'),\n",
            " ('pe4x',\n",
            "  '````````````````2``n`````````f`````````2```````````````````````````````````'),\n",
            " ('cdmn',\n",
            "  '`````````````````4```ec``````````n```````7`````````````````````````````````'),\n",
            " ('5mff',\n",
            "  '````````````````x`````````g````c`````````xx````````````````````````````````')]\n",
            "EPOCH:169, train_loss=0.05132114887237549, valid_loss=0.479637086391449\n"
          ],
          "name": "stdout"
        },
        {
          "output_type": "stream",
          "text": [
            "100%|██████████| 117/117 [00:02<00:00, 50.73it/s]\n",
            "100%|██████████| 13/13 [00:00<00:00, 36.62it/s]\n",
            "  0%|          | 0/117 [00:00<?, ?it/s]"
          ],
          "name": "stderr"
        },
        {
          "output_type": "stream",
          "text": [
            "[('gc27',\n",
            "  '````````````````x`````c```````6````````````3```````````````````````````````'),\n",
            " ('pe4x',\n",
            "  '````````````````2``n`````````f`````````2```6```````````````````````````````'),\n",
            " ('cdmn',\n",
            "  '`````````````````4```e```````````n```````7`````````````````````````````````'),\n",
            " ('5mff',\n",
            "  '````````````````x`````````g``````````````x`````````````````````````````````')]\n",
            "EPOCH:170, train_loss=0.07602453231811523, valid_loss=0.5351307988166809\n"
          ],
          "name": "stdout"
        },
        {
          "output_type": "stream",
          "text": [
            "100%|██████████| 117/117 [00:02<00:00, 50.74it/s]\n",
            "100%|██████████| 13/13 [00:00<00:00, 39.14it/s]\n",
            "  0%|          | 0/117 [00:00<?, ?it/s]"
          ],
          "name": "stderr"
        },
        {
          "output_type": "stream",
          "text": [
            "[('gc27',\n",
            "  '````````````````x`````````````6````````````8```````````````````````````````'),\n",
            " ('pe4x',\n",
            "  '````````````````2``n```````````````````2```````````````````````````````````'),\n",
            " ('cdmn',\n",
            "  '`````````````````4```````````````n```````7`````````````````````````````````'),\n",
            " ('5mff',\n",
            "  '````````````````x`````````g````c`````````x`````````````````````````````````')]\n",
            "EPOCH:171, train_loss=0.05916055664420128, valid_loss=0.7075603008270264\n"
          ],
          "name": "stdout"
        },
        {
          "output_type": "stream",
          "text": [
            "100%|██████████| 117/117 [00:02<00:00, 50.14it/s]\n",
            "100%|██████████| 13/13 [00:00<00:00, 37.79it/s]\n",
            "  0%|          | 0/117 [00:00<?, ?it/s]"
          ],
          "name": "stderr"
        },
        {
          "output_type": "stream",
          "text": [
            "[('gc27',\n",
            "  '````````````````x`````````````6````````````8```````````````````````````````'),\n",
            " ('pe4x',\n",
            "  '````````````````2``n`````````f`````````2```````````````````````````````````'),\n",
            " ('cdmn',\n",
            "  '`````````````````4```e```````````n```````7`````````````````````````````````'),\n",
            " ('5mff',\n",
            "  '````````````````x`````````g````c`````````xx````````````````````````````````')]\n",
            "EPOCH:172, train_loss=0.07881571352481842, valid_loss=0.4751283526420593\n"
          ],
          "name": "stdout"
        },
        {
          "output_type": "stream",
          "text": [
            "100%|██████████| 117/117 [00:02<00:00, 50.32it/s]\n",
            "100%|██████████| 13/13 [00:00<00:00, 37.75it/s]\n",
            "  0%|          | 0/117 [00:00<?, ?it/s]"
          ],
          "name": "stderr"
        },
        {
          "output_type": "stream",
          "text": [
            "[('gc27',\n",
            "  '````````````````x`````c```````6````````````8```````````````````````````````'),\n",
            " ('pe4x',\n",
            "  '````````````````2``n`````````f`````````2```````````````````````````````````'),\n",
            " ('cdmn',\n",
            "  '`````````````````4```````````````n```````7`````````````````````````````````'),\n",
            " ('5mff',\n",
            "  '````````````````x`````````g````c`````````xx````````````````````````````````')]\n",
            "EPOCH:173, train_loss=0.05969841033220291, valid_loss=0.5207723379135132\n"
          ],
          "name": "stdout"
        },
        {
          "output_type": "stream",
          "text": [
            "100%|██████████| 117/117 [00:02<00:00, 50.41it/s]\n",
            "100%|██████████| 13/13 [00:00<00:00, 38.09it/s]\n",
            "  0%|          | 0/117 [00:00<?, ?it/s]"
          ],
          "name": "stderr"
        },
        {
          "output_type": "stream",
          "text": [
            "[('gc27',\n",
            "  '````````````````x`````c```````66```````````8```````````````````````````````'),\n",
            " ('pe4x',\n",
            "  '````````````````2``n`````````f`````````2```6```````````````````````````````'),\n",
            " ('cdmn',\n",
            "  '`````````````````4```e```````````n``````77`````````````````````````````````'),\n",
            " ('5mff',\n",
            "  '````````````````x`````````g````c`````````xx`````y``````````````````````````')]\n",
            "EPOCH:174, train_loss=0.05576339364051819, valid_loss=0.5032206773757935\n"
          ],
          "name": "stdout"
        },
        {
          "output_type": "stream",
          "text": [
            "100%|██████████| 117/117 [00:02<00:00, 50.28it/s]\n",
            "100%|██████████| 13/13 [00:00<00:00, 36.94it/s]\n",
            "  0%|          | 0/117 [00:00<?, ?it/s]"
          ],
          "name": "stderr"
        },
        {
          "output_type": "stream",
          "text": [
            "[('gc27',\n",
            "  '````````````````x`````c```````66```````````8```````````````````````````````'),\n",
            " ('pe4x',\n",
            "  '````````````````2``n`````````f`````````2```````````````````````````````````'),\n",
            " ('cdmn',\n",
            "  '`````````````````4```e```````````n``````77`````````````````````````````````'),\n",
            " ('5mff',\n",
            "  '````````````````x`````````g````c`````````xx````````````````````````````````')]\n",
            "EPOCH:175, train_loss=0.07893384248018265, valid_loss=0.49009543657302856\n"
          ],
          "name": "stdout"
        },
        {
          "output_type": "stream",
          "text": [
            "100%|██████████| 117/117 [00:02<00:00, 50.84it/s]\n",
            "100%|██████████| 13/13 [00:00<00:00, 38.95it/s]\n",
            "  0%|          | 0/117 [00:00<?, ?it/s]"
          ],
          "name": "stderr"
        },
        {
          "output_type": "stream",
          "text": [
            "[('gc27',\n",
            "  '````````````````x`````````````6````````````8```````````````````````````````'),\n",
            " ('pe4x',\n",
            "  '````````````````2``n`````````f`````````2```````````````````````````````````'),\n",
            " ('cdmn',\n",
            "  '`````````````````4```````````````n```````7`````````````````````````````````'),\n",
            " ('5mff',\n",
            "  '````````````````x`````````g``````````````x`````````````````````````````````')]\n",
            "EPOCH:176, train_loss=0.056007470935583115, valid_loss=0.49648043513298035\n"
          ],
          "name": "stdout"
        },
        {
          "output_type": "stream",
          "text": [
            "100%|██████████| 117/117 [00:02<00:00, 50.42it/s]\n",
            "100%|██████████| 13/13 [00:00<00:00, 38.04it/s]\n",
            "  0%|          | 0/117 [00:00<?, ?it/s]"
          ],
          "name": "stderr"
        },
        {
          "output_type": "stream",
          "text": [
            "[('gc27',\n",
            "  '````````````````x`````c```````6````````````8```````````````````````````````'),\n",
            " ('pe4x',\n",
            "  '````````````````2``n`````````f`````````2```6```````````````````````````````'),\n",
            " ('cdmn',\n",
            "  '`````````````````4```e```````````n```````7`````````````````````````````````'),\n",
            " ('5mff',\n",
            "  '````````````````x`````````g````c`````````xx````````````````````````````````')]\n",
            "EPOCH:177, train_loss=0.05689488351345062, valid_loss=0.4934990406036377\n"
          ],
          "name": "stdout"
        },
        {
          "output_type": "stream",
          "text": [
            "100%|██████████| 117/117 [00:02<00:00, 50.63it/s]\n",
            "100%|██████████| 13/13 [00:00<00:00, 36.55it/s]\n",
            "  0%|          | 0/117 [00:00<?, ?it/s]"
          ],
          "name": "stderr"
        },
        {
          "output_type": "stream",
          "text": [
            "[('gc27',\n",
            "  '````````````````x`````c```````66```````````8```````````````````````````````'),\n",
            " ('pe4x',\n",
            "  '````````````````2``n`````````f`````````2```````````````````````````````````'),\n",
            " ('cdmn',\n",
            "  '`````````````````4```e```````````n```````7`````````````````````````````````'),\n",
            " ('5mff',\n",
            "  '````````````````x`````````g````c`````````xx````````````````````````````````')]\n",
            "EPOCH:178, train_loss=0.058025795966386795, valid_loss=0.5153823494911194\n"
          ],
          "name": "stdout"
        },
        {
          "output_type": "stream",
          "text": [
            "100%|██████████| 117/117 [00:02<00:00, 50.43it/s]\n",
            "100%|██████████| 13/13 [00:00<00:00, 38.71it/s]\n",
            "  0%|          | 0/117 [00:00<?, ?it/s]"
          ],
          "name": "stderr"
        },
        {
          "output_type": "stream",
          "text": [
            "[('gc27',\n",
            "  '````````````````x`````c```````66```````````8```````````````````````````````'),\n",
            " ('pe4x',\n",
            "  '````````````````2``m`````````f`````````2```````````````````````````````````'),\n",
            " ('cdmn',\n",
            "  '`````````````````4```e```````````n```````7`````````````````````````````````'),\n",
            " ('5mff',\n",
            "  '````````````````x`````````g````c`````````xx````````````````````````````````')]\n",
            "EPOCH:179, train_loss=0.056718457490205765, valid_loss=0.5848912596702576\n"
          ],
          "name": "stdout"
        },
        {
          "output_type": "stream",
          "text": [
            "100%|██████████| 117/117 [00:02<00:00, 50.38it/s]\n",
            "100%|██████████| 13/13 [00:00<00:00, 39.12it/s]\n",
            "  0%|          | 0/117 [00:00<?, ?it/s]"
          ],
          "name": "stderr"
        },
        {
          "output_type": "stream",
          "text": [
            "[('gc27',\n",
            "  '````````````````x`````c```````66```````````8```````````````````````````````'),\n",
            " ('pe4x',\n",
            "  '````````````````2``n`````````f`````````2```6```````````````````````````````'),\n",
            " ('cdmn',\n",
            "  '`````````````````4```e```````````n```````7`````````````````````````````````'),\n",
            " ('5mff',\n",
            "  '````````````````x`````````g````c`````````xx````````````````````````````````')]\n",
            "EPOCH:180, train_loss=0.051516927778720856, valid_loss=0.5982233881950378\n"
          ],
          "name": "stdout"
        },
        {
          "output_type": "stream",
          "text": [
            "100%|██████████| 117/117 [00:02<00:00, 50.39it/s]\n",
            "100%|██████████| 13/13 [00:00<00:00, 33.52it/s]\n",
            "  0%|          | 0/117 [00:00<?, ?it/s]"
          ],
          "name": "stderr"
        },
        {
          "output_type": "stream",
          "text": [
            "[('gc27',\n",
            "  '````````````````x`````c```````6````````````8```````````````````````````````'),\n",
            " ('pe4x',\n",
            "  '````````````````2``n`````````f`````````2```6```````````````````````````````'),\n",
            " ('cdmn',\n",
            "  '`````````````````4```````````````n```````7`````````````````````````````````'),\n",
            " ('5mff',\n",
            "  '````````````````x`````````g``````````````x`````````````````````````````````')]\n",
            "EPOCH:181, train_loss=0.05100615322589874, valid_loss=0.5402713418006897\n"
          ],
          "name": "stdout"
        },
        {
          "output_type": "stream",
          "text": [
            "100%|██████████| 117/117 [00:02<00:00, 49.56it/s]\n",
            "100%|██████████| 13/13 [00:00<00:00, 38.14it/s]\n",
            "  0%|          | 0/117 [00:00<?, ?it/s]"
          ],
          "name": "stderr"
        },
        {
          "output_type": "stream",
          "text": [
            "[('gc27',\n",
            "  '````````````````x`````c```````6````````````8```````````````````````````````'),\n",
            " ('pe4x',\n",
            "  '````````````````2``n`````````f`````````2```````````````````````````````````'),\n",
            " ('cdmn',\n",
            "  '`````````````````4```````````````n```````7`````````````````````````````````'),\n",
            " ('5mff',\n",
            "  '````````````````x`````````g``````````````x`````````````````````````````````')]\n",
            "EPOCH:182, train_loss=0.06371735036373138, valid_loss=0.5120845437049866\n"
          ],
          "name": "stdout"
        },
        {
          "output_type": "stream",
          "text": [
            "100%|██████████| 117/117 [00:02<00:00, 50.50it/s]\n",
            "100%|██████████| 13/13 [00:00<00:00, 39.38it/s]\n",
            "  0%|          | 0/117 [00:00<?, ?it/s]"
          ],
          "name": "stderr"
        },
        {
          "output_type": "stream",
          "text": [
            "[('gc27',\n",
            "  '````````````````x`````c```````66```````````8```````````````````````````````'),\n",
            " ('pe4x',\n",
            "  '````````````````2``n`````````f`````````2```````````````````````````````````'),\n",
            " ('cdmn',\n",
            "  '`````````````````4```e```````````n```````7`````````````````````````````````'),\n",
            " ('5mff',\n",
            "  '````````````````x`````````g````c`````````xx````````````````````````````````')]\n",
            "EPOCH:183, train_loss=0.08351339399814606, valid_loss=0.5469781756401062\n"
          ],
          "name": "stdout"
        },
        {
          "output_type": "stream",
          "text": [
            "100%|██████████| 117/117 [00:02<00:00, 49.35it/s]\n",
            "100%|██████████| 13/13 [00:00<00:00, 37.97it/s]\n",
            "  0%|          | 0/117 [00:00<?, ?it/s]"
          ],
          "name": "stderr"
        },
        {
          "output_type": "stream",
          "text": [
            "[('gc27',\n",
            "  '````````````````x`````c```````66```````````8```````````````````````````````'),\n",
            " ('pe4x',\n",
            "  '````````````````2``n`````````f`````````2```````````````````````````````````'),\n",
            " ('cdmn',\n",
            "  '`````````````````4```e```````````n```````7`````````````````````````````````'),\n",
            " ('5mff',\n",
            "  '````````````````x`````````g````c`````````xx````````````````````````````````')]\n",
            "EPOCH:184, train_loss=0.08704859018325806, valid_loss=0.587700366973877\n"
          ],
          "name": "stdout"
        },
        {
          "output_type": "stream",
          "text": [
            "100%|██████████| 117/117 [00:02<00:00, 50.57it/s]\n",
            "100%|██████████| 13/13 [00:00<00:00, 36.53it/s]\n",
            "  0%|          | 0/117 [00:00<?, ?it/s]"
          ],
          "name": "stderr"
        },
        {
          "output_type": "stream",
          "text": [
            "[('gc27',\n",
            "  '````````````````x`````c```````66```````````8```````````````````````````````'),\n",
            " ('pe4x',\n",
            "  '````````````````2``n`````````f`````````2```````````````````````````````````'),\n",
            " ('cdmn',\n",
            "  '`````````````````4```````````````n```````7`````````````````````````````````'),\n",
            " ('5mff',\n",
            "  '````````````````x`````````g````c`````````x`````````````````````````````````')]\n",
            "EPOCH:185, train_loss=0.06423024833202362, valid_loss=0.5829198956489563\n"
          ],
          "name": "stdout"
        },
        {
          "output_type": "stream",
          "text": [
            "100%|██████████| 117/117 [00:02<00:00, 49.17it/s]\n",
            "100%|██████████| 13/13 [00:00<00:00, 36.86it/s]\n",
            "  0%|          | 0/117 [00:00<?, ?it/s]"
          ],
          "name": "stderr"
        },
        {
          "output_type": "stream",
          "text": [
            "[('gc27',\n",
            "  '````````````````x`````c```````66```````````8```````````````````````````````'),\n",
            " ('pe4x',\n",
            "  '````````````````2``n`````````f`````````2```````````````````````````````````'),\n",
            " ('cdmn',\n",
            "  '`````````````````4```e```````````n```````7`````````````````````````````````'),\n",
            " ('5mff',\n",
            "  '````````````````x`````````g````c`````````xx````````````````````````````````')]\n",
            "EPOCH:186, train_loss=0.057099100202322006, valid_loss=0.6510880589485168\n"
          ],
          "name": "stdout"
        },
        {
          "output_type": "stream",
          "text": [
            "100%|██████████| 117/117 [00:02<00:00, 50.82it/s]\n",
            "100%|██████████| 13/13 [00:00<00:00, 36.61it/s]\n",
            "  0%|          | 0/117 [00:00<?, ?it/s]"
          ],
          "name": "stderr"
        },
        {
          "output_type": "stream",
          "text": [
            "[('gc27',\n",
            "  '````````````````x`````c```````66```````````8```````````````````````````````'),\n",
            " ('pe4x',\n",
            "  '````````````````2``n`````````f`````````2```````````````````````````````````'),\n",
            " ('cdmn',\n",
            "  '`````````````````4```e```````````n```````7`````````````````````````````````'),\n",
            " ('5mff',\n",
            "  '````````````````x`````````g````c`````````xx````````````````````````````````')]\n",
            "EPOCH:187, train_loss=0.06660037487745285, valid_loss=0.5524815320968628\n"
          ],
          "name": "stdout"
        },
        {
          "output_type": "stream",
          "text": [
            "100%|██████████| 117/117 [00:02<00:00, 48.64it/s]\n",
            "100%|██████████| 13/13 [00:00<00:00, 37.84it/s]\n",
            "  0%|          | 0/117 [00:00<?, ?it/s]"
          ],
          "name": "stderr"
        },
        {
          "output_type": "stream",
          "text": [
            "[('gc27',\n",
            "  '````````````````x`````c```````6````````````8```````````````````````````````'),\n",
            " ('pe4x',\n",
            "  '````````````````2``n`````````f`````````2```6```````````````````````````````'),\n",
            " ('cdmn',\n",
            "  '`````````````````4```e```````````n```````7`````````````````````````````````'),\n",
            " ('5mff',\n",
            "  '````````````````x`````````g````c`````````xx`````y``````````````````````````')]\n",
            "EPOCH:188, train_loss=0.03695472702383995, valid_loss=0.5435886383056641\n"
          ],
          "name": "stdout"
        },
        {
          "output_type": "stream",
          "text": [
            "100%|██████████| 117/117 [00:02<00:00, 50.55it/s]\n",
            "100%|██████████| 13/13 [00:00<00:00, 37.37it/s]\n",
            "  0%|          | 0/117 [00:00<?, ?it/s]"
          ],
          "name": "stderr"
        },
        {
          "output_type": "stream",
          "text": [
            "[('gc27',\n",
            "  '````````````````x`````c```````6````````````8```````````````````````````````'),\n",
            " ('pe4x',\n",
            "  '````````````````2``n`````````f`````````2```````````````````````````````````'),\n",
            " ('cdmn',\n",
            "  '`````````````````4```e```````````n```````7`````````````````````````````````'),\n",
            " ('5mff',\n",
            "  '````````````````x`````````g````c`````````x`````````````````````````````````')]\n",
            "EPOCH:189, train_loss=0.049211639910936356, valid_loss=0.5996233820915222\n"
          ],
          "name": "stdout"
        },
        {
          "output_type": "stream",
          "text": [
            "100%|██████████| 117/117 [00:02<00:00, 49.36it/s]\n",
            "100%|██████████| 13/13 [00:00<00:00, 37.88it/s]\n",
            "  0%|          | 0/117 [00:00<?, ?it/s]"
          ],
          "name": "stderr"
        },
        {
          "output_type": "stream",
          "text": [
            "[('gc27',\n",
            "  '````````````````x`````c```````66```````````8```````````````````````````````'),\n",
            " ('pe4x',\n",
            "  '````````````````2``n`````````f`````````2```6```````````````````````````````'),\n",
            " ('cdmn',\n",
            "  '`````````````````4```e```````````n``````77`````````````````````````````````'),\n",
            " ('5mff',\n",
            "  '````````````````x`````````g````c`````````xx````````````````````````````````')]\n",
            "EPOCH:190, train_loss=0.04894614592194557, valid_loss=0.5691908001899719\n"
          ],
          "name": "stdout"
        },
        {
          "output_type": "stream",
          "text": [
            "100%|██████████| 117/117 [00:02<00:00, 50.47it/s]\n",
            "100%|██████████| 13/13 [00:00<00:00, 39.69it/s]\n",
            "  0%|          | 0/117 [00:00<?, ?it/s]"
          ],
          "name": "stderr"
        },
        {
          "output_type": "stream",
          "text": [
            "[('gc27',\n",
            "  '````````````````x`````c```````66```````````8```````````````````````````````'),\n",
            " ('pe4x',\n",
            "  '````````````````2``n`````````f`````````2```````````````````````````````````'),\n",
            " ('cdmn',\n",
            "  '`````````````````4```e```````````n``````77`````````````````````````````````'),\n",
            " ('5mff',\n",
            "  '````````````````x`````````g````c`````````xx`````y``````````````````````````')]\n",
            "EPOCH:191, train_loss=0.06245821341872215, valid_loss=0.5631675720214844\n"
          ],
          "name": "stdout"
        },
        {
          "output_type": "stream",
          "text": [
            "100%|██████████| 117/117 [00:02<00:00, 50.71it/s]\n",
            "100%|██████████| 13/13 [00:00<00:00, 37.77it/s]\n",
            "  0%|          | 0/117 [00:00<?, ?it/s]"
          ],
          "name": "stderr"
        },
        {
          "output_type": "stream",
          "text": [
            "[('gc27',\n",
            "  '````````````````x`````c```````66```````````8```````````````````````````````'),\n",
            " ('pe4x',\n",
            "  '````````````````2``n`````````f`````````2```6```````````````````````````````'),\n",
            " ('cdmn',\n",
            "  '`````````````````4```e```````````n``````77`````````````````````````````````'),\n",
            " ('5mff',\n",
            "  '````````````````x`````````g````c`````````xx````````````````````````````````')]\n",
            "EPOCH:192, train_loss=0.06328120082616806, valid_loss=0.6090900301933289\n"
          ],
          "name": "stdout"
        },
        {
          "output_type": "stream",
          "text": [
            "100%|██████████| 117/117 [00:02<00:00, 50.66it/s]\n",
            "100%|██████████| 13/13 [00:00<00:00, 37.06it/s]\n",
            "  0%|          | 0/117 [00:00<?, ?it/s]"
          ],
          "name": "stderr"
        },
        {
          "output_type": "stream",
          "text": [
            "[('gc27',\n",
            "  '````````````````x`````c```````6````````````8```````````````````````````````'),\n",
            " ('pe4x',\n",
            "  '````````````````2``n`````````f`````````2```````````````````````````````````'),\n",
            " ('cdmn',\n",
            "  '`````````````````4```````````````n``````77`````````````````````````````````'),\n",
            " ('5mff',\n",
            "  '````````````````x`````````g````c`````````xx````````````````````````````````')]\n",
            "EPOCH:193, train_loss=0.04831623658537865, valid_loss=0.6800083518028259\n"
          ],
          "name": "stdout"
        },
        {
          "output_type": "stream",
          "text": [
            "100%|██████████| 117/117 [00:02<00:00, 50.73it/s]\n",
            "100%|██████████| 13/13 [00:00<00:00, 38.37it/s]\n",
            "  0%|          | 0/117 [00:00<?, ?it/s]"
          ],
          "name": "stderr"
        },
        {
          "output_type": "stream",
          "text": [
            "[('gc27',\n",
            "  '````````````````x`````c```````66```````````8```````````````````````````````'),\n",
            " ('pe4x',\n",
            "  '````````````````2``n`````````f`````````2```6```````````````````````````````'),\n",
            " ('cdmn',\n",
            "  '`````````````````4```e```````````n``````77`````````````````````````````````'),\n",
            " ('5mff',\n",
            "  '````````````````x`````````g````c`````````xx`````y``````````````````````````')]\n",
            "EPOCH:194, train_loss=0.05551799386739731, valid_loss=0.6374586224555969\n"
          ],
          "name": "stdout"
        },
        {
          "output_type": "stream",
          "text": [
            "100%|██████████| 117/117 [00:02<00:00, 50.44it/s]\n",
            "100%|██████████| 13/13 [00:00<00:00, 33.71it/s]\n",
            "  0%|          | 0/117 [00:00<?, ?it/s]"
          ],
          "name": "stderr"
        },
        {
          "output_type": "stream",
          "text": [
            "[('gc27',\n",
            "  '````````````````x`````````````66```````````3```````````````````````````````'),\n",
            " ('pe4x',\n",
            "  '````````````````2``n`````````f`````````2```6```````````````````````````````'),\n",
            " ('cdmn',\n",
            "  '`````````````````4```e```````````n``````77`````````````````````````````````'),\n",
            " ('5mff',\n",
            "  '````````````````x`````````g``````````````xx`````y``````````````````````````')]\n",
            "EPOCH:195, train_loss=0.06294488161802292, valid_loss=0.648960292339325\n"
          ],
          "name": "stdout"
        },
        {
          "output_type": "stream",
          "text": [
            "100%|██████████| 117/117 [00:02<00:00, 48.99it/s]\n",
            "100%|██████████| 13/13 [00:00<00:00, 36.94it/s]\n",
            "  0%|          | 0/117 [00:00<?, ?it/s]"
          ],
          "name": "stderr"
        },
        {
          "output_type": "stream",
          "text": [
            "[('gc27',\n",
            "  '````````````````x`````c```````6````````````8```````````````````````````````'),\n",
            " ('pe4x',\n",
            "  '````````````````2``n`````````f`````````2```````````````````````````````````'),\n",
            " ('cdmn',\n",
            "  '`````````````````4```````````````n```````7`````````````````````````````````'),\n",
            " ('5mff',\n",
            "  '````````````````x`````````g````c`````````xx````````````````````````````````')]\n",
            "EPOCH:196, train_loss=0.06934121996164322, valid_loss=0.6086185574531555\n"
          ],
          "name": "stdout"
        },
        {
          "output_type": "stream",
          "text": [
            "100%|██████████| 117/117 [00:02<00:00, 50.43it/s]\n",
            "100%|██████████| 13/13 [00:00<00:00, 37.71it/s]\n",
            "  0%|          | 0/117 [00:00<?, ?it/s]"
          ],
          "name": "stderr"
        },
        {
          "output_type": "stream",
          "text": [
            "[('gc27',\n",
            "  '````````````````x`````c```````66```````````3```````````````````````````````'),\n",
            " ('pe4x',\n",
            "  '````````````````2``n`````````f`````````2```6```````````````````````````````'),\n",
            " ('cdmn',\n",
            "  '`````````````````4```ec``````````n``````77`````````````````````````````````'),\n",
            " ('5mff',\n",
            "  '````````````````x`````````g````c`````````xx`````y``````````````````````````')]\n",
            "EPOCH:197, train_loss=0.055755894631147385, valid_loss=0.6181814670562744\n"
          ],
          "name": "stdout"
        },
        {
          "output_type": "stream",
          "text": [
            "100%|██████████| 117/117 [00:02<00:00, 50.64it/s]\n",
            "100%|██████████| 13/13 [00:00<00:00, 38.67it/s]\n",
            "  0%|          | 0/117 [00:00<?, ?it/s]"
          ],
          "name": "stderr"
        },
        {
          "output_type": "stream",
          "text": [
            "[('gc27',\n",
            "  '````````````````x`````c```````6````````````8```````````````````````````````'),\n",
            " ('pe4x',\n",
            "  '````````````````2``n`````````f`````````2```6```````````````````````````````'),\n",
            " ('cdmn',\n",
            "  '`````````````````4```e```````````n```````7`````````````````````````````````'),\n",
            " ('5mff',\n",
            "  '````````````````x`````````g``````````````xx````````````````````````````````')]\n",
            "EPOCH:198, train_loss=0.0765148252248764, valid_loss=0.6139677166938782\n"
          ],
          "name": "stdout"
        },
        {
          "output_type": "stream",
          "text": [
            "100%|██████████| 117/117 [00:02<00:00, 50.48it/s]\n",
            "100%|██████████| 13/13 [00:00<00:00, 38.07it/s]\n"
          ],
          "name": "stderr"
        },
        {
          "output_type": "stream",
          "text": [
            "[('gc27',\n",
            "  '````````````````x`````c```````66```````````8```````````````````````````````'),\n",
            " ('pe4x',\n",
            "  '````````````````2``n`````````f`````````2```6```````````````````````````````'),\n",
            " ('cdmn',\n",
            "  '`````````````````4```e```````````n```````7`````````````````````````````````'),\n",
            " ('5mff',\n",
            "  '````````````````x`````````g``````````````xx````````````````````````````````')]\n",
            "EPOCH:199, train_loss=0.047729138284921646, valid_loss=0.5776004195213318\n"
          ],
          "name": "stdout"
        }
      ]
    },
    {
      "cell_type": "markdown",
      "metadata": {
        "id": "w0OFDe0C9EHg",
        "colab_type": "text"
      },
      "source": [
        "### view.py"
      ]
    },
    {
      "cell_type": "code",
      "metadata": {
        "id": "T_eN_o4x1GZt",
        "colab_type": "code",
        "colab": {}
      },
      "source": [
        "import os\n",
        "import glob\n",
        "import torch\n",
        "import numpy as np\n",
        "\n",
        "from sklearn import preprocessing\n",
        "from sklearn import model_selection\n",
        "from sklearn import metrics\n",
        "import matplotlib.pyplot as plt\n",
        "%matplotlib inline\n",
        "\n",
        "image_files = glob.glob('/content/captcha_images_v2/*.png')\n",
        "targets_orig = [x.split('/')[-1][:4] for x in image_files]  # \"'../../../abcd.png\"\n",
        "targets = [[c for c in x] for x in targets_orig]  # abcd --> [a, b, c, d]\n",
        "targets_flat = [c for clist in targets for c in clist]\n",
        "\n",
        "lbl_enc = preprocessing.LabelEncoder()\n",
        "lbl_enc.fit(targets_flat)\n",
        "targets_enc = [lbl_enc.transform(x) for x in targets]\n",
        "targets_enc = np.array(targets_enc) + 1\n",
        "\n",
        "\n",
        "(train_imgs, test_imgs, train_targets, test_targets, train_orig_targets, test_orig_targets) = \\\n",
        "model_selection.train_test_split(image_files, targets_enc, targets_orig, test_size=0.1, random_state=42)\n",
        "\n",
        "train_dataset = ClassificationDataset(image_paths=train_imgs, targets=train_targets, resize=(IMAGE_HEIGHT, IMAGE_WIDTH))"
      ],
      "execution_count": 11,
      "outputs": []
    },
    {
      "cell_type": "code",
      "metadata": {
        "id": "-O3dzqOW0Dq-",
        "colab_type": "code",
        "colab": {
          "base_uri": "https://localhost:8080/",
          "height": 169
        },
        "outputId": "20d49c22-5be9-4762-ffcf-f005ad15aca5"
      },
      "source": [
        "# train_dataset[0]\n",
        "npimg = train_dataset[200][\"images\"].numpy()\n",
        "# npimg\n",
        "# npimg.shape\n",
        "# np.transpose(npimg, (1,2,0)).shape\n",
        "plt.imshow(np.transpose(npimg, (1,2,0)))"
      ],
      "execution_count": 12,
      "outputs": [
        {
          "output_type": "stream",
          "text": [
            "Clipping input data to the valid range for imshow with RGB data ([0..1] for floats or [0..255] for integers).\n"
          ],
          "name": "stderr"
        },
        {
          "output_type": "execute_result",
          "data": {
            "text/plain": [
              "<matplotlib.image.AxesImage at 0x7fb6d83ae358>"
            ]
          },
          "metadata": {
            "tags": []
          },
          "execution_count": 12
        },
        {
          "output_type": "display_data",
          "data": {
            "image/png": "[encoded data removed]",
            "text/plain": [
              "<Figure size 432x288 with 1 Axes>"
            ]
          },
          "metadata": {
            "tags": [],
            "needs_background": "light"
          }
        }
      ]
    },
    {
      "cell_type": "code",
      "metadata": {
        "id": "i_PPoywPz_kE",
        "colab_type": "code",
        "colab": {}
      },
      "source": [
        ""
      ],
      "execution_count": 12,
      "outputs": []
    },
    {
      "cell_type": "code",
      "metadata": {
        "id": "SUgssNYhz8dU",
        "colab_type": "code",
        "colab": {}
      },
      "source": [
        ""
      ],
      "execution_count": 12,
      "outputs": []
    },
    {
      "cell_type": "code",
      "metadata": {
        "id": "UhIW1Vynz6Ed",
        "colab_type": "code",
        "colab": {}
      },
      "source": [
        ""
      ],
      "execution_count": 12,
      "outputs": []
    },
    {
      "cell_type": "code",
      "metadata": {
        "id": "7-otD3F-YBJL",
        "colab_type": "code",
        "colab": {}
      },
      "source": [
        ""
      ],
      "execution_count": 12,
      "outputs": []
    },
    {
      "cell_type": "code",
      "metadata": {
        "id": "0SOCSzb-W8Ky",
        "colab_type": "code",
        "colab": {}
      },
      "source": [
        ""
      ],
      "execution_count": 12,
      "outputs": []
    }
  ]
}