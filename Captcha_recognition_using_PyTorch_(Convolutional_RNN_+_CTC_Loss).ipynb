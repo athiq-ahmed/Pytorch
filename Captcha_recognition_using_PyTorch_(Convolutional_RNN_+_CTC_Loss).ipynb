{
  "nbformat": 4,
  "nbformat_minor": 0,
  "metadata": {
    "colab": {
      "name": "Captcha recognition using PyTorch (Convolutional-RNN + CTC Loss)",
      "provenance": [],
      "collapsed_sections": [],
      "authorship_tag": "ABX9TyNX4VsA5cmes6WN0/rBjWvP",
      "include_colab_link": true
    },
    "kernelspec": {
      "name": "python3",
      "display_name": "Python 3"
    },
    "accelerator": "GPU"
  },
  "cells": [
    {
      "cell_type": "markdown",
      "metadata": {
        "id": "view-in-github",
        "colab_type": "text"
      },
      "source": [
        "<a href=\"https://colab.research.google.com/github/athiq-ahmed/Pytorch/blob/master/Captcha_recognition_using_PyTorch_(Convolutional_RNN_%2B_CTC_Loss).ipynb\" target=\"_parent\"><img src=\"https://colab.research.google.com/assets/colab-badge.svg\" alt=\"Open In Colab\"/></a>"
      ]
    },
    {
      "cell_type": "code",
      "metadata": {
        "id": "a4l18NVL44Cb",
        "colab_type": "code",
        "colab": {
          "base_uri": "https://localhost:8080/",
          "height": 357
        },
        "outputId": "56c5020e-d5d1-4efe-e8a2-be4f37b267e1"
      },
      "source": [
        "!nvidia-smi"
      ],
      "execution_count": 5,
      "outputs": [
        {
          "output_type": "stream",
          "text": [
            "Sat Sep  5 10:52:44 2020       \n",
            "+-----------------------------------------------------------------------------+\n",
            "| NVIDIA-SMI 450.66       Driver Version: 418.67       CUDA Version: 10.1     |\n",
            "|-------------------------------+----------------------+----------------------+\n",
            "| GPU  Name        Persistence-M| Bus-Id        Disp.A | Volatile Uncorr. ECC |\n",
            "| Fan  Temp  Perf  Pwr:Usage/Cap|         Memory-Usage | GPU-Util  Compute M. |\n",
            "|                               |                      |               MIG M. |\n",
            "|===============================+======================+======================|\n",
            "|   0  Tesla P100-PCIE...  Off  | 00000000:00:04.0 Off |                    0 |\n",
            "| N/A   36C    P0    26W / 250W |      0MiB / 16280MiB |      0%      Default |\n",
            "|                               |                      |                 ERR! |\n",
            "+-------------------------------+----------------------+----------------------+\n",
            "                                                                               \n",
            "+-----------------------------------------------------------------------------+\n",
            "| Processes:                                                                  |\n",
            "|  GPU   GI   CI        PID   Type   Process name                  GPU Memory |\n",
            "|        ID   ID                                                   Usage      |\n",
            "|=============================================================================|\n",
            "|  No running processes found                                                 |\n",
            "+-----------------------------------------------------------------------------+\n"
          ],
          "name": "stdout"
        }
      ]
    },
    {
      "cell_type": "code",
      "metadata": {
        "id": "dl2xh-wxvWon",
        "colab_type": "code",
        "colab": {
          "base_uri": "https://localhost:8080/",
          "height": 85
        },
        "outputId": "1f153c49-d194-4c3d-9a92-b145e8d5d45e"
      },
      "source": [
        "!curl -LO https://github.com/AakashKumarNain/CaptchaCracker/raw/master/captcha_images_v2.zip"
      ],
      "execution_count": 6,
      "outputs": [
        {
          "output_type": "stream",
          "text": [
            "  % Total    % Received % Xferd  Average Speed   Time    Time     Time  Current\n",
            "                                 Dload  Upload   Total   Spent    Left  Speed\n",
            "100   159    0   159    0     0    223      0 --:--:-- --:--:-- --:--:--   223\n",
            "100 8863k  100 8863k    0     0  7941k      0  0:00:01  0:00:01 --:--:-- 7941k\n"
          ],
          "name": "stdout"
        }
      ]
    },
    {
      "cell_type": "code",
      "metadata": {
        "id": "mN2ImllIvaMh",
        "colab_type": "code",
        "colab": {}
      },
      "source": [
        "!unzip -qq captcha_images_v2.zip"
      ],
      "execution_count": 7,
      "outputs": []
    },
    {
      "cell_type": "markdown",
      "metadata": {
        "id": "6rBIHK16wYCW",
        "colab_type": "text"
      },
      "source": [
        "### Config.py"
      ]
    },
    {
      "cell_type": "code",
      "metadata": {
        "id": "aLKxfWZtwXiC",
        "colab_type": "code",
        "colab": {}
      },
      "source": [
        "DATA_DIR = '/content/captcha_images_v2'\n",
        "BATCH_SIZE = 8\n",
        "IMAGE_WIDTH = 300\n",
        "IMAGE_HEIGHT = 75\n",
        "NUM_WORKERS = 4\n",
        "EPOCHS = 10\n",
        "DEVICE = \"cuda\""
      ],
      "execution_count": 8,
      "outputs": []
    },
    {
      "cell_type": "code",
      "metadata": {
        "id": "ZcsZCbdJveUZ",
        "colab_type": "code",
        "colab": {}
      },
      "source": [
        "import glob\n",
        "# glob.glob('/content/captcha_images_v2/*.png')"
      ],
      "execution_count": 9,
      "outputs": []
    },
    {
      "cell_type": "markdown",
      "metadata": {
        "id": "2VRFv3kfxqzl",
        "colab_type": "text"
      },
      "source": [
        "### Dataset.py"
      ]
    },
    {
      "cell_type": "code",
      "metadata": {
        "id": "P9Wt_BuvxsK6",
        "colab_type": "code",
        "colab": {}
      },
      "source": [
        "import albumentations # for augmentations\n",
        "import torch\n",
        "import numpy as np\n",
        "\n",
        "from PIL import Image\n",
        "from PIL import ImageFile\n",
        "\n",
        "ImageFile.LOAD_TRUNCATED_IMAGES = True"
      ],
      "execution_count": 10,
      "outputs": []
    },
    {
      "cell_type": "code",
      "metadata": {
        "id": "06TNTq6exSyg",
        "colab_type": "code",
        "colab": {}
      },
      "source": [
        "class ClassificationDataset:\n",
        "  def __init__(self, image_paths, targets, resize=None):\n",
        "    self.image_paths = image_paths\n",
        "    self.targets = targets\n",
        "    self.resize = resize\n",
        "    self.aug = albumentations.Compose([albumentations.Normalize(always_apply=True)])\n",
        "\n",
        "  def __len__(self):\n",
        "    return len(self.image_paths)\n",
        "\n",
        "  def __getitem__(self, item):\n",
        "    image = Image.open(self.image_paths[item]).convert(\"RGB\")\n",
        "    targets = self.targets[item]\n",
        "\n",
        "    if self.resize is not None:\n",
        "      image = image.resize((self.resize[1], self.resize[0]), resample=Image.BILINEAR)\n",
        "\n",
        "    image = np.array(image)\n",
        "    augmented = self.aug(image=image)\n",
        "    image = augmented[\"image\"]\n",
        "    image = np.transpose(image, (2,0,1)).astype(np.float32)\n",
        "\n",
        "    return {\n",
        "        \"images\": torch.tensor(image, dtype=torch.float),\n",
        "        \"targets\": torch.tensor(targets, dtype=torch.long)\n",
        "    }"
      ],
      "execution_count": 40,
      "outputs": []
    },
    {
      "cell_type": "markdown",
      "metadata": {
        "id": "1JkBak9Z2Lrm",
        "colab_type": "text"
      },
      "source": [
        "### train.py"
      ]
    },
    {
      "cell_type": "code",
      "metadata": {
        "id": "xr0DCspUxOcN",
        "colab_type": "code",
        "colab": {}
      },
      "source": [
        "import os\n",
        "import glob\n",
        "import torch\n",
        "import numpy as np\n",
        "\n",
        "from sklearn import preprocessing\n",
        "from sklearn import model_selection\n",
        "from sklearn import metrics\n",
        "\n",
        "\n",
        "def run_traning():\n",
        "  image_files = glob.glob('/content/captcha_images_v2/*.png')\n",
        "  targets_orig = [x.split('/')[-1][:4] for x in image_files]  # \"'../../../abcd.png\"\n",
        "  targets = [[c for c in x] for x in targets_orig]  # abcd --> [a, b, c, d]\n",
        "  targets_flat = [c for clist in targets for c in clist]\n",
        "\n",
        "  lbl_enc = preprocessing.LabelEncoder()\n",
        "  lbl_enc.fit(targets_flat)\n",
        "  targets_enc = [lbl_enc.transform(x) for x in targets]\n",
        "  targets_enc = np.array(targets_enc) + 1\n",
        "\n",
        "\n",
        "  (train_imgs, test_imgs, train_targets, test_targets, train_orig_targets, test_orig_targets) = \\\n",
        "  model_selection.train_test_split(image_files, targets_enc, targets_orig, test_size=0.1, random_state=42)\n",
        "\n",
        "  train_dataset = ClassificationDataset(image_paths=train_imgs, targets=train_targets, resize=(IMAGE_HEIGHT, IMAGE_WIDTH))\n",
        "  test_dataset = ClassificationDataset(image_paths=test_imgs, targets=test_targets, resize=(IMAGE_HEIGHT, IMAGE_WIDTH))\n",
        "\n",
        "  train_loader = torch.utils.data.DataLoader(train_dataset, batch_size=BATCH_SIZE, num_workers=NUM_WORKERS, shuffle=True)\n",
        "  test_loader = torch.utils.data.DataLoader(test_dataset, batch_size=BATCH_SIZE, num_workers=NUM_WORKERS, shuffle=False)\n",
        "\n",
        "\n",
        "  # print(targets)\n",
        "  # print('*'*100)\n",
        "  # print(np.unique(targets_flat))\n",
        "  # print('*'*100)\n",
        "  # print(targets_enc)\n",
        "  # print('*'*100)\n",
        "  # print(len(lbl_enc.classes_))\n",
        "\n",
        "\n",
        "run_traning()"
      ],
      "execution_count": 52,
      "outputs": []
    },
    {
      "cell_type": "markdown",
      "metadata": {
        "id": "0jRmpjLI-EAb",
        "colab_type": "text"
      },
      "source": [
        "### view.py"
      ]
    },
    {
      "cell_type": "code",
      "metadata": {
        "id": "pAs7RJdK-F3S",
        "colab_type": "code",
        "colab": {}
      },
      "source": [
        "import os\n",
        "import glob\n",
        "import torch\n",
        "import numpy as np\n",
        "\n",
        "from sklearn import preprocessing\n",
        "from sklearn import model_selection\n",
        "from sklearn import metrics\n",
        "import matplotlib.pyplot as plt\n",
        "%matplotlib inline\n",
        "\n",
        "image_files = glob.glob('/content/captcha_images_v2/*.png')\n",
        "targets_orig = [x.split('/')[-1][:4] for x in image_files]  # \"'../../../abcd.png\"\n",
        "targets = [[c for c in x] for x in targets_orig]  # abcd --> [a, b, c, d]\n",
        "targets_flat = [c for clist in targets for c in clist]\n",
        "\n",
        "lbl_enc = preprocessing.LabelEncoder()\n",
        "lbl_enc.fit(targets_flat)\n",
        "targets_enc = [lbl_enc.transform(x) for x in targets]\n",
        "targets_enc = np.array(targets_enc) + 1\n",
        "\n",
        "\n",
        "(train_imgs, test_imgs, train_targets, test_targets, train_orig_targets, test_orig_targets) = \\\n",
        "model_selection.train_test_split(image_files, targets_enc, targets_orig, test_size=0.1, random_state=42)\n",
        "\n",
        "train_dataset = ClassificationDataset(image_paths=train_imgs, targets=train_targets, resize=(IMAGE_HEIGHT, IMAGE_WIDTH))"
      ],
      "execution_count": 50,
      "outputs": []
    },
    {
      "cell_type": "code",
      "metadata": {
        "id": "VqipOCSTBr3O",
        "colab_type": "code",
        "colab": {
          "base_uri": "https://localhost:8080/",
          "height": 169
        },
        "outputId": "b2a755d1-83a2-4d72-d23a-76e0e12d242b"
      },
      "source": [
        "# train_dataset[0]\n",
        "npimg = train_dataset[200][\"images\"].numpy()\n",
        "# npimg\n",
        "# npimg.shape\n",
        "# np.transpose(npimg, (1,2,0)).shape\n",
        "plt.imshow(np.transpose(npimg, (1,2,0)))"
      ],
      "execution_count": 51,
      "outputs": [
        {
          "output_type": "stream",
          "text": [
            "Clipping input data to the valid range for imshow with RGB data ([0..1] for floats or [0..255] for integers).\n"
          ],
          "name": "stderr"
        },
        {
          "output_type": "execute_result",
          "data": {
            "text/plain": [
              "<matplotlib.image.AxesImage at 0x7f2107af28d0>"
            ]
          },
          "metadata": {
            "tags": []
          },
          "execution_count": 51
        },
        {
          "output_type": "display_data",
          "data": {
            "image/png": "[encoded data removed]",
            "text/plain": [
              "<Figure size 432x288 with 1 Axes>"
            ]
          },
          "metadata": {
            "tags": [],
            "needs_background": "light"
          }
        }
      ]
    },
    {
      "cell_type": "markdown",
      "metadata": {
        "id": "bwbg5Ae6CCbP",
        "colab_type": "text"
      },
      "source": [
        "### engine.py"
      ]
    },
    {
      "cell_type": "code",
      "metadata": {
        "id": "s5lMDPPXBuIR",
        "colab_type": "code",
        "colab": {}
      },
      "source": [
        "import tqdm as tqdm\n",
        "import torch\n",
        "\n"
      ],
      "execution_count": null,
      "outputs": []
    },
    {
      "cell_type": "code",
      "metadata": {
        "id": "UVEo9-HyBoMJ",
        "colab_type": "code",
        "colab": {}
      },
      "source": [
        ""
      ],
      "execution_count": null,
      "outputs": []
    },
    {
      "cell_type": "code",
      "metadata": {
        "id": "LNdg4Db7BbDZ",
        "colab_type": "code",
        "colab": {}
      },
      "source": [
        ""
      ],
      "execution_count": null,
      "outputs": []
    },
    {
      "cell_type": "code",
      "metadata": {
        "id": "vEq6bv4nBXx6",
        "colab_type": "code",
        "colab": {}
      },
      "source": [
        ""
      ],
      "execution_count": null,
      "outputs": []
    },
    {
      "cell_type": "code",
      "metadata": {
        "id": "tosf3GDkBR6v",
        "colab_type": "code",
        "colab": {}
      },
      "source": [
        ""
      ],
      "execution_count": null,
      "outputs": []
    },
    {
      "cell_type": "code",
      "metadata": {
        "id": "Lmh2qlA7BOxW",
        "colab_type": "code",
        "colab": {}
      },
      "source": [
        ""
      ],
      "execution_count": null,
      "outputs": []
    },
    {
      "cell_type": "code",
      "metadata": {
        "id": "lepccQy-A66B",
        "colab_type": "code",
        "colab": {}
      },
      "source": [
        ""
      ],
      "execution_count": null,
      "outputs": []
    },
    {
      "cell_type": "code",
      "metadata": {
        "id": "WIckvJXDA2oU",
        "colab_type": "code",
        "colab": {}
      },
      "source": [
        ""
      ],
      "execution_count": null,
      "outputs": []
    },
    {
      "cell_type": "code",
      "metadata": {
        "id": "-7JGa2xIAxNf",
        "colab_type": "code",
        "colab": {}
      },
      "source": [
        ""
      ],
      "execution_count": null,
      "outputs": []
    },
    {
      "cell_type": "code",
      "metadata": {
        "id": "erCSr0HrAaDb",
        "colab_type": "code",
        "colab": {}
      },
      "source": [
        ""
      ],
      "execution_count": null,
      "outputs": []
    },
    {
      "cell_type": "code",
      "metadata": {
        "id": "IOUAipQVAR2t",
        "colab_type": "code",
        "colab": {}
      },
      "source": [
        ""
      ],
      "execution_count": null,
      "outputs": []
    },
    {
      "cell_type": "code",
      "metadata": {
        "id": "2OElnUQ0_mEF",
        "colab_type": "code",
        "colab": {}
      },
      "source": [
        ""
      ],
      "execution_count": null,
      "outputs": []
    },
    {
      "cell_type": "code",
      "metadata": {
        "id": "_DjKcWlR_auh",
        "colab_type": "code",
        "colab": {}
      },
      "source": [
        ""
      ],
      "execution_count": null,
      "outputs": []
    },
    {
      "cell_type": "code",
      "metadata": {
        "id": "dWukr6Nr_SEb",
        "colab_type": "code",
        "colab": {}
      },
      "source": [
        ""
      ],
      "execution_count": null,
      "outputs": []
    },
    {
      "cell_type": "code",
      "metadata": {
        "id": "6QYi_JAg-6Ir",
        "colab_type": "code",
        "colab": {}
      },
      "source": [
        ""
      ],
      "execution_count": null,
      "outputs": []
    },
    {
      "cell_type": "code",
      "metadata": {
        "id": "ShhuRlu6-uFF",
        "colab_type": "code",
        "colab": {}
      },
      "source": [
        ""
      ],
      "execution_count": null,
      "outputs": []
    },
    {
      "cell_type": "code",
      "metadata": {
        "id": "u53kygzR-rEr",
        "colab_type": "code",
        "colab": {}
      },
      "source": [
        ""
      ],
      "execution_count": null,
      "outputs": []
    },
    {
      "cell_type": "code",
      "metadata": {
        "id": "j_BoAsqj-pBs",
        "colab_type": "code",
        "colab": {}
      },
      "source": [
        ""
      ],
      "execution_count": null,
      "outputs": []
    },
    {
      "cell_type": "code",
      "metadata": {
        "id": "JCRzos6h-k_D",
        "colab_type": "code",
        "colab": {}
      },
      "source": [
        ""
      ],
      "execution_count": null,
      "outputs": []
    },
    {
      "cell_type": "code",
      "metadata": {
        "id": "35HOipwu60-Q",
        "colab_type": "code",
        "colab": {}
      },
      "source": [
        ""
      ],
      "execution_count": null,
      "outputs": []
    },
    {
      "cell_type": "code",
      "metadata": {
        "id": "--4pFABD6xXA",
        "colab_type": "code",
        "colab": {}
      },
      "source": [
        ""
      ],
      "execution_count": null,
      "outputs": []
    },
    {
      "cell_type": "code",
      "metadata": {
        "id": "IF2D83rk6nnQ",
        "colab_type": "code",
        "colab": {}
      },
      "source": [
        ""
      ],
      "execution_count": null,
      "outputs": []
    },
    {
      "cell_type": "code",
      "metadata": {
        "id": "k2CO77yj54ZT",
        "colab_type": "code",
        "colab": {}
      },
      "source": [
        ""
      ],
      "execution_count": null,
      "outputs": []
    },
    {
      "cell_type": "code",
      "metadata": {
        "id": "LN3hSIQv51hQ",
        "colab_type": "code",
        "colab": {}
      },
      "source": [
        ""
      ],
      "execution_count": null,
      "outputs": []
    },
    {
      "cell_type": "code",
      "metadata": {
        "id": "v45LObeu5uLJ",
        "colab_type": "code",
        "colab": {}
      },
      "source": [
        ""
      ],
      "execution_count": null,
      "outputs": []
    },
    {
      "cell_type": "code",
      "metadata": {
        "id": "NOK1OjnT5pU-",
        "colab_type": "code",
        "colab": {}
      },
      "source": [
        ""
      ],
      "execution_count": null,
      "outputs": []
    },
    {
      "cell_type": "code",
      "metadata": {
        "id": "J8Qr5aEZ5mmt",
        "colab_type": "code",
        "colab": {}
      },
      "source": [
        ""
      ],
      "execution_count": null,
      "outputs": []
    },
    {
      "cell_type": "code",
      "metadata": {
        "id": "6BxAGVAF5g6t",
        "colab_type": "code",
        "colab": {}
      },
      "source": [
        ""
      ],
      "execution_count": null,
      "outputs": []
    },
    {
      "cell_type": "code",
      "metadata": {
        "id": "lc7q986p4145",
        "colab_type": "code",
        "colab": {}
      },
      "source": [
        ""
      ],
      "execution_count": null,
      "outputs": []
    },
    {
      "cell_type": "code",
      "metadata": {
        "id": "vSRcCAH5xLWo",
        "colab_type": "code",
        "colab": {}
      },
      "source": [
        ""
      ],
      "execution_count": null,
      "outputs": []
    },
    {
      "cell_type": "code",
      "metadata": {
        "id": "CUXJ10IdxElH",
        "colab_type": "code",
        "colab": {}
      },
      "source": [
        ""
      ],
      "execution_count": null,
      "outputs": []
    },
    {
      "cell_type": "code",
      "metadata": {
        "id": "bJ5ZlpDExAzN",
        "colab_type": "code",
        "colab": {}
      },
      "source": [
        ""
      ],
      "execution_count": null,
      "outputs": []
    },
    {
      "cell_type": "code",
      "metadata": {
        "id": "iXZb_02HwuIQ",
        "colab_type": "code",
        "colab": {}
      },
      "source": [
        ""
      ],
      "execution_count": null,
      "outputs": []
    },
    {
      "cell_type": "code",
      "metadata": {
        "id": "0PXqmqabws2z",
        "colab_type": "code",
        "colab": {}
      },
      "source": [
        ""
      ],
      "execution_count": null,
      "outputs": []
    }
  ]
}