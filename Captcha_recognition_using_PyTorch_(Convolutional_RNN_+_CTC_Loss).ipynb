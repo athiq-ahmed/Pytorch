{
  "nbformat": 4,
  "nbformat_minor": 0,
  "metadata": {
    "colab": {
      "name": "Captcha recognition using PyTorch (Convolutional-RNN + CTC Loss)",
      "provenance": [],
      "collapsed_sections": [],
      "authorship_tag": "ABX9TyOycGWTa58u/i/iKygH1aSj",
      "include_colab_link": true
    },
    "kernelspec": {
      "name": "python3",
      "display_name": "Python 3"
    },
    "accelerator": "GPU"
  },
  "cells": [
    {
      "cell_type": "markdown",
      "metadata": {
        "id": "view-in-github",
        "colab_type": "text"
      },
      "source": [
        "<a href=\"https://colab.research.google.com/github/athiq-ahmed/Pytorch/blob/master/Captcha_recognition_using_PyTorch_(Convolutional_RNN_%2B_CTC_Loss).ipynb\" target=\"_parent\"><img src=\"https://colab.research.google.com/assets/colab-badge.svg\" alt=\"Open In Colab\"/></a>"
      ]
    },
    {
      "cell_type": "code",
      "metadata": {
        "id": "a4l18NVL44Cb",
        "colab_type": "code",
        "colab": {
          "base_uri": "https://localhost:8080/",
          "height": 357
        },
        "outputId": "8ad40417-1d05-4725-c10e-06fad0208710"
      },
      "source": [
        "!nvidia-smi"
      ],
      "execution_count": 1,
      "outputs": [
        {
          "output_type": "stream",
          "text": [
            "Sat Sep 12 10:56:01 2020       \n",
            "+-----------------------------------------------------------------------------+\n",
            "| NVIDIA-SMI 450.66       Driver Version: 418.67       CUDA Version: 10.1     |\n",
            "|-------------------------------+----------------------+----------------------+\n",
            "| GPU  Name        Persistence-M| Bus-Id        Disp.A | Volatile Uncorr. ECC |\n",
            "| Fan  Temp  Perf  Pwr:Usage/Cap|         Memory-Usage | GPU-Util  Compute M. |\n",
            "|                               |                      |               MIG M. |\n",
            "|===============================+======================+======================|\n",
            "|   0  Tesla P100-PCIE...  Off  | 00000000:00:04.0 Off |                    0 |\n",
            "| N/A   33C    P0    25W / 250W |      0MiB / 16280MiB |      0%      Default |\n",
            "|                               |                      |                 ERR! |\n",
            "+-------------------------------+----------------------+----------------------+\n",
            "                                                                               \n",
            "+-----------------------------------------------------------------------------+\n",
            "| Processes:                                                                  |\n",
            "|  GPU   GI   CI        PID   Type   Process name                  GPU Memory |\n",
            "|        ID   ID                                                   Usage      |\n",
            "|=============================================================================|\n",
            "|  No running processes found                                                 |\n",
            "+-----------------------------------------------------------------------------+\n"
          ],
          "name": "stdout"
        }
      ]
    },
    {
      "cell_type": "code",
      "metadata": {
        "id": "dl2xh-wxvWon",
        "colab_type": "code",
        "colab": {
          "base_uri": "https://localhost:8080/",
          "height": 85
        },
        "outputId": "dbe80f45-dba3-4930-b315-4b428179d3f5"
      },
      "source": [
        "!curl -LO https://github.com/AakashKumarNain/CaptchaCracker/raw/master/captcha_images_v2.zip"
      ],
      "execution_count": 2,
      "outputs": [
        {
          "output_type": "stream",
          "text": [
            "  % Total    % Received % Xferd  Average Speed   Time    Time     Time  Current\n",
            "                                 Dload  Upload   Total   Spent    Left  Speed\n",
            "100   159  100   159    0     0    227      0 --:--:-- --:--:-- --:--:--   226\n",
            "100 8863k  100 8863k    0     0  6070k      0  0:00:01  0:00:01 --:--:-- 39.8M\n"
          ],
          "name": "stdout"
        }
      ]
    },
    {
      "cell_type": "code",
      "metadata": {
        "id": "mN2ImllIvaMh",
        "colab_type": "code",
        "colab": {}
      },
      "source": [
        "!unzip -qq captcha_images_v2.zip"
      ],
      "execution_count": 3,
      "outputs": []
    },
    {
      "cell_type": "markdown",
      "metadata": {
        "id": "6rBIHK16wYCW",
        "colab_type": "text"
      },
      "source": [
        "### Config.py"
      ]
    },
    {
      "cell_type": "code",
      "metadata": {
        "id": "aLKxfWZtwXiC",
        "colab_type": "code",
        "colab": {}
      },
      "source": [
        "DATA_DIR = '/content/captcha_images_v2'\n",
        "BATCH_SIZE = 8\n",
        "IMAGE_WIDTH = 300\n",
        "IMAGE_HEIGHT = 75\n",
        "NUM_WORKERS = 4\n",
        "EPOCHS = 100\n",
        "DEVICE = \"cuda\""
      ],
      "execution_count": 20,
      "outputs": []
    },
    {
      "cell_type": "code",
      "metadata": {
        "id": "ZcsZCbdJveUZ",
        "colab_type": "code",
        "colab": {}
      },
      "source": [
        "import glob\n",
        "# glob.glob('/content/captcha_images_v2/*.png')"
      ],
      "execution_count": 5,
      "outputs": []
    },
    {
      "cell_type": "markdown",
      "metadata": {
        "id": "2VRFv3kfxqzl",
        "colab_type": "text"
      },
      "source": [
        "### Dataset.py"
      ]
    },
    {
      "cell_type": "code",
      "metadata": {
        "id": "P9Wt_BuvxsK6",
        "colab_type": "code",
        "colab": {}
      },
      "source": [
        "import albumentations # for augmentations\n",
        "import torch\n",
        "import numpy as np\n",
        "\n",
        "from PIL import Image\n",
        "from PIL import ImageFile\n",
        "\n",
        "ImageFile.LOAD_TRUNCATED_IMAGES = True"
      ],
      "execution_count": 6,
      "outputs": []
    },
    {
      "cell_type": "code",
      "metadata": {
        "id": "06TNTq6exSyg",
        "colab_type": "code",
        "colab": {}
      },
      "source": [
        "class ClassificationDataset:\n",
        "  def __init__(self, image_paths, targets, resize=None):\n",
        "    self.image_paths = image_paths\n",
        "    self.targets = targets\n",
        "    self.resize = resize\n",
        "    self.aug = albumentations.Compose([albumentations.Normalize(always_apply=True)])\n",
        "\n",
        "  def __len__(self):\n",
        "    return len(self.image_paths)\n",
        "\n",
        "  def __getitem__(self, item):\n",
        "    image = Image.open(self.image_paths[item]).convert(\"RGB\")\n",
        "    targets = self.targets[item]\n",
        "\n",
        "    if self.resize is not None:\n",
        "      image = image.resize((self.resize[1], self.resize[0]), resample=Image.BILINEAR)\n",
        "\n",
        "    image = np.array(image)\n",
        "    augmented = self.aug(image=image)\n",
        "    image = augmented[\"image\"]\n",
        "    image = np.transpose(image, (2,0,1)).astype(np.float32)\n",
        "\n",
        "    return {\n",
        "        \"images\": torch.tensor(image, dtype=torch.float),\n",
        "        \"targets\": torch.tensor(targets, dtype=torch.long)\n",
        "    }"
      ],
      "execution_count": 7,
      "outputs": []
    },
    {
      "cell_type": "markdown",
      "metadata": {
        "id": "bwbg5Ae6CCbP",
        "colab_type": "text"
      },
      "source": [
        "### engine.py"
      ]
    },
    {
      "cell_type": "code",
      "metadata": {
        "id": "s5lMDPPXBuIR",
        "colab_type": "code",
        "colab": {}
      },
      "source": [
        "from tqdm import tqdm\n",
        "import torch\n",
        "\n",
        "def train_fn(model, data_loader, optimizer):\n",
        "  model.train()\n",
        "  fin_loss = 0\n",
        "  tk = tqdm(data_loader, total=len(data_loader))\n",
        "  for data in tk:\n",
        "    for k, v in data.items():\n",
        "      data[k] = v.to(DEVICE)\n",
        "    optimizer.zero_grad()\n",
        "    _, loss = model(**data)\n",
        "    loss.backward()\n",
        "    optimizer.step()\n",
        "    fin_loss += loss\n",
        "  return fin_loss / len(data_loader)\n",
        "\n",
        "def eval_fn(model, data_loader):\n",
        "  model.eval()\n",
        "  fin_loss = 0\n",
        "  fin_preds = []\n",
        "  with torch.no_grad():\n",
        "    tk = tqdm(data_loader, total=len(data_loader))\n",
        "    for data in tk:\n",
        "      for k, v in data.items():\n",
        "        data[k] = v.to(DEVICE)\n",
        "\n",
        "      preds, loss = model(**data)\n",
        "      fin_loss += loss\n",
        "      fin_preds.append(preds)\n",
        "    return fin_preds, fin_loss / len(data_loader)"
      ],
      "execution_count": 8,
      "outputs": []
    },
    {
      "cell_type": "markdown",
      "metadata": {
        "id": "V-UzZU_eL-lM",
        "colab_type": "text"
      },
      "source": [
        "### model.py"
      ]
    },
    {
      "cell_type": "code",
      "metadata": {
        "id": "IV61l6XmL9TF",
        "colab_type": "code",
        "colab": {}
      },
      "source": [
        "import torch\n",
        "from torch import nn\n",
        "from torch.nn import functional as F\n",
        "\n",
        "class CaptchaModel(nn.Module):\n",
        "  def __init__(self, num_chars):\n",
        "    super(CaptchaModel, self).__init__()\n",
        "    self.conv_1 = nn.Conv2d(3, 128, kernel_size=(3,3), padding=(1,1))\n",
        "    self.max_pool_1 = nn.MaxPool2d(kernel_size=(2,2))\n",
        "    self.conv_2 = nn.Conv2d(128, 64, kernel_size=(3,3), padding=(1,1))\n",
        "    self.max_pool_2 = nn.MaxPool2d(kernel_size=(2,2))\n",
        "\n",
        "    self.linear_1 = nn.Linear(1152, 64)\n",
        "    self.drop_1= nn.Dropout(0.2)\n",
        "\n",
        "    self.gru = nn.GRU(64, 32, bidirectional=True, num_layers=2, dropout=0.25)\n",
        "    self.output = nn.Linear(64, num_chars+1)\n",
        "\n",
        "  def forward(self, images, targets=None):\n",
        "    bs, c, h, w = images.size()\n",
        "    # print(bs, c, h, w)\n",
        "    x = F.relu(self.conv_1(images))\n",
        "    # print(x.size())\n",
        "    x = self.max_pool_1(x)\n",
        "    # print(x.size())\n",
        "    x = F.relu(self.conv_2(x))\n",
        "    # print(x.size())\n",
        "    x = self.max_pool_2(x) # [1, 64, 18, 75]\n",
        "    # print(x.size())\n",
        "    x = x.permute(0,3,1,2) # [1, 75, 64, 18]\n",
        "    # print(x.size())\n",
        "    x = x.view(bs, x.size(1), -1)\n",
        "    # print(x.size()) #[1, 75, 1152]\n",
        "    x = self.linear_1(x)\n",
        "    x = self.drop_1(x)\n",
        "    # print(x.size())\n",
        "    x, _ = self.gru(x)\n",
        "    # print(x.size())\n",
        "    x = self.output(x)\n",
        "    # print(x.size())\n",
        "    x = x.permute(1,0,2)\n",
        "    # print(x.size())\n",
        "\n",
        "    if targets is not None:\n",
        "      log_softmax_values = F.log_softmax(x, 2)\n",
        "      input_lengths = torch.full(size=(bs,),fill_value=log_softmax_values.size(0),dtype=torch.int32)\n",
        "      # print(input_lengths)\n",
        "      target_lengths = torch.full(size=(bs,),fill_value=targets.size(1),dtype=torch.int32)\n",
        "      # print(target_lengths)\n",
        "      loss = nn.CTCLoss(blank=0)(log_softmax_values, targets, input_lengths, target_lengths)\n",
        "      return x, loss\n",
        "\n",
        "    return x, None\n",
        "\n",
        "if __name__ == \"__main__\":\n",
        "  cm = CaptchaModel(19)\n",
        "  img = torch.rand(1,3,75,300)\n",
        "  target = torch.randint(1,20,(1,5))\n",
        "  x, loss = cm(img, target)\n"
      ],
      "execution_count": 13,
      "outputs": []
    },
    {
      "cell_type": "markdown",
      "metadata": {
        "id": "pNrIRPcF88Aj",
        "colab_type": "text"
      },
      "source": [
        "### train.py"
      ]
    },
    {
      "cell_type": "code",
      "metadata": {
        "id": "tc-XYTZZ3yNT",
        "colab_type": "code",
        "colab": {
          "base_uri": "https://localhost:8080/",
          "height": 1000
        },
        "outputId": "7dd55576-a218-4837-be8d-61f9ac7370c7"
      },
      "source": [
        "import os\n",
        "import glob\n",
        "import torch\n",
        "import numpy as np\n",
        "\n",
        "from sklearn import preprocessing\n",
        "from sklearn import model_selection\n",
        "from sklearn import metrics\n",
        "\n",
        "from pprint import pprint\n",
        "\n",
        "def decode_predictions(preds, encoder):\n",
        "  preds = preds.permute(1, 0 ,2)\n",
        "  preds = torch.softmax(preds, 2)\n",
        "  preds = torch.argmax(preds, 2)\n",
        "  preds = preds.detach().cpu().numpy()\n",
        "  cap_preds = []\n",
        "  for j in range(preds.shape[0]):\n",
        "    temp = []\n",
        "    for k in preds[j, :]:\n",
        "      k = k-1\n",
        "      if k == -1:\n",
        "        temp.append(\"`\")\n",
        "      else:\n",
        "        temp.append(encoder.inverse_transform([k])[0])\n",
        "    tp = \"\".join(temp)\n",
        "    cap_preds.append(tp)\n",
        "    return cap_preds\n",
        "\n",
        "\n",
        "def run_traning():\n",
        "  image_files = glob.glob('/content/captcha_images_v2/*.png')\n",
        "  targets_orig = [x.split('/')[-1][:4] for x in image_files]  # \"'../../../abcd.png\"\n",
        "  targets = [[c for c in x] for x in targets_orig]  # abcd --> [a, b, c, d]\n",
        "  targets_flat = [c for clist in targets for c in clist]\n",
        "\n",
        "  lbl_enc = preprocessing.LabelEncoder()\n",
        "  lbl_enc.fit(targets_flat)\n",
        "  targets_enc = [lbl_enc.transform(x) for x in targets]\n",
        "  targets_enc = np.array(targets_enc) + 1\n",
        "\n",
        "\n",
        "  (train_imgs, test_imgs, train_targets, test_targets, train_orig_targets, test_orig_targets) = \\\n",
        "  model_selection.train_test_split(image_files, targets_enc, targets_orig, test_size=0.1, random_state=42)\n",
        "\n",
        "  train_dataset = ClassificationDataset(image_paths=train_imgs, targets=train_targets, resize=(IMAGE_HEIGHT, IMAGE_WIDTH))\n",
        "  test_dataset = ClassificationDataset(image_paths=test_imgs, targets=test_targets, resize=(IMAGE_HEIGHT, IMAGE_WIDTH))\n",
        "\n",
        "  train_loader = torch.utils.data.DataLoader(train_dataset, batch_size=BATCH_SIZE, num_workers=NUM_WORKERS, shuffle=True)\n",
        "  test_loader = torch.utils.data.DataLoader(test_dataset, batch_size=BATCH_SIZE, num_workers=NUM_WORKERS, shuffle=False)\n",
        "\n",
        "  model = CaptchaModel(num_chars=len(lbl_enc.classes_))\n",
        "  model.to(DEVICE)\n",
        "\n",
        "  optimizer = torch.optim.Adam(model.parameters(), lr=3e-4)\n",
        "  scheduler = torch.optim.lr_scheduler.ReduceLROnPlateau(optimizer, factor=0.8, patience=5, verbose=True)\n",
        "\n",
        "  for epoch in range(EPOCHS):\n",
        "    train_loss = train_fn(model, train_loader, optimizer)\n",
        "    valid_preds, valid_loss = eval_fn(model, test_loader)\n",
        "\n",
        "    valid_cap_preds=[]\n",
        "    for vp in valid_preds:\n",
        "      current_preds = decode_predictions(vp, lbl_enc)\n",
        "      valid_cap_preds.extend(current_preds)\n",
        "    pprint(list(zip(test_orig_targets, valid_cap_preds))[6:10])\n",
        "    print(f'EPOCH:{epoch}, train_loss={train_loss}, valid_loss={valid_loss}')\n",
        "\n",
        "  # print(targets)\n",
        "  # print('*'*100)\n",
        "  # print(np.unique(targets_flat))\n",
        "  # print('*'*100)\n",
        "  # print(targets_enc)\n",
        "  # print('*'*100)\n",
        "  # print(len(lbl_enc.classes_))\n",
        "\n",
        "\n",
        "run_traning()"
      ],
      "execution_count": 21,
      "outputs": [
        {
          "output_type": "stream",
          "text": [
            "100%|██████████| 117/117 [00:02<00:00, 50.52it/s]\n",
            "100%|██████████| 13/13 [00:00<00:00, 37.98it/s]\n",
            "  0%|          | 0/117 [00:00<?, ?it/s]"
          ],
          "name": "stderr"
        },
        {
          "output_type": "stream",
          "text": [
            "[('gc27',\n",
            "  '```````````````````````````````````````````````````````````````````````````'),\n",
            " ('pe4x',\n",
            "  '```````````````````````````````````````````````````````````````````````````'),\n",
            " ('cdmn',\n",
            "  '```````````````````````````````````````````````````````````````````````````'),\n",
            " ('5mff',\n",
            "  '```````````````````````````````````````````````````````````````````````````')]\n",
            "EPOCH:0, train_loss=11.371249198913574, valid_loss=3.5133707523345947\n"
          ],
          "name": "stdout"
        },
        {
          "output_type": "stream",
          "text": [
            "100%|██████████| 117/117 [00:02<00:00, 50.21it/s]\n",
            "100%|██████████| 13/13 [00:00<00:00, 37.26it/s]\n",
            "  0%|          | 0/117 [00:00<?, ?it/s]"
          ],
          "name": "stderr"
        },
        {
          "output_type": "stream",
          "text": [
            "[('gc27',\n",
            "  '```````````````````````````````````````````````````````````````````````````'),\n",
            " ('pe4x',\n",
            "  '```````````````````````````````````````````````````````````````````````````'),\n",
            " ('cdmn',\n",
            "  '```````````````````````````````````````````````````````````````````````````'),\n",
            " ('5mff',\n",
            "  '```````````````````````````````````````````````````````````````````````````')]\n",
            "EPOCH:1, train_loss=3.448848009109497, valid_loss=3.424778938293457\n"
          ],
          "name": "stdout"
        },
        {
          "output_type": "stream",
          "text": [
            "100%|██████████| 117/117 [00:02<00:00, 49.92it/s]\n",
            "100%|██████████| 13/13 [00:00<00:00, 36.81it/s]\n",
            "  0%|          | 0/117 [00:00<?, ?it/s]"
          ],
          "name": "stderr"
        },
        {
          "output_type": "stream",
          "text": [
            "[('gc27',\n",
            "  '```````````````````````````````````````````````````````````````````````````'),\n",
            " ('pe4x',\n",
            "  '```````````````````````````````````````````````````````````````````````````'),\n",
            " ('cdmn',\n",
            "  '```````````````````````````````````````````````````````````````````````````'),\n",
            " ('5mff',\n",
            "  '```````````````````````````````````````````````````````````````````````````')]\n",
            "EPOCH:2, train_loss=3.393925189971924, valid_loss=3.3971197605133057\n"
          ],
          "name": "stdout"
        },
        {
          "output_type": "stream",
          "text": [
            "100%|██████████| 117/117 [00:02<00:00, 49.67it/s]\n",
            "100%|██████████| 13/13 [00:00<00:00, 38.05it/s]\n",
            "  0%|          | 0/117 [00:00<?, ?it/s]"
          ],
          "name": "stderr"
        },
        {
          "output_type": "stream",
          "text": [
            "[('gc27',\n",
            "  '```````````````````````````````````````````````````````````````````````````'),\n",
            " ('pe4x',\n",
            "  '```````````````````````````````````````````````````````````````````````````'),\n",
            " ('cdmn',\n",
            "  '```````````````````````````````````````````````````````````````````````````'),\n",
            " ('5mff',\n",
            "  '```````````````````````````````````````````````````````````````````````````')]\n",
            "EPOCH:3, train_loss=3.3767404556274414, valid_loss=3.380378246307373\n"
          ],
          "name": "stdout"
        },
        {
          "output_type": "stream",
          "text": [
            "100%|██████████| 117/117 [00:02<00:00, 50.40it/s]\n",
            "100%|██████████| 13/13 [00:00<00:00, 38.74it/s]\n",
            "  0%|          | 0/117 [00:00<?, ?it/s]"
          ],
          "name": "stderr"
        },
        {
          "output_type": "stream",
          "text": [
            "[('gc27',\n",
            "  '```````````````````````````````````````````````````````````````````````````'),\n",
            " ('pe4x',\n",
            "  '```````````````````````````````````````````````````````````````````````````'),\n",
            " ('cdmn',\n",
            "  '```````````````````````````````````````````````````````````````````````````'),\n",
            " ('5mff',\n",
            "  '```````````````````````````````````````````````````````````````````````````')]\n",
            "EPOCH:4, train_loss=3.365950107574463, valid_loss=3.366478443145752\n"
          ],
          "name": "stdout"
        },
        {
          "output_type": "stream",
          "text": [
            "100%|██████████| 117/117 [00:02<00:00, 50.63it/s]\n",
            "100%|██████████| 13/13 [00:00<00:00, 38.75it/s]\n",
            "  0%|          | 0/117 [00:00<?, ?it/s]"
          ],
          "name": "stderr"
        },
        {
          "output_type": "stream",
          "text": [
            "[('gc27',\n",
            "  '```````````````````````````````````````````````````````````````````````````'),\n",
            " ('pe4x',\n",
            "  '```````````````````````````````````````````````````````````````````````````'),\n",
            " ('cdmn',\n",
            "  '```````````````````````````````````````````````````````````````````````````'),\n",
            " ('5mff',\n",
            "  '```````````````````````````````````````````````````````````````````````````')]\n",
            "EPOCH:5, train_loss=3.3596222400665283, valid_loss=3.360823631286621\n"
          ],
          "name": "stdout"
        },
        {
          "output_type": "stream",
          "text": [
            "100%|██████████| 117/117 [00:02<00:00, 49.61it/s]\n",
            "100%|██████████| 13/13 [00:00<00:00, 38.53it/s]\n",
            "  0%|          | 0/117 [00:00<?, ?it/s]"
          ],
          "name": "stderr"
        },
        {
          "output_type": "stream",
          "text": [
            "[('gc27',\n",
            "  '```````````````````````````````````````````````````````````````````````````'),\n",
            " ('pe4x',\n",
            "  '```````````````````````````````````````````````````````````````````````````'),\n",
            " ('cdmn',\n",
            "  '```````````````````````````````````````````````````````````````````````````'),\n",
            " ('5mff',\n",
            "  '```````````````````````````````````````````````````````````````````````````')]\n",
            "EPOCH:6, train_loss=3.3519320487976074, valid_loss=3.3572237491607666\n"
          ],
          "name": "stdout"
        },
        {
          "output_type": "stream",
          "text": [
            "100%|██████████| 117/117 [00:02<00:00, 50.37it/s]\n",
            "100%|██████████| 13/13 [00:00<00:00, 38.79it/s]\n",
            "  0%|          | 0/117 [00:00<?, ?it/s]"
          ],
          "name": "stderr"
        },
        {
          "output_type": "stream",
          "text": [
            "[('gc27',\n",
            "  '```````````````````````````````````````````````````````````````````````````'),\n",
            " ('pe4x',\n",
            "  '```````````````````````````````````````````````````````````````````````````'),\n",
            " ('cdmn',\n",
            "  '```````````````````````````````````````````````````````````````````````````'),\n",
            " ('5mff',\n",
            "  '```````````````````````````````````````````````````````````````````````````')]\n",
            "EPOCH:7, train_loss=3.3479392528533936, valid_loss=3.355492115020752\n"
          ],
          "name": "stdout"
        },
        {
          "output_type": "stream",
          "text": [
            "100%|██████████| 117/117 [00:02<00:00, 50.86it/s]\n",
            "100%|██████████| 13/13 [00:00<00:00, 40.10it/s]\n",
            "  0%|          | 0/117 [00:00<?, ?it/s]"
          ],
          "name": "stderr"
        },
        {
          "output_type": "stream",
          "text": [
            "[('gc27',\n",
            "  '```````````````````````````````````````````````````````````````````````````'),\n",
            " ('pe4x',\n",
            "  '```````````````````````````````````````````````````````````````````````````'),\n",
            " ('cdmn',\n",
            "  '```````````````````````````````````````````````````````````````````````````'),\n",
            " ('5mff',\n",
            "  '```````````````````````````````````````````````````````````````````````````')]\n",
            "EPOCH:8, train_loss=3.3462016582489014, valid_loss=3.3533105850219727\n"
          ],
          "name": "stdout"
        },
        {
          "output_type": "stream",
          "text": [
            "100%|██████████| 117/117 [00:02<00:00, 50.15it/s]\n",
            "100%|██████████| 13/13 [00:00<00:00, 38.41it/s]\n",
            "  0%|          | 0/117 [00:00<?, ?it/s]"
          ],
          "name": "stderr"
        },
        {
          "output_type": "stream",
          "text": [
            "[('gc27',\n",
            "  '```````````````````````````````````````````````````````````````````````````'),\n",
            " ('pe4x',\n",
            "  '```````````````````````````````````````````````````````````````````````````'),\n",
            " ('cdmn',\n",
            "  '```````````````````````````````````````````````````````````````````````````'),\n",
            " ('5mff',\n",
            "  '```````````````````````````````````````````````````````````````````````````')]\n",
            "EPOCH:9, train_loss=3.3415122032165527, valid_loss=3.3526623249053955\n"
          ],
          "name": "stdout"
        },
        {
          "output_type": "stream",
          "text": [
            "100%|██████████| 117/117 [00:02<00:00, 50.86it/s]\n",
            "100%|██████████| 13/13 [00:00<00:00, 38.34it/s]\n",
            "  0%|          | 0/117 [00:00<?, ?it/s]"
          ],
          "name": "stderr"
        },
        {
          "output_type": "stream",
          "text": [
            "[('gc27',\n",
            "  '```````````````````````````````````````````````````````````````````````````'),\n",
            " ('pe4x',\n",
            "  '```````````````````````````````````````````````````````````````````````````'),\n",
            " ('cdmn',\n",
            "  '```````````````````````````````````````````````````````````````````````````'),\n",
            " ('5mff',\n",
            "  '```````````````````````````````````````````````````````````````````````````')]\n",
            "EPOCH:10, train_loss=3.3404452800750732, valid_loss=3.3494508266448975\n"
          ],
          "name": "stdout"
        },
        {
          "output_type": "stream",
          "text": [
            "100%|██████████| 117/117 [00:02<00:00, 51.07it/s]\n",
            "100%|██████████| 13/13 [00:00<00:00, 40.74it/s]\n",
            "  0%|          | 0/117 [00:00<?, ?it/s]"
          ],
          "name": "stderr"
        },
        {
          "output_type": "stream",
          "text": [
            "[('gc27',\n",
            "  '```````````````````````````````````````````````````````````````````````````'),\n",
            " ('pe4x',\n",
            "  '```````````````````````````````````````````````````````````````````````````'),\n",
            " ('cdmn',\n",
            "  '```````````````````````````````````````````````````````````````````````````'),\n",
            " ('5mff',\n",
            "  '```````````````````````````````````````````````````````````````````````````')]\n",
            "EPOCH:11, train_loss=3.3382484912872314, valid_loss=3.349353313446045\n"
          ],
          "name": "stdout"
        },
        {
          "output_type": "stream",
          "text": [
            "100%|██████████| 117/117 [00:02<00:00, 50.69it/s]\n",
            "100%|██████████| 13/13 [00:00<00:00, 38.88it/s]\n",
            "  0%|          | 0/117 [00:00<?, ?it/s]"
          ],
          "name": "stderr"
        },
        {
          "output_type": "stream",
          "text": [
            "[('gc27',\n",
            "  '```````````````````````````````````````````````````````````````````````````'),\n",
            " ('pe4x',\n",
            "  '```````````````````````````````````````````````````````````````````````````'),\n",
            " ('cdmn',\n",
            "  '```````````````````````````````````````````````````````````````````````````'),\n",
            " ('5mff',\n",
            "  '```````````````````````````````````````````````````````````````````````````')]\n",
            "EPOCH:12, train_loss=3.336104154586792, valid_loss=3.3451180458068848\n"
          ],
          "name": "stdout"
        },
        {
          "output_type": "stream",
          "text": [
            "100%|██████████| 117/117 [00:02<00:00, 50.51it/s]\n",
            "100%|██████████| 13/13 [00:00<00:00, 40.04it/s]\n",
            "  0%|          | 0/117 [00:00<?, ?it/s]"
          ],
          "name": "stderr"
        },
        {
          "output_type": "stream",
          "text": [
            "[('gc27',\n",
            "  '```````````````````````````````````````````````````````````````````````````'),\n",
            " ('pe4x',\n",
            "  '```````````````````````````````````````````````````````````````````````````'),\n",
            " ('cdmn',\n",
            "  '```````````````````````````````````````````````````````````````````````````'),\n",
            " ('5mff',\n",
            "  '```````````````````````````````````````````````````````````````````````````')]\n",
            "EPOCH:13, train_loss=3.3358278274536133, valid_loss=3.342170000076294\n"
          ],
          "name": "stdout"
        },
        {
          "output_type": "stream",
          "text": [
            "100%|██████████| 117/117 [00:02<00:00, 50.60it/s]\n",
            "100%|██████████| 13/13 [00:00<00:00, 39.49it/s]\n",
            "  0%|          | 0/117 [00:00<?, ?it/s]"
          ],
          "name": "stderr"
        },
        {
          "output_type": "stream",
          "text": [
            "[('gc27',\n",
            "  '```````````````````````````````````````````````````````````````````````````'),\n",
            " ('pe4x',\n",
            "  '```````````````````````````````````````````````````````````````````````````'),\n",
            " ('cdmn',\n",
            "  '```````````````````````````````````````````````````````````````````````````'),\n",
            " ('5mff',\n",
            "  '```````````````````````````````````````````````````````````````````````````')]\n",
            "EPOCH:14, train_loss=3.335745096206665, valid_loss=3.343142509460449\n"
          ],
          "name": "stdout"
        },
        {
          "output_type": "stream",
          "text": [
            "100%|██████████| 117/117 [00:02<00:00, 50.76it/s]\n",
            "100%|██████████| 13/13 [00:00<00:00, 38.21it/s]\n",
            "  0%|          | 0/117 [00:00<?, ?it/s]"
          ],
          "name": "stderr"
        },
        {
          "output_type": "stream",
          "text": [
            "[('gc27',\n",
            "  '```````````````````````````````````````````````````````````````````````````'),\n",
            " ('pe4x',\n",
            "  '```````````````````````````````````````````````````````````````````````````'),\n",
            " ('cdmn',\n",
            "  '```````````````````````````````````````````````````````````````````````````'),\n",
            " ('5mff',\n",
            "  '```````````````````````````````````````````````````````````````````````````')]\n",
            "EPOCH:15, train_loss=3.334341049194336, valid_loss=3.3424971103668213\n"
          ],
          "name": "stdout"
        },
        {
          "output_type": "stream",
          "text": [
            "100%|██████████| 117/117 [00:02<00:00, 50.59it/s]\n",
            "100%|██████████| 13/13 [00:00<00:00, 38.51it/s]\n",
            "  0%|          | 0/117 [00:00<?, ?it/s]"
          ],
          "name": "stderr"
        },
        {
          "output_type": "stream",
          "text": [
            "[('gc27',\n",
            "  '```````````````````````````````````````````````````````````````````````````'),\n",
            " ('pe4x',\n",
            "  '```````````````````````````````````````````````````````````````````````````'),\n",
            " ('cdmn',\n",
            "  '```````````````````````````````````````````````````````````````````````````'),\n",
            " ('5mff',\n",
            "  '```````````````````````````````````````````````````````````````````````````')]\n",
            "EPOCH:16, train_loss=3.3339779376983643, valid_loss=3.3407747745513916\n"
          ],
          "name": "stdout"
        },
        {
          "output_type": "stream",
          "text": [
            "100%|██████████| 117/117 [00:02<00:00, 50.99it/s]\n",
            "100%|██████████| 13/13 [00:00<00:00, 38.12it/s]\n",
            "  0%|          | 0/117 [00:00<?, ?it/s]"
          ],
          "name": "stderr"
        },
        {
          "output_type": "stream",
          "text": [
            "[('gc27',\n",
            "  '```````````````````````````````````````````````````````````````````````````'),\n",
            " ('pe4x',\n",
            "  '```````````````````````````````````````````````````````````````````````````'),\n",
            " ('cdmn',\n",
            "  '```````````````````````````````````````````````````````````````````````````'),\n",
            " ('5mff',\n",
            "  '```````````````````````````````````````````````````````````````````````````')]\n",
            "EPOCH:17, train_loss=3.334237813949585, valid_loss=3.3433115482330322\n"
          ],
          "name": "stdout"
        },
        {
          "output_type": "stream",
          "text": [
            "100%|██████████| 117/117 [00:02<00:00, 49.55it/s]\n",
            "100%|██████████| 13/13 [00:00<00:00, 36.87it/s]\n",
            "  0%|          | 0/117 [00:00<?, ?it/s]"
          ],
          "name": "stderr"
        },
        {
          "output_type": "stream",
          "text": [
            "[('gc27',\n",
            "  '```````````````````````````````````````````````````````````````````````````'),\n",
            " ('pe4x',\n",
            "  '```````````````````````````````````````````````````````````````````````````'),\n",
            " ('cdmn',\n",
            "  '```````````````````````````````````````````````````````````````````````````'),\n",
            " ('5mff',\n",
            "  '```````````````````````````````````````````````````````````````````````````')]\n",
            "EPOCH:18, train_loss=3.333299398422241, valid_loss=3.3422117233276367\n"
          ],
          "name": "stdout"
        },
        {
          "output_type": "stream",
          "text": [
            "100%|██████████| 117/117 [00:02<00:00, 51.09it/s]\n",
            "100%|██████████| 13/13 [00:00<00:00, 39.65it/s]\n",
            "  0%|          | 0/117 [00:00<?, ?it/s]"
          ],
          "name": "stderr"
        },
        {
          "output_type": "stream",
          "text": [
            "[('gc27',\n",
            "  '```````````````````````````````````````````````````````````````````````````'),\n",
            " ('pe4x',\n",
            "  '```````````````````````````````````````````````````````````````````````````'),\n",
            " ('cdmn',\n",
            "  '```````````````````````````````````````````````````````````````````````````'),\n",
            " ('5mff',\n",
            "  '```````````````````````````````````````````````````````````````````````````')]\n",
            "EPOCH:19, train_loss=3.3324780464172363, valid_loss=3.3384499549865723\n"
          ],
          "name": "stdout"
        },
        {
          "output_type": "stream",
          "text": [
            "100%|██████████| 117/117 [00:02<00:00, 50.85it/s]\n",
            "100%|██████████| 13/13 [00:00<00:00, 38.74it/s]\n",
            "  0%|          | 0/117 [00:00<?, ?it/s]"
          ],
          "name": "stderr"
        },
        {
          "output_type": "stream",
          "text": [
            "[('gc27',\n",
            "  '```````````````````````````````````````````````````````````````````````````'),\n",
            " ('pe4x',\n",
            "  '```````````````````````````````````````````````````````````````````````````'),\n",
            " ('cdmn',\n",
            "  '```````````````````````````````````````````````````````````````````````````'),\n",
            " ('5mff',\n",
            "  '```````````````````````````````````````````````````````````````````````````')]\n",
            "EPOCH:20, train_loss=3.3332369327545166, valid_loss=3.344095468521118\n"
          ],
          "name": "stdout"
        },
        {
          "output_type": "stream",
          "text": [
            "100%|██████████| 117/117 [00:02<00:00, 50.62it/s]\n",
            "100%|██████████| 13/13 [00:00<00:00, 38.47it/s]\n",
            "  0%|          | 0/117 [00:00<?, ?it/s]"
          ],
          "name": "stderr"
        },
        {
          "output_type": "stream",
          "text": [
            "[('gc27',\n",
            "  '```````````````````````````````````````````````````````````````````````````'),\n",
            " ('pe4x',\n",
            "  '```````````````````````````````````````````````````````````````````````````'),\n",
            " ('cdmn',\n",
            "  '```````````````````````````````````````````````````````````````````````````'),\n",
            " ('5mff',\n",
            "  '```````````````````````````````````````````````````````````````````````````')]\n",
            "EPOCH:21, train_loss=3.3335330486297607, valid_loss=3.343035936355591\n"
          ],
          "name": "stdout"
        },
        {
          "output_type": "stream",
          "text": [
            "100%|██████████| 117/117 [00:02<00:00, 50.59it/s]\n",
            "100%|██████████| 13/13 [00:00<00:00, 37.71it/s]\n",
            "  0%|          | 0/117 [00:00<?, ?it/s]"
          ],
          "name": "stderr"
        },
        {
          "output_type": "stream",
          "text": [
            "[('gc27',\n",
            "  '```````````````````````````````````````````````````````````````````````````'),\n",
            " ('pe4x',\n",
            "  '```````````````````````````````````````````````````````````````````````````'),\n",
            " ('cdmn',\n",
            "  '```````````````````````````````````````````````````````````````````````````'),\n",
            " ('5mff',\n",
            "  '```````````````````````````````````````````````````````````````````````````')]\n",
            "EPOCH:22, train_loss=3.331369638442993, valid_loss=3.3402340412139893\n"
          ],
          "name": "stdout"
        },
        {
          "output_type": "stream",
          "text": [
            "100%|██████████| 117/117 [00:02<00:00, 50.68it/s]\n",
            "100%|██████████| 13/13 [00:00<00:00, 38.40it/s]\n",
            "  0%|          | 0/117 [00:00<?, ?it/s]"
          ],
          "name": "stderr"
        },
        {
          "output_type": "stream",
          "text": [
            "[('gc27',\n",
            "  '```````````````````````````````````````````````````````````````````````````'),\n",
            " ('pe4x',\n",
            "  '```````````````````````````````````````````````````````````````````````````'),\n",
            " ('cdmn',\n",
            "  '```````````````````````````````````````````````````````````````````````````'),\n",
            " ('5mff',\n",
            "  '```````````````````````````````````````````````````````````````````````````')]\n",
            "EPOCH:23, train_loss=3.3327877521514893, valid_loss=3.3450005054473877\n"
          ],
          "name": "stdout"
        },
        {
          "output_type": "stream",
          "text": [
            "100%|██████████| 117/117 [00:02<00:00, 50.15it/s]\n",
            "100%|██████████| 13/13 [00:00<00:00, 38.95it/s]\n",
            "  0%|          | 0/117 [00:00<?, ?it/s]"
          ],
          "name": "stderr"
        },
        {
          "output_type": "stream",
          "text": [
            "[('gc27',\n",
            "  '```````````````````````````````````````````````````````````````````````````'),\n",
            " ('pe4x',\n",
            "  '```````````````````````````````````````````````````````````````````````````'),\n",
            " ('cdmn',\n",
            "  '```````````````````````````````````````````````````````````````````````````'),\n",
            " ('5mff',\n",
            "  '```````````````````````````````````````````````````````````````````````````')]\n",
            "EPOCH:24, train_loss=3.3330328464508057, valid_loss=3.345275402069092\n"
          ],
          "name": "stdout"
        },
        {
          "output_type": "stream",
          "text": [
            "100%|██████████| 117/117 [00:02<00:00, 50.10it/s]\n",
            "100%|██████████| 13/13 [00:00<00:00, 36.80it/s]\n",
            "  0%|          | 0/117 [00:00<?, ?it/s]"
          ],
          "name": "stderr"
        },
        {
          "output_type": "stream",
          "text": [
            "[('gc27',\n",
            "  '```````````````````````````````````````````````````````````````````````````'),\n",
            " ('pe4x',\n",
            "  '```````````````````````````````````````````````````````````````````````````'),\n",
            " ('cdmn',\n",
            "  '```````````````````````````````````````````````````````````````````````````'),\n",
            " ('5mff',\n",
            "  '```````````````````````````````````````````````````````````````````````````')]\n",
            "EPOCH:25, train_loss=3.332531452178955, valid_loss=3.340134382247925\n"
          ],
          "name": "stdout"
        },
        {
          "output_type": "stream",
          "text": [
            "100%|██████████| 117/117 [00:02<00:00, 50.61it/s]\n",
            "100%|██████████| 13/13 [00:00<00:00, 38.23it/s]\n",
            "  0%|          | 0/117 [00:00<?, ?it/s]"
          ],
          "name": "stderr"
        },
        {
          "output_type": "stream",
          "text": [
            "[('gc27',\n",
            "  '```````````````````````````````````````````````````````````````````````````'),\n",
            " ('pe4x',\n",
            "  '```````````````````````````````````````````````````````````````````````````'),\n",
            " ('cdmn',\n",
            "  '```````````````````````````````````````````````````````````````````````````'),\n",
            " ('5mff',\n",
            "  '```````````````````````````````````````````````````````````````````````````')]\n",
            "EPOCH:26, train_loss=3.332202196121216, valid_loss=3.3413727283477783\n"
          ],
          "name": "stdout"
        },
        {
          "output_type": "stream",
          "text": [
            "100%|██████████| 117/117 [00:02<00:00, 50.54it/s]\n",
            "100%|██████████| 13/13 [00:00<00:00, 38.96it/s]\n",
            "  0%|          | 0/117 [00:00<?, ?it/s]"
          ],
          "name": "stderr"
        },
        {
          "output_type": "stream",
          "text": [
            "[('gc27',\n",
            "  '```````````````````````````````````````````````````````````````````````````'),\n",
            " ('pe4x',\n",
            "  '```````````````````````````````````````````````````````````````````````````'),\n",
            " ('cdmn',\n",
            "  '```````````````````````````````````````````````````````````````````````````'),\n",
            " ('5mff',\n",
            "  '```````````````````````````````````````````````````````````````````````````')]\n",
            "EPOCH:27, train_loss=3.3328745365142822, valid_loss=3.345604181289673\n"
          ],
          "name": "stdout"
        },
        {
          "output_type": "stream",
          "text": [
            "100%|██████████| 117/117 [00:02<00:00, 50.47it/s]\n",
            "100%|██████████| 13/13 [00:00<00:00, 38.37it/s]\n",
            "  0%|          | 0/117 [00:00<?, ?it/s]"
          ],
          "name": "stderr"
        },
        {
          "output_type": "stream",
          "text": [
            "[('gc27',\n",
            "  '```````````````````````````````````````````````````````````````````````````'),\n",
            " ('pe4x',\n",
            "  '```````````````````````````````````````````````````````````````````````````'),\n",
            " ('cdmn',\n",
            "  '```````````````````````````````````````````````````````````````````````````'),\n",
            " ('5mff',\n",
            "  '```````````````````````````````````````````````````````````````````````````')]\n",
            "EPOCH:28, train_loss=3.3314309120178223, valid_loss=3.339472770690918\n"
          ],
          "name": "stdout"
        },
        {
          "output_type": "stream",
          "text": [
            "100%|██████████| 117/117 [00:02<00:00, 50.40it/s]\n",
            "100%|██████████| 13/13 [00:00<00:00, 40.10it/s]\n",
            "  0%|          | 0/117 [00:00<?, ?it/s]"
          ],
          "name": "stderr"
        },
        {
          "output_type": "stream",
          "text": [
            "[('gc27',\n",
            "  '```````````````````````````````````````````````````````````````````````````'),\n",
            " ('pe4x',\n",
            "  '```````````````````````````````````````````````````````````````````````````'),\n",
            " ('cdmn',\n",
            "  '```````````````````````````````````````````````````````````````````````````'),\n",
            " ('5mff',\n",
            "  '```````````````````````````````````````````````````````````````````````````')]\n",
            "EPOCH:29, train_loss=3.3335022926330566, valid_loss=3.3392422199249268\n"
          ],
          "name": "stdout"
        },
        {
          "output_type": "stream",
          "text": [
            "100%|██████████| 117/117 [00:02<00:00, 49.57it/s]\n",
            "100%|██████████| 13/13 [00:00<00:00, 37.45it/s]\n",
            "  0%|          | 0/117 [00:00<?, ?it/s]"
          ],
          "name": "stderr"
        },
        {
          "output_type": "stream",
          "text": [
            "[('gc27',\n",
            "  '```````````````````````````````````````````````````````````````````````````'),\n",
            " ('pe4x',\n",
            "  '```````````````````````````````````````````````````````````````````````````'),\n",
            " ('cdmn',\n",
            "  '```````````````````````````````````````````````````````````````````````````'),\n",
            " ('5mff',\n",
            "  '```````````````````````````````````````````````````````````````````````````')]\n",
            "EPOCH:30, train_loss=3.332658290863037, valid_loss=3.343931198120117\n"
          ],
          "name": "stdout"
        },
        {
          "output_type": "stream",
          "text": [
            "100%|██████████| 117/117 [00:02<00:00, 50.47it/s]\n",
            "100%|██████████| 13/13 [00:00<00:00, 39.51it/s]\n",
            "  0%|          | 0/117 [00:00<?, ?it/s]"
          ],
          "name": "stderr"
        },
        {
          "output_type": "stream",
          "text": [
            "[('gc27',\n",
            "  '```````````````````````````````````````````````````````````````````````````'),\n",
            " ('pe4x',\n",
            "  '```````````````````````````````````````````````````````````````````````````'),\n",
            " ('cdmn',\n",
            "  '```````````````````````````````````````````````````````````````````````````'),\n",
            " ('5mff',\n",
            "  '```````````````````````````````````````````````````````````````````````````')]\n",
            "EPOCH:31, train_loss=3.3329899311065674, valid_loss=3.338630437850952\n"
          ],
          "name": "stdout"
        },
        {
          "output_type": "stream",
          "text": [
            "100%|██████████| 117/117 [00:02<00:00, 50.47it/s]\n",
            "100%|██████████| 13/13 [00:00<00:00, 39.07it/s]\n",
            "  0%|          | 0/117 [00:00<?, ?it/s]"
          ],
          "name": "stderr"
        },
        {
          "output_type": "stream",
          "text": [
            "[('gc27',\n",
            "  '```````````````````````````````````````````````````````````````````````````'),\n",
            " ('pe4x',\n",
            "  '```````````````````````````````````````````````````````````````````````````'),\n",
            " ('cdmn',\n",
            "  '```````````````````````````````````````````````````````````````````````````'),\n",
            " ('5mff',\n",
            "  '```````````````````````````````````````````````````````````````````````````')]\n",
            "EPOCH:32, train_loss=3.331752061843872, valid_loss=3.3402907848358154\n"
          ],
          "name": "stdout"
        },
        {
          "output_type": "stream",
          "text": [
            "100%|██████████| 117/117 [00:02<00:00, 50.62it/s]\n",
            "100%|██████████| 13/13 [00:00<00:00, 38.55it/s]\n",
            "  0%|          | 0/117 [00:00<?, ?it/s]"
          ],
          "name": "stderr"
        },
        {
          "output_type": "stream",
          "text": [
            "[('gc27',\n",
            "  '```````````````````````````````````````````````````````````````````````````'),\n",
            " ('pe4x',\n",
            "  '```````````````````````````````````````````````````````````````````````````'),\n",
            " ('cdmn',\n",
            "  '```````````````````````````````````````````````````````````````````````````'),\n",
            " ('5mff',\n",
            "  '```````````````````````````````````````````````````````````````````````````')]\n",
            "EPOCH:33, train_loss=3.332113027572632, valid_loss=3.342583656311035\n"
          ],
          "name": "stdout"
        },
        {
          "output_type": "stream",
          "text": [
            "100%|██████████| 117/117 [00:02<00:00, 50.75it/s]\n",
            "100%|██████████| 13/13 [00:00<00:00, 39.50it/s]\n",
            "  0%|          | 0/117 [00:00<?, ?it/s]"
          ],
          "name": "stderr"
        },
        {
          "output_type": "stream",
          "text": [
            "[('gc27',\n",
            "  '```````````````````````````````````````````````````````````````````````````'),\n",
            " ('pe4x',\n",
            "  '```````````````````````````````````````````````````````````````````````````'),\n",
            " ('cdmn',\n",
            "  '```````````````````````````````````````````````````````````````````````````'),\n",
            " ('5mff',\n",
            "  '```````````````````````````````````````````````````````````````````````````')]\n",
            "EPOCH:34, train_loss=3.3326032161712646, valid_loss=3.348217487335205\n"
          ],
          "name": "stdout"
        },
        {
          "output_type": "stream",
          "text": [
            "100%|██████████| 117/117 [00:02<00:00, 50.96it/s]\n",
            "100%|██████████| 13/13 [00:00<00:00, 39.50it/s]\n",
            "  0%|          | 0/117 [00:00<?, ?it/s]"
          ],
          "name": "stderr"
        },
        {
          "output_type": "stream",
          "text": [
            "[('gc27',\n",
            "  '```````````````````````````````````````````````````````````````````````````'),\n",
            " ('pe4x',\n",
            "  '```````````````````````````````````````````````````````````````````````````'),\n",
            " ('cdmn',\n",
            "  '```````````````````````````````````````````````````````````````````````````'),\n",
            " ('5mff',\n",
            "  '```````````````````````````````````````````````````````````````````````````')]\n",
            "EPOCH:35, train_loss=3.333110809326172, valid_loss=3.3451554775238037\n"
          ],
          "name": "stdout"
        },
        {
          "output_type": "stream",
          "text": [
            "100%|██████████| 117/117 [00:02<00:00, 50.66it/s]\n",
            "100%|██████████| 13/13 [00:00<00:00, 38.29it/s]\n",
            "  0%|          | 0/117 [00:00<?, ?it/s]"
          ],
          "name": "stderr"
        },
        {
          "output_type": "stream",
          "text": [
            "[('gc27',\n",
            "  '```````````````````````````````````````````````````````````````````````````'),\n",
            " ('pe4x',\n",
            "  '```````````````````````````````````````````````````````````````````````````'),\n",
            " ('cdmn',\n",
            "  '```````````````````````````````````````````````````````````````````````````'),\n",
            " ('5mff',\n",
            "  '```````````````````````````````````````````````````````````````````````````')]\n",
            "EPOCH:36, train_loss=3.332702398300171, valid_loss=3.344883441925049\n"
          ],
          "name": "stdout"
        },
        {
          "output_type": "stream",
          "text": [
            "100%|██████████| 117/117 [00:02<00:00, 50.57it/s]\n",
            "100%|██████████| 13/13 [00:00<00:00, 39.51it/s]\n",
            "  0%|          | 0/117 [00:00<?, ?it/s]"
          ],
          "name": "stderr"
        },
        {
          "output_type": "stream",
          "text": [
            "[('gc27',\n",
            "  '```````````````````````````````````````````````````````````````````````````'),\n",
            " ('pe4x',\n",
            "  '```````````````````````````````````````````````````````````````````````````'),\n",
            " ('cdmn',\n",
            "  '```````````````````````````````````````````````````````````````````````````'),\n",
            " ('5mff',\n",
            "  '```````````````````````````````````````````````````````````````````````````')]\n",
            "EPOCH:37, train_loss=3.332606792449951, valid_loss=3.340501546859741\n"
          ],
          "name": "stdout"
        },
        {
          "output_type": "stream",
          "text": [
            "100%|██████████| 117/117 [00:02<00:00, 50.92it/s]\n",
            "100%|██████████| 13/13 [00:00<00:00, 38.36it/s]\n",
            "  0%|          | 0/117 [00:00<?, ?it/s]"
          ],
          "name": "stderr"
        },
        {
          "output_type": "stream",
          "text": [
            "[('gc27',\n",
            "  '```````````````````````````````````````````````````````````````````````````'),\n",
            " ('pe4x',\n",
            "  '```````````````````````````````````````````````````````````````````````````'),\n",
            " ('cdmn',\n",
            "  '```````````````````````````````````````````````````````````````````````````'),\n",
            " ('5mff',\n",
            "  '```````````````````````````````````````````````````````````````````````````')]\n",
            "EPOCH:38, train_loss=3.3299686908721924, valid_loss=3.3511435985565186\n"
          ],
          "name": "stdout"
        },
        {
          "output_type": "stream",
          "text": [
            "100%|██████████| 117/117 [00:02<00:00, 51.33it/s]\n",
            "100%|██████████| 13/13 [00:00<00:00, 39.03it/s]\n",
            "  0%|          | 0/117 [00:00<?, ?it/s]"
          ],
          "name": "stderr"
        },
        {
          "output_type": "stream",
          "text": [
            "[('gc27',\n",
            "  '```````````````````````````````````````````````````````````````````````````'),\n",
            " ('pe4x',\n",
            "  '```````````````````````````````````````````````````````````````````````````'),\n",
            " ('cdmn',\n",
            "  '```````````````````````````````````````````````````````````````````````````'),\n",
            " ('5mff',\n",
            "  '```````````````````````````````````````````````````````````````````````````')]\n",
            "EPOCH:39, train_loss=3.318967819213867, valid_loss=3.344196081161499\n"
          ],
          "name": "stdout"
        },
        {
          "output_type": "stream",
          "text": [
            "100%|██████████| 117/117 [00:02<00:00, 50.44it/s]\n",
            "100%|██████████| 13/13 [00:00<00:00, 37.65it/s]\n",
            "  0%|          | 0/117 [00:00<?, ?it/s]"
          ],
          "name": "stderr"
        },
        {
          "output_type": "stream",
          "text": [
            "[('gc27',\n",
            "  '```````````````````````````````````````````````````````````````````````````'),\n",
            " ('pe4x',\n",
            "  '```````````````````````````````````````````````````````````````````````````'),\n",
            " ('cdmn',\n",
            "  '```````````````````````````````````````````````````````````````````````````'),\n",
            " ('5mff',\n",
            "  '``````````````````````````g````````````````````````````````````````````````')]\n",
            "EPOCH:40, train_loss=3.244250535964966, valid_loss=3.1580145359039307\n"
          ],
          "name": "stdout"
        },
        {
          "output_type": "stream",
          "text": [
            "100%|██████████| 117/117 [00:02<00:00, 50.13it/s]\n",
            "100%|██████████| 13/13 [00:00<00:00, 38.22it/s]\n",
            "  0%|          | 0/117 [00:00<?, ?it/s]"
          ],
          "name": "stderr"
        },
        {
          "output_type": "stream",
          "text": [
            "[('gc27',\n",
            "  '```````````````````````````````````````````````````````````````````````````'),\n",
            " ('pe4x',\n",
            "  '`````````````````````````````b`````````````````````````````````````````````'),\n",
            " ('cdmn',\n",
            "  '`````````````````d``````````````````````````f``````````````````````````````'),\n",
            " ('5mff',\n",
            "  '``````````````````````````g````````````````````````````````````````````````')]\n",
            "EPOCH:41, train_loss=3.0835745334625244, valid_loss=2.9781761169433594\n"
          ],
          "name": "stdout"
        },
        {
          "output_type": "stream",
          "text": [
            "100%|██████████| 117/117 [00:02<00:00, 48.96it/s]\n",
            "100%|██████████| 13/13 [00:00<00:00, 38.18it/s]\n",
            "  0%|          | 0/117 [00:00<?, ?it/s]"
          ],
          "name": "stderr"
        },
        {
          "output_type": "stream",
          "text": [
            "[('gc27',\n",
            "  '```````````````````````````````````````````````````````````````````````````'),\n",
            " ('pe4x',\n",
            "  '`````````````````````````````d`````````````````````````````````````````````'),\n",
            " ('cdmn',\n",
            "  '`````````````````d`````````````````````````````````````````````````````````'),\n",
            " ('5mff',\n",
            "  '``````````````````````````p````````````````````````````````````````````````')]\n",
            "EPOCH:42, train_loss=2.9013872146606445, valid_loss=2.820131301879883\n"
          ],
          "name": "stdout"
        },
        {
          "output_type": "stream",
          "text": [
            "100%|██████████| 117/117 [00:02<00:00, 50.77it/s]\n",
            "100%|██████████| 13/13 [00:00<00:00, 39.31it/s]\n",
            "  0%|          | 0/117 [00:00<?, ?it/s]"
          ],
          "name": "stderr"
        },
        {
          "output_type": "stream",
          "text": [
            "[('gc27',\n",
            "  '```````````````````````````````````````````````````````````````````````````'),\n",
            " ('pe4x',\n",
            "  '`````````````````````````````b`````````````````````````````````````````````'),\n",
            " ('cdmn',\n",
            "  '`````````````````b``````````````````````````d``````````````````````````````'),\n",
            " ('5mff',\n",
            "  '``````````````````````````g````````````````````````````````````````````````')]\n",
            "EPOCH:43, train_loss=2.7314984798431396, valid_loss=2.6336758136749268\n"
          ],
          "name": "stdout"
        },
        {
          "output_type": "stream",
          "text": [
            "100%|██████████| 117/117 [00:02<00:00, 50.57it/s]\n",
            "100%|██████████| 13/13 [00:00<00:00, 39.57it/s]\n",
            "  0%|          | 0/117 [00:00<?, ?it/s]"
          ],
          "name": "stderr"
        },
        {
          "output_type": "stream",
          "text": [
            "[('gc27',\n",
            "  '```````````````````````````````````````````````````````````````````````````'),\n",
            " ('pe4x',\n",
            "  '`````````````````````````````f`````````````````````````````````````````````'),\n",
            " ('cdmn',\n",
            "  '`````````````````b``````````````````````````d``````````````````````````````'),\n",
            " ('5mff',\n",
            "  '``````````````````````````g````````````````````````````````````````````````')]\n",
            "EPOCH:44, train_loss=2.5608463287353516, valid_loss=2.5043790340423584\n"
          ],
          "name": "stdout"
        },
        {
          "output_type": "stream",
          "text": [
            "100%|██████████| 117/117 [00:02<00:00, 50.00it/s]\n",
            "100%|██████████| 13/13 [00:00<00:00, 37.78it/s]\n",
            "  0%|          | 0/117 [00:00<?, ?it/s]"
          ],
          "name": "stderr"
        },
        {
          "output_type": "stream",
          "text": [
            "[('gc27',\n",
            "  '```````````````````````````````````````````3```````````````````````````````'),\n",
            " ('pe4x',\n",
            "  '`````````````````````````````f`````````````````````````````````````````````'),\n",
            " ('cdmn',\n",
            "  '`````````````````4``````````````````````````4``````````````````````````````'),\n",
            " ('5mff',\n",
            "  '``````````````````````````g`````````````````````y``````````````````````````')]\n",
            "EPOCH:45, train_loss=2.403614044189453, valid_loss=2.303825855255127\n"
          ],
          "name": "stdout"
        },
        {
          "output_type": "stream",
          "text": [
            "100%|██████████| 117/117 [00:02<00:00, 50.66it/s]\n",
            "100%|██████████| 13/13 [00:00<00:00, 38.32it/s]\n",
            "  0%|          | 0/117 [00:00<?, ?it/s]"
          ],
          "name": "stderr"
        },
        {
          "output_type": "stream",
          "text": [
            "[('gc27',\n",
            "  '```````````````````````````````````````````3```````````````````````````````'),\n",
            " ('pe4x',\n",
            "  '`````````````````````````````f`````````````````````````````````````````````'),\n",
            " ('cdmn',\n",
            "  '`````````````````4``````````````````````````d``````````````````````````````'),\n",
            " ('5mff',\n",
            "  '``````````````````````````g````````````````````````````````````````````````')]\n",
            "EPOCH:46, train_loss=2.2448618412017822, valid_loss=2.170290470123291\n"
          ],
          "name": "stdout"
        },
        {
          "output_type": "stream",
          "text": [
            "100%|██████████| 117/117 [00:02<00:00, 50.65it/s]\n",
            "100%|██████████| 13/13 [00:00<00:00, 38.82it/s]\n",
            "  0%|          | 0/117 [00:00<?, ?it/s]"
          ],
          "name": "stderr"
        },
        {
          "output_type": "stream",
          "text": [
            "[('gc27',\n",
            "  '```````````````````````````````````````````3```````````````````````````````'),\n",
            " ('pe4x',\n",
            "  '```````````````````n`````````f`````````````````````````````````````````````'),\n",
            " ('cdmn',\n",
            "  '`````````````````4```````````````n``````````d``````````````````````````````'),\n",
            " ('5mff',\n",
            "  '``````````````````````````g`````````````````````y``````````````````````````')]\n",
            "EPOCH:47, train_loss=2.073263645172119, valid_loss=1.9621316194534302\n"
          ],
          "name": "stdout"
        },
        {
          "output_type": "stream",
          "text": [
            "100%|██████████| 117/117 [00:02<00:00, 49.86it/s]\n",
            "100%|██████████| 13/13 [00:00<00:00, 35.80it/s]\n",
            "  0%|          | 0/117 [00:00<?, ?it/s]"
          ],
          "name": "stderr"
        },
        {
          "output_type": "stream",
          "text": [
            "[('gc27',\n",
            "  '```````````````````````````````````````````3```````````````````````````````'),\n",
            " ('pe4x',\n",
            "  '````````````````2``n````n````f`````````````````````````````````````````````'),\n",
            " ('cdmn',\n",
            "  '`````````````````4```````````````n``````````d``````````````````````````````'),\n",
            " ('5mff',\n",
            "  '``````````````````````````g`````````````````````y``````````````````````````')]\n",
            "EPOCH:48, train_loss=1.8908203840255737, valid_loss=1.8222397565841675\n"
          ],
          "name": "stdout"
        },
        {
          "output_type": "stream",
          "text": [
            "100%|██████████| 117/117 [00:02<00:00, 50.22it/s]\n",
            "100%|██████████| 13/13 [00:00<00:00, 39.17it/s]\n",
            "  0%|          | 0/117 [00:00<?, ?it/s]"
          ],
          "name": "stderr"
        },
        {
          "output_type": "stream",
          "text": [
            "[('gc27',\n",
            "  '```````````````````````````````````````````3```````````````````````````````'),\n",
            " ('pe4x',\n",
            "  '````````````````2``n````n````f`````````2```````````````````````````````````'),\n",
            " ('cdmn',\n",
            "  '`````````````````4```````````````n`````````````````````````````````````````'),\n",
            " ('5mff',\n",
            "  '``````````````````````````g`````````````````````y``````````````````````````')]\n",
            "EPOCH:49, train_loss=1.672113299369812, valid_loss=1.647823691368103\n"
          ],
          "name": "stdout"
        },
        {
          "output_type": "stream",
          "text": [
            "100%|██████████| 117/117 [00:02<00:00, 50.51it/s]\n",
            "100%|██████████| 13/13 [00:00<00:00, 39.51it/s]\n",
            "  0%|          | 0/117 [00:00<?, ?it/s]"
          ],
          "name": "stderr"
        },
        {
          "output_type": "stream",
          "text": [
            "[('gc27',\n",
            "  '```````````````````````````````````````````3```````````````````````````````'),\n",
            " ('pe4x',\n",
            "  '````````````````2````````````f`````````2```````````````````````````````````'),\n",
            " ('cdmn',\n",
            "  '`````````````````4```````````````n``````````d``````````````````````````````'),\n",
            " ('5mff',\n",
            "  '``````````````````````````g`````````````````````y``````````````````````````')]\n",
            "EPOCH:50, train_loss=1.487390160560608, valid_loss=1.4448264837265015\n"
          ],
          "name": "stdout"
        },
        {
          "output_type": "stream",
          "text": [
            "100%|██████████| 117/117 [00:02<00:00, 50.84it/s]\n",
            "100%|██████████| 13/13 [00:00<00:00, 37.45it/s]\n",
            "  0%|          | 0/117 [00:00<?, ?it/s]"
          ],
          "name": "stderr"
        },
        {
          "output_type": "stream",
          "text": [
            "[('gc27',\n",
            "  '``````````````````````````````6````````````3```````````````````````````````'),\n",
            " ('pe4x',\n",
            "  '````````````````2````````````f`````````2```````````````````````````````````'),\n",
            " ('cdmn',\n",
            "  '`````````````````4```````````````n`````````````````````````````````````````'),\n",
            " ('5mff',\n",
            "  '``````````````````````````g````````````````````````````````````````````````')]\n",
            "EPOCH:51, train_loss=1.341194987297058, valid_loss=1.2623134851455688\n"
          ],
          "name": "stdout"
        },
        {
          "output_type": "stream",
          "text": [
            "100%|██████████| 117/117 [00:02<00:00, 50.65it/s]\n",
            "100%|██████████| 13/13 [00:00<00:00, 38.68it/s]\n",
            "  0%|          | 0/117 [00:00<?, ?it/s]"
          ],
          "name": "stderr"
        },
        {
          "output_type": "stream",
          "text": [
            "[('gc27',\n",
            "  '``````````````````````````````66```````````3```````````````````````````````'),\n",
            " ('pe4x',\n",
            "  '````````````````2````````````f`````````2```````````````````````````````````'),\n",
            " ('cdmn',\n",
            "  '`````````````````4```````````````n`````````````````````````````````````````'),\n",
            " ('5mff',\n",
            "  '``````````````````````````g````````````````````````````````````````````````')]\n",
            "EPOCH:52, train_loss=1.1960210800170898, valid_loss=1.0315539836883545\n"
          ],
          "name": "stdout"
        },
        {
          "output_type": "stream",
          "text": [
            "100%|██████████| 117/117 [00:02<00:00, 49.97it/s]\n",
            "100%|██████████| 13/13 [00:00<00:00, 34.69it/s]\n",
            "  0%|          | 0/117 [00:00<?, ?it/s]"
          ],
          "name": "stderr"
        },
        {
          "output_type": "stream",
          "text": [
            "[('gc27',\n",
            "  '``````````````````````````````66```````````3```````````````````````````````'),\n",
            " ('pe4x',\n",
            "  '````````````````2```````n````f`````````2```````````````````````````````````'),\n",
            " ('cdmn',\n",
            "  '`````````````````4````e``````````n`````````````````````````````````````````'),\n",
            " ('5mff',\n",
            "  '``````````````````````````g````````````````````````````````````````````````')]\n",
            "EPOCH:53, train_loss=1.0552810430526733, valid_loss=0.9117866158485413\n"
          ],
          "name": "stdout"
        },
        {
          "output_type": "stream",
          "text": [
            "100%|██████████| 117/117 [00:02<00:00, 50.35it/s]\n",
            "100%|██████████| 13/13 [00:00<00:00, 37.12it/s]\n",
            "  0%|          | 0/117 [00:00<?, ?it/s]"
          ],
          "name": "stderr"
        },
        {
          "output_type": "stream",
          "text": [
            "[('gc27',\n",
            "  '``````````````````````````````6````````````3```````````````````````````````'),\n",
            " ('pe4x',\n",
            "  '````````````````2````````````f`````````2```````````````````````````````````'),\n",
            " ('cdmn',\n",
            "  '`````````````````4```````````````n`````````````````````````````````````````'),\n",
            " ('5mff',\n",
            "  '````````````````x`````````g````````````````````````````````````````````````')]\n",
            "EPOCH:54, train_loss=0.9754149317741394, valid_loss=0.8546725511550903\n"
          ],
          "name": "stdout"
        },
        {
          "output_type": "stream",
          "text": [
            "100%|██████████| 117/117 [00:02<00:00, 50.27it/s]\n",
            "100%|██████████| 13/13 [00:00<00:00, 38.17it/s]\n",
            "  0%|          | 0/117 [00:00<?, ?it/s]"
          ],
          "name": "stderr"
        },
        {
          "output_type": "stream",
          "text": [
            "[('gc27',\n",
            "  '``````````````````````````````66```````````3```````````````````````````````'),\n",
            " ('pe4x',\n",
            "  '````````````````2````````````f`````````2```````````````````````````````````'),\n",
            " ('cdmn',\n",
            "  '`````````````````4````e``````````n`````````````````````````````````````````'),\n",
            " ('5mff',\n",
            "  '````````````````x`````````g```````````````x````````````````````````````````')]\n",
            "EPOCH:55, train_loss=0.892179012298584, valid_loss=0.8016669750213623\n"
          ],
          "name": "stdout"
        },
        {
          "output_type": "stream",
          "text": [
            "100%|██████████| 117/117 [00:02<00:00, 50.83it/s]\n",
            "100%|██████████| 13/13 [00:00<00:00, 36.82it/s]\n",
            "  0%|          | 0/117 [00:00<?, ?it/s]"
          ],
          "name": "stderr"
        },
        {
          "output_type": "stream",
          "text": [
            "[('gc27',\n",
            "  '``````````````````````x```````66```````````3```````````````````````````````'),\n",
            " ('pe4x',\n",
            "  '````````````````2```````n````f`````````2```````````````````````````````````'),\n",
            " ('cdmn',\n",
            "  '`````````````````4````e``````````n`````````````````````````````````````````'),\n",
            " ('5mff',\n",
            "  '````````````````x`````````g```````````````x````````````````````````````````')]\n",
            "EPOCH:56, train_loss=0.8062667846679688, valid_loss=0.7380469441413879\n"
          ],
          "name": "stdout"
        },
        {
          "output_type": "stream",
          "text": [
            "100%|██████████| 117/117 [00:02<00:00, 49.84it/s]\n",
            "100%|██████████| 13/13 [00:00<00:00, 38.83it/s]\n",
            "  0%|          | 0/117 [00:00<?, ?it/s]"
          ],
          "name": "stderr"
        },
        {
          "output_type": "stream",
          "text": [
            "[('gc27',\n",
            "  '``````````````````````````````66```````````3```````````````````````````````'),\n",
            " ('pe4x',\n",
            "  '````````````````2```````n````f`````````2```````````````````````````````````'),\n",
            " ('cdmn',\n",
            "  '`````````````````4````e``````````n`````````````````````````````````````````'),\n",
            " ('5mff',\n",
            "  '````````````````x`````````g```````````````x````````````````````````````````')]\n",
            "EPOCH:57, train_loss=0.770309329032898, valid_loss=0.6611044406890869\n"
          ],
          "name": "stdout"
        },
        {
          "output_type": "stream",
          "text": [
            "100%|██████████| 117/117 [00:02<00:00, 50.47it/s]\n",
            "100%|██████████| 13/13 [00:00<00:00, 38.49it/s]\n",
            "  0%|          | 0/117 [00:00<?, ?it/s]"
          ],
          "name": "stderr"
        },
        {
          "output_type": "stream",
          "text": [
            "[('gc27',\n",
            "  '``````````````````````````````66```````````3```````````````````````````````'),\n",
            " ('pe4x',\n",
            "  '````````````````2```````n````f`````````2```````````````````````````````````'),\n",
            " ('cdmn',\n",
            "  '`````````````````4```ee``````````n``````````d``````````````````````````````'),\n",
            " ('5mff',\n",
            "  '````````````````x`````````g```````````````x````````````````````````````````')]\n",
            "EPOCH:58, train_loss=0.7332639098167419, valid_loss=0.8064177632331848\n"
          ],
          "name": "stdout"
        },
        {
          "output_type": "stream",
          "text": [
            "100%|██████████| 117/117 [00:02<00:00, 50.73it/s]\n",
            "100%|██████████| 13/13 [00:00<00:00, 37.70it/s]\n",
            "  0%|          | 0/117 [00:00<?, ?it/s]"
          ],
          "name": "stderr"
        },
        {
          "output_type": "stream",
          "text": [
            "[('gc27',\n",
            "  '``````````````````````````````66```````````3```````````````````````````````'),\n",
            " ('pe4x',\n",
            "  '````````````````2````````````f`````````2```````````````````````````````````'),\n",
            " ('cdmn',\n",
            "  '`````````````````4````e``````````n`````````````````````````````````````````'),\n",
            " ('5mff',\n",
            "  '````````````````x`````````g```````````````x````````````````````````````````')]\n",
            "EPOCH:59, train_loss=0.6793522834777832, valid_loss=0.6130309104919434\n"
          ],
          "name": "stdout"
        },
        {
          "output_type": "stream",
          "text": [
            "100%|██████████| 117/117 [00:02<00:00, 50.64it/s]\n",
            "100%|██████████| 13/13 [00:00<00:00, 39.31it/s]\n",
            "  0%|          | 0/117 [00:00<?, ?it/s]"
          ],
          "name": "stderr"
        },
        {
          "output_type": "stream",
          "text": [
            "[('gc27',\n",
            "  '``````````````````````````````6````````````3```````````````````````````````'),\n",
            " ('pe4x',\n",
            "  '````````````````2```````n````f`````````2```````````````````````````````````'),\n",
            " ('cdmn',\n",
            "  '`````````````````4````e``````````n```````7``d``````````````````````````````'),\n",
            " ('5mff',\n",
            "  '````````````````x`````````g```````````````x````````````````````````````````')]\n",
            "EPOCH:60, train_loss=0.630101203918457, valid_loss=0.6612574458122253\n"
          ],
          "name": "stdout"
        },
        {
          "output_type": "stream",
          "text": [
            "100%|██████████| 117/117 [00:02<00:00, 50.85it/s]\n",
            "100%|██████████| 13/13 [00:00<00:00, 38.83it/s]\n",
            "  0%|          | 0/117 [00:00<?, ?it/s]"
          ],
          "name": "stderr"
        },
        {
          "output_type": "stream",
          "text": [
            "[('gc27',\n",
            "  '``````````````````````````````66```````````8```````````````````````````````'),\n",
            " ('pe4x',\n",
            "  '````````````````2```````n````f`````````2```````````````````````````````````'),\n",
            " ('cdmn',\n",
            "  '`````````````````4````e``````````n`````````````````````````````````````````'),\n",
            " ('5mff',\n",
            "  '````````````````x`````````g```````````````x````````````````````````````````')]\n",
            "EPOCH:61, train_loss=0.59366375207901, valid_loss=0.5067625045776367\n"
          ],
          "name": "stdout"
        },
        {
          "output_type": "stream",
          "text": [
            "100%|██████████| 117/117 [00:02<00:00, 50.65it/s]\n",
            "100%|██████████| 13/13 [00:00<00:00, 39.38it/s]\n",
            "  0%|          | 0/117 [00:00<?, ?it/s]"
          ],
          "name": "stderr"
        },
        {
          "output_type": "stream",
          "text": [
            "[('gc27',\n",
            "  '``````````````````````c```````66```````````3```````````````````````````````'),\n",
            " ('pe4x',\n",
            "  '````````````````2```````n````f`````````2```6```````````````````````````````'),\n",
            " ('cdmn',\n",
            "  '`````````````````4````e``````````n```````7``d``````````````````````````````'),\n",
            " ('5mff',\n",
            "  '````````````````x`````````g```````````````x````````````````````````````````')]\n",
            "EPOCH:62, train_loss=0.5694299340248108, valid_loss=0.6642388105392456\n"
          ],
          "name": "stdout"
        },
        {
          "output_type": "stream",
          "text": [
            "100%|██████████| 117/117 [00:02<00:00, 50.83it/s]\n",
            "100%|██████████| 13/13 [00:00<00:00, 38.62it/s]\n",
            "  0%|          | 0/117 [00:00<?, ?it/s]"
          ],
          "name": "stderr"
        },
        {
          "output_type": "stream",
          "text": [
            "[('gc27',\n",
            "  '``````````````````````````````66```````````8```````````````````````````````'),\n",
            " ('pe4x',\n",
            "  '````````````````2```````n````f`````````2```````````````````````````````````'),\n",
            " ('cdmn',\n",
            "  '`````````````````4````e``````````n```````7`````````````````````````````````'),\n",
            " ('5mff',\n",
            "  '````````````````x`````````g```````````````x````````````````````````````````')]\n",
            "EPOCH:63, train_loss=0.5333716869354248, valid_loss=0.5146322250366211\n"
          ],
          "name": "stdout"
        },
        {
          "output_type": "stream",
          "text": [
            "100%|██████████| 117/117 [00:02<00:00, 50.75it/s]\n",
            "100%|██████████| 13/13 [00:00<00:00, 37.10it/s]\n",
            "  0%|          | 0/117 [00:00<?, ?it/s]"
          ],
          "name": "stderr"
        },
        {
          "output_type": "stream",
          "text": [
            "[('gc27',\n",
            "  '``````````````````````````````6````````````8```````````````````````````````'),\n",
            " ('pe4x',\n",
            "  '````````````````2````````````f`````````2```````````````````````````````````'),\n",
            " ('cdmn',\n",
            "  '`````````````````4````e``````````n`````````````````````````````````````````'),\n",
            " ('5mff',\n",
            "  '````````````````x`````````g```````````````x````````````````````````````````')]\n",
            "EPOCH:64, train_loss=0.47955086827278137, valid_loss=0.5150200724601746\n"
          ],
          "name": "stdout"
        },
        {
          "output_type": "stream",
          "text": [
            "100%|██████████| 117/117 [00:02<00:00, 49.95it/s]\n",
            "100%|██████████| 13/13 [00:00<00:00, 36.95it/s]\n",
            "  0%|          | 0/117 [00:00<?, ?it/s]"
          ],
          "name": "stderr"
        },
        {
          "output_type": "stream",
          "text": [
            "[('gc27',\n",
            "  '``````````````````````c```````66```````````3```````````````````````````````'),\n",
            " ('pe4x',\n",
            "  '````````````````2```````n````f`````````2```6```````````````````````````````'),\n",
            " ('cdmn',\n",
            "  '`````````````````4```ee``````````n```````7`````````````````````````````````'),\n",
            " ('5mff',\n",
            "  '````````````````xx````````g````c``````````x````````````````````````````````')]\n",
            "EPOCH:65, train_loss=0.4772196412086487, valid_loss=0.47115975618362427\n"
          ],
          "name": "stdout"
        },
        {
          "output_type": "stream",
          "text": [
            "100%|██████████| 117/117 [00:02<00:00, 50.06it/s]\n",
            "100%|██████████| 13/13 [00:00<00:00, 39.49it/s]\n",
            "  0%|          | 0/117 [00:00<?, ?it/s]"
          ],
          "name": "stderr"
        },
        {
          "output_type": "stream",
          "text": [
            "[('gc27',\n",
            "  '``````````````````````c```````6````````````8```````````````````````````````'),\n",
            " ('pe4x',\n",
            "  '````````````````2```````n````f`````````2```````````````````````````````````'),\n",
            " ('cdmn',\n",
            "  '`````````````````4```ee``````````n```````7`````````````````````````````````'),\n",
            " ('5mff',\n",
            "  '````````````````xx````````g```````````````x````````````````````````````````')]\n",
            "EPOCH:66, train_loss=0.46403491497039795, valid_loss=0.44827693700790405\n"
          ],
          "name": "stdout"
        },
        {
          "output_type": "stream",
          "text": [
            "100%|██████████| 117/117 [00:02<00:00, 50.85it/s]\n",
            "100%|██████████| 13/13 [00:00<00:00, 36.67it/s]\n",
            "  0%|          | 0/117 [00:00<?, ?it/s]"
          ],
          "name": "stderr"
        },
        {
          "output_type": "stream",
          "text": [
            "[('gc27',\n",
            "  '``````````````````````````````66```````````8```````````````````````````````'),\n",
            " ('pe4x',\n",
            "  '````````````````2````````````f`````````2```````````````````````````````````'),\n",
            " ('cdmn',\n",
            "  '`````````````````4```ee``````````n`````````````````````````````````````````'),\n",
            " ('5mff',\n",
            "  '````````````````cx````````g```````````````x````````````````````````````````')]\n",
            "EPOCH:67, train_loss=0.44264480471611023, valid_loss=0.4936351478099823\n"
          ],
          "name": "stdout"
        },
        {
          "output_type": "stream",
          "text": [
            "100%|██████████| 117/117 [00:02<00:00, 50.62it/s]\n",
            "100%|██████████| 13/13 [00:00<00:00, 39.86it/s]\n",
            "  0%|          | 0/117 [00:00<?, ?it/s]"
          ],
          "name": "stderr"
        },
        {
          "output_type": "stream",
          "text": [
            "[('gc27',\n",
            "  '``````````````````````c```````66```````````8```````````````````````````````'),\n",
            " ('pe4x',\n",
            "  '````````````````22``````n````f`````````2```````````````````````````````````'),\n",
            " ('cdmn',\n",
            "  '`````````````````4```ee``````````n```````7`````````````````````````````````'),\n",
            " ('5mff',\n",
            "  '````````````````xx````````g````c``````````x````````````````````````````````')]\n",
            "EPOCH:68, train_loss=0.4083692729473114, valid_loss=0.45092734694480896\n"
          ],
          "name": "stdout"
        },
        {
          "output_type": "stream",
          "text": [
            "100%|██████████| 117/117 [00:02<00:00, 50.62it/s]\n",
            "100%|██████████| 13/13 [00:00<00:00, 37.99it/s]\n",
            "  0%|          | 0/117 [00:00<?, ?it/s]"
          ],
          "name": "stderr"
        },
        {
          "output_type": "stream",
          "text": [
            "[('gc27',\n",
            "  '``````````````````````c```````66```````````8```````````````````````````````'),\n",
            " ('pe4x',\n",
            "  '````````````````2```````n````f`````````2```````````````````````````````````'),\n",
            " ('cdmn',\n",
            "  '`````````````````4````e``````````n```````7`````````````````````````````````'),\n",
            " ('5mff',\n",
            "  '````````````````xx````````g```````````````x````````````````````````````````')]\n",
            "EPOCH:69, train_loss=0.41678398847579956, valid_loss=0.4551508128643036\n"
          ],
          "name": "stdout"
        },
        {
          "output_type": "stream",
          "text": [
            "100%|██████████| 117/117 [00:02<00:00, 50.61it/s]\n",
            "100%|██████████| 13/13 [00:00<00:00, 34.60it/s]\n",
            "  0%|          | 0/117 [00:00<?, ?it/s]"
          ],
          "name": "stderr"
        },
        {
          "output_type": "stream",
          "text": [
            "[('gc27',\n",
            "  '``````````````````````c```````6````````````8```````````````````````````````'),\n",
            " ('pe4x',\n",
            "  '````````````````2```````n````f`````````2```````````````````````````````````'),\n",
            " ('cdmn',\n",
            "  '`````````````````4```ee``````````n`````````````````````````````````````````'),\n",
            " ('5mff',\n",
            "  '````````````````xx````````g```````````````x````````````````````````````````')]\n",
            "EPOCH:70, train_loss=0.3655134439468384, valid_loss=0.3946106731891632\n"
          ],
          "name": "stdout"
        },
        {
          "output_type": "stream",
          "text": [
            "100%|██████████| 117/117 [00:02<00:00, 49.21it/s]\n",
            "100%|██████████| 13/13 [00:00<00:00, 39.78it/s]\n",
            "  0%|          | 0/117 [00:00<?, ?it/s]"
          ],
          "name": "stderr"
        },
        {
          "output_type": "stream",
          "text": [
            "[('gc27',\n",
            "  '``````````````````````c```````6````````````8```````````````````````````````'),\n",
            " ('pe4x',\n",
            "  '````````````````2```````n````f`````````2```````````````````````````````````'),\n",
            " ('cdmn',\n",
            "  '`````````````````4```ee``````````n```````7`````````````````````````````````'),\n",
            " ('5mff',\n",
            "  '````````````````xx````````g```````````````x````````````````````````````````')]\n",
            "EPOCH:71, train_loss=0.36848366260528564, valid_loss=0.43153640627861023\n"
          ],
          "name": "stdout"
        },
        {
          "output_type": "stream",
          "text": [
            "100%|██████████| 117/117 [00:02<00:00, 50.56it/s]\n",
            "100%|██████████| 13/13 [00:00<00:00, 38.11it/s]\n",
            "  0%|          | 0/117 [00:00<?, ?it/s]"
          ],
          "name": "stderr"
        },
        {
          "output_type": "stream",
          "text": [
            "[('gc27',\n",
            "  '``````````````````````c```````66```````````8```````````````````````````````'),\n",
            " ('pe4x',\n",
            "  '````````````````2````````````f`````````2```6```````````````````````````````'),\n",
            " ('cdmn',\n",
            "  '`````````````````4```ee``````````n```````7`````````````````````````````````'),\n",
            " ('5mff',\n",
            "  '````````````````xx````````g````c``````````x````````````````````````````````')]\n",
            "EPOCH:72, train_loss=0.3627966344356537, valid_loss=0.4324544668197632\n"
          ],
          "name": "stdout"
        },
        {
          "output_type": "stream",
          "text": [
            "100%|██████████| 117/117 [00:02<00:00, 50.77it/s]\n",
            "100%|██████████| 13/13 [00:00<00:00, 38.54it/s]\n",
            "  0%|          | 0/117 [00:00<?, ?it/s]"
          ],
          "name": "stderr"
        },
        {
          "output_type": "stream",
          "text": [
            "[('gc27',\n",
            "  '``````````````````````c```````6````````````8```````````````````````````````'),\n",
            " ('pe4x',\n",
            "  '````````````````2```````n````f`````````2```````````````````````````````````'),\n",
            " ('cdmn',\n",
            "  '`````````````````4```ee``````````n```````7`````````````````````````````````'),\n",
            " ('5mff',\n",
            "  '````````````````xx````````g```````````````x````````````````````````````````')]\n",
            "EPOCH:73, train_loss=0.35021811723709106, valid_loss=0.3883439302444458\n"
          ],
          "name": "stdout"
        },
        {
          "output_type": "stream",
          "text": [
            "100%|██████████| 117/117 [00:02<00:00, 50.58it/s]\n",
            "100%|██████████| 13/13 [00:00<00:00, 39.08it/s]\n",
            "  0%|          | 0/117 [00:00<?, ?it/s]"
          ],
          "name": "stderr"
        },
        {
          "output_type": "stream",
          "text": [
            "[('gc27',\n",
            "  '``````````````````````````````6````````````8```````````````````````````````'),\n",
            " ('pe4x',\n",
            "  '````````````````2````````````f`````````2```````````````````````````````````'),\n",
            " ('cdmn',\n",
            "  '`````````````````4```````````````n```````7`````````````````````````````````'),\n",
            " ('5mff',\n",
            "  '````````````````xx````````g```````````````x````````````````````````````````')]\n",
            "EPOCH:74, train_loss=0.31181907653808594, valid_loss=0.6515892148017883\n"
          ],
          "name": "stdout"
        },
        {
          "output_type": "stream",
          "text": [
            "100%|██████████| 117/117 [00:02<00:00, 50.92it/s]\n",
            "100%|██████████| 13/13 [00:00<00:00, 38.83it/s]\n",
            "  0%|          | 0/117 [00:00<?, ?it/s]"
          ],
          "name": "stderr"
        },
        {
          "output_type": "stream",
          "text": [
            "[('gc27',\n",
            "  '``````````````````````c```````6````````````8```````````````````````````````'),\n",
            " ('pe4x',\n",
            "  '````````````````2```````n````f`````````2```````````````````````````````````'),\n",
            " ('cdmn',\n",
            "  '`````````````````4```ec``````````n```````7`````````````````````````````````'),\n",
            " ('5mff',\n",
            "  '````````````````xx````````g```````````````x````````````````````````````````')]\n",
            "EPOCH:75, train_loss=0.32469308376312256, valid_loss=0.35640379786491394\n"
          ],
          "name": "stdout"
        },
        {
          "output_type": "stream",
          "text": [
            "100%|██████████| 117/117 [00:02<00:00, 50.29it/s]\n",
            "100%|██████████| 13/13 [00:00<00:00, 39.77it/s]\n",
            "  0%|          | 0/117 [00:00<?, ?it/s]"
          ],
          "name": "stderr"
        },
        {
          "output_type": "stream",
          "text": [
            "[('gc27',\n",
            "  '``````````````````````c```````6````````````8```````````````````````````````'),\n",
            " ('pe4x',\n",
            "  '````````````````2```````n````f`````````2```````````````````````````````````'),\n",
            " ('cdmn',\n",
            "  '`````````````````4```ee``````````n```````7`````````````````````````````````'),\n",
            " ('5mff',\n",
            "  '````````````````xx````````g```````````````x````````````````````````````````')]\n",
            "EPOCH:76, train_loss=0.28887882828712463, valid_loss=0.41538137197494507\n"
          ],
          "name": "stdout"
        },
        {
          "output_type": "stream",
          "text": [
            "100%|██████████| 117/117 [00:02<00:00, 49.16it/s]\n",
            "100%|██████████| 13/13 [00:00<00:00, 37.83it/s]\n",
            "  0%|          | 0/117 [00:00<?, ?it/s]"
          ],
          "name": "stderr"
        },
        {
          "output_type": "stream",
          "text": [
            "[('gc27',\n",
            "  '``````````````````````c```````66```````````8```````````````````````````````'),\n",
            " ('pe4x',\n",
            "  '````````````````2```````n````f`````````2```6```````````````````````````````'),\n",
            " ('cdmn',\n",
            "  '`````````````````4```ee``````````n```````7``d``````````````````````````````'),\n",
            " ('5mff',\n",
            "  '````````````````xx````````g```````````````x````````````````````````````````')]\n",
            "EPOCH:77, train_loss=0.3062651753425598, valid_loss=0.4129642844200134\n"
          ],
          "name": "stdout"
        },
        {
          "output_type": "stream",
          "text": [
            "100%|██████████| 117/117 [00:02<00:00, 50.69it/s]\n",
            "100%|██████████| 13/13 [00:00<00:00, 39.02it/s]\n",
            "  0%|          | 0/117 [00:00<?, ?it/s]"
          ],
          "name": "stderr"
        },
        {
          "output_type": "stream",
          "text": [
            "[('gc27',\n",
            "  '````````````````x`````c```````66```````````8```````````````````````````````'),\n",
            " ('pe4x',\n",
            "  '````````````````2```````n````f`````````2```````````````````````````````````'),\n",
            " ('cdmn',\n",
            "  '`````````````````4```ee``````````n```````7`````````````````````````````````'),\n",
            " ('5mff',\n",
            "  '````````````````xx````````g```````````````x````````````````````````````````')]\n",
            "EPOCH:78, train_loss=0.3068808615207672, valid_loss=0.4171909987926483\n"
          ],
          "name": "stdout"
        },
        {
          "output_type": "stream",
          "text": [
            "100%|██████████| 117/117 [00:02<00:00, 50.76it/s]\n",
            "100%|██████████| 13/13 [00:00<00:00, 38.29it/s]\n",
            "  0%|          | 0/117 [00:00<?, ?it/s]"
          ],
          "name": "stderr"
        },
        {
          "output_type": "stream",
          "text": [
            "[('gc27',\n",
            "  '````````````````x`````c```````66```````````8```````````````````````````````'),\n",
            " ('pe4x',\n",
            "  '````````````````2```````n````f`````````2```````````````````````````````````'),\n",
            " ('cdmn',\n",
            "  '`````````````````4```ee``````````n```````7`````````````````````````````````'),\n",
            " ('5mff',\n",
            "  '````````````````xx````````g```````````````x````````````````````````````````')]\n",
            "EPOCH:79, train_loss=0.2806454002857208, valid_loss=0.3978014588356018\n"
          ],
          "name": "stdout"
        },
        {
          "output_type": "stream",
          "text": [
            "100%|██████████| 117/117 [00:02<00:00, 50.53it/s]\n",
            "100%|██████████| 13/13 [00:00<00:00, 37.92it/s]\n",
            "  0%|          | 0/117 [00:00<?, ?it/s]"
          ],
          "name": "stderr"
        },
        {
          "output_type": "stream",
          "text": [
            "[('gc27',\n",
            "  '``````````````````````c```````66```````````8```````````````````````````````'),\n",
            " ('pe4x',\n",
            "  '````````````````2```````n````f`````````2```````````````````````````````````'),\n",
            " ('cdmn',\n",
            "  '`````````````````4```ee``````````n```````7`````````````````````````````````'),\n",
            " ('5mff',\n",
            "  '````````````````xx````````g```````````````x````````````````````````````````')]\n",
            "EPOCH:80, train_loss=0.26388102769851685, valid_loss=0.38413792848587036\n"
          ],
          "name": "stdout"
        },
        {
          "output_type": "stream",
          "text": [
            "100%|██████████| 117/117 [00:02<00:00, 50.68it/s]\n",
            "100%|██████████| 13/13 [00:00<00:00, 39.37it/s]\n",
            "  0%|          | 0/117 [00:00<?, ?it/s]"
          ],
          "name": "stderr"
        },
        {
          "output_type": "stream",
          "text": [
            "[('gc27',\n",
            "  '``````````````````````c```````66```````````8```````````````````````````````'),\n",
            " ('pe4x',\n",
            "  '````````````````2```````n````f`````````2```````````````````````````````````'),\n",
            " ('cdmn',\n",
            "  '`````````````````4```ee``````````n```````7`````````````````````````````````'),\n",
            " ('5mff',\n",
            "  '````````````````xx````````g```````````````x````````````````````````````````')]\n",
            "EPOCH:81, train_loss=0.2593964636325836, valid_loss=0.4183964133262634\n"
          ],
          "name": "stdout"
        },
        {
          "output_type": "stream",
          "text": [
            "100%|██████████| 117/117 [00:02<00:00, 50.49it/s]\n",
            "100%|██████████| 13/13 [00:00<00:00, 38.33it/s]\n",
            "  0%|          | 0/117 [00:00<?, ?it/s]"
          ],
          "name": "stderr"
        },
        {
          "output_type": "stream",
          "text": [
            "[('gc27',\n",
            "  '````````````````x`````c```````66```````````8```````````````````````````````'),\n",
            " ('pe4x',\n",
            "  '````````````````2```````m````f`````````2```````````````````````````````````'),\n",
            " ('cdmn',\n",
            "  '`````````````````4```ee``````````n```````7`````````````````````````````````'),\n",
            " ('5mff',\n",
            "  '````````````````xx````````g```````````````x````````````````````````````````')]\n",
            "EPOCH:82, train_loss=0.24800744652748108, valid_loss=0.3577536940574646\n"
          ],
          "name": "stdout"
        },
        {
          "output_type": "stream",
          "text": [
            "100%|██████████| 117/117 [00:02<00:00, 50.39it/s]\n",
            "100%|██████████| 13/13 [00:00<00:00, 37.99it/s]\n",
            "  0%|          | 0/117 [00:00<?, ?it/s]"
          ],
          "name": "stderr"
        },
        {
          "output_type": "stream",
          "text": [
            "[('gc27',\n",
            "  '``````````````````````c```````66```````````8```````````````````````````````'),\n",
            " ('pe4x',\n",
            "  '````````````````2```````n````f`````````2```````````````````````````````````'),\n",
            " ('cdmn',\n",
            "  '`````````````````4```ec``````````n```````7`````````````````````````````````'),\n",
            " ('5mff',\n",
            "  '````````````````xx````````g```````````````x````````````````````````````````')]\n",
            "EPOCH:83, train_loss=0.2380218356847763, valid_loss=0.3759763836860657\n"
          ],
          "name": "stdout"
        },
        {
          "output_type": "stream",
          "text": [
            "100%|██████████| 117/117 [00:02<00:00, 50.20it/s]\n",
            "100%|██████████| 13/13 [00:00<00:00, 36.79it/s]\n",
            "  0%|          | 0/117 [00:00<?, ?it/s]"
          ],
          "name": "stderr"
        },
        {
          "output_type": "stream",
          "text": [
            "[('gc27',\n",
            "  '````````````````x`````c```````66```````````8```````````````````````````````'),\n",
            " ('pe4x',\n",
            "  '````````````````22``````n````f`````````2```````````````````````````````````'),\n",
            " ('cdmn',\n",
            "  '`````````````````4```ee``````````n``````77`````````````````````````````````'),\n",
            " ('5mff',\n",
            "  '````````````````xx````````g```````````````x````````````````````````````````')]\n",
            "EPOCH:84, train_loss=0.22894464433193207, valid_loss=0.41362178325653076\n"
          ],
          "name": "stdout"
        },
        {
          "output_type": "stream",
          "text": [
            "100%|██████████| 117/117 [00:02<00:00, 50.59it/s]\n",
            "100%|██████████| 13/13 [00:00<00:00, 37.09it/s]\n",
            "  0%|          | 0/117 [00:00<?, ?it/s]"
          ],
          "name": "stderr"
        },
        {
          "output_type": "stream",
          "text": [
            "[('gc27',\n",
            "  '````````````````x`````c```````6````````````8```````````````````````````````'),\n",
            " ('pe4x',\n",
            "  '````````````````2```````n````f`````````2```````````````````````````````````'),\n",
            " ('cdmn',\n",
            "  '`````````````````4```ec``````````n``````77`````````````````````````````````'),\n",
            " ('5mff',\n",
            "  '````````````````xx````````g```````````````x````````````````````````````````')]\n",
            "EPOCH:85, train_loss=0.26990020275115967, valid_loss=0.37103211879730225\n"
          ],
          "name": "stdout"
        },
        {
          "output_type": "stream",
          "text": [
            "100%|██████████| 117/117 [00:02<00:00, 50.33it/s]\n",
            "100%|██████████| 13/13 [00:00<00:00, 38.48it/s]\n",
            "  0%|          | 0/117 [00:00<?, ?it/s]"
          ],
          "name": "stderr"
        },
        {
          "output_type": "stream",
          "text": [
            "[('gc27',\n",
            "  '``````````````````````c```````66```````````8```````````````````````````````'),\n",
            " ('pe4x',\n",
            "  '````````````````2```````n````f`````````2```6```````````````````````````````'),\n",
            " ('cdmn',\n",
            "  '`````````````````4```ee``````````n```````7`````````````````````````````````'),\n",
            " ('5mff',\n",
            "  '````````````````xx````````g```````````````x````````````````````````````````')]\n",
            "EPOCH:86, train_loss=0.22131532430648804, valid_loss=0.36372479796409607\n"
          ],
          "name": "stdout"
        },
        {
          "output_type": "stream",
          "text": [
            "100%|██████████| 117/117 [00:02<00:00, 50.50it/s]\n",
            "100%|██████████| 13/13 [00:00<00:00, 38.30it/s]\n",
            "  0%|          | 0/117 [00:00<?, ?it/s]"
          ],
          "name": "stderr"
        },
        {
          "output_type": "stream",
          "text": [
            "[('gc27',\n",
            "  '``````````````````````c```````66```````````8```````````````````````````````'),\n",
            " ('pe4x',\n",
            "  '````````````````2```````n````f`````````2```````````````````````````````````'),\n",
            " ('cdmn',\n",
            "  '`````````````````4```ee``````````n```````7`````````````````````````````````'),\n",
            " ('5mff',\n",
            "  '````````````````xx````````g```````````````x````````````````````````````````')]\n",
            "EPOCH:87, train_loss=0.22001014649868011, valid_loss=0.31543615460395813\n"
          ],
          "name": "stdout"
        },
        {
          "output_type": "stream",
          "text": [
            "100%|██████████| 117/117 [00:02<00:00, 50.46it/s]\n",
            "100%|██████████| 13/13 [00:00<00:00, 38.02it/s]\n",
            "  0%|          | 0/117 [00:00<?, ?it/s]"
          ],
          "name": "stderr"
        },
        {
          "output_type": "stream",
          "text": [
            "[('gc27',\n",
            "  '``````````````````````c```````6````````````8```````````````````````````````'),\n",
            " ('pe4x',\n",
            "  '````````````````2```````n````f`````````2```````````````````````````````````'),\n",
            " ('cdmn',\n",
            "  '`````````````````4```ee``````````n```````7`````````````````````````````````'),\n",
            " ('5mff',\n",
            "  '````````````````xx````````g```````````````x````````````````````````````````')]\n",
            "EPOCH:88, train_loss=0.22044415771961212, valid_loss=0.3637893497943878\n"
          ],
          "name": "stdout"
        },
        {
          "output_type": "stream",
          "text": [
            "100%|██████████| 117/117 [00:02<00:00, 49.32it/s]\n",
            "100%|██████████| 13/13 [00:00<00:00, 38.77it/s]\n",
            "  0%|          | 0/117 [00:00<?, ?it/s]"
          ],
          "name": "stderr"
        },
        {
          "output_type": "stream",
          "text": [
            "[('gc27',\n",
            "  '````````````````x`````c```````66```````````8```````````````````````````````'),\n",
            " ('pe4x',\n",
            "  '````````````````22``````n````f`````````2```6```````````````````````````````'),\n",
            " ('cdmn',\n",
            "  '`````````````````4```ee``````````n```````7`````````````````````````````````'),\n",
            " ('5mff',\n",
            "  '````````````````xx````````g```````````````x````````````````````````````````')]\n",
            "EPOCH:89, train_loss=0.22086039185523987, valid_loss=0.41547226905822754\n"
          ],
          "name": "stdout"
        },
        {
          "output_type": "stream",
          "text": [
            "100%|██████████| 117/117 [00:02<00:00, 50.14it/s]\n",
            "100%|██████████| 13/13 [00:00<00:00, 39.55it/s]\n",
            "  0%|          | 0/117 [00:00<?, ?it/s]"
          ],
          "name": "stderr"
        },
        {
          "output_type": "stream",
          "text": [
            "[('gc27',\n",
            "  '````````````````x`````c```````66```````````8```````````````````````````````'),\n",
            " ('pe4x',\n",
            "  '````````````````22``````n````f`````````2```6```````````````````````````````'),\n",
            " ('cdmn',\n",
            "  '`````````````````4```ee``````````n```````7`````````````````````````````````'),\n",
            " ('5mff',\n",
            "  '````````````````xx````````g```````````````x````````````````````````````````')]\n",
            "EPOCH:90, train_loss=0.21424749493598938, valid_loss=0.48197847604751587\n"
          ],
          "name": "stdout"
        },
        {
          "output_type": "stream",
          "text": [
            "100%|██████████| 117/117 [00:02<00:00, 50.78it/s]\n",
            "100%|██████████| 13/13 [00:00<00:00, 39.14it/s]\n",
            "  0%|          | 0/117 [00:00<?, ?it/s]"
          ],
          "name": "stderr"
        },
        {
          "output_type": "stream",
          "text": [
            "[('gc27',\n",
            "  '````````````````x`````c```````66```````````8```````````````````````````````'),\n",
            " ('pe4x',\n",
            "  '````````````````2```````n````f`````````2```````````````````````````````````'),\n",
            " ('cdmn',\n",
            "  '`````````````````4```ee``````````n```````7`````````````````````````````````'),\n",
            " ('5mff',\n",
            "  '````````````````xx````````g```````````````x````````````````````````````````')]\n",
            "EPOCH:91, train_loss=0.1974186897277832, valid_loss=0.3916831910610199\n"
          ],
          "name": "stdout"
        },
        {
          "output_type": "stream",
          "text": [
            "100%|██████████| 117/117 [00:02<00:00, 50.63it/s]\n",
            "100%|██████████| 13/13 [00:00<00:00, 38.24it/s]\n",
            "  0%|          | 0/117 [00:00<?, ?it/s]"
          ],
          "name": "stderr"
        },
        {
          "output_type": "stream",
          "text": [
            "[('gc27',\n",
            "  '````````````````x`````c```````66```````````8```````````````````````````````'),\n",
            " ('pe4x',\n",
            "  '````````````````2```````n````f`````````2```````````````````````````````````'),\n",
            " ('cdmn',\n",
            "  '`````````````````4```ee``````````n```````7`````````````````````````````````'),\n",
            " ('5mff',\n",
            "  '````````````````xx````````g```````````````x````````````````````````````````')]\n",
            "EPOCH:92, train_loss=0.18806253373622894, valid_loss=0.3819413185119629\n"
          ],
          "name": "stdout"
        },
        {
          "output_type": "stream",
          "text": [
            "100%|██████████| 117/117 [00:02<00:00, 49.69it/s]\n",
            "100%|██████████| 13/13 [00:00<00:00, 38.75it/s]\n",
            "  0%|          | 0/117 [00:00<?, ?it/s]"
          ],
          "name": "stderr"
        },
        {
          "output_type": "stream",
          "text": [
            "[('gc27',\n",
            "  '``````````````````````c```````6````````````8```````````````````````````````'),\n",
            " ('pe4x',\n",
            "  '````````````````2````````````f`````````2```````````````````````````````````'),\n",
            " ('cdmn',\n",
            "  '`````````````````4```e```````````n```````7`````````````````````````````````'),\n",
            " ('5mff',\n",
            "  '````````````````xx````````g```````````````x````````````````````````````````')]\n",
            "EPOCH:93, train_loss=0.1920952945947647, valid_loss=0.43951642513275146\n"
          ],
          "name": "stdout"
        },
        {
          "output_type": "stream",
          "text": [
            "100%|██████████| 117/117 [00:02<00:00, 50.68it/s]\n",
            "100%|██████████| 13/13 [00:00<00:00, 39.02it/s]\n",
            "  0%|          | 0/117 [00:00<?, ?it/s]"
          ],
          "name": "stderr"
        },
        {
          "output_type": "stream",
          "text": [
            "[('gc27',\n",
            "  '````````````````x`````c```````66```````````8```````````````````````````````'),\n",
            " ('pe4x',\n",
            "  '````````````````2```````n````f`````````2```````````````````````````````````'),\n",
            " ('cdmn',\n",
            "  '`````````````````4```ee``````````n```````7`````````````````````````````````'),\n",
            " ('5mff',\n",
            "  '````````````````xx````````g```````````````x````````````````````````````````')]\n",
            "EPOCH:94, train_loss=0.18009920418262482, valid_loss=0.4309747815132141\n"
          ],
          "name": "stdout"
        },
        {
          "output_type": "stream",
          "text": [
            "100%|██████████| 117/117 [00:02<00:00, 50.72it/s]\n",
            "100%|██████████| 13/13 [00:00<00:00, 37.98it/s]\n",
            "  0%|          | 0/117 [00:00<?, ?it/s]"
          ],
          "name": "stderr"
        },
        {
          "output_type": "stream",
          "text": [
            "[('gc27',\n",
            "  '````````````````x`````c```````66```````````8```````````````````````````````'),\n",
            " ('pe4x',\n",
            "  '````````````````2```````n````f`````````2```````````````````````````````````'),\n",
            " ('cdmn',\n",
            "  '`````````````````4```ee``````````n```````7`````````````````````````````````'),\n",
            " ('5mff',\n",
            "  '````````````````xx````````g```````````````x````````````````````````````````')]\n",
            "EPOCH:95, train_loss=0.19819024205207825, valid_loss=0.41334331035614014\n"
          ],
          "name": "stdout"
        },
        {
          "output_type": "stream",
          "text": [
            "100%|██████████| 117/117 [00:02<00:00, 50.25it/s]\n",
            "100%|██████████| 13/13 [00:00<00:00, 38.20it/s]\n",
            "  0%|          | 0/117 [00:00<?, ?it/s]"
          ],
          "name": "stderr"
        },
        {
          "output_type": "stream",
          "text": [
            "[('gc27',\n",
            "  '````````````````x`````c```````6````````````8```````````````````````````````'),\n",
            " ('pe4x',\n",
            "  '````````````````2```````n````f`````````2```````````````````````````````````'),\n",
            " ('cdmn',\n",
            "  '`````````````````4```ee``````````n```````7`````````````````````````````````'),\n",
            " ('5mff',\n",
            "  '````````````````xx````````g```````````````x````````````````````````````````')]\n",
            "EPOCH:96, train_loss=0.170089989900589, valid_loss=0.4275456666946411\n"
          ],
          "name": "stdout"
        },
        {
          "output_type": "stream",
          "text": [
            "100%|██████████| 117/117 [00:02<00:00, 50.56it/s]\n",
            "100%|██████████| 13/13 [00:00<00:00, 39.09it/s]\n",
            "  0%|          | 0/117 [00:00<?, ?it/s]"
          ],
          "name": "stderr"
        },
        {
          "output_type": "stream",
          "text": [
            "[('gc27',\n",
            "  '``````````````````````c```````6````````````8```````````````````````````````'),\n",
            " ('pe4x',\n",
            "  '````````````````2```````n````f`````````2```````````````````````````````````'),\n",
            " ('cdmn',\n",
            "  '`````````````````4```ee``````````n```````7`````````````````````````````````'),\n",
            " ('5mff',\n",
            "  '````````````````xx````````g```````````````x````````````````````````````````')]\n",
            "EPOCH:97, train_loss=0.16403265297412872, valid_loss=0.431247740983963\n"
          ],
          "name": "stdout"
        },
        {
          "output_type": "stream",
          "text": [
            "100%|██████████| 117/117 [00:02<00:00, 50.39it/s]\n",
            "100%|██████████| 13/13 [00:00<00:00, 38.51it/s]\n",
            "  0%|          | 0/117 [00:00<?, ?it/s]"
          ],
          "name": "stderr"
        },
        {
          "output_type": "stream",
          "text": [
            "[('gc27',\n",
            "  '````````````````x`````c```````66```````````8```````````````````````````````'),\n",
            " ('pe4x',\n",
            "  '````````````````22``````n````f`````````2```````````````````````````````````'),\n",
            " ('cdmn',\n",
            "  '`````````````````4```ee``````````n```````7`````````````````````````````````'),\n",
            " ('5mff',\n",
            "  '````````````````xx````````g```````````````x````````````````````````````````')]\n",
            "EPOCH:98, train_loss=0.19978314638137817, valid_loss=0.3776453733444214\n"
          ],
          "name": "stdout"
        },
        {
          "output_type": "stream",
          "text": [
            "100%|██████████| 117/117 [00:02<00:00, 50.75it/s]\n",
            "100%|██████████| 13/13 [00:00<00:00, 39.64it/s]"
          ],
          "name": "stderr"
        },
        {
          "output_type": "stream",
          "text": [
            "[('gc27',\n",
            "  '````````````````x`````c```````66```````````8```````````````````````````````'),\n",
            " ('pe4x',\n",
            "  '````````````````2```````n````f`````````2```````````````````````````````````'),\n",
            " ('cdmn',\n",
            "  '`````````````````4```ee``````````n```````7`````````````````````````````````'),\n",
            " ('5mff',\n",
            "  '````````````````xx````````g```````````````x````````````````````````````````')]\n",
            "EPOCH:99, train_loss=0.16283512115478516, valid_loss=0.3891858160495758\n"
          ],
          "name": "stdout"
        },
        {
          "output_type": "stream",
          "text": [
            "\n"
          ],
          "name": "stderr"
        }
      ]
    },
    {
      "cell_type": "markdown",
      "metadata": {
        "id": "w0OFDe0C9EHg",
        "colab_type": "text"
      },
      "source": [
        "### view.py"
      ]
    },
    {
      "cell_type": "code",
      "metadata": {
        "id": "T_eN_o4x1GZt",
        "colab_type": "code",
        "colab": {}
      },
      "source": [
        "import os\n",
        "import glob\n",
        "import torch\n",
        "import numpy as np\n",
        "\n",
        "from sklearn import preprocessing\n",
        "from sklearn import model_selection\n",
        "from sklearn import metrics\n",
        "import matplotlib.pyplot as plt\n",
        "%matplotlib inline\n",
        "\n",
        "image_files = glob.glob('/content/captcha_images_v2/*.png')\n",
        "targets_orig = [x.split('/')[-1][:4] for x in image_files]  # \"'../../../abcd.png\"\n",
        "targets = [[c for c in x] for x in targets_orig]  # abcd --> [a, b, c, d]\n",
        "targets_flat = [c for clist in targets for c in clist]\n",
        "\n",
        "lbl_enc = preprocessing.LabelEncoder()\n",
        "lbl_enc.fit(targets_flat)\n",
        "targets_enc = [lbl_enc.transform(x) for x in targets]\n",
        "targets_enc = np.array(targets_enc) + 1\n",
        "\n",
        "\n",
        "(train_imgs, test_imgs, train_targets, test_targets, train_orig_targets, test_orig_targets) = \\\n",
        "model_selection.train_test_split(image_files, targets_enc, targets_orig, test_size=0.1, random_state=42)\n",
        "\n",
        "train_dataset = ClassificationDataset(image_paths=train_imgs, targets=train_targets, resize=(IMAGE_HEIGHT, IMAGE_WIDTH))"
      ],
      "execution_count": 11,
      "outputs": []
    },
    {
      "cell_type": "code",
      "metadata": {
        "id": "-O3dzqOW0Dq-",
        "colab_type": "code",
        "colab": {
          "base_uri": "https://localhost:8080/",
          "height": 169
        },
        "outputId": "20d49c22-5be9-4762-ffcf-f005ad15aca5"
      },
      "source": [
        "# train_dataset[0]\n",
        "npimg = train_dataset[200][\"images\"].numpy()\n",
        "# npimg\n",
        "# npimg.shape\n",
        "# np.transpose(npimg, (1,2,0)).shape\n",
        "plt.imshow(np.transpose(npimg, (1,2,0)))"
      ],
      "execution_count": 12,
      "outputs": [
        {
          "output_type": "stream",
          "text": [
            "Clipping input data to the valid range for imshow with RGB data ([0..1] for floats or [0..255] for integers).\n"
          ],
          "name": "stderr"
        },
        {
          "output_type": "execute_result",
          "data": {
            "text/plain": [
              "<matplotlib.image.AxesImage at 0x7fb6d83ae358>"
            ]
          },
          "metadata": {
            "tags": []
          },
          "execution_count": 12
        },
        {
          "output_type": "display_data",
          "data": {
            "image/png": "[encoded data removed]",
            "text/plain": [
              "<Figure size 432x288 with 1 Axes>"
            ]
          },
          "metadata": {
            "tags": [],
            "needs_background": "light"
          }
        }
      ]
    },
    {
      "cell_type": "code",
      "metadata": {
        "id": "i_PPoywPz_kE",
        "colab_type": "code",
        "colab": {}
      },
      "source": [
        ""
      ],
      "execution_count": 12,
      "outputs": []
    },
    {
      "cell_type": "code",
      "metadata": {
        "id": "SUgssNYhz8dU",
        "colab_type": "code",
        "colab": {}
      },
      "source": [
        ""
      ],
      "execution_count": 12,
      "outputs": []
    },
    {
      "cell_type": "code",
      "metadata": {
        "id": "UhIW1Vynz6Ed",
        "colab_type": "code",
        "colab": {}
      },
      "source": [
        ""
      ],
      "execution_count": 12,
      "outputs": []
    },
    {
      "cell_type": "code",
      "metadata": {
        "id": "7-otD3F-YBJL",
        "colab_type": "code",
        "colab": {}
      },
      "source": [
        ""
      ],
      "execution_count": 12,
      "outputs": []
    },
    {
      "cell_type": "code",
      "metadata": {
        "id": "0SOCSzb-W8Ky",
        "colab_type": "code",
        "colab": {}
      },
      "source": [
        ""
      ],
      "execution_count": 12,
      "outputs": []
    }
  ]
}