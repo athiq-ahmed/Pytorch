{
  "nbformat": 4,
  "nbformat_minor": 0,
  "metadata": {
    "colab": {
      "name": "Captcha recognition using PyTorch (Convolutional-RNN + CTC Loss)",
      "provenance": [],
      "collapsed_sections": [],
      "authorship_tag": "ABX9TyP9aPJYiUhr+zgX2HlKbEh+",
      "include_colab_link": true
    },
    "kernelspec": {
      "name": "python3",
      "display_name": "Python 3"
    },
    "accelerator": "GPU"
  },
  "cells": [
    {
      "cell_type": "markdown",
      "metadata": {
        "id": "view-in-github",
        "colab_type": "text"
      },
      "source": [
        "<a href=\"https://colab.research.google.com/github/athiq-ahmed/Pytorch/blob/master/Captcha_recognition_using_PyTorch_(Convolutional_RNN_%2B_CTC_Loss).ipynb\" target=\"_parent\"><img src=\"https://colab.research.google.com/assets/colab-badge.svg\" alt=\"Open In Colab\"/></a>"
      ]
    },
    {
      "cell_type": "code",
      "metadata": {
        "id": "a4l18NVL44Cb",
        "colab_type": "code",
        "colab": {
          "base_uri": "https://localhost:8080/",
          "height": 357
        },
        "outputId": "c0b6f68a-5702-4973-8a17-a4fbbc6af18b"
      },
      "source": [
        "!nvidia-smi"
      ],
      "execution_count": 2,
      "outputs": [
        {
          "output_type": "stream",
          "text": [
            "Sun Sep  6 06:35:50 2020       \n",
            "+-----------------------------------------------------------------------------+\n",
            "| NVIDIA-SMI 450.66       Driver Version: 418.67       CUDA Version: 10.1     |\n",
            "|-------------------------------+----------------------+----------------------+\n",
            "| GPU  Name        Persistence-M| Bus-Id        Disp.A | Volatile Uncorr. ECC |\n",
            "| Fan  Temp  Perf  Pwr:Usage/Cap|         Memory-Usage | GPU-Util  Compute M. |\n",
            "|                               |                      |               MIG M. |\n",
            "|===============================+======================+======================|\n",
            "|   0  Tesla P100-PCIE...  Off  | 00000000:00:04.0 Off |                    0 |\n",
            "| N/A   42C    P0    27W / 250W |      0MiB / 16280MiB |      0%      Default |\n",
            "|                               |                      |                 ERR! |\n",
            "+-------------------------------+----------------------+----------------------+\n",
            "                                                                               \n",
            "+-----------------------------------------------------------------------------+\n",
            "| Processes:                                                                  |\n",
            "|  GPU   GI   CI        PID   Type   Process name                  GPU Memory |\n",
            "|        ID   ID                                                   Usage      |\n",
            "|=============================================================================|\n",
            "|  No running processes found                                                 |\n",
            "+-----------------------------------------------------------------------------+\n"
          ],
          "name": "stdout"
        }
      ]
    },
    {
      "cell_type": "code",
      "metadata": {
        "id": "J6f6ybYvIEca",
        "colab_type": "code",
        "colab": {}
      },
      "source": [
        ""
      ],
      "execution_count": 2,
      "outputs": []
    },
    {
      "cell_type": "code",
      "metadata": {
        "id": "dl2xh-wxvWon",
        "colab_type": "code",
        "colab": {
          "base_uri": "https://localhost:8080/",
          "height": 85
        },
        "outputId": "31d8c5fd-2633-4117-b3a5-88c38dde65ec"
      },
      "source": [
        "!curl -LO https://github.com/AakashKumarNain/CaptchaCracker/raw/master/captcha_images_v2.zip"
      ],
      "execution_count": 3,
      "outputs": [
        {
          "output_type": "stream",
          "text": [
            "  % Total    % Received % Xferd  Average Speed   Time    Time     Time  Current\n",
            "                                 Dload  Upload   Total   Spent    Left  Speed\n",
            "100   159  100   159    0     0    226      0 --:--:-- --:--:-- --:--:--   226\n",
            "100 8863k  100 8863k    0     0  6935k      0  0:00:01  0:00:01 --:--:-- 44.5M\n"
          ],
          "name": "stdout"
        }
      ]
    },
    {
      "cell_type": "code",
      "metadata": {
        "id": "mN2ImllIvaMh",
        "colab_type": "code",
        "colab": {}
      },
      "source": [
        "!unzip -qq captcha_images_v2.zip"
      ],
      "execution_count": 4,
      "outputs": []
    },
    {
      "cell_type": "markdown",
      "metadata": {
        "id": "6rBIHK16wYCW",
        "colab_type": "text"
      },
      "source": [
        "### Config.py"
      ]
    },
    {
      "cell_type": "code",
      "metadata": {
        "id": "aLKxfWZtwXiC",
        "colab_type": "code",
        "colab": {}
      },
      "source": [
        "DATA_DIR = '/content/captcha_images_v2'\n",
        "BATCH_SIZE = 8\n",
        "IMAGE_WIDTH = 300\n",
        "IMAGE_HEIGHT = 75\n",
        "NUM_WORKERS = 4\n",
        "EPOCHS = 10\n",
        "DEVICE = \"cuda\""
      ],
      "execution_count": 5,
      "outputs": []
    },
    {
      "cell_type": "code",
      "metadata": {
        "id": "ZcsZCbdJveUZ",
        "colab_type": "code",
        "colab": {}
      },
      "source": [
        "import glob\n",
        "# glob.glob('/content/captcha_images_v2/*.png')"
      ],
      "execution_count": 6,
      "outputs": []
    },
    {
      "cell_type": "markdown",
      "metadata": {
        "id": "2VRFv3kfxqzl",
        "colab_type": "text"
      },
      "source": [
        "### Dataset.py"
      ]
    },
    {
      "cell_type": "code",
      "metadata": {
        "id": "P9Wt_BuvxsK6",
        "colab_type": "code",
        "colab": {}
      },
      "source": [
        "import albumentations # for augmentations\n",
        "import torch\n",
        "import numpy as np\n",
        "\n",
        "from PIL import Image\n",
        "from PIL import ImageFile\n",
        "\n",
        "ImageFile.LOAD_TRUNCATED_IMAGES = True"
      ],
      "execution_count": 7,
      "outputs": []
    },
    {
      "cell_type": "code",
      "metadata": {
        "id": "06TNTq6exSyg",
        "colab_type": "code",
        "colab": {}
      },
      "source": [
        "class ClassificationDataset:\n",
        "  def __init__(self, image_paths, targets, resize=None):\n",
        "    self.image_paths = image_paths\n",
        "    self.targets = targets\n",
        "    self.resize = resize\n",
        "    self.aug = albumentations.Compose([albumentations.Normalize(always_apply=True)])\n",
        "\n",
        "  def __len__(self):\n",
        "    return len(self.image_paths)\n",
        "\n",
        "  def __getitem__(self, item):\n",
        "    image = Image.open(self.image_paths[item]).convert(\"RGB\")\n",
        "    targets = self.targets[item]\n",
        "\n",
        "    if self.resize is not None:\n",
        "      image = image.resize((self.resize[1], self.resize[0]), resample=Image.BILINEAR)\n",
        "\n",
        "    image = np.array(image)\n",
        "    augmented = self.aug(image=image)\n",
        "    image = augmented[\"image\"]\n",
        "    image = np.transpose(image, (2,0,1)).astype(np.float32)\n",
        "\n",
        "    return {\n",
        "        \"images\": torch.tensor(image, dtype=torch.float),\n",
        "        \"targets\": torch.tensor(targets, dtype=torch.long)\n",
        "    }"
      ],
      "execution_count": 8,
      "outputs": []
    },
    {
      "cell_type": "markdown",
      "metadata": {
        "id": "1JkBak9Z2Lrm",
        "colab_type": "text"
      },
      "source": [
        "### train.py"
      ]
    },
    {
      "cell_type": "code",
      "metadata": {
        "id": "xr0DCspUxOcN",
        "colab_type": "code",
        "colab": {}
      },
      "source": [
        "import os\n",
        "import glob\n",
        "import torch\n",
        "import numpy as np\n",
        "\n",
        "from sklearn import preprocessing\n",
        "from sklearn import model_selection\n",
        "from sklearn import metrics\n",
        "\n",
        "\n",
        "def run_traning():\n",
        "  image_files = glob.glob('/content/captcha_images_v2/*.png')\n",
        "  targets_orig = [x.split('/')[-1][:4] for x in image_files]  # \"'../../../abcd.png\"\n",
        "  targets = [[c for c in x] for x in targets_orig]  # abcd --> [a, b, c, d]\n",
        "  targets_flat = [c for clist in targets for c in clist]\n",
        "\n",
        "  lbl_enc = preprocessing.LabelEncoder()\n",
        "  lbl_enc.fit(targets_flat)\n",
        "  targets_enc = [lbl_enc.transform(x) for x in targets]\n",
        "  targets_enc = np.array(targets_enc) + 1\n",
        "\n",
        "\n",
        "  (train_imgs, test_imgs, train_targets, test_targets, train_orig_targets, test_orig_targets) = \\\n",
        "  model_selection.train_test_split(image_files, targets_enc, targets_orig, test_size=0.1, random_state=42)\n",
        "\n",
        "  train_dataset = ClassificationDataset(image_paths=train_imgs, targets=train_targets, resize=(IMAGE_HEIGHT, IMAGE_WIDTH))\n",
        "  test_dataset = ClassificationDataset(image_paths=test_imgs, targets=test_targets, resize=(IMAGE_HEIGHT, IMAGE_WIDTH))\n",
        "\n",
        "  train_loader = torch.utils.data.DataLoader(train_dataset, batch_size=BATCH_SIZE, num_workers=NUM_WORKERS, shuffle=True)\n",
        "  test_loader = torch.utils.data.DataLoader(test_dataset, batch_size=BATCH_SIZE, num_workers=NUM_WORKERS, shuffle=False)\n",
        "\n",
        "\n",
        "  # print(targets)\n",
        "  # print('*'*100)\n",
        "  # print(np.unique(targets_flat))\n",
        "  # print('*'*100)\n",
        "  # print(targets_enc)\n",
        "  # print('*'*100)\n",
        "  # print(len(lbl_enc.classes_))\n",
        "\n",
        "\n",
        "run_traning()"
      ],
      "execution_count": 9,
      "outputs": []
    },
    {
      "cell_type": "markdown",
      "metadata": {
        "id": "0jRmpjLI-EAb",
        "colab_type": "text"
      },
      "source": [
        "### view.py"
      ]
    },
    {
      "cell_type": "code",
      "metadata": {
        "id": "pAs7RJdK-F3S",
        "colab_type": "code",
        "colab": {}
      },
      "source": [
        "import os\n",
        "import glob\n",
        "import torch\n",
        "import numpy as np\n",
        "\n",
        "from sklearn import preprocessing\n",
        "from sklearn import model_selection\n",
        "from sklearn import metrics\n",
        "import matplotlib.pyplot as plt\n",
        "%matplotlib inline\n",
        "\n",
        "image_files = glob.glob('/content/captcha_images_v2/*.png')\n",
        "targets_orig = [x.split('/')[-1][:4] for x in image_files]  # \"'../../../abcd.png\"\n",
        "targets = [[c for c in x] for x in targets_orig]  # abcd --> [a, b, c, d]\n",
        "targets_flat = [c for clist in targets for c in clist]\n",
        "\n",
        "lbl_enc = preprocessing.LabelEncoder()\n",
        "lbl_enc.fit(targets_flat)\n",
        "targets_enc = [lbl_enc.transform(x) for x in targets]\n",
        "targets_enc = np.array(targets_enc) + 1\n",
        "\n",
        "\n",
        "(train_imgs, test_imgs, train_targets, test_targets, train_orig_targets, test_orig_targets) = \\\n",
        "model_selection.train_test_split(image_files, targets_enc, targets_orig, test_size=0.1, random_state=42)\n",
        "\n",
        "train_dataset = ClassificationDataset(image_paths=train_imgs, targets=train_targets, resize=(IMAGE_HEIGHT, IMAGE_WIDTH))"
      ],
      "execution_count": 10,
      "outputs": []
    },
    {
      "cell_type": "code",
      "metadata": {
        "id": "VqipOCSTBr3O",
        "colab_type": "code",
        "colab": {
          "base_uri": "https://localhost:8080/",
          "height": 169
        },
        "outputId": "60cea9e9-3280-44f9-f836-8bf1ed5352ed"
      },
      "source": [
        "# train_dataset[0]\n",
        "npimg = train_dataset[200][\"images\"].numpy()\n",
        "# npimg\n",
        "# npimg.shape\n",
        "# np.transpose(npimg, (1,2,0)).shape\n",
        "plt.imshow(np.transpose(npimg, (1,2,0)))"
      ],
      "execution_count": 11,
      "outputs": [
        {
          "output_type": "stream",
          "text": [
            "Clipping input data to the valid range for imshow with RGB data ([0..1] for floats or [0..255] for integers).\n"
          ],
          "name": "stderr"
        },
        {
          "output_type": "execute_result",
          "data": {
            "text/plain": [
              "<matplotlib.image.AxesImage at 0x7f0d10002588>"
            ]
          },
          "metadata": {
            "tags": []
          },
          "execution_count": 11
        },
        {
          "output_type": "display_data",
          "data": {
            "image/png": "[encoded data removed]",
            "text/plain": [
              "<Figure size 432x288 with 1 Axes>"
            ]
          },
          "metadata": {
            "tags": [],
            "needs_background": "light"
          }
        }
      ]
    },
    {
      "cell_type": "markdown",
      "metadata": {
        "id": "bwbg5Ae6CCbP",
        "colab_type": "text"
      },
      "source": [
        "### engine.py"
      ]
    },
    {
      "cell_type": "code",
      "metadata": {
        "id": "s5lMDPPXBuIR",
        "colab_type": "code",
        "colab": {}
      },
      "source": [
        "from tqdm import tqdm\n",
        "import torch\n",
        "\n",
        "def train_fn(model, data_loader, optimizer):\n",
        "  model.train()\n",
        "  fin_loss = 0\n",
        "  tk = tqdm(data_loader, total=len(data_loader))\n",
        "  for data in tk:\n",
        "    for k, v in data.items():\n",
        "      data[k] = v.to(DEVICE)\n",
        "    optimizer.zero_grad()\n",
        "    _, loss = model(**data)\n",
        "    loss.backward()\n",
        "    optimizer.step()\n",
        "    fin_loss += loss\n",
        "  return fin_loss / len(data_loader)\n",
        "\n",
        "def train_fn(model, data_loader, optimizer):\n",
        "  model.eval()\n",
        "  fin_loss = 0\n",
        "  fin_preds = []\n",
        "  tk = tqdm(data_loader, total=len(data_loader))\n",
        "  for data in tk:\n",
        "    for k, v in data.items():\n",
        "      data[k] = v.to(DEVICE)\n",
        "\n",
        "    preds, loss = model(**data)\n",
        "    fin_loss += loss\n",
        "    fin_preds.append(preds)\n",
        "  return fin_preds, fin_loss / len(data_loader)"
      ],
      "execution_count": 13,
      "outputs": []
    },
    {
      "cell_type": "markdown",
      "metadata": {
        "id": "V-UzZU_eL-lM",
        "colab_type": "text"
      },
      "source": [
        "### model.py"
      ]
    },
    {
      "cell_type": "code",
      "metadata": {
        "id": "IV61l6XmL9TF",
        "colab_type": "code",
        "colab": {
          "base_uri": "https://localhost:8080/",
          "height": 136
        },
        "outputId": "933f523d-69ef-462a-a790-c7e386ce4d38"
      },
      "source": [
        "import torch\n",
        "from torch import nn\n",
        "from torch.nn import functional as F\n",
        "\n",
        "class CaptchaModel(nn.Module):\n",
        "  def __init__(self, num_chars):\n",
        "    super(CaptchaModel, self).__init__()\n",
        "    self.conv_1 = nn.Conv2d(3, 128, kernel_size=(3,3), padding=(1,1))\n",
        "    self.max_pool_1 = nn.MaxPool2d(kernel_size=(2,2))\n",
        "    self.conv_2 = nn.Conv2d(128, 64, kernel_size=(3,3), padding=(1,1))\n",
        "    self.max_pool_2 = nn.MaxPool2d(kernel_size=(2,2))\n",
        "\n",
        "  def forward(self, images, targets=None):\n",
        "    bs, c, h, w = images.size()\n",
        "    print(bs, c, h, w)\n",
        "    x = F.relu(self.conv_1(images))\n",
        "    print(x.size())\n",
        "    x = self.max_pool_1(x)\n",
        "    print(x.size())\n",
        "    x = F.relu(self.conv_2(x))\n",
        "    print(x.size())\n",
        "    x = self.max_pool_2(x) # [1, 64, 18, 75]\n",
        "    print(x.size())\n",
        "    x = x.permute(0,3,1,2)\n",
        "    print(x.size())\n",
        "    x = x.view(bs, x.size(1), -1)\n",
        "    print(x.size())\n",
        "    return x, None\n",
        "\n",
        "if __name__ == \"__main__\":\n",
        "  cm = CaptchaModel(19)\n",
        "  img = torch.rand(1,3,75,300)\n",
        "  target = torch.randint(1,20,(1,5))\n",
        "  x, loss = cm(img, target)\n"
      ],
      "execution_count": 24,
      "outputs": [
        {
          "output_type": "stream",
          "text": [
            "1 3 75 300\n",
            "torch.Size([1, 128, 75, 300])\n",
            "torch.Size([1, 128, 37, 150])\n",
            "torch.Size([1, 64, 37, 150])\n",
            "torch.Size([1, 64, 18, 75])\n",
            "torch.Size([1, 75, 64, 18])\n",
            "torch.Size([1, 75, 1152])\n"
          ],
          "name": "stdout"
        }
      ]
    },
    {
      "cell_type": "code",
      "metadata": {
        "id": "7-otD3F-YBJL",
        "colab_type": "code",
        "colab": {}
      },
      "source": [
        ""
      ],
      "execution_count": null,
      "outputs": []
    },
    {
      "cell_type": "code",
      "metadata": {
        "id": "0SOCSzb-W8Ky",
        "colab_type": "code",
        "colab": {}
      },
      "source": [
        ""
      ],
      "execution_count": null,
      "outputs": []
    },
    {
      "cell_type": "code",
      "metadata": {
        "id": "-HkkXuFAW1k3",
        "colab_type": "code",
        "colab": {}
      },
      "source": [
        ""
      ],
      "execution_count": null,
      "outputs": []
    },
    {
      "cell_type": "code",
      "metadata": {
        "id": "PjZYwnCsVglf",
        "colab_type": "code",
        "colab": {}
      },
      "source": [
        ""
      ],
      "execution_count": 21,
      "outputs": []
    },
    {
      "cell_type": "code",
      "metadata": {
        "id": "sazMu7xYWHN9",
        "colab_type": "code",
        "colab": {}
      },
      "source": [
        ""
      ],
      "execution_count": null,
      "outputs": []
    },
    {
      "cell_type": "code",
      "metadata": {
        "id": "CyGiOdkWVIeX",
        "colab_type": "code",
        "colab": {}
      },
      "source": [
        ""
      ],
      "execution_count": null,
      "outputs": []
    },
    {
      "cell_type": "code",
      "metadata": {
        "id": "DLM0P87kUkSn",
        "colab_type": "code",
        "colab": {}
      },
      "source": [
        ""
      ],
      "execution_count": null,
      "outputs": []
    },
    {
      "cell_type": "code",
      "metadata": {
        "id": "GLKGgfs5UfZG",
        "colab_type": "code",
        "colab": {}
      },
      "source": [
        ""
      ],
      "execution_count": null,
      "outputs": []
    },
    {
      "cell_type": "code",
      "metadata": {
        "id": "2_9n6j1jUI42",
        "colab_type": "code",
        "colab": {}
      },
      "source": [
        ""
      ],
      "execution_count": null,
      "outputs": []
    },
    {
      "cell_type": "code",
      "metadata": {
        "id": "M_xo8mZtT8w0",
        "colab_type": "code",
        "colab": {}
      },
      "source": [
        ""
      ],
      "execution_count": null,
      "outputs": []
    },
    {
      "cell_type": "code",
      "metadata": {
        "id": "3n3ii1voS4vw",
        "colab_type": "code",
        "colab": {}
      },
      "source": [
        ""
      ],
      "execution_count": null,
      "outputs": []
    },
    {
      "cell_type": "code",
      "metadata": {
        "id": "VIIEgYT3SzY5",
        "colab_type": "code",
        "colab": {}
      },
      "source": [
        ""
      ],
      "execution_count": null,
      "outputs": []
    },
    {
      "cell_type": "code",
      "metadata": {
        "id": "UVEo9-HyBoMJ",
        "colab_type": "code",
        "colab": {}
      },
      "source": [
        ""
      ],
      "execution_count": 12,
      "outputs": []
    },
    {
      "cell_type": "code",
      "metadata": {
        "id": "LNdg4Db7BbDZ",
        "colab_type": "code",
        "colab": {}
      },
      "source": [
        ""
      ],
      "execution_count": 12,
      "outputs": []
    },
    {
      "cell_type": "code",
      "metadata": {
        "id": "vEq6bv4nBXx6",
        "colab_type": "code",
        "colab": {}
      },
      "source": [
        ""
      ],
      "execution_count": 12,
      "outputs": []
    },
    {
      "cell_type": "code",
      "metadata": {
        "id": "tosf3GDkBR6v",
        "colab_type": "code",
        "colab": {}
      },
      "source": [
        ""
      ],
      "execution_count": 12,
      "outputs": []
    },
    {
      "cell_type": "code",
      "metadata": {
        "id": "Lmh2qlA7BOxW",
        "colab_type": "code",
        "colab": {}
      },
      "source": [
        ""
      ],
      "execution_count": 12,
      "outputs": []
    },
    {
      "cell_type": "code",
      "metadata": {
        "id": "lepccQy-A66B",
        "colab_type": "code",
        "colab": {}
      },
      "source": [
        ""
      ],
      "execution_count": 12,
      "outputs": []
    },
    {
      "cell_type": "code",
      "metadata": {
        "id": "WIckvJXDA2oU",
        "colab_type": "code",
        "colab": {}
      },
      "source": [
        ""
      ],
      "execution_count": 12,
      "outputs": []
    },
    {
      "cell_type": "code",
      "metadata": {
        "id": "-7JGa2xIAxNf",
        "colab_type": "code",
        "colab": {}
      },
      "source": [
        ""
      ],
      "execution_count": 12,
      "outputs": []
    },
    {
      "cell_type": "code",
      "metadata": {
        "id": "erCSr0HrAaDb",
        "colab_type": "code",
        "colab": {}
      },
      "source": [
        ""
      ],
      "execution_count": 12,
      "outputs": []
    },
    {
      "cell_type": "code",
      "metadata": {
        "id": "IOUAipQVAR2t",
        "colab_type": "code",
        "colab": {}
      },
      "source": [
        ""
      ],
      "execution_count": 12,
      "outputs": []
    },
    {
      "cell_type": "code",
      "metadata": {
        "id": "2OElnUQ0_mEF",
        "colab_type": "code",
        "colab": {}
      },
      "source": [
        ""
      ],
      "execution_count": 12,
      "outputs": []
    },
    {
      "cell_type": "code",
      "metadata": {
        "id": "_DjKcWlR_auh",
        "colab_type": "code",
        "colab": {}
      },
      "source": [
        ""
      ],
      "execution_count": 12,
      "outputs": []
    },
    {
      "cell_type": "code",
      "metadata": {
        "id": "dWukr6Nr_SEb",
        "colab_type": "code",
        "colab": {}
      },
      "source": [
        ""
      ],
      "execution_count": 12,
      "outputs": []
    },
    {
      "cell_type": "code",
      "metadata": {
        "id": "6QYi_JAg-6Ir",
        "colab_type": "code",
        "colab": {}
      },
      "source": [
        ""
      ],
      "execution_count": 12,
      "outputs": []
    },
    {
      "cell_type": "code",
      "metadata": {
        "id": "ShhuRlu6-uFF",
        "colab_type": "code",
        "colab": {}
      },
      "source": [
        ""
      ],
      "execution_count": 12,
      "outputs": []
    },
    {
      "cell_type": "code",
      "metadata": {
        "id": "u53kygzR-rEr",
        "colab_type": "code",
        "colab": {}
      },
      "source": [
        ""
      ],
      "execution_count": 12,
      "outputs": []
    },
    {
      "cell_type": "code",
      "metadata": {
        "id": "j_BoAsqj-pBs",
        "colab_type": "code",
        "colab": {}
      },
      "source": [
        ""
      ],
      "execution_count": 12,
      "outputs": []
    },
    {
      "cell_type": "code",
      "metadata": {
        "id": "JCRzos6h-k_D",
        "colab_type": "code",
        "colab": {}
      },
      "source": [
        ""
      ],
      "execution_count": 12,
      "outputs": []
    },
    {
      "cell_type": "code",
      "metadata": {
        "id": "35HOipwu60-Q",
        "colab_type": "code",
        "colab": {}
      },
      "source": [
        ""
      ],
      "execution_count": 12,
      "outputs": []
    },
    {
      "cell_type": "code",
      "metadata": {
        "id": "--4pFABD6xXA",
        "colab_type": "code",
        "colab": {}
      },
      "source": [
        ""
      ],
      "execution_count": 12,
      "outputs": []
    },
    {
      "cell_type": "code",
      "metadata": {
        "id": "IF2D83rk6nnQ",
        "colab_type": "code",
        "colab": {}
      },
      "source": [
        ""
      ],
      "execution_count": 12,
      "outputs": []
    },
    {
      "cell_type": "code",
      "metadata": {
        "id": "k2CO77yj54ZT",
        "colab_type": "code",
        "colab": {}
      },
      "source": [
        ""
      ],
      "execution_count": 12,
      "outputs": []
    },
    {
      "cell_type": "code",
      "metadata": {
        "id": "LN3hSIQv51hQ",
        "colab_type": "code",
        "colab": {}
      },
      "source": [
        ""
      ],
      "execution_count": 12,
      "outputs": []
    },
    {
      "cell_type": "code",
      "metadata": {
        "id": "v45LObeu5uLJ",
        "colab_type": "code",
        "colab": {}
      },
      "source": [
        ""
      ],
      "execution_count": 12,
      "outputs": []
    },
    {
      "cell_type": "code",
      "metadata": {
        "id": "NOK1OjnT5pU-",
        "colab_type": "code",
        "colab": {}
      },
      "source": [
        ""
      ],
      "execution_count": 12,
      "outputs": []
    },
    {
      "cell_type": "code",
      "metadata": {
        "id": "J8Qr5aEZ5mmt",
        "colab_type": "code",
        "colab": {}
      },
      "source": [
        ""
      ],
      "execution_count": 12,
      "outputs": []
    },
    {
      "cell_type": "code",
      "metadata": {
        "id": "6BxAGVAF5g6t",
        "colab_type": "code",
        "colab": {}
      },
      "source": [
        ""
      ],
      "execution_count": 12,
      "outputs": []
    },
    {
      "cell_type": "code",
      "metadata": {
        "id": "lc7q986p4145",
        "colab_type": "code",
        "colab": {}
      },
      "source": [
        ""
      ],
      "execution_count": 12,
      "outputs": []
    },
    {
      "cell_type": "code",
      "metadata": {
        "id": "vSRcCAH5xLWo",
        "colab_type": "code",
        "colab": {}
      },
      "source": [
        ""
      ],
      "execution_count": 12,
      "outputs": []
    },
    {
      "cell_type": "code",
      "metadata": {
        "id": "CUXJ10IdxElH",
        "colab_type": "code",
        "colab": {}
      },
      "source": [
        ""
      ],
      "execution_count": 12,
      "outputs": []
    },
    {
      "cell_type": "code",
      "metadata": {
        "id": "bJ5ZlpDExAzN",
        "colab_type": "code",
        "colab": {}
      },
      "source": [
        ""
      ],
      "execution_count": 12,
      "outputs": []
    },
    {
      "cell_type": "code",
      "metadata": {
        "id": "iXZb_02HwuIQ",
        "colab_type": "code",
        "colab": {}
      },
      "source": [
        ""
      ],
      "execution_count": 12,
      "outputs": []
    },
    {
      "cell_type": "code",
      "metadata": {
        "id": "0PXqmqabws2z",
        "colab_type": "code",
        "colab": {}
      },
      "source": [
        ""
      ],
      "execution_count": 12,
      "outputs": []
    }
  ]
}