{
  "nbformat": 4,
  "nbformat_minor": 0,
  "metadata": {
    "colab": {
      "name": "gradientdescent_auto - Model, loss, optimizer",
      "provenance": [],
      "collapsed_sections": [],
      "authorship_tag": "ABX9TyPNfiBAHHPBdLOGNdFMHykI"
    },
    "kernelspec": {
      "name": "python3",
      "display_name": "Python 3"
    }
  },
  "cells": [
    {
      "cell_type": "markdown",
      "metadata": {
        "id": "k_tKPbWPBxbs",
        "colab_type": "text"
      },
      "source": [
        "## Building steps"
      ]
    },
    {
      "cell_type": "markdown",
      "metadata": {
        "id": "4-GzOe-UB2wT",
        "colab_type": "text"
      },
      "source": [
        "\n",
        "\n",
        "1.   Design model (input, output size, forward pass)\n",
        "2.   Construct loss and optimizer\n",
        "3.   Training loop\n",
        "      - forward pass: compute prediction\n",
        "      - backward pass: gradients\n",
        "      - update weights"
      ]
    },
    {
      "cell_type": "code",
      "metadata": {
        "id": "7EdpIVMjQd8z",
        "colab_type": "code",
        "colab": {}
      },
      "source": [
        "import torch\n",
        "import torch.nn as nn"
      ],
      "execution_count": 18,
      "outputs": []
    },
    {
      "cell_type": "code",
      "metadata": {
        "id": "94PtlCX64SmK",
        "colab_type": "code",
        "colab": {}
      },
      "source": [
        "# f = w * x\n",
        "# f = 2 * x"
      ],
      "execution_count": 19,
      "outputs": []
    },
    {
      "cell_type": "code",
      "metadata": {
        "id": "Ooz9m-mT4SfW",
        "colab_type": "code",
        "colab": {
          "base_uri": "https://localhost:8080/",
          "height": 34
        },
        "outputId": "8b5a92a9-37e4-4bb5-d233-ea13dba8d96a"
      },
      "source": [
        "X = torch.tensor([[1],[2],[3],[4]], dtype=torch.float32)\n",
        "Y = torch.tensor([[2],[4],[6],[8]], dtype=torch.float32)\n",
        "\n",
        "X_test = torch.tensor([5], dtype=torch.float32)\n",
        "n_samples, n_features = X.shape\n",
        "print(n_samples, n_features)\n",
        "\n",
        "input_size = n_features\n",
        "output_size = n_features"
      ],
      "execution_count": 20,
      "outputs": [
        {
          "output_type": "stream",
          "text": [
            "4 1\n"
          ],
          "name": "stdout"
        }
      ]
    },
    {
      "cell_type": "code",
      "metadata": {
        "id": "zzQcBSav4SXx",
        "colab_type": "code",
        "colab": {}
      },
      "source": [
        "# model prediction\n",
        "# model = nn.Linear(input_size, output_size)"
      ],
      "execution_count": 21,
      "outputs": []
    },
    {
      "cell_type": "code",
      "metadata": {
        "id": "58H9xxKDGKuR",
        "colab_type": "code",
        "colab": {}
      },
      "source": [
        "class LinearRegression(nn.Module):\n",
        "  def __init__(self, input_dim, output_dim):\n",
        "    super(LinearRegression, self).__init__()\n",
        "    self.lin = nn.Linear(input_dim, output_dim)\n",
        "\n",
        "  def forward(self, x):\n",
        "    return self.lin(x)\n",
        "\n",
        "model = LinearRegression(input_size, output_size)"
      ],
      "execution_count": 22,
      "outputs": []
    },
    {
      "cell_type": "code",
      "metadata": {
        "id": "FO4EOrbv4SC5",
        "colab_type": "code",
        "colab": {
          "base_uri": "https://localhost:8080/",
          "height": 34
        },
        "outputId": "a2fa8897-562f-4fed-fb5b-c6283c4dde4d"
      },
      "source": [
        "print(f'Prediction before training: f[5] = {model(X_test).item():.3f}')"
      ],
      "execution_count": 23,
      "outputs": [
        {
          "output_type": "stream",
          "text": [
            "Prediction before training: f[5] = -0.539\n"
          ],
          "name": "stdout"
        }
      ]
    },
    {
      "cell_type": "code",
      "metadata": {
        "id": "XxCS34zr48C1",
        "colab_type": "code",
        "colab": {}
      },
      "source": [
        "# Training\n",
        "\n",
        "learning_rate = 0.01\n",
        "n_iters = 1000\n",
        "\n",
        "loss = nn.MSELoss()\n",
        "optimizer = torch.optim.SGD(model.parameters(), lr = learning_rate)"
      ],
      "execution_count": 35,
      "outputs": []
    },
    {
      "cell_type": "code",
      "metadata": {
        "id": "JCpZBtuf47t3",
        "colab_type": "code",
        "colab": {
          "base_uri": "https://localhost:8080/",
          "height": 204
        },
        "outputId": "fb5f5c96-30ff-4f2c-a765-93a47db130d4"
      },
      "source": [
        "for epoch in range(n_iters):\n",
        "  # prediciton\n",
        "  y_pred = model(X)\n",
        "\n",
        "  # loss\n",
        "  l = loss(Y, y_pred)\n",
        "\n",
        "  # gradient = backward\n",
        "  l.backward()\n",
        "\n",
        "  # update weights\n",
        "  optimizer.step()\n",
        "\n",
        "  # zero gradients\n",
        "  optimizer.zero_grad()\n",
        "\n",
        "\n",
        "  if epoch % 100 == 0:\n",
        "    [w, b] = model.parameters()\n",
        "    print(f'epoch={epoch}, w={w[0][0].item():.3f}, loss = {l:.8f}')\n",
        "\n",
        "print(f'Prediction after training: f[5] = {model(X_test).item():.3f}')"
      ],
      "execution_count": 36,
      "outputs": [
        {
          "output_type": "stream",
          "text": [
            "epoch=0, w=1.996, loss = 0.00001944\n",
            "epoch=100, w=1.997, loss = 0.00001067\n",
            "epoch=200, w=1.998, loss = 0.00000586\n",
            "epoch=300, w=1.999, loss = 0.00000322\n",
            "epoch=400, w=1.999, loss = 0.00000177\n",
            "epoch=500, w=1.999, loss = 0.00000097\n",
            "epoch=600, w=1.999, loss = 0.00000053\n",
            "epoch=700, w=2.000, loss = 0.00000029\n",
            "epoch=800, w=2.000, loss = 0.00000016\n",
            "epoch=900, w=2.000, loss = 0.00000009\n",
            "Prediction after training: f[5] = 10.000\n"
          ],
          "name": "stdout"
        }
      ]
    }
  ]
}