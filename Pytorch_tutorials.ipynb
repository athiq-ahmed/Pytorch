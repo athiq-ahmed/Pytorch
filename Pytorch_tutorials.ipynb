{
  "nbformat": 4,
  "nbformat_minor": 0,
  "metadata": {
    "colab": {
      "name": "Pytorch_tutorials",
      "provenance": [],
      "collapsed_sections": [],
      "authorship_tag": "ABX9TyOw8WG499Ysnxd80sjNvzF8"
    },
    "kernelspec": {
      "name": "python3",
      "display_name": "Python 3"
    }
  },
  "cells": [
    {
      "cell_type": "code",
      "metadata": {
        "id": "Z9j4E0E2zJum",
        "colab_type": "code",
        "colab": {}
      },
      "source": [
        "import torch\n",
        "import numpy as np"
      ],
      "execution_count": 27,
      "outputs": []
    },
    {
      "cell_type": "code",
      "metadata": {
        "id": "FPO66g80z0IS",
        "colab_type": "code",
        "colab": {
          "base_uri": "https://localhost:8080/",
          "height": 34
        },
        "outputId": "6260ffb7-a8e9-4ed7-82cf-9fdb106a8c69"
      },
      "source": [
        "x = torch.empty(1)\n",
        "print(x)"
      ],
      "execution_count": 2,
      "outputs": [
        {
          "output_type": "stream",
          "text": [
            "tensor([2.6006e-36])\n"
          ],
          "name": "stdout"
        }
      ]
    },
    {
      "cell_type": "code",
      "metadata": {
        "id": "z0QLsn5d0DEe",
        "colab_type": "code",
        "colab": {
          "base_uri": "https://localhost:8080/",
          "height": 34
        },
        "outputId": "b1d9353e-34f0-4d65-a042-ed94cd74dcd2"
      },
      "source": [
        "x = torch.empty(3) # 1D vector with 3 elements\n",
        "print(x)"
      ],
      "execution_count": 3,
      "outputs": [
        {
          "output_type": "stream",
          "text": [
            "tensor([2.6006e-36, 0.0000e+00, 5.0447e-44])\n"
          ],
          "name": "stdout"
        }
      ]
    },
    {
      "cell_type": "code",
      "metadata": {
        "id": "xczssKHm0LYE",
        "colab_type": "code",
        "colab": {
          "base_uri": "https://localhost:8080/",
          "height": 51
        },
        "outputId": "9b9e2f54-3a92-4569-fbeb-d0abdbc41527"
      },
      "source": [
        "x = torch.empty(2, 3) # 2D matrix\n",
        "print(x)"
      ],
      "execution_count": 4,
      "outputs": [
        {
          "output_type": "stream",
          "text": [
            "tensor([[2.6006e-36, 0.0000e+00, 1.5975e-43],\n",
            "        [1.3873e-43, 1.4574e-43, 6.4460e-44]])\n"
          ],
          "name": "stdout"
        }
      ]
    },
    {
      "cell_type": "code",
      "metadata": {
        "id": "gsHyRIiR0S_i",
        "colab_type": "code",
        "colab": {
          "base_uri": "https://localhost:8080/",
          "height": 102
        },
        "outputId": "b63cd5e4-661d-40c0-8173-afd91292183b"
      },
      "source": [
        "x = torch.empty(2, 2, 3) # 3D\n",
        "print(x)"
      ],
      "execution_count": 5,
      "outputs": [
        {
          "output_type": "stream",
          "text": [
            "tensor([[[2.6006e-36, 0.0000e+00, 1.5975e-43],\n",
            "         [1.3873e-43, 1.4574e-43, 6.4460e-44]],\n",
            "\n",
            "        [[1.4153e-43, 1.5274e-43, 1.5695e-43],\n",
            "         [1.6255e-43, 1.6956e-43, 0.0000e+00]]])\n"
          ],
          "name": "stdout"
        }
      ]
    },
    {
      "cell_type": "code",
      "metadata": {
        "id": "JiKiuZp50Ys7",
        "colab_type": "code",
        "colab": {
          "base_uri": "https://localhost:8080/",
          "height": 51
        },
        "outputId": "9cef2f0f-b40c-4674-f304-23446f43b05c"
      },
      "source": [
        "x = torch.rand(2, 2)\n",
        "print(x)"
      ],
      "execution_count": 6,
      "outputs": [
        {
          "output_type": "stream",
          "text": [
            "tensor([[0.2983, 0.3203],\n",
            "        [0.8213, 0.7177]])\n"
          ],
          "name": "stdout"
        }
      ]
    },
    {
      "cell_type": "code",
      "metadata": {
        "id": "TtYln-hp0ZN0",
        "colab_type": "code",
        "colab": {
          "base_uri": "https://localhost:8080/",
          "height": 51
        },
        "outputId": "dc2b4426-8d85-44b4-83a0-bf36241facca"
      },
      "source": [
        "x = torch.zeros(2, 2)\n",
        "print(x)"
      ],
      "execution_count": 8,
      "outputs": [
        {
          "output_type": "stream",
          "text": [
            "tensor([[0., 0.],\n",
            "        [0., 0.]])\n"
          ],
          "name": "stdout"
        }
      ]
    },
    {
      "cell_type": "code",
      "metadata": {
        "id": "qLbqgVfC0ZTZ",
        "colab_type": "code",
        "colab": {
          "base_uri": "https://localhost:8080/",
          "height": 68
        },
        "outputId": "4f5ebe5b-c45f-419a-b77c-96d6da9a5b5c"
      },
      "source": [
        "x = torch.ones(2, 2)\n",
        "print(x)\n",
        "print(x.dtype)"
      ],
      "execution_count": 10,
      "outputs": [
        {
          "output_type": "stream",
          "text": [
            "tensor([[1., 1.],\n",
            "        [1., 1.]])\n",
            "torch.float32\n"
          ],
          "name": "stdout"
        }
      ]
    },
    {
      "cell_type": "code",
      "metadata": {
        "id": "3KqAtLju0ZYG",
        "colab_type": "code",
        "colab": {
          "base_uri": "https://localhost:8080/",
          "height": 34
        },
        "outputId": "df026ced-5a08-4059-cd69-bdb57b43d3be"
      },
      "source": [
        "x = torch.ones(2, 2, dtype=torch.int)\n",
        "print(x.dtype)"
      ],
      "execution_count": 11,
      "outputs": [
        {
          "output_type": "stream",
          "text": [
            "torch.int32\n"
          ],
          "name": "stdout"
        }
      ]
    },
    {
      "cell_type": "code",
      "metadata": {
        "id": "cfh6ffhR0Zcd",
        "colab_type": "code",
        "colab": {
          "base_uri": "https://localhost:8080/",
          "height": 34
        },
        "outputId": "15d3b8b3-6159-45fc-bc6a-111205131a48"
      },
      "source": [
        "x = torch.ones(2, 2, dtype=torch.int)\n",
        "print(x.size())"
      ],
      "execution_count": 13,
      "outputs": [
        {
          "output_type": "stream",
          "text": [
            "torch.Size([2, 2])\n"
          ],
          "name": "stdout"
        }
      ]
    },
    {
      "cell_type": "code",
      "metadata": {
        "id": "0MENe3Jr0Zjk",
        "colab_type": "code",
        "colab": {
          "base_uri": "https://localhost:8080/",
          "height": 34
        },
        "outputId": "329d1855-4c2b-4b83-a7c4-41342adcc209"
      },
      "source": [
        "x = torch.tensor([2.5, 0.1])\n",
        "print(x)"
      ],
      "execution_count": 14,
      "outputs": [
        {
          "output_type": "stream",
          "text": [
            "tensor([2.5000, 0.1000])\n"
          ],
          "name": "stdout"
        }
      ]
    },
    {
      "cell_type": "code",
      "metadata": {
        "id": "o8c_eq770Zom",
        "colab_type": "code",
        "colab": {
          "base_uri": "https://localhost:8080/",
          "height": 85
        },
        "outputId": "78fc7a90-3a43-407a-ac00-bc93200999e1"
      },
      "source": [
        "x = torch.rand(2, 2)\n",
        "y = torch.rand(2, 2)\n",
        "print(x)\n",
        "print(y)"
      ],
      "execution_count": 15,
      "outputs": [
        {
          "output_type": "stream",
          "text": [
            "tensor([[0.5574, 0.7087],\n",
            "        [0.1021, 0.9725]])\n",
            "tensor([[0.2696, 0.2205],\n",
            "        [0.7243, 0.8714]])\n"
          ],
          "name": "stdout"
        }
      ]
    },
    {
      "cell_type": "code",
      "metadata": {
        "id": "VN1W31Te0Zsm",
        "colab_type": "code",
        "colab": {
          "base_uri": "https://localhost:8080/",
          "height": 51
        },
        "outputId": "65e5684b-7e9e-4a74-cafc-6ec574e747c6"
      },
      "source": [
        "z = x + y\n",
        "print(z)"
      ],
      "execution_count": 16,
      "outputs": [
        {
          "output_type": "stream",
          "text": [
            "tensor([[0.8270, 0.9292],\n",
            "        [0.8264, 1.8438]])\n"
          ],
          "name": "stdout"
        }
      ]
    },
    {
      "cell_type": "code",
      "metadata": {
        "id": "GwNEtRrn1gcd",
        "colab_type": "code",
        "colab": {
          "base_uri": "https://localhost:8080/",
          "height": 51
        },
        "outputId": "cd8e4119-6c53-4253-dc97-5f1a53c61418"
      },
      "source": [
        "z = torch.add(x,y)\n",
        "print(z)"
      ],
      "execution_count": 17,
      "outputs": [
        {
          "output_type": "stream",
          "text": [
            "tensor([[0.8270, 0.9292],\n",
            "        [0.8264, 1.8438]])\n"
          ],
          "name": "stdout"
        }
      ]
    },
    {
      "cell_type": "code",
      "metadata": {
        "id": "kHltqMWj1gzN",
        "colab_type": "code",
        "colab": {
          "base_uri": "https://localhost:8080/",
          "height": 51
        },
        "outputId": "ea7515df-70ed-49ae-caa7-d0d578154cdb"
      },
      "source": [
        "y.add_(x)\n",
        "print(y)"
      ],
      "execution_count": 18,
      "outputs": [
        {
          "output_type": "stream",
          "text": [
            "tensor([[0.8270, 0.9292],\n",
            "        [0.8264, 1.8438]])\n"
          ],
          "name": "stdout"
        }
      ]
    },
    {
      "cell_type": "code",
      "metadata": {
        "id": "oSIVwxxv1ghs",
        "colab_type": "code",
        "colab": {
          "base_uri": "https://localhost:8080/",
          "height": 51
        },
        "outputId": "21290971-c45f-4c35-c9ef-ca557bbed402"
      },
      "source": [
        "x = torch.rand(2, 2)\n",
        "y = torch.rand(2, 2)\n",
        "z = torch.sub(x,y)\n",
        "print(z)"
      ],
      "execution_count": 19,
      "outputs": [
        {
          "output_type": "stream",
          "text": [
            "tensor([[ 0.1205, -0.0298],\n",
            "        [-0.3150,  0.8040]])\n"
          ],
          "name": "stdout"
        }
      ]
    },
    {
      "cell_type": "code",
      "metadata": {
        "id": "kKRhJoNt1gQm",
        "colab_type": "code",
        "colab": {
          "base_uri": "https://localhost:8080/",
          "height": 51
        },
        "outputId": "d055362c-237b-4cac-c0a7-0cb01d400c1d"
      },
      "source": [
        "x = torch.rand(2, 2)\n",
        "y = torch.rand(2, 2)\n",
        "z = torch.mul(x,y)\n",
        "print(z)"
      ],
      "execution_count": 20,
      "outputs": [
        {
          "output_type": "stream",
          "text": [
            "tensor([[0.2895, 0.1837],\n",
            "        [0.9024, 0.0239]])\n"
          ],
          "name": "stdout"
        }
      ]
    },
    {
      "cell_type": "code",
      "metadata": {
        "id": "Dvsxdgwf12nn",
        "colab_type": "code",
        "colab": {
          "base_uri": "https://localhost:8080/",
          "height": 51
        },
        "outputId": "1fb358e3-a908-483f-d9ff-056480b09d1e"
      },
      "source": [
        "x = torch.rand(2, 2)\n",
        "y = torch.rand(2, 2)\n",
        "z = torch.div(x,y)\n",
        "print(z)"
      ],
      "execution_count": 21,
      "outputs": [
        {
          "output_type": "stream",
          "text": [
            "tensor([[0.8698, 4.4885],\n",
            "        [1.7485, 0.1412]])\n"
          ],
          "name": "stdout"
        }
      ]
    },
    {
      "cell_type": "code",
      "metadata": {
        "id": "PqrOnKw313H_",
        "colab_type": "code",
        "colab": {
          "base_uri": "https://localhost:8080/",
          "height": 34
        },
        "outputId": "3b228e6b-515a-4416-ce0d-58f47decb7da"
      },
      "source": [
        "x = torch.rand(5, 3) \n",
        "print(x[:, 1]) # Slicing"
      ],
      "execution_count": 23,
      "outputs": [
        {
          "output_type": "stream",
          "text": [
            "tensor([0.1290, 0.5425, 0.7245, 0.4576, 0.9696])\n"
          ],
          "name": "stdout"
        }
      ]
    },
    {
      "cell_type": "code",
      "metadata": {
        "id": "aHuGHvtb13h2",
        "colab_type": "code",
        "colab": {
          "base_uri": "https://localhost:8080/",
          "height": 119
        },
        "outputId": "0f5dd653-b3c6-40ea-b508-bd6e544764a8"
      },
      "source": [
        "x = torch.rand(4, 4)\n",
        "print(x) \n",
        "\n",
        "y = x.view(16) # reshape\n",
        "print(y)"
      ],
      "execution_count": 24,
      "outputs": [
        {
          "output_type": "stream",
          "text": [
            "tensor([[0.5645, 0.2796, 0.2133, 0.3319],\n",
            "        [0.8324, 0.5823, 0.8970, 0.2910],\n",
            "        [0.1037, 0.3487, 0.4770, 0.1154],\n",
            "        [0.0758, 0.6904, 0.2034, 0.8563]])\n",
            "tensor([0.5645, 0.2796, 0.2133, 0.3319, 0.8324, 0.5823, 0.8970, 0.2910, 0.1037,\n",
            "        0.3487, 0.4770, 0.1154, 0.0758, 0.6904, 0.2034, 0.8563])\n"
          ],
          "name": "stdout"
        }
      ]
    },
    {
      "cell_type": "code",
      "metadata": {
        "id": "ygT1Uzc014BG",
        "colab_type": "code",
        "colab": {
          "base_uri": "https://localhost:8080/",
          "height": 136
        },
        "outputId": "556035c4-fd7a-4046-9f1f-9a453e52fe7b"
      },
      "source": [
        "x = torch.rand(4, 4)\n",
        "print(x) \n",
        "\n",
        "y = x.view(-1, 8) # reshape\n",
        "print(y)\n",
        "print(y.size())"
      ],
      "execution_count": 26,
      "outputs": [
        {
          "output_type": "stream",
          "text": [
            "tensor([[0.8820, 0.5985, 0.1961, 0.8055],\n",
            "        [0.9335, 0.4186, 0.6492, 0.9000],\n",
            "        [0.8343, 0.6362, 0.3737, 0.1061],\n",
            "        [0.5722, 0.5100, 0.1659, 0.2763]])\n",
            "tensor([[0.8820, 0.5985, 0.1961, 0.8055, 0.9335, 0.4186, 0.6492, 0.9000],\n",
            "        [0.8343, 0.6362, 0.3737, 0.1061, 0.5722, 0.5100, 0.1659, 0.2763]])\n",
            "torch.Size([2, 8])\n"
          ],
          "name": "stdout"
        }
      ]
    },
    {
      "cell_type": "code",
      "metadata": {
        "id": "mQ5Xe9AN13qU",
        "colab_type": "code",
        "colab": {
          "base_uri": "https://localhost:8080/",
          "height": 85
        },
        "outputId": "a794fd05-8645-44d5-e379-4c695556dd79"
      },
      "source": [
        "a = torch.ones(5)\n",
        "print(a)\n",
        "print(type(a))\n",
        "\n",
        "b = a.numpy()\n",
        "print(b)\n",
        "print(type(b))"
      ],
      "execution_count": 32,
      "outputs": [
        {
          "output_type": "stream",
          "text": [
            "tensor([1., 1., 1., 1., 1.])\n",
            "<class 'torch.Tensor'>\n",
            "[1. 1. 1. 1. 1.]\n",
            "<class 'numpy.ndarray'>\n"
          ],
          "name": "stdout"
        }
      ]
    },
    {
      "cell_type": "code",
      "metadata": {
        "id": "u5lehuju13Yj",
        "colab_type": "code",
        "colab": {
          "base_uri": "https://localhost:8080/",
          "height": 51
        },
        "outputId": "534a3573-2d15-4c23-c953-2dfdde124143"
      },
      "source": [
        "a = torch.ones(5)\n",
        "b = a.numpy()\n",
        "\n",
        "a.add_(1)\n",
        "print(a) # since they share the same memory, anything changed in a will have impact on b\n",
        "\n",
        "print(b)"
      ],
      "execution_count": 33,
      "outputs": [
        {
          "output_type": "stream",
          "text": [
            "tensor([2., 2., 2., 2., 2.])\n",
            "[2. 2. 2. 2. 2.]\n"
          ],
          "name": "stdout"
        }
      ]
    },
    {
      "cell_type": "code",
      "metadata": {
        "id": "lhzVvp8A127k",
        "colab_type": "code",
        "colab": {
          "base_uri": "https://localhost:8080/",
          "height": 51
        },
        "outputId": "e284d379-5e3b-4e19-9e3c-1cfac8b6f837"
      },
      "source": [
        "a = np.ones(5)\n",
        "print(a)\n",
        "\n",
        "b = torch.from_numpy(a)\n",
        "print(b)"
      ],
      "execution_count": 34,
      "outputs": [
        {
          "output_type": "stream",
          "text": [
            "[1. 1. 1. 1. 1.]\n",
            "tensor([1., 1., 1., 1., 1.], dtype=torch.float64)\n"
          ],
          "name": "stdout"
        }
      ]
    },
    {
      "cell_type": "code",
      "metadata": {
        "id": "AOEEUkNV12YI",
        "colab_type": "code",
        "colab": {
          "base_uri": "https://localhost:8080/",
          "height": 34
        },
        "outputId": "022fa6bb-3ec6-449d-e68d-4341cca6a78a"
      },
      "source": [
        "if torch.cuda.is_available():\n",
        "  device = torch.device(\"cuda\")\n",
        "  x = torch.ones(5, device=device)\n",
        "  y = torch.ones(5)\n",
        "  y = y.to(device)\n",
        "  print(x)\n",
        "  print(y)\n",
        "else:\n",
        "  print(\"cpu\")"
      ],
      "execution_count": 37,
      "outputs": [
        {
          "output_type": "stream",
          "text": [
            "cpu\n"
          ],
          "name": "stdout"
        }
      ]
    },
    {
      "cell_type": "code",
      "metadata": {
        "id": "vuIJOv7T7Tec",
        "colab_type": "code",
        "colab": {
          "base_uri": "https://localhost:8080/",
          "height": 34
        },
        "outputId": "fd92a179-c578-4216-865e-6364c992693a"
      },
      "source": [
        "x = torch.ones(5, requires_grad=True)\n",
        "print(x)"
      ],
      "execution_count": 38,
      "outputs": [
        {
          "output_type": "stream",
          "text": [
            "tensor([1., 1., 1., 1., 1.], requires_grad=True)\n"
          ],
          "name": "stdout"
        }
      ]
    },
    {
      "cell_type": "code",
      "metadata": {
        "id": "hlJ8FpWF7TtU",
        "colab_type": "code",
        "colab": {}
      },
      "source": [
        ""
      ],
      "execution_count": null,
      "outputs": []
    },
    {
      "cell_type": "code",
      "metadata": {
        "id": "8qeojFVx7UD9",
        "colab_type": "code",
        "colab": {}
      },
      "source": [
        ""
      ],
      "execution_count": null,
      "outputs": []
    },
    {
      "cell_type": "code",
      "metadata": {
        "id": "GSgrHKdD7UdX",
        "colab_type": "code",
        "colab": {}
      },
      "source": [
        ""
      ],
      "execution_count": null,
      "outputs": []
    },
    {
      "cell_type": "code",
      "metadata": {
        "id": "GiOQLbmI7Utj",
        "colab_type": "code",
        "colab": {}
      },
      "source": [
        ""
      ],
      "execution_count": null,
      "outputs": []
    },
    {
      "cell_type": "code",
      "metadata": {
        "id": "YqM_tMg47UMs",
        "colab_type": "code",
        "colab": {}
      },
      "source": [
        ""
      ],
      "execution_count": null,
      "outputs": []
    },
    {
      "cell_type": "code",
      "metadata": {
        "id": "DttJ1ren7T30",
        "colab_type": "code",
        "colab": {}
      },
      "source": [
        ""
      ],
      "execution_count": null,
      "outputs": []
    },
    {
      "cell_type": "code",
      "metadata": {
        "id": "weL2MzjP7Tlm",
        "colab_type": "code",
        "colab": {}
      },
      "source": [
        ""
      ],
      "execution_count": null,
      "outputs": []
    },
    {
      "cell_type": "code",
      "metadata": {
        "id": "eK37_iqx7TQ8",
        "colab_type": "code",
        "colab": {}
      },
      "source": [
        ""
      ],
      "execution_count": null,
      "outputs": []
    }
  ]
}