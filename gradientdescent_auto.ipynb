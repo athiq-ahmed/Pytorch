{
  "nbformat": 4,
  "nbformat_minor": 0,
  "metadata": {
    "colab": {
      "name": "gradientdescent_auto",
      "provenance": [],
      "collapsed_sections": [],
      "authorship_tag": "ABX9TyN1+WE48ZM70MaGtQ/H/FVW"
    },
    "kernelspec": {
      "name": "python3",
      "display_name": "Python 3"
    }
  },
  "cells": [
    {
      "cell_type": "code",
      "metadata": {
        "id": "7EdpIVMjQd8z",
        "colab_type": "code",
        "colab": {}
      },
      "source": [
        "import torch"
      ],
      "execution_count": 9,
      "outputs": []
    },
    {
      "cell_type": "code",
      "metadata": {
        "id": "94PtlCX64SmK",
        "colab_type": "code",
        "colab": {}
      },
      "source": [
        "# f = w * x\n",
        "# f = 2 * x"
      ],
      "execution_count": 10,
      "outputs": []
    },
    {
      "cell_type": "code",
      "metadata": {
        "id": "Ooz9m-mT4SfW",
        "colab_type": "code",
        "colab": {}
      },
      "source": [
        "X = torch.tensor([1,2,3,4], dtype=torch.float32)\n",
        "Y = torch.tensor([2,4,6,8], dtype=torch.float32)\n",
        "\n",
        "w = torch.tensor(0.0, dtype=torch.float32, requires_grad=True)"
      ],
      "execution_count": 11,
      "outputs": []
    },
    {
      "cell_type": "code",
      "metadata": {
        "id": "zzQcBSav4SXx",
        "colab_type": "code",
        "colab": {}
      },
      "source": [
        "# model prediction\n",
        "def forward(x):\n",
        "  return w * x"
      ],
      "execution_count": 12,
      "outputs": []
    },
    {
      "cell_type": "code",
      "metadata": {
        "id": "sB86MRbr4SPI",
        "colab_type": "code",
        "colab": {}
      },
      "source": [
        "# loss = MSE\n",
        "def loss(y, y_predicted):\n",
        "  return ((y_predicted-y)**2).mean()"
      ],
      "execution_count": 13,
      "outputs": []
    },
    {
      "cell_type": "code",
      "metadata": {
        "id": "FO4EOrbv4SC5",
        "colab_type": "code",
        "colab": {
          "base_uri": "https://localhost:8080/",
          "height": 34
        },
        "outputId": "1265ea0b-d7b3-4163-9ffe-c4d7fe8fcc35"
      },
      "source": [
        "print(f'Prediction before training: f[5] = {forward(5):.3f}')"
      ],
      "execution_count": 14,
      "outputs": [
        {
          "output_type": "stream",
          "text": [
            "Prediction before training: f[5] = 0.000\n"
          ],
          "name": "stdout"
        }
      ]
    },
    {
      "cell_type": "code",
      "metadata": {
        "id": "XxCS34zr48C1",
        "colab_type": "code",
        "colab": {}
      },
      "source": [
        "# Training\n",
        "\n",
        "learning_rate = 0.01\n",
        "n_iters = 100"
      ],
      "execution_count": 15,
      "outputs": []
    },
    {
      "cell_type": "code",
      "metadata": {
        "id": "JCpZBtuf47t3",
        "colab_type": "code",
        "colab": {
          "base_uri": "https://localhost:8080/",
          "height": 204
        },
        "outputId": "1ba327ad-d492-491e-c400-fc24e6176f5d"
      },
      "source": [
        "for epoch in range(n_iters):\n",
        "  # prediciton\n",
        "  y_pred = forward(X)\n",
        "\n",
        "  # loss\n",
        "  l = loss(Y, y_pred)\n",
        "\n",
        "  # gradient = backward\n",
        "  l.backward()\n",
        "\n",
        "  # update weights\n",
        "  with torch.no_grad():\n",
        "    w -= learning_rate * w.grad\n",
        "\n",
        "  # zero gradients\n",
        "  w.grad.zero_()\n",
        "\n",
        "\n",
        "  if epoch % 10 == 0:\n",
        "    print(f'epoch={epoch}, w={w:.3f}, loss = {l:.8f}')\n",
        "\n",
        "print(f'Prediction after training: f[5] = {forward(5):.3f}')"
      ],
      "execution_count": 16,
      "outputs": [
        {
          "output_type": "stream",
          "text": [
            "epoch=0, w=0.300, loss = 30.00000000\n",
            "epoch=10, w=1.665, loss = 1.16278565\n",
            "epoch=20, w=1.934, loss = 0.04506890\n",
            "epoch=30, w=1.987, loss = 0.00174685\n",
            "epoch=40, w=1.997, loss = 0.00006770\n",
            "epoch=50, w=1.999, loss = 0.00000262\n",
            "epoch=60, w=2.000, loss = 0.00000010\n",
            "epoch=70, w=2.000, loss = 0.00000000\n",
            "epoch=80, w=2.000, loss = 0.00000000\n",
            "epoch=90, w=2.000, loss = 0.00000000\n",
            "Prediction after training: f[5] = 10.000\n"
          ],
          "name": "stdout"
        }
      ]
    }
  ]
}