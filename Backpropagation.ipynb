{
  "nbformat": 4,
  "nbformat_minor": 0,
  "metadata": {
    "colab": {
      "name": "Backpropagation",
      "provenance": [],
      "collapsed_sections": [],
      "authorship_tag": "ABX9TyPwz65/M60iHKEVKJO9KYPO"
    },
    "kernelspec": {
      "name": "python3",
      "display_name": "Python 3"
    }
  },
  "cells": [
    {
      "cell_type": "code",
      "metadata": {
        "id": "G0gUTjyaJIWF",
        "colab_type": "code",
        "colab": {}
      },
      "source": [
        "import torch"
      ],
      "execution_count": 1,
      "outputs": []
    },
    {
      "cell_type": "code",
      "metadata": {
        "id": "6IQBWIz1OK5u",
        "colab_type": "code",
        "colab": {}
      },
      "source": [
        "x = torch.tensor(1.0)\n",
        "y = torch.tensor(2.0)\n",
        "\n",
        "w = torch.tensor(1.0, requires_grad=True)"
      ],
      "execution_count": 2,
      "outputs": []
    },
    {
      "cell_type": "code",
      "metadata": {
        "id": "Q9aM2trCOK2y",
        "colab_type": "code",
        "colab": {
          "base_uri": "https://localhost:8080/",
          "height": 34
        },
        "outputId": "06556c2b-5719-447f-eb73-a99c9d971203"
      },
      "source": [
        "# forward pass and compute loss\n",
        "\n",
        "y_hat = w * x\n",
        "loss = (y_hat-y)**2\n",
        "print(loss)"
      ],
      "execution_count": 3,
      "outputs": [
        {
          "output_type": "stream",
          "text": [
            "tensor(1., grad_fn=<PowBackward0>)\n"
          ],
          "name": "stdout"
        }
      ]
    },
    {
      "cell_type": "code",
      "metadata": {
        "id": "V_W-SQ91OKuO",
        "colab_type": "code",
        "colab": {
          "base_uri": "https://localhost:8080/",
          "height": 34
        },
        "outputId": "30a71aaa-9910-4172-e9a5-d44e1e595a31"
      },
      "source": [
        "# backward pass\n",
        "\n",
        "loss.backward()\n",
        "print(w.grad)"
      ],
      "execution_count": 4,
      "outputs": [
        {
          "output_type": "stream",
          "text": [
            "tensor(-2.)\n"
          ],
          "name": "stdout"
        }
      ]
    },
    {
      "cell_type": "code",
      "metadata": {
        "id": "fUrkZEiROyXp",
        "colab_type": "code",
        "colab": {}
      },
      "source": [
        "# update weights\n",
        "# next forward and backward "
      ],
      "execution_count": null,
      "outputs": []
    }
  ]
}